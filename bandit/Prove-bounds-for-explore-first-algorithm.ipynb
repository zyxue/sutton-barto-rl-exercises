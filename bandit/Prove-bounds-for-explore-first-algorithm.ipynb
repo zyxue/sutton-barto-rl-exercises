{
 "cells": [
  {
   "cell_type": "code",
   "execution_count": 53,
   "id": "a6e4a043",
   "metadata": {},
   "outputs": [
    {
     "data": {
      "application/javascript": [
       "MathJax.Hub.Config({\n",
       "    TeX: { equationNumbers: { autoNumber: \"AMS\" } }\n",
       "});\n"
      ],
      "text/plain": [
       "<IPython.core.display.Javascript object>"
      ]
     },
     "metadata": {},
     "output_type": "display_data"
    }
   ],
   "source": [
    "%%javascript\n",
    "MathJax.Hub.Config({\n",
    "    TeX: { equationNumbers: { autoNumber: \"AMS\" } }\n",
    "});"
   ]
  },
  {
   "cell_type": "markdown",
   "id": "3f2eb5de",
   "metadata": {},
   "source": [
    "Algorithm:\n",
    "\n",
    "* Explroation phase: try each arm N times.\n",
    "* Select the arm $\\hat{a}$ with the highest average reward (break ties arbitrarily).\n",
    "* Exploitation phase: play arm $\\hat{a}$ in all remaining rounds."
   ]
  },
  {
   "cell_type": "markdown",
   "id": "4b0a46d6",
   "metadata": {},
   "source": [
    "# Hoeffding's inequality"
   ]
  },
  {
   "cell_type": "markdown",
   "id": "cc930731",
   "metadata": {},
   "source": [
    "According to https://en.wikipedia.org/wiki/Hoeffding%27s_inequality,"
   ]
  },
  {
   "cell_type": "markdown",
   "id": "78f9df81",
   "metadata": {},
   "source": [
    "\\begin{align*}\n",
    "P(\\left|S_n - \\mathbb{E}[S_n] \\right| \\ge t) \\le 2 \\exp\\left(- \\frac{2 t^2}{\\sum_{i=1}^n (b_i - a_i)^2}\\right)\n",
    "\\end{align*}"
   ]
  },
  {
   "cell_type": "markdown",
   "id": "4b69021a",
   "metadata": {},
   "source": [
    "where $S_n = X_1 + \\cdots + X_n$, i.e. sum of independent random variables. $a_i \\le X_i \\le b_i$."
   ]
  },
  {
   "cell_type": "markdown",
   "id": "a510a3b4",
   "metadata": {},
   "source": [
    "For simplicity, let $a_i = 0$, $b_i = 1$, then"
   ]
  },
  {
   "cell_type": "markdown",
   "id": "89e9f323",
   "metadata": {},
   "source": [
    "\\begin{align*}\n",
    "P(\\left|S_n - \\mathbb{E}[S_n] \\right| \\ge t) \\le 2 \\exp\\left(- \\frac{2 t^2}{n}\\right)\n",
    "\\end{align*}"
   ]
  },
  {
   "cell_type": "markdown",
   "id": "cc317bc6",
   "metadata": {},
   "source": [
    "For concentration measure, we care more about the complement,"
   ]
  },
  {
   "cell_type": "markdown",
   "id": "b8467f47",
   "metadata": {},
   "source": [
    "\\begin{align*}\n",
    "P(\\left|S_n - \\mathbb{E}[S_n] \\right| \\le t) \\ge 1 - 2 \\exp\\left(- \\frac{2 t^2}{n}\\right)\n",
    "\\end{align*}"
   ]
  },
  {
   "cell_type": "markdown",
   "id": "3daa44e0",
   "metadata": {},
   "source": [
    "The inequality still holds if we focus on mean instead of sum,"
   ]
  },
  {
   "cell_type": "markdown",
   "id": "54c5a54d",
   "metadata": {},
   "source": [
    "\\begin{align*}\n",
    "P\\left(\\left|\\bar{X} - \\mathbb{E}[X] \\right| \\le \\delta \\right) \\ge 1 - 2 \\exp\\left(- 2 \\delta^2 n\\right)\n",
    "\\end{align*}"
   ]
  },
  {
   "cell_type": "markdown",
   "id": "9fec45ef",
   "metadata": {},
   "source": [
    "where \n",
    "\n",
    "* $\\bar{X} = \\frac{S_n}{n}$\n",
    "* $\\delta = \\frac{t}{n}$"
   ]
  },
  {
   "cell_type": "markdown",
   "id": "b55935a7",
   "metadata": {},
   "source": [
    "# Bandit"
   ]
  },
  {
   "cell_type": "markdown",
   "id": "588b2991",
   "metadata": {},
   "source": [
    "In the context of explore-first algorithm in 2-arm bandit, when the reward is 0 or 1."
   ]
  },
  {
   "cell_type": "markdown",
   "id": "19c712e6",
   "metadata": {},
   "source": [
    "In the exploration phase, denote the true expected reward for arm $a$ as $\\mu(a)$, after pulling the arm $N$ times, the realized mean reward is $\\bar{\\mu}(a)$."
   ]
  },
  {
   "cell_type": "markdown",
   "id": "f93718f7",
   "metadata": {},
   "source": [
    "Applying Hoeffding's inequality, $N = n$, $\\bar{X} = \\bar{\\mu}(a)$ and $\\mathbb{E}[X] = \\mu(a)$, then"
   ]
  },
  {
   "cell_type": "markdown",
   "id": "3aa13db4",
   "metadata": {},
   "source": [
    "\\begin{align*}\n",
    "P\\left(|\\bar{\\mu}(a) - \\mu(a)| \\le \\delta \\right) &\\ge 1 - 2 \\exp \\left(-2 \\delta^2 N  \\right) \\\\\\\n",
    "\\end{align*}"
   ]
  },
  {
   "cell_type": "markdown",
   "id": "d0561df5",
   "metadata": {},
   "source": [
    "Let $\\delta = \\sqrt{2 \\log(T) / N}$ (Note, in the book, $\\delta$ is named $\\text{rad}$, i.e. radius), then we have"
   ]
  },
  {
   "cell_type": "markdown",
   "id": "36febff3",
   "metadata": {},
   "source": [
    "\\begin{align*}\n",
    "P\\left(|\\bar{\\mu}(a) - \\mu(a)| \\le \\delta \\right) &\\ge 1 - 2T^{-4}\n",
    "\\end{align*}"
   ]
  },
  {
   "cell_type": "markdown",
   "id": "a9a9e26f",
   "metadata": {},
   "source": [
    "The result shows the tradeoff between $T$ and $N$, when $T$ is large, so is the radius."
   ]
  },
  {
   "cell_type": "markdown",
   "id": "51f4c709",
   "metadata": {},
   "source": [
    "The confidence interval is defined as $[\\bar{\\mu}(a) - \\delta, \\bar{\\mu}(a) + \\delta]$."
   ]
  },
  {
   "cell_type": "markdown",
   "id": "d8381be4",
   "metadata": {},
   "source": [
    "In the exploitation phase, when one chooses $a \\neq a^*$, it must be because"
   ]
  },
  {
   "cell_type": "markdown",
   "id": "ffa7fce4",
   "metadata": {},
   "source": [
    "\\begin{align*}\n",
    "\\bar{\\mu}(a) > \\bar{\\mu}(a^*)\n",
    "\\end{align*}"
   ]
  },
  {
   "cell_type": "markdown",
   "id": "ece08b9f",
   "metadata": {},
   "source": [
    "Let's call $|\\bar{\\mu}(a) - \\mu(a)|$ the delta event. In the case of a clean event, i.e. $\\bar{\\mu}(a)$ falls inside the confidence interval, we have"
   ]
  },
  {
   "cell_type": "markdown",
   "id": "8be7375a",
   "metadata": {},
   "source": [
    "\\begin{align*}\n",
    "\\mu(a) + \\delta \\ge \\bar{\\mu}(a) > \\bar{\\mu}(a^*) \\ge \\mu(a^*) - \\delta\n",
    "\\end{align*}"
   ]
  },
  {
   "cell_type": "markdown",
   "id": "93efdab9",
   "metadata": {},
   "source": [
    "Rearranging, we get"
   ]
  },
  {
   "cell_type": "markdown",
   "id": "77929081",
   "metadata": {},
   "source": [
    "\\begin{align*}\n",
    "\\mu(a^*) - \\mu(a) \\le 2 \\,\\delta\n",
    "\\end{align*}"
   ]
  },
  {
   "cell_type": "markdown",
   "id": "7815cff4",
   "metadata": {},
   "source": [
    "which means we the nonoptimal arm is at most $2 \\delta$ worse than the optimal one at each arm pulling."
   ]
  },
  {
   "cell_type": "markdown",
   "id": "27ddf86a",
   "metadata": {},
   "source": [
    "The regret at each round during exploration is at most 1, and that at the exploitation is bounded by $2\\, \\delta$, so we can bound the regret after $T$ by"
   ]
  },
  {
   "cell_type": "markdown",
   "id": "894227ed",
   "metadata": {},
   "source": [
    "\\begin{align*}\n",
    "R(T) \n",
    "&\\le 1 \\cdot N + 2\\,\\delta \\cdot (T - 2N) \\\\\n",
    "&= N + 2\\,\\delta\\, T - 4\\,\\delta\\,N \\\\\n",
    "&< N + 2\\,\\delta\\, T \\\\\n",
    "&= N + 2T\\sqrt{2 \\log(T) / N} \\\\\n",
    "&= N + 2^{\\frac{3}{2}}T (\\log(T))^{\\frac{1}{2}} N^{-\\frac{1}{2}}\n",
    "\\end{align*}"
   ]
  },
  {
   "cell_type": "markdown",
   "id": "93443a73",
   "metadata": {},
   "source": [
    "Note, if we explore each of the two arms $N$ times, and the horizon is $T$, then the exploitation phase has only $T - 2N$ times."
   ]
  },
  {
   "cell_type": "markdown",
   "id": "7ce83048",
   "metadata": {},
   "source": [
    "Since we can choose $N$ freely so as to minimize the upper bound. After taking derivative wrt. $N$ and set it to zero, we obtain"
   ]
  },
  {
   "cell_type": "markdown",
   "id": "148ef199",
   "metadata": {},
   "source": [
    "\\begin{align*}\n",
    "N \n",
    "&= T^{\\frac{2}{3}} (2 \\log T)^{\\frac{1}{3}} \\\\\n",
    "&= 2^{\\frac{1}{3}} T^{\\frac{2}{3}} (\\log T)^{\\frac{1}{3}}\n",
    "\\end{align*}"
   ]
  },
  {
   "cell_type": "markdown",
   "id": "15654f79",
   "metadata": {},
   "source": [
    "(Note, the book intro to multi-armed bandit doesn't include the constant $2^{\\frac{1}{3}}$, presumably because it's not important)"
   ]
  },
  {
   "cell_type": "markdown",
   "id": "b028b34c",
   "metadata": {},
   "source": [
    "Replacing the $N$ in the upper bound, we get"
   ]
  },
  {
   "cell_type": "markdown",
   "id": "d46771ca",
   "metadata": {},
   "source": [
    "\\begin{align*}\n",
    "R(T) \\le O \\left( T^{\\frac{2}{3}} (\\log T)^{\\frac{1}{3}} \\right)\n",
    "\\end{align*}"
   ]
  },
  {
   "cell_type": "markdown",
   "id": "f2c3e294",
   "metadata": {},
   "source": [
    "To bound the expectation of $R(T)$ wrt. delta event, we also need to consider the bad events, i.e. when any $\\bar{\\mu}(a)$ falls outside the confidence interval, which has probability "
   ]
  },
  {
   "cell_type": "markdown",
   "id": "2bbf84f3",
   "metadata": {},
   "source": [
    "\\begin{align*}\n",
    "1 - \\left(1 - 2T^{-4} \\right)^2\n",
    "&= 4T^{-4} - 4T^{-8} \\\\\n",
    "&< 4T^{-4}\n",
    "\\end{align*}"
   ]
  },
  {
   "cell_type": "markdown",
   "id": "3688400e",
   "metadata": {},
   "source": [
    "Then, we have"
   ]
  },
  {
   "cell_type": "markdown",
   "id": "dfd9a54b",
   "metadata": {},
   "source": [
    "\\begin{align*}\n",
    "\\mathbb{E}[R(T)]\n",
    "&= \\mathbb{E}[R(T) | \\text{clean event}] \\text{Pr}(\\text{clean event}) + \\mathbb{E}[R(T) | \\text{bad event}] \\text{Pr}(\\text{bad event}) \\\\\n",
    "&\\le \\mathbb{E}[R(T) | \\text{clean event}] + T O(T^{-4}) \\\\\n",
    "&\\le O\\left( T^{\\frac{2}{3}}(\\log T)^{\\frac{1}{3}} \\right)\n",
    "\\end{align*}"
   ]
  },
  {
   "cell_type": "markdown",
   "id": "f0a64797",
   "metadata": {},
   "source": [
    "Note, the max regret we can have in the case of bad event is $T$."
   ]
  },
  {
   "cell_type": "markdown",
   "id": "249165f6",
   "metadata": {},
   "source": [
    "For $K > 2$ arms, similar proof (not verified yet) results in the bound being $ O\\left( T^{\\frac{2}{3}}(K\\log T)^{\\frac{1}{3}} \\right)$."
   ]
  },
  {
   "cell_type": "markdown",
   "id": "26cfed4b",
   "metadata": {},
   "source": [
    "Note, $K$ is a constant, so the bound is asymptotically the same as in the case when $K=2$."
   ]
  },
  {
   "cell_type": "markdown",
   "id": "88cc4688",
   "metadata": {},
   "source": [
    "# Inspect the scaling behavior of the two factors for $K=2$"
   ]
  },
  {
   "cell_type": "code",
   "execution_count": 3,
   "id": "eac6902f",
   "metadata": {},
   "outputs": [],
   "source": [
    "import matplotlib.pyplot as plt"
   ]
  },
  {
   "cell_type": "code",
   "execution_count": 16,
   "id": "66564d07",
   "metadata": {},
   "outputs": [
    {
     "data": {
      "text/plain": [
       "<matplotlib.legend.Legend at 0x7fb1b898a890>"
      ]
     },
     "execution_count": 16,
     "metadata": {},
     "output_type": "execute_result"
    },
    {
     "data": {
      "image/png": "[encoded data removed]",
      "text/plain": [
       "<Figure size 640x480 with 1 Axes>"
      ]
     },
     "metadata": {},
     "output_type": "display_data"
    }
   ],
   "source": [
    "xs = np.arange(1, 100, 1)\n",
    "\n",
    "ys1 = xs ** (2 / 3)\n",
    "\n",
    "ys2 = np.log(xs) ** (1 / 3)\n",
    "\n",
    "plt.xlabel(\"T\")\n",
    "plt.plot(xs, ys1, label='$T^{2/3}$')\n",
    "plt.plot(xs, ys2, label='$(\\log(T))^{1/3}$')\n",
    "plt.legend()"
   ]
  },
  {
   "cell_type": "markdown",
   "id": "ffb84371",
   "metadata": {},
   "source": [
    "# Compare bound of diff algorithms"
   ]
  },
  {
   "cell_type": "markdown",
   "id": "a5d0c329",
   "metadata": {},
   "source": [
    "Note, we're only comparing $R(t=T)$, i.e. regret at the final round of arm pulling."
   ]
  },
  {
   "cell_type": "markdown",
   "id": "0b03edf8",
   "metadata": {},
   "source": [
    "* Epsilon-greedy: $O\\left( t^{\\frac{2}{3}}(\\log t)^{\\frac{1}{3}} \\right)$\n",
    "* Successive elimination: $O\\left(\\sqrt{t \\log T} \\right)$"
   ]
  },
  {
   "cell_type": "code",
   "execution_count": 18,
   "id": "626f3e26",
   "metadata": {},
   "outputs": [],
   "source": [
    "def epsilon_greedy(t):\n",
    "    return t ** (2 / 3) * np.log(t) ** (1 / 3)"
   ]
  },
  {
   "cell_type": "code",
   "execution_count": 19,
   "id": "486529aa",
   "metadata": {},
   "outputs": [],
   "source": [
    "def successive_elimination(t):\n",
    "    return np.sqrt(t * np.log(t))"
   ]
  },
  {
   "cell_type": "code",
   "execution_count": 21,
   "id": "95c28ea9",
   "metadata": {},
   "outputs": [
    {
     "data": {
      "text/plain": [
       "<matplotlib.legend.Legend at 0x7fb1b8395f00>"
      ]
     },
     "execution_count": 21,
     "metadata": {},
     "output_type": "execute_result"
    },
    {
     "data": {
      "image/png": "[encoded data removed]",
      "text/plain": [
       "<Figure size 640x480 with 1 Axes>"
      ]
     },
     "metadata": {},
     "output_type": "display_data"
    }
   ],
   "source": [
    "ts = np.arange(1, 1000, 1)\n",
    "\n",
    "plt.plot(ts, epsilon_greedy(ts), label='epsilon_greedy')\n",
    "plt.plot(ts, successive_elimination(ts), label='successive_elimination')\n",
    "plt.legend()"
   ]
  },
  {
   "cell_type": "code",
   "execution_count": null,
   "id": "4e11f646",
   "metadata": {},
   "outputs": [],
   "source": []
  }
 ],
 "metadata": {
  "kernelspec": {
   "display_name": "Python 3 (ipykernel)",
   "language": "python",
   "name": "python3"
  },
  "language_info": {
   "codemirror_mode": {
    "name": "ipython",
    "version": 3
   },
   "file_extension": ".py",
   "mimetype": "text/x-python",
   "name": "python",
   "nbconvert_exporter": "python",
   "pygments_lexer": "ipython3",
   "version": "3.12.4"
  }
 },
 "nbformat": 4,
 "nbformat_minor": 5
}
