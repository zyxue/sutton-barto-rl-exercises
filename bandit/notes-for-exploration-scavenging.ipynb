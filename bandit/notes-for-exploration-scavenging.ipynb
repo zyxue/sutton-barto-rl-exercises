{
 "cells": [
  {
   "cell_type": "markdown",
   "id": "0fe8b7eb",
   "metadata": {},
   "source": [
    "https://sci-hub.se/https://doi.org/10.1145/1390156.1390223"
   ]
  },
  {
   "cell_type": "markdown",
   "id": "deb07ceb",
   "metadata": {},
   "source": [
    "Proof for Theorem 1"
   ]
  },
  {
   "cell_type": "markdown",
   "id": "7c0adc8c",
   "metadata": {},
   "source": [
    "Under $D$,"
   ]
  },
  {
   "cell_type": "markdown",
   "id": "20fa9b76",
   "metadata": {},
   "source": [
    "\\begin{align*}\n",
    "V_D(h)\n",
    "&= \\mathbb{E}_{(x, \\vec{r}) \\sim D} [r_{h(x)}] \\\\\n",
    "&= P(x=0, \\vec{r} = (0, 0)) r_1 + P(x=1, \\vec{r}=(0, 1)) r_0 \\\\\n",
    "&= 0.5 \\cdot 0 + 0.5 \\cdot 0 \\\\\n",
    "&= 0\n",
    "\\end{align*}"
   ]
  },
  {
   "cell_type": "markdown",
   "id": "7e7fd6d5",
   "metadata": {},
   "source": [
    "Note, when $x=0$, by definition, $r_{h(0)} = r_{1 - 0} = r_1$"
   ]
  },
  {
   "cell_type": "markdown",
   "id": "4f62892c",
   "metadata": {},
   "source": [
    "Under $D'$,"
   ]
  },
  {
   "cell_type": "markdown",
   "id": "f973099b",
   "metadata": {},
   "source": [
    "\\begin{align*}\n",
    "V_{D'}(h)\n",
    "&= \\mathbb{E}_{(x, \\vec{r}) \\sim {D'}} [r_{h(x)}] \\\\\n",
    "&= P(x=0, \\vec{r} = (0, 1)) r_1 + P(x=1, \\vec{r}=(1, 1)) r_0 \\\\\n",
    "&= 0.5 \\cdot 1 + 0.5 \\cdot 1 \\\\\n",
    "&= 1\n",
    "\\end{align*}"
   ]
  },
  {
   "cell_type": "markdown",
   "id": "e12fb3b1",
   "metadata": {},
   "source": [
    "Therefore, $V_D(h) \\neq V_{D'}(h)$. However, the data collected from $D$ and $D'$ using policy $\\pi(x) = x$ are statistically undistinguishable because during exploration, $\\pi(x) = x$, so $\\pi(0) = 0$ and $\\pi(1) = 1$, and the output $(x, a, r, p)$ quadruples will only consist of \n",
    "\n",
    "* (0, 0, 0, 0.5)\n",
    "* (1, 1, 1, 0.5)\n",
    "\n",
    "for both $D$ and $D'$."
   ]
  },
  {
   "cell_type": "markdown",
   "id": "6ce750da",
   "metadata": {},
   "source": [
    "Therefore, the evaluation result of $h$ on the collected data by $\\pi(x) = x$ is inherently unreliable."
   ]
  },
  {
   "cell_type": "code",
   "execution_count": null,
   "id": "a04755cc",
   "metadata": {},
   "outputs": [],
   "source": []
  }
 ],
 "metadata": {
  "kernelspec": {
   "display_name": "Python 3 (ipykernel)",
   "language": "python",
   "name": "python3"
  },
  "language_info": {
   "codemirror_mode": {
    "name": "ipython",
    "version": 3
   },
   "file_extension": ".py",
   "mimetype": "text/x-python",
   "name": "python",
   "nbconvert_exporter": "python",
   "pygments_lexer": "ipython3",
   "version": "3.10.7"
  }
 },
 "nbformat": 4,
 "nbformat_minor": 5
}
