{
 "cells": [
  {
   "cell_type": "code",
   "execution_count": 1,
   "id": "a6e4a043",
   "metadata": {},
   "outputs": [
    {
     "data": {
      "application/javascript": [
       "MathJax.Hub.Config({\n",
       "    TeX: { equationNumbers: { autoNumber: \"AMS\" } }\n",
       "});\n"
      ],
      "text/plain": [
       "<IPython.core.display.Javascript object>"
      ]
     },
     "metadata": {},
     "output_type": "display_data"
    }
   ],
   "source": [
    "%%javascript\n",
    "MathJax.Hub.Config({\n",
    "    TeX: { equationNumbers: { autoNumber: \"AMS\" } }\n",
    "});"
   ]
  },
  {
   "cell_type": "markdown",
   "id": "71700897",
   "metadata": {},
   "source": [
    "#### Ch7 The Upper Confidence Bound Algorithm (Algorithm 3)"
   ]
  },
  {
   "cell_type": "markdown",
   "id": "d6c6595c",
   "metadata": {},
   "source": [
    "\\begin{align*}\n",
    "R_n \\le 8 \\sqrt{n k \\log n} + 3 \\sum_{i=1}^k \\Delta_i\n",
    "\\end{align*}\n"
   ]
  },
  {
   "cell_type": "markdown",
   "id": "199bb491",
   "metadata": {},
   "source": [
    "which is also derived in https://github.com/zyxue/sutton-barto-rl-exercises/blob/master/bandit/Prove-regret-bounds-for-UCB-for-stochastic-Gaussian-bandits-with-variance-1.ipynb"
   ]
  },
  {
   "cell_type": "markdown",
   "id": "5bfb149d",
   "metadata": {},
   "source": [
    "Note,\n",
    "\n",
    "* $n$: horizon\n",
    "* $k$: number of actions\n",
    "* $\\Delta_i$: suboptimality gap of $i$th action"
   ]
  },
  {
   "cell_type": "markdown",
   "id": "f3fd1948",
   "metadata": {},
   "source": [
    "#### Ch8 The Upper Confidence Bound Algorithm: Asymptotic Optimality (Algorithm 6)"
   ]
  },
  {
   "cell_type": "markdown",
   "id": "038e553a",
   "metadata": {},
   "source": [
    "\\begin{align*}\n",
    "R_n \\le 2 \\sqrt{C n k \\log n} + C \\sum_{i=1}^k \\Delta_i\n",
    "\\end{align*}\n"
   ]
  },
  {
   "cell_type": "markdown",
   "id": "2b6d1a6a",
   "metadata": {},
   "source": [
    "Although Algorithm 6 has the same bound as in Algorithm 3, is anytime. In Algorithm 3, $\\delta = \\frac{1}{n^2}$, so it changes at each round, but there is no dependence on the horizon in the UCB of Algorithm 6 (<span style=\"color:red\">Pending question, where did the UCB in Algorithm 6 come from</span>)."
   ]
  },
  {
   "cell_type": "markdown",
   "id": "91b896fe",
   "metadata": {},
   "source": [
    "# Ch9 The Upper Confidence Bound Algorithm: Minimax Optimality (Algorithm 7: MOSS)"
   ]
  },
  {
   "cell_type": "markdown",
   "id": "71bf9db7",
   "metadata": {},
   "source": [
    "MOSS: **M**inimax **O**ptimal **S**trategy in the **S**tochastic case."
   ]
  },
  {
   "cell_type": "markdown",
   "id": "93f3bb16",
   "metadata": {},
   "source": [
    "\\begin{align*}\n",
    "R_n \\le 39 \\sqrt{kn} + \\sum_{i=1}^k \\Delta_i\n",
    "\\end{align*}\n"
   ]
  },
  {
   "cell_type": "markdown",
   "id": "5559856a",
   "metadata": {},
   "source": [
    "Note, the log factor is eliminated in MOSS."
   ]
  },
  {
   "cell_type": "code",
   "execution_count": null,
   "id": "e951829b",
   "metadata": {},
   "outputs": [],
   "source": []
  }
 ],
 "metadata": {
  "kernelspec": {
   "display_name": "Python 3 (ipykernel)",
   "language": "python",
   "name": "python3"
  },
  "language_info": {
   "codemirror_mode": {
    "name": "ipython",
    "version": 3
   },
   "file_extension": ".py",
   "mimetype": "text/x-python",
   "name": "python",
   "nbconvert_exporter": "python",
   "pygments_lexer": "ipython3",
   "version": "3.12.4"
  }
 },
 "nbformat": 4,
 "nbformat_minor": 5
}
