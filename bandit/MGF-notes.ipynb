{
 "cells": [
  {
   "cell_type": "code",
   "execution_count": 2,
   "id": "a6e4a043",
   "metadata": {},
   "outputs": [
    {
     "data": {
      "application/javascript": [
       "MathJax.Hub.Config({\n",
       "    TeX: { equationNumbers: { autoNumber: \"AMS\" } }\n",
       "});\n"
      ],
      "text/plain": [
       "<IPython.core.display.Javascript object>"
      ]
     },
     "metadata": {},
     "output_type": "display_data"
    }
   ],
   "source": [
    "%%javascript\n",
    "MathJax.Hub.Config({\n",
    "    TeX: { equationNumbers: { autoNumber: \"AMS\" } }\n",
    "});"
   ]
  },
  {
   "cell_type": "code",
   "execution_count": null,
   "id": "c1260d85",
   "metadata": {},
   "outputs": [],
   "source": []
  },
  {
   "cell_type": "markdown",
   "id": "6786a83d",
   "metadata": {},
   "source": [
    "Expand the moment generating function with Taylor series,"
   ]
  },
  {
   "cell_type": "markdown",
   "id": "512045bf",
   "metadata": {},
   "source": [
    "\\begin{align*}\n",
    "M_X(t) \n",
    "&= \\mathbb{E}\\left[e^{tX} \\right ] \\\\\n",
    "&= \\mathbb{E}\\left[1 + tX + \\frac{(tX)^2}{2!} + \\frac{(tX)^3}{3!} + \\cdots \\right ] \\\\\n",
    "&= \\mathbb{E}\\left[\\frac{(tX)^0}{0!} + \\frac{(tX)^1}{1!} + \\frac{(tX)^2}{2!} + \\frac{(tX)^3}{3!} + \\cdots \\right ] \\\\\n",
    "\\end{align*}"
   ]
  },
  {
   "cell_type": "markdown",
   "id": "83599a21",
   "metadata": {},
   "source": [
    "Take its derivative wrt. $t$ (NOT $X$),"
   ]
  },
  {
   "cell_type": "markdown",
   "id": "d6503f11",
   "metadata": {},
   "source": [
    "\\begin{align*}\n",
    "\\frac{d M_X(t)}{dt} \\Big|_{t = 0}\n",
    "&= \\mathbb{E} \\left[ X \\right ] \\\\\n",
    "\\frac{d^2 M_X(t)}{dt^2} \\Big|_{t = 1}\n",
    "&= \\mathbb{E} \\left[ X^2 \\right ] \\\\\n",
    "\\vdots \\\\\n",
    "\\frac{d^k M_X(t)}{dt^k} \\Big|_{t = 1}\n",
    "&= \\mathbb{E} \\left[ X^k \\right ] \\\\\n",
    "\\end{align*}"
   ]
  },
  {
   "cell_type": "markdown",
   "id": "0ecf0cf5",
   "metadata": {},
   "source": [
    "Therefore the $k$-derivative of MGF wrt. $t$ is the $k$ moment of $X$."
   ]
  },
  {
   "cell_type": "code",
   "execution_count": null,
   "id": "782a6c0b",
   "metadata": {},
   "outputs": [],
   "source": []
  },
  {
   "cell_type": "code",
   "execution_count": null,
   "id": "bd0b9472",
   "metadata": {},
   "outputs": [],
   "source": []
  },
  {
   "cell_type": "markdown",
   "id": "0ff3a92a",
   "metadata": {},
   "source": [
    "\\begin{align*}\n",
    "M_X(t) \n",
    "&= \\mathbb{E}\\left[e^{tX} \\right ] \\\\\n",
    "&= \\mathbb{E}\\left[1 + tX + \\frac{(tX)^2}{2!} + \\frac{(tX)^3}{3!} + \\cdots \\right ] \\\\\n",
    "&= \\mathbb{E}\\left[\\frac{(tX)^0}{0!} + \\frac{(tX)^1}{1!} + \\frac{(tX)^2}{2!} + \\frac{(tX)^3}{3!} + \\cdots \\right ] \\\\\n",
    "&= \\sum_{k=0}^\\infty \\mathbb{E}\\left[\\frac{t^k}{k!} X^k \\right ] \\\\\n",
    "&= \\sum_{k=0}^\\infty \\frac{t^k}{k!} \\mathbb{E}\\left[ X^k \\right ] \n",
    "\\end{align*}\n"
   ]
  }
 ],
 "metadata": {
  "kernelspec": {
   "display_name": "Python 3 (ipykernel)",
   "language": "python",
   "name": "python3"
  },
  "language_info": {
   "codemirror_mode": {
    "name": "ipython",
    "version": 3
   },
   "file_extension": ".py",
   "mimetype": "text/x-python",
   "name": "python",
   "nbconvert_exporter": "python",
   "pygments_lexer": "ipython3",
   "version": "3.12.4"
  }
 },
 "nbformat": 4,
 "nbformat_minor": 5
}
