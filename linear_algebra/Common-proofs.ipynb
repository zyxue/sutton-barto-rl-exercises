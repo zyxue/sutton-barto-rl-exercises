{
 "cells": [
  {
   "cell_type": "markdown",
   "metadata": {},
   "source": [
    "# 1"
   ]
  },
  {
   "cell_type": "markdown",
   "metadata": {},
   "source": [
    " $$\\frac{\\partial \\mathbf{b}^T \\mathbf{A} \\mathbf{b} }{\\partial \\mathbf{b}} = (\\mathbf{A} + \\mathbf{A}^T) \\mathbf{b}$$"
   ]
  },
  {
   "cell_type": "markdown",
   "metadata": {},
   "source": [
    "Proof:"
   ]
  },
  {
   "cell_type": "markdown",
   "metadata": {},
   "source": [
    "\\begin{align*}\n",
    "\\mathbf{b}^T \\mathbf{A} \\mathbf{b}\n",
    "&= \\begin{bmatrix}\n",
    "b_1 & \\cdots & b_n \n",
    "\\end{bmatrix}\n",
    "\\begin{bmatrix}\n",
    "a_{11} & \\cdots & a_{1n} \\\\ \n",
    "\\vdots & \\ddots  & \\vdots \\\\ \n",
    "a_{n1} & \\cdots  &  a_{nn}\n",
    "\\end{bmatrix}\n",
    "\\begin{bmatrix} b_1 \\\\ \\vdots \\\\ b_n \\end{bmatrix}  \\\\\n",
    "&= \\begin{bmatrix} \\sum_i^n b_ia_{i1} & \\cdots & \\sum_i^n b_ia_{ij} &\\cdots & \\sum_i^n b_ia_{in} \\end{bmatrix}\n",
    "\\begin{bmatrix} b_1 \\\\ \\vdots \\\\ b_n \\end{bmatrix} \\\\\n",
    "&= \\sum_i^n \\sum_j^n b_i a_{ij} b_j\n",
    " \\end{align*}"
   ]
  },
  {
   "cell_type": "markdown",
   "metadata": {},
   "source": [
    "\\begin{align*}\n",
    "\\frac{\\partial \\mathbf{b}^T \\mathbf{A} \\mathbf{b}}{\\partial \\mathbf{b}} \n",
    "& = \\begin{bmatrix}\n",
    " \\frac{\\partial \\sum_i^n \\sum_j^n b_i a_{ij} b_j}{\\partial b_1} \\\\\n",
    " \\vdots \\\\\n",
    " \\frac{\\partial \\sum_i^n \\sum_j^n b_i a_{ij} b_j}{\\partial b_n} \\\\\n",
    "\\end{bmatrix} \\\\\n",
    "&= \\begin{bmatrix}\n",
    " \\sum_j^n a_{1j} b_j + \\sum_i^n b_i a_{i1}  \\\\\n",
    " \\vdots \\\\\n",
    " \\sum_j^n a_{nj} b_j + \\sum_i^n b_i a_{in}  \\\\\n",
    "\\end{bmatrix} \\\\\n",
    "&= \\begin{bmatrix}\n",
    " \\sum_i^n (a_{1i} + a_{i1}) b_i  \\\\\n",
    " \\vdots \\\\\n",
    " \\sum_i^n (a_{ni} + a_{in}) b_i  \\\\\n",
    "\\end{bmatrix} \\\\\n",
    "&= \\begin{bmatrix}\n",
    " a_{11} + a_{11}  & \\cdots & a_{1i} + a_{i1} & \\cdots & a_{1n} + a_{n1} \\\\\n",
    " \\vdots & \\ddots & \\vdots & \\ddots & \\vdots \\\\\n",
    " a_{n1} + a_{1n}  & \\cdots & a_{ni} + a_{in} & \\cdots & a_{nn} + a_{nn} \\\\\n",
    "\\end{bmatrix} \n",
    "\\begin{bmatrix} b_1 \\\\ \\vdots \\\\ b_n \\end{bmatrix} \\\\\n",
    "&= (\\mathbf{A} + \\mathbf{A}^T) \\mathbf{b}\n",
    " \\end{align*}"
   ]
  }
 ],
 "metadata": {
  "kernelspec": {
   "display_name": "Python 3",
   "language": "python",
   "name": "python3"
  },
  "language_info": {
   "codemirror_mode": {
    "name": "ipython",
    "version": 3
   },
   "file_extension": ".py",
   "mimetype": "text/x-python",
   "name": "python",
   "nbconvert_exporter": "python",
   "pygments_lexer": "ipython3",
   "version": "3.7.5"
  }
 },
 "nbformat": 4,
 "nbformat_minor": 2
}
