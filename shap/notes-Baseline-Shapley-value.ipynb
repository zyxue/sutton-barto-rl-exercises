{
 "cells": [
  {
   "cell_type": "markdown",
   "metadata": {},
   "source": [
    "# Understanding Shapley value explanation algorithms for trees"
   ]
  },
  {
   "cell_type": "markdown",
   "metadata": {},
   "source": [
    "https://hughchen.github.io/its_blog/index.html"
   ]
  },
  {
   "cell_type": "markdown",
   "metadata": {},
   "source": [
    "# Baseline Shapley value"
   ]
  },
  {
   "cell_type": "markdown",
   "metadata": {},
   "source": [
    "Shown to be a unique solution to attribution methods by \n",
    "\n",
    "```\n",
    "The many Shapley values for model explanation\n",
    "M. Sundararajan, A. Najmi.\n",
    "arXiv preprint arXiv:1908.08474. 2019.\n",
    "```"
   ]
  },
  {
   "cell_type": "markdown",
   "metadata": {},
   "source": [
    "* $N$: set of all features.\n",
    "* $S$ a subset of $N$.\n",
    "* $x^f$: foreground instance.\n",
    "* $x^b$: background instance.\n",
    "* $x^S$: hybrid instance, a function of $x^f$, $x^b$, and $S$, specifically, for each feature, if $i \\in S$, $x_i^S = x_i^f$, else $x_i^S = x_i^b$."
   ]
  },
  {
   "cell_type": "markdown",
   "metadata": {},
   "source": [
    "The hybrid instance is defined as for each feature $i$, , so it is a function of $x^f$, $x^b$, and $S$, i.e."
   ]
  },
  {
   "cell_type": "markdown",
   "metadata": {},
   "source": [
    "$$x^S = h(x^f, x^b, S)$$"
   ]
  },
  {
   "cell_type": "markdown",
   "metadata": {},
   "source": [
    "$h$ stands for hybrid."
   ]
  },
  {
   "cell_type": "markdown",
   "metadata": {},
   "source": [
    "Then the Shapley value for feature $i$ can be calculated as"
   ]
  },
  {
   "cell_type": "markdown",
   "metadata": {},
   "source": [
    "\\begin{align*}\n",
    "\\phi_i(N, f, x^f, x^b)\n",
    "&= \\sum _{S \\subseteq N \\backslash \\{i\\}} \\frac{s!(n - s - 1)!}{n!} \\Big(f \\left(x^{S \\cup \\{i\\}} \\right) - f \\left( x^S \\right) \\Big) \\\\\n",
    "\\end{align*}"
   ]
  },
  {
   "cell_type": "markdown",
   "metadata": {},
   "source": [
    "Note,\n",
    "\n",
    "* $f$ corresponds to the value function in the canonical Shapley value definition."
   ]
  },
  {
   "cell_type": "markdown",
   "metadata": {},
   "source": [
    "We can average over background instances first to obtain $x^b$ or take each instance as a $x^b$ and average over the resulting Shapley values."
   ]
  },
  {
   "cell_type": "code",
   "execution_count": null,
   "metadata": {},
   "outputs": [],
   "source": []
  },
  {
   "cell_type": "markdown",
   "metadata": {},
   "source": [
    "# Zero baseline"
   ]
  },
  {
   "cell_type": "markdown",
   "metadata": {},
   "source": [
    "No good beacuse the meaning of zero is arbitrary in different models, it does not necessarily mean a feature is misisng."
   ]
  },
  {
   "cell_type": "markdown",
   "metadata": {},
   "source": [
    "# Average baseline"
   ]
  },
  {
   "cell_type": "markdown",
   "metadata": {},
   "source": [
    "Difficult to interpret in the case of non-linear models (Not sure what exactly this means)?"
   ]
  },
  {
   "cell_type": "markdown",
   "metadata": {},
   "source": [
    "> Comparing to the average individual is even more unappealing for non-linear models where comparing to an average individual is not equivalent to comparing to the average population."
   ]
  },
  {
   "cell_type": "markdown",
   "metadata": {},
   "source": [
    "# Condtional expectation"
   ]
  },
  {
   "cell_type": "markdown",
   "metadata": {},
   "source": [
    "# Interventional condtional expectation"
   ]
  },
  {
   "cell_type": "markdown",
   "metadata": {},
   "source": [
    "Causual inference's interventional conditional expectation:"
   ]
  },
  {
   "cell_type": "markdown",
   "metadata": {},
   "source": [
    "\\begin{align*} \n",
    "v(S) = \\mathbb{E}_D[f(x) | \\text{do}(x_S)]\n",
    "\\end{align*}"
   ]
  },
  {
   "cell_type": "markdown",
   "metadata": {},
   "source": [
    "Unclear what this equation exactly means, may just refer to causal inference's ICE in general."
   ]
  },
  {
   "cell_type": "markdown",
   "metadata": {},
   "source": [
    "Definition of importance attribution for feature $i$ given background data $D$,"
   ]
  },
  {
   "cell_type": "markdown",
   "metadata": {},
   "source": [
    "\\begin{align*}\n",
    "\\psi_i(N, f, x^f, D) \n",
    "&= \\frac{1}{|D|} \\sum_{x^b \\in D} \\phi_i(N, f, x^f, x^b) \\\\\n",
    "\\end{align*}"
   ]
  },
  {
   "cell_type": "code",
   "execution_count": null,
   "metadata": {},
   "outputs": [],
   "source": []
  },
  {
   "cell_type": "markdown",
   "metadata": {},
   "source": [
    "$\\phi_i(N, f, x^f, \\mathbb{E}[x^b])$ v.s. $\\mathbb{E}_D[\\phi_i(N, f, x^f, x^b)]$."
   ]
  },
  {
   "cell_type": "code",
   "execution_count": null,
   "metadata": {},
   "outputs": [],
   "source": []
  },
  {
   "cell_type": "markdown",
   "metadata": {},
   "source": [
    "from \"A Unified Approach to Interpreting Model Predictions\"\n",
    "\n",
    "https://www.mendeley.com/reference-manager/reader/05be0e56-c1b0-30d9-8712-88652f492bf9/7afdb7dd-2eed-ce11-1775-4d0bf0d4c372\n",
    "\n",
    "\n",
    ">SHAP values are Shapley values of the a conditional expectation function of the original model."
   ]
  },
  {
   "cell_type": "code",
   "execution_count": null,
   "metadata": {},
   "outputs": [],
   "source": []
  },
  {
   "cell_type": "markdown",
   "metadata": {},
   "source": [
    "Reproduce calculations in Figure 3 for two baselines. We'll replace $x_1$, $x_2$, $x_3$ with a, b, c for clarity."
   ]
  },
  {
   "cell_type": "code",
   "execution_count": 1,
   "metadata": {},
   "outputs": [],
   "source": [
    "import dataclasses\n",
    "from typing import Dict, Tuple\n",
    "\n",
    "import shap_demo\n",
    "\n",
    "get_ipython().magic(\"load_ext autoreload\")\n",
    "get_ipython().magic(\"autoreload 2\")"
   ]
  },
  {
   "cell_type": "markdown",
   "metadata": {},
   "source": [
    "Reproduce calculations in Figure 3 for two baselines. We'll replace $x_1$, $x_2$, $x_3$ with a, b, c for clarity."
   ]
  },
  {
   "cell_type": "code",
   "execution_count": 5,
   "metadata": {},
   "outputs": [],
   "source": [
    "def linear_model(a, b, c) -> float:\n",
    "    β1, β2, β3 = 2, -1, 10\n",
    "    return β1 * a + β2 * b + β3 * c"
   ]
  },
  {
   "cell_type": "code",
   "execution_count": 6,
   "metadata": {},
   "outputs": [],
   "source": [
    "def make_vals_dict(\n",
    "    foreground_vals: Tuple[float, float, float],\n",
    "    background_vals: Tuple[float, float, float],\n",
    ") -> Dict[str, float]:\n",
    "    \"\"\"Makes values dictionary for all subsets.\"\"\"\n",
    "    af, bf, cf = foreground_vals\n",
    "    ab, bb, cb = background_vals\n",
    "    return {\n",
    "        \"\": linear_model(ab, bb, cb),\n",
    "        \"a\": linear_model(af, bb, cb),\n",
    "        \"b\": linear_model(ab, bf, cb),\n",
    "        \"c\": linear_model(ab, bb, cf),\n",
    "        \"ab\": linear_model(af, bf, cb),\n",
    "        \"ac\": linear_model(af, bb, cf),\n",
    "        \"bc\": linear_model(ab, bf, cf),\n",
    "        \"abc\": linear_model(af, bf, cf),\n",
    "    }"
   ]
  },
  {
   "cell_type": "markdown",
   "metadata": {},
   "source": [
    "### Zero baseline"
   ]
  },
  {
   "cell_type": "code",
   "execution_count": 7,
   "metadata": {},
   "outputs": [],
   "source": [
    "# f means foreground\n",
    "af, bf, cf = 70, 135, 0\n",
    "# b means background\n",
    "ab, bb, cb = 0, 0, 0"
   ]
  },
  {
   "cell_type": "code",
   "execution_count": 8,
   "metadata": {},
   "outputs": [],
   "source": [
    "# value function based on a zero baseline.\n",
    "vals_zero_baseline = make_vals_dict((af, bf, cf), (ab, bb, cb))"
   ]
  },
  {
   "cell_type": "code",
   "execution_count": 9,
   "metadata": {},
   "outputs": [],
   "source": [
    "ϕ_a, ϕ_b, ϕ_c = shap_demo.calc_shapley_vals(vals_zero_baseline)"
   ]
  },
  {
   "cell_type": "code",
   "execution_count": 10,
   "metadata": {},
   "outputs": [
    {
     "data": {
      "text/plain": [
       "(140.0, -135.0, 0.0)"
      ]
     },
     "execution_count": 10,
     "metadata": {},
     "output_type": "execute_result"
    }
   ],
   "source": [
    "ϕ_a, ϕ_b, ϕ_c"
   ]
  },
  {
   "cell_type": "code",
   "execution_count": 11,
   "metadata": {},
   "outputs": [],
   "source": [
    "np.testing.assert_allclose(ϕ_a, 140)\n",
    "np.testing.assert_allclose(ϕ_b, -135)\n",
    "np.testing.assert_allclose(ϕ_c, 0)"
   ]
  },
  {
   "cell_type": "markdown",
   "metadata": {},
   "source": [
    "### Average baseline"
   ]
  },
  {
   "cell_type": "code",
   "execution_count": 12,
   "metadata": {},
   "outputs": [],
   "source": [
    "# f means foreground\n",
    "af, bf, cf = 70, 135, 0\n",
    "# b means background\n",
    "ab, bb, cb = 70, 135, 0.5"
   ]
  },
  {
   "cell_type": "code",
   "execution_count": 13,
   "metadata": {},
   "outputs": [],
   "source": [
    "vals_avg_baseline = make_vals_dict((af, bf, cf), (ab, bb, cb))"
   ]
  },
  {
   "cell_type": "code",
   "execution_count": 14,
   "metadata": {},
   "outputs": [],
   "source": [
    "ϕ_a, ϕ_b, ϕ_c = shap_demo.calc_shapley_vals(vals_avg_baseline)"
   ]
  },
  {
   "cell_type": "code",
   "execution_count": 15,
   "metadata": {},
   "outputs": [
    {
     "data": {
      "text/plain": [
       "(0.0, 0.0, -5.0)"
      ]
     },
     "execution_count": 15,
     "metadata": {},
     "output_type": "execute_result"
    }
   ],
   "source": [
    "ϕ_a, ϕ_b, ϕ_c"
   ]
  },
  {
   "cell_type": "code",
   "execution_count": 16,
   "metadata": {},
   "outputs": [],
   "source": [
    "np.testing.assert_allclose(ϕ_a, 0)\n",
    "np.testing.assert_allclose(ϕ_b, 0)\n",
    "np.testing.assert_allclose(ϕ_c, -5)"
   ]
  },
  {
   "cell_type": "code",
   "execution_count": null,
   "metadata": {},
   "outputs": [],
   "source": []
  },
  {
   "cell_type": "code",
   "execution_count": null,
   "metadata": {},
   "outputs": [],
   "source": []
  },
  {
   "cell_type": "markdown",
   "metadata": {},
   "source": [
    "# Incorporating background distribution"
   ]
  },
  {
   "cell_type": "code",
   "execution_count": null,
   "metadata": {},
   "outputs": [],
   "source": []
  }
 ],
 "metadata": {
  "kernelspec": {
   "display_name": "Python 3 (ipykernel)",
   "language": "python",
   "name": "python3"
  },
  "language_info": {
   "codemirror_mode": {
    "name": "ipython",
    "version": 3
   },
   "file_extension": ".py",
   "mimetype": "text/x-python",
   "name": "python",
   "nbconvert_exporter": "python",
   "pygments_lexer": "ipython3",
   "version": "3.10.7"
  }
 },
 "nbformat": 4,
 "nbformat_minor": 4
}
