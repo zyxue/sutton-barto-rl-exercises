{
 "cells": [
  {
   "cell_type": "markdown",
   "metadata": {},
   "source": [
    "In this notebook, we'll\n",
    "\n",
    "* Define Shapley values.\n",
    "* Implement it for toy examples.\n",
    "* Define Baseline Shapley values.\n",
    "* Implement it for toy examples."
   ]
  },
  {
   "cell_type": "markdown",
   "metadata": {},
   "source": [
    "# Definition of Shapley value"
   ]
  },
  {
   "cell_type": "markdown",
   "metadata": {},
   "source": [
    "Let \n",
    "\n",
    "* $N$ be the set of all $n$ players, i.e. $n = |N|$.\n",
    "* $\\mathcal{P}$ be all permutations of $N$.\n",
    "* $P$ be a permutation of $N$.\n",
    "* $d$ be the index of player $i$ in permutation $P$.\n",
    "* $P[:d+1]$ be the set of all players before $i$ with $i$ (0-based indexing).\n",
    "* $P[:d]$ be the set of all palyers before $i$ without $i$.\n",
    "* $v$ be a value function that maps a set of players to a real number, $v: \\text{Power Set}(N) \\rightarrow \\mathbb{R}$.\n",
    "* $\\phi_i(N, v)$ be the Shapley value of player $i$ given $N$ and $v$."
   ]
  },
  {
   "cell_type": "markdown",
   "metadata": {},
   "source": [
    "One way of formulating the Shapley value is"
   ]
  },
  {
   "cell_type": "markdown",
   "metadata": {},
   "source": [
    "\\begin{align*}\n",
    "\\phi_i(N, v) = \\sum_{P \\in \\mathcal{P}} \\frac{1}{n!} v ( P[:d+1] ) - v( P[:d] )\n",
    "\\end{align*}\n"
   ]
  },
  {
   "cell_type": "markdown",
   "metadata": {},
   "source": [
    "So Shapley value can be interpreted as the average marginal contribution from player $i$ over all permutations."
   ]
  },
  {
   "cell_type": "markdown",
   "metadata": {},
   "source": [
    "Let $S$ be the set of players in $P[:d]$, and $S \\cup \\{i\\}$ be the set of players in $P[:d + 1]$. So $v(S) = v(P[:d])$ and $v(S \\cup \\{i\\}) = v(P[: d + 1])$ Note, $P$ is ordered while $S$ is not."
   ]
  },
  {
   "cell_type": "markdown",
   "metadata": {},
   "source": [
    "Notice that once $S$ is fixed, the ordering of the players in $S$ does not affect $v(S)$, and there are $s!$ ways of ordering them (aka. permutations). Similarly, the ordering of the players after $i$ does not matter either, and there are $(n - s - 1)!$ ways of ordering. Therefore, Shapley value can also be written in a more common form,"
   ]
  },
  {
   "cell_type": "markdown",
   "metadata": {},
   "source": [
    "\\begin{align*}\n",
    "\\phi_i(N, v)\n",
    "&= \\sum _{S \\subseteq N \\backslash \\{i\\}} \\frac{s!(n - s - 1)!}{n!} \\Big(v(S \\cup \\{i\\}) - v(S) \\Big) \\\\\n",
    "&= \\sum _{S \\subseteq N \\backslash \\{i\\}} \\frac{|S|!(|N| - |S| - 1)!}{|N|!} \\Big(v(S \\cup \\{i\\}) - v(S) \\Big) \\\\\n",
    "\\end{align*}"
   ]
  },
  {
   "cell_type": "markdown",
   "metadata": {},
   "source": [
    "In this form, the Shapley value is interpreted as the weighted average of marginal contributions from $i$ over all possible subsets of players before $i$. The weight is calculated $\\frac{s!(n - s - 1)!}{n!}$."
   ]
  },
  {
   "cell_type": "markdown",
   "metadata": {},
   "source": [
    "A third form of writing Shapley value is from directly transforming the factorials into combinatorial notation,"
   ]
  },
  {
   "cell_type": "markdown",
   "metadata": {},
   "source": [
    "\\begin{align*}\n",
    "\\phi_i(N, v)\n",
    "&= \\sum _{S \\subseteq N \\backslash \\{i\\}} \\frac{s!(n - s - 1)!}{n!} \\Big(v(S \\cup \\{i\\}) - v(S) \\Big) \\\\\n",
    "&= \\frac{1}{n} \\sum _{S \\subseteq N \\backslash \\{i\\}} \\frac{s!(n - s - 1)!}{(n - 1)!} \\Big(v(S \\cup \\{i\\}) - v(S) \\Big) \\\\\n",
    "&= \\frac{1}{n} \\sum _{S \\subseteq N \\backslash \\{i\\}} \\binom{n - 1}{s}^{-1} \\Big(v(S \\cup \\{i\\}) - v(S) \\Big) \\\\\n",
    "&= \\frac{1}{n} \\sum_{t = 0}^{n - 1} \\binom{n - 1}{t}^{-1} \\sum _{S \\subseteq N \\backslash \\{i\\} \\\\ s.t. |S| = t} \\Big(v(S \\cup \\{i\\}) - v(S) \\Big) \\\\\n",
    "\\end{align*}"
   ]
  },
  {
   "cell_type": "markdown",
   "metadata": {},
   "source": [
    "Note,\n",
    "\n",
    "* In the 3rd equality, $\\binom{n - 1}{s}$ is the number of ways to pick $s$ out of $n$ players without player $i$, so we can group the summands by possible $s$ values in the 4th equality, which ranges from $0$ to $n - 1$ (pick all players but $i$). \n",
    "\n",
    "We used $t$ instead of $s$ in the 4th equality to avoid confusion because by definition $s$ is always equal to $|S|$. More specifically, the difference between the last two equalities is that in Equality 3, we pick $S$ first, and then calculate its size $s$, while in Equality 4, we determine the size of the $S$ to pick first and then pick $S$ of only that size."
   ]
  },
  {
   "cell_type": "markdown",
   "metadata": {},
   "source": [
    "# Properties of Shapley values"
   ]
  },
  {
   "cell_type": "markdown",
   "metadata": {},
   "source": [
    "Based on https://www.youtube.com/watch?v=9OFMRiAVH-w, Shapley values satisfy the following properties (axioms?)."
   ]
  },
  {
   "cell_type": "markdown",
   "metadata": {},
   "source": [
    "* **Symmetry**: if for all $S$ that doesn't contain either player $i$ or $j$, $v(S \\cup \\{i\\}) = v(S \\cup \\{j\\})$, then $\\phi_i(N, v) = \\phi_j(N, v)$.\n",
    "* **Dummy player**: if for all $S$ that doesn't contain $i$, $v(S \\cup \\{i\\}) = v(S)$, then $\\phi_i(N, v) = 0$.\n",
    "* **Additivity**: if $v$ can be decomposed into two parts, $v_1$ and $v_2$, then $\\phi_i(N, v) = \\phi_i(N, v_1 + v_2)$.\n",
    "\n",
    "\n",
    "Compared to the Supplemental material of [A Unified Approach to Interpreting Model Predictions\n",
    "](https://papers.nips.cc/paper/2017/hash/8a20a8621978632d76c43dfd28b67767-Abstract.html), the later also added an **Efficiency**: $\\sum_{i \\in N} \\phi_i(N, v) = v(N) - v(\\emptyset)$, which is quite straightforward, In the later, Dummy player is know as **Null effects** and Additivity is know is **Linearity**."
   ]
  },
  {
   "cell_type": "markdown",
   "metadata": {},
   "source": [
    "<span style=\"color:red\">TODO: It'd be nice to learn the proofs</span>"
   ]
  },
  {
   "cell_type": "markdown",
   "metadata": {},
   "source": [
    "Based on the interpretable ML community(E.g. https://hughchen.github.io/its_blog/index.html#shapley_values):\n",
    "\n",
    "* **Local Accuracy/Efficiency**: the sum of Shapley values adds up to $v(N) - v(\\emptyset)$.\n",
    "* **Consistency/Monotonicity**: TBD (compare to [A Unified Approach to Interpreting Model Predictions](https://proceedings.neurips.cc/paper/2017/hash/8a20a8621978632d76c43dfd28b67767-Abstract.html).\n",
    "* **Missingness**: same as the Dummy player property above.\n",
    "\n",
    "Read [Monotonic solutions of cooperative games](https://link.springer.com/article/10.1007/BF01769885#:~:text=The%20principle%20of%20monotonicity%20for,player's%20allocation%20should%20not%20decrease) for more related ideas."
   ]
  },
  {
   "cell_type": "markdown",
   "metadata": {},
   "source": [
    "It looks based on the supplemental material:\n",
    "\n",
    "Shapley has four properties: efficiency, symmetry, null effects and linearity, then Young's 1985 paper shows that monotonicity impleis linearity and null effects, then \"A Unified Approach to Interpreting Model Predictions\" paper shows that monotonicity also implies symmetry, then the properties of Shapley value can be summarized just as\n",
    "\n",
    "* efficiency and\n",
    "* monotonicity"
   ]
  },
  {
   "cell_type": "markdown",
   "metadata": {},
   "source": [
    "For some reason, the \"A Unified Approach to Interpreting Model Predictions\" kept the missingness property, which seems identical to null effects property. In the paper, it says the property is required to adapt the Shapley proofs to the class of additive feature attribution methods. *So to further my understanding why it's kept, it's essential to go through all the proofs!!*"
   ]
  },
  {
   "cell_type": "markdown",
   "metadata": {},
   "source": [
    "More ref: Question about missingness (https://github.com/slundberg/shap/issues/175)."
   ]
  },
  {
   "cell_type": "markdown",
   "metadata": {},
   "source": [
    "# Implementation of Shapley values"
   ]
  },
  {
   "cell_type": "markdown",
   "metadata": {},
   "source": [
    "We use this implementation to reproduce the calculations at https://hughchen.github.io/its_blog/index.html#shapley_values for Preset D. We'll replace the names Ava, Ben, Cat with a, b, c for clarity."
   ]
  },
  {
   "cell_type": "code",
   "execution_count": 1,
   "metadata": {},
   "outputs": [],
   "source": [
    "from typing import Set\n",
    "\n",
    "import shapley\n",
    "\n",
    "get_ipython().magic(\"load_ext autoreload\")\n",
    "get_ipython().magic(\"autoreload 2\")"
   ]
  },
  {
   "cell_type": "code",
   "execution_count": 2,
   "metadata": {},
   "outputs": [],
   "source": [
    "def value_func(players: Set[shapley.Player]) -> float:\n",
    "    \"\"\"Value functions.\"\"\"\n",
    "    values = {\n",
    "        (): 1,\n",
    "        (\"Ava\",): 0,\n",
    "        (\"Ben\",): 1,\n",
    "        (\"Cat\",): 1,\n",
    "        (\"Ava\", \"Ben\"): 1,\n",
    "        (\"Ava\", \"Cat\"): 1,\n",
    "        (\"Ben\", \"Cat\"): 2,\n",
    "        (\"Ava\", \"Ben\", \"Cat\"): 2,\n",
    "    }\n",
    "    return values[tuple(sorted(players))]"
   ]
  },
  {
   "cell_type": "code",
   "execution_count": 3,
   "metadata": {},
   "outputs": [],
   "source": [
    "coalition = {\"Ava\", \"Ben\", \"Cat\"}"
   ]
  },
  {
   "cell_type": "code",
   "execution_count": 4,
   "metadata": {},
   "outputs": [
    {
     "data": {
      "text/plain": [
       "-0.3333333333333333"
      ]
     },
     "execution_count": 4,
     "metadata": {},
     "output_type": "execute_result"
    }
   ],
   "source": [
    "ϕ_a = shapley.shapley(coalition, value_func, \"Ava\")\n",
    "ϕ_a"
   ]
  },
  {
   "cell_type": "code",
   "execution_count": 5,
   "metadata": {},
   "outputs": [
    {
     "data": {
      "text/plain": [
       "0.6666666666666666"
      ]
     },
     "execution_count": 5,
     "metadata": {},
     "output_type": "execute_result"
    }
   ],
   "source": [
    "ϕ_b = shapley.shapley(coalition, value_func, \"Ben\")\n",
    "ϕ_b"
   ]
  },
  {
   "cell_type": "code",
   "execution_count": 6,
   "metadata": {},
   "outputs": [
    {
     "data": {
      "text/plain": [
       "0.6666666666666666"
      ]
     },
     "execution_count": 6,
     "metadata": {},
     "output_type": "execute_result"
    }
   ],
   "source": [
    "ϕ_c = shapley.shapley(coalition, value_func, \"Cat\")\n",
    "ϕ_c"
   ]
  },
  {
   "cell_type": "code",
   "execution_count": 7,
   "metadata": {},
   "outputs": [],
   "source": [
    "np.testing.assert_allclose(ϕ_a, -1/3)\n",
    "np.testing.assert_allclose(ϕ_b, 2/3)\n",
    "np.testing.assert_allclose(ϕ_c, 2/3)"
   ]
  },
  {
   "cell_type": "code",
   "execution_count": 10,
   "metadata": {},
   "outputs": [],
   "source": [
    "assert ϕ_a + ϕ_b + ϕ_c == value_func({\"Ava\", \"Ben\", \"Cat\"}) - value_func({})"
   ]
  }
 ],
 "metadata": {
  "kernelspec": {
   "display_name": "Python 3 (ipykernel)",
   "language": "python",
   "name": "python3"
  },
  "language_info": {
   "codemirror_mode": {
    "name": "ipython",
    "version": 3
   },
   "file_extension": ".py",
   "mimetype": "text/x-python",
   "name": "python",
   "nbconvert_exporter": "python",
   "pygments_lexer": "ipython3",
   "version": "3.10.7"
  }
 },
 "nbformat": 4,
 "nbformat_minor": 4
}
