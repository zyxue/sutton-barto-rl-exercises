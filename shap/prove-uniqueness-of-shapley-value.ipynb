{
 "cells": [
  {
   "cell_type": "code",
   "execution_count": 1,
   "metadata": {},
   "outputs": [
    {
     "data": {
      "application/javascript": [
       "MathJax.Hub.Config({\n",
       "    TeX: { equationNumbers: { autoNumber: \"AMS\" } }\n",
       "});\n"
      ],
      "text/plain": [
       "<IPython.core.display.Javascript object>"
      ]
     },
     "metadata": {},
     "output_type": "display_data"
    }
   ],
   "source": [
    "%%javascript\n",
    "MathJax.Hub.Config({\n",
    "    TeX: { equationNumbers: { autoNumber: \"AMS\" } }\n",
    "});"
   ]
  },
  {
   "cell_type": "markdown",
   "metadata": {},
   "source": [
    "A clear version of http://neconomides.stern.nyu.edu/networks/Shapley_A_value_for_n-person_games.pdf."
   ]
  },
  {
   "cell_type": "markdown",
   "metadata": {},
   "source": [
    "Suppose we'd like to come up with a formula for a value that calculates the division of payoff among of a gorup of players for a game $v$. We'll denote this value as $\\phi_i(v)$ for the $i$th player, and it needs satisfy the following three axioms."
   ]
  },
  {
   "cell_type": "markdown",
   "metadata": {},
   "source": [
    "### Axiom 1"
   ]
  },
  {
   "cell_type": "markdown",
   "metadata": {},
   "source": [
    "For each permutation $\\pi$ in $\\Pi(N)$, where $N$ is the universe of all players,"
   ]
  },
  {
   "cell_type": "markdown",
   "metadata": {},
   "source": [
    "$$\n",
    "\\phi_{\\pi(i)} (\\pi v) = \\phi_i(v)\n",
    "$$"
   ]
  },
  {
   "cell_type": "markdown",
   "metadata": {},
   "source": [
    "Here $v$ is a $2^{n - 1}$-dimension vector indexed by $i$, and $\\pi v$ is a vector with reordered elements and can be indexed by $\\pi(i)$."
   ]
  },
  {
   "cell_type": "markdown",
   "metadata": {},
   "source": [
    "<span style=\"color:red\">The formulation of $v$ as a vector here is confusion, needs better notations here</span>"
   ]
  },
  {
   "cell_type": "markdown",
   "metadata": {},
   "source": [
    "### Axiom 2"
   ]
  },
  {
   "cell_type": "markdown",
   "metadata": {},
   "source": [
    "For each carrier $C$ of $v$,"
   ]
  },
  {
   "cell_type": "markdown",
   "metadata": {},
   "source": [
    "$$\n",
    "\\sum_{i \\in C} \\phi_i(v) = v(C) = v(N)\n",
    "$$"
   ]
  },
  {
   "cell_type": "markdown",
   "metadata": {},
   "source": [
    "Note a carrier is a subset of $C$ that includes all the influential players and perhaps some non-influential players, so $v(S) = v(C \\cap S)$."
   ]
  },
  {
   "cell_type": "markdown",
   "metadata": {},
   "source": [
    "### Axiom 3"
   ]
  },
  {
   "cell_type": "markdown",
   "metadata": {},
   "source": [
    "For any two games $v$ and $w$,"
   ]
  },
  {
   "cell_type": "markdown",
   "metadata": {},
   "source": [
    "$$\n",
    "\\phi_i(v + w) = \\phi_i(v) + \\phi_i(w)\n",
    "$$"
   ]
  },
  {
   "cell_type": "markdown",
   "metadata": {},
   "source": [
    "### Lemma 1"
   ]
  },
  {
   "cell_type": "markdown",
   "metadata": {},
   "source": [
    "If $C$ is a finite carrier of $v$, then for $j \\notin C$,"
   ]
  },
  {
   "cell_type": "markdown",
   "metadata": {},
   "source": [
    "$$\n",
    "\\phi_j(v) = 0\n",
    "$$."
   ]
  },
  {
   "cell_type": "markdown",
   "metadata": {},
   "source": [
    "Proof: since $C$ and $C \\cup \\{j\\}$ are both carriers, by Axiom 2,"
   ]
  },
  {
   "cell_type": "markdown",
   "metadata": {},
   "source": [
    "\\begin{align*}\n",
    "\\sum_{i \\in C} \\phi_i(v) =& v(C) = v(N) \\\\\n",
    "\\sum_{i \\in C \\cup \\{j \\}} \\phi_i(v) =& v(N \\cup \\{j \\}) = v(N)\n",
    "\\end{align*}\n"
   ]
  },
  {
   "cell_type": "markdown",
   "metadata": {},
   "source": [
    "so $\\phi_j(v) = 0$"
   ]
  },
  {
   "cell_type": "markdown",
   "metadata": {},
   "source": [
    "In other words, $j$ is a dummy player. The carrier axiom integrates both efficiency and dummy axioms as described in later literatures."
   ]
  },
  {
   "cell_type": "markdown",
   "metadata": {},
   "source": [
    "### Lemma 2"
   ]
  },
  {
   "cell_type": "markdown",
   "metadata": {},
   "source": [
    "Define a game "
   ]
  },
  {
   "cell_type": "markdown",
   "metadata": {},
   "source": [
    "\\begin{align*}\n",
    "  w_R(S) =\n",
    "  \\begin{cases}\n",
    "    1, & \\text{if}\\ S \\supseteq  R \\\\\n",
    "    0, & \\text{otherwise}\n",
    "  \\end{cases}\n",
    "\\end{align*}"
   ]
  },
  {
   "cell_type": "markdown",
   "metadata": {},
   "source": [
    "where both $S \\subseteq N$ and $R \\subseteq N, R \\neq \\emptyset$ (<span style=\"color:red\">Not sure if the emptyset part matters</span>)."
   ]
  },
  {
   "cell_type": "markdown",
   "metadata": {},
   "source": [
    "We'll use $s, r, n \\dots$ to denote the size of sets $S, R, N \\dots$."
   ]
  },
  {
   "cell_type": "markdown",
   "metadata": {},
   "source": [
    "The game $w_R$ can be thought as such: given $R$, it calculates the payoffs for all subsets ($S$) of $N$, therefore, we can define $2^{n - 1}$ ($R \\neq \\emptyset$) of such games."
   ]
  },
  {
   "cell_type": "markdown",
   "metadata": {},
   "source": [
    "Note,"
   ]
  },
  {
   "cell_type": "markdown",
   "metadata": {},
   "source": [
    "* when $S \\supseteq R$, $w_R(R \\cap S) = w_R(R) = w_R(S) = 1$\n",
    "* when $S \\subseteq R$, $w_R(R \\cap S) = w_R(S) = 0$\n",
    "* otherwise, $w_R(R \\cap S) = 0$ since $(R \\cap S) \\subset R$, and $w_R(S) = 0$, so $w_R(R \\cap S) = w_R(S)$."
   ]
  },
  {
   "cell_type": "markdown",
   "metadata": {},
   "source": [
    "Therefore, we always have"
   ]
  },
  {
   "cell_type": "markdown",
   "metadata": {},
   "source": [
    "$$\n",
    "w_R(S) = w_R(R \\cap S)\n",
    "$$."
   ]
  },
  {
   "cell_type": "markdown",
   "metadata": {},
   "source": [
    "i.e. $R$ is a carrier of $w_R(S)$."
   ]
  },
  {
   "cell_type": "markdown",
   "metadata": {},
   "source": [
    "Now, the lemma is that for $w_R(S)$,"
   ]
  },
  {
   "cell_type": "markdown",
   "metadata": {},
   "source": [
    "\\begin{align*}\n",
    "  \\phi_i(w_R) =\n",
    "  \\begin{cases}\n",
    "    1 / r, & \\text{if}\\ i \\in  R \\\\\n",
    "    0, & \\text{otherwise}\n",
    "  \\end{cases}\n",
    "\\end{align*}"
   ]
  },
  {
   "cell_type": "markdown",
   "metadata": {},
   "source": [
    "Proof:"
   ]
  },
  {
   "cell_type": "markdown",
   "metadata": {},
   "source": [
    "Given the definition of $w_R$ and players in $R$ are indistinguishable, so they all get the same payoff."
   ]
  },
  {
   "cell_type": "markdown",
   "metadata": {},
   "source": [
    "### Lemma 3"
   ]
  },
  {
   "cell_type": "markdown",
   "metadata": {},
   "source": [
    "$v$ is a linear combination of $2^{n} - 1$ $w_R$s:"
   ]
  },
  {
   "cell_type": "markdown",
   "metadata": {},
   "source": [
    "\\begin{align*}\n",
    "v \n",
    "&= \\sum_{R \\subseteq N, R \\neq \\emptyset} c_R(v) w_R \\\\\n",
    "\\end{align*}"
   ]
  },
  {
   "cell_type": "markdown",
   "metadata": {},
   "source": [
    "where"
   ]
  },
  {
   "cell_type": "markdown",
   "metadata": {},
   "source": [
    "$$\n",
    "c_R(v) = \\sum_{T \\subseteq R} (-1)^{r - t} v(T)\n",
    "$$"
   ]
  },
  {
   "cell_type": "markdown",
   "metadata": {},
   "source": [
    "<span style=\"color:red\">This coefficient seems magical.</span>"
   ]
  },
  {
   "cell_type": "markdown",
   "metadata": {},
   "source": [
    "Now, we prove for any subset $S \\subseteq N$,"
   ]
  },
  {
   "cell_type": "markdown",
   "metadata": {},
   "source": [
    "\\begin{align*}\n",
    "v(S)\n",
    "&= \\sum_{R \\subseteq N, R \\neq \\emptyset} c_R(v) w_R(S) \\\\\n",
    "\\end{align*}"
   ]
  },
  {
   "cell_type": "markdown",
   "metadata": {},
   "source": [
    "Transforming the right-hand side,"
   ]
  },
  {
   "cell_type": "markdown",
   "metadata": {},
   "source": [
    "\\begin{align}\n",
    "\\sum_{R \\subseteq N, R \\neq \\emptyset} c_R(v) w_R(S)\n",
    "&= \\sum_{R \\subseteq S} c_R(v) \\\\\n",
    "&= \\sum_{R \\subseteq S} \\sum_{T \\subseteq R} (-1)^{r - t} v(T) \\\\\n",
    "&= \\sum_{T \\subseteq S} \\sum_{T \\subseteq R \\subseteq S} (-1)^{r - t} v(T) \\\\\n",
    "&= \\sum_{T \\subseteq S} \\sum_{r=t}^s \\binom{s - t}{r - t} (-1)^{r - t} v(T) \\\\\n",
    "&= \\sum_{T \\subseteq S} \\sum_{j=0}^{s - t} \\binom{s - t}{j} (-1)^{j} v(T) \\\\\n",
    "&= \\sum_{T \\subseteq S} (1 - 1)^{s - t} v(T) \\\\\n",
    "&= \\sum_{T \\subseteq S} \\mathbb{I}(S = T) v(T) \\\\\n",
    "&= v(S)\n",
    "\\end{align}"
   ]
  },
  {
   "cell_type": "markdown",
   "metadata": {},
   "source": [
    "Note,\n",
    "\n",
    "* 1st equality is by defintion of $w_R$\n",
    "* 3rd equality is by chain of order of summation. Intuition: instead of picking R from S, and then picking T from R, we can also pick T from S first, and then pick R that is a superset of T yet a subset of S.\n",
    "* 4th equality used the fact that for each $s$ and $t$, there is $\\binom{s - t}{r - t}$ ways to pick a set of size $r$.\n",
    "* 5th equality: we replaced $r - t$ with $j$.\n",
    "* 6th equality used the fact that $(1 - x)^k = \\sum_{j=0}^k \\binom{k}{j} (-x)^j$.\n",
    "* 7th equality: note, $(1 - 1)^{s - t}$ is zero except when $s = t$, i.e. $S = T$."
   ]
  },
  {
   "cell_type": "markdown",
   "metadata": {},
   "source": [
    "### Corollary"
   ]
  },
  {
   "cell_type": "markdown",
   "metadata": {},
   "source": [
    "Given we know $\\phi_i(w_R) = 1 / r$, we can calculate $\\phi_i(v)$ based on Axiom 3,"
   ]
  },
  {
   "cell_type": "markdown",
   "metadata": {},
   "source": [
    "\\begin{align}\n",
    "\\phi_i(v)\n",
    "&= \\sum_{R \\subseteq N} c_R(v) \\phi_i(w_R) \\\\\n",
    "&= \\sum_{R \\subseteq N \\\\ i \\in R} c_R(v) \\frac{1}{r} \\\\\n",
    "&= \\sum_{\\substack{R \\subseteq N \\\\ i \\in R}} \\sum_{T \\subseteq R} (-1)^{r - t} v(T) \\frac{1}{r} \\\\\n",
    "&= \\sum_{T \\subseteq N} \\sum_{\\substack{T \\subseteq R \\subseteq N \\\\ i \\in R}} (-1)^{r - t} v(T) \\frac{1}{r} \\\\\n",
    "&= \\sum_{T \\subseteq N} \\gamma_i(T) v(T) \\\\\n",
    "\\end{align}"
   ]
  },
  {
   "cell_type": "markdown",
   "metadata": {},
   "source": [
    "Note,\n",
    "\n",
    "* 2nd equality, if $i \\notin R$, $\\phi_i(w_R) = 0$.\n",
    "* 4th equality, result of change of order of summation.\n",
    "* 5th equality, we set $\\sum_{\\substack{T \\subseteq R \\subseteq N \\\\ i \\in R}} (-1)^{r - t} \\frac{1}{r} = \\gamma_i(T)$"
   ]
  },
  {
   "cell_type": "markdown",
   "metadata": {},
   "source": [
    "Considering the definition of $\\gamma_i(T)$"
   ]
  },
  {
   "cell_type": "markdown",
   "metadata": {},
   "source": [
    "$$\n",
    "\\gamma_i(T) = \\sum_{\\substack{T \\subseteq R \\subseteq N \\\\ i \\in R}} (-1)^{r - t} \\frac{1}{r}\n",
    "$$"
   ]
  },
  {
   "cell_type": "markdown",
   "metadata": {},
   "source": [
    "It's apparent that if $i \\notin T$, then \n",
    "\n",
    "$$\n",
    "\\gamma_i(T \\cup \\{ i \\}) = - \\gamma_i(T)\n",
    "$$"
   ]
  },
  {
   "cell_type": "markdown",
   "metadata": {},
   "source": [
    "So $\\phi_i(v)$ can be rewritten as"
   ]
  },
  {
   "cell_type": "markdown",
   "metadata": {},
   "source": [
    "\\begin{align*}\n",
    "\\phi_i(v)\n",
    "& = \\sum_{T \\subseteq N \\backslash i} \\gamma_i(T \\cup \\{ i \\}) v (T \\cup \\{i\\}) + \\gamma_i(T) v(T) \\\\\n",
    "& = \\sum_{T \\subseteq N \\backslash i} \\gamma_i(T \\cup \\{ i \\}) \\Big[ v (T \\cup \\{i\\}) - v(T) \\Big] \\\\\n",
    "\\end{align*}"
   ]
  },
  {
   "cell_type": "markdown",
   "metadata": {},
   "source": [
    "Further transforming $\\gamma_i(T \\cup \\{i\\})$,"
   ]
  },
  {
   "cell_type": "markdown",
   "metadata": {},
   "source": [
    "\\begin{align}\n",
    "\\gamma_i(T \\cup \\{i\\})\n",
    "&= \\sum_{\\substack{T \\cup \\{i\\} \\subseteq R \\subseteq N \\\\ i \\notin T}} (-1)^{r - t - 1} \\frac{1}{r} \\\\\n",
    "&= \\sum_{r = t + 1}^n \\binom{n - t - 1}{r - t - 1} (-1)^{r - t - 1} \\int_0^1 x^{r - 1} dx \\\\\n",
    "&= \\sum_{j = 0}^{n - t - 1} \\binom{n - t - 1}{j}(-1)^j \\int_0^1 x^{j + t} dx \\\\\n",
    "&= \\int_0^1 \\sum_{j = 0}^{n - t - 1} \\binom{n - t - 1}{j}(-1)^j x^{j + t} dx \\\\\n",
    "&= \\int_0^1 (1 - x)^{n - t -1} x^t dx \\\\\n",
    "&= \\frac{t! (n - t - 1)!}{n!}\n",
    "\\end{align}"
   ]
  },
  {
   "cell_type": "markdown",
   "metadata": {},
   "source": [
    "Note,\n",
    "\n",
    "* 2nd equality used two facts:\n",
    "  * for each n and t, there are $binom{n - t - 1}{r - t -1}$ ways to pick a set of size $r$.\n",
    "  * $\\frac{1}{r} = \\int_0^1 x^{r-1} dx$.\n",
    "* 3rd equality, we replaced $r - t - 1$ with $j$.\n",
    "* 4th equality just moved the integral to the front.\n",
    "* 5th equality used the fact that $(1 - x)^k = \\sum_{j=0}^k \\binom{k}{j} (-x)^j$.\n",
    "* 6th equality used the fact that $\\int_0^1 x^{s-1}(1 - x)^{n - s} dx = \\frac{(s - 1)! (n - s)!}{n!}$ (http://www.sef.hku.hk/~schiu/6036/shapleyproof.pdf).\n"
   ]
  },
  {
   "cell_type": "markdown",
   "metadata": {},
   "source": [
    "Therefore, we get the familiar equation for Shapley value:"
   ]
  },
  {
   "cell_type": "markdown",
   "metadata": {},
   "source": [
    "\\begin{align*}\n",
    "\\phi_i(v)\n",
    "& = \\sum_{T \\subseteq N \\backslash i} \\frac{t! (n - t - 1)!}{n!} \\Big[ v (T \\cup \\{i\\}) - v(T) \\Big] \\\\\n",
    "\\end{align*}"
   ]
  },
  {
   "cell_type": "markdown",
   "metadata": {},
   "source": [
    "TODO: prove $c_R$ is unique if $v$ is a linear combination of $w_R$s."
   ]
  },
  {
   "cell_type": "code",
   "execution_count": null,
   "metadata": {},
   "outputs": [],
   "source": []
  },
  {
   "cell_type": "markdown",
   "metadata": {},
   "source": [
    "Ref:\n",
    "\n",
    "* http://neconomides.stern.nyu.edu/networks/Shapley_A_value_for_n-person_games.pdf\n",
    "* http://www.sef.hku.hk/~schiu/6036/shapleyproof.pdf\n",
    "* https://gtl.csa.iisc.ac.in/gametheory/ln/web-cp5-shapley.pdf"
   ]
  },
  {
   "cell_type": "markdown",
   "metadata": {},
   "source": [
    "https://www.wolframalpha.com/input?i=%5Cint_0%5E1+x%5E%7Bs-1%7D+%281+-+x%29%5E%7Bn+-s%7D"
   ]
  },
  {
   "attachments": {
    "image.png": {
     "image/png": "[encoded data removed]"
    }
   },
   "cell_type": "markdown",
   "metadata": {},
   "source": [
    "![image.png](attachment:image.png)"
   ]
  },
  {
   "cell_type": "code",
   "execution_count": null,
   "metadata": {},
   "outputs": [],
   "source": []
  }
 ],
 "metadata": {
  "kernelspec": {
   "display_name": "Python 3 (ipykernel)",
   "language": "python",
   "name": "python3"
  },
  "language_info": {
   "codemirror_mode": {
    "name": "ipython",
    "version": 3
   },
   "file_extension": ".py",
   "mimetype": "text/x-python",
   "name": "python",
   "nbconvert_exporter": "python",
   "pygments_lexer": "ipython3",
   "version": "3.10.7"
  }
 },
 "nbformat": 4,
 "nbformat_minor": 4
}
