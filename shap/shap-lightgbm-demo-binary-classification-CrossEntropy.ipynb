{
 "cells": [
  {
   "cell_type": "code",
   "execution_count": 54,
   "metadata": {},
   "outputs": [],
   "source": [
    "import itertools\n",
    "import pickle\n",
    "import math\n",
    "\n",
    "import lightgbm\n",
    "import numpy as np\n",
    "import pandas as pd\n",
    "import shap\n",
    "from tqdm import tqdm\n",
    "import matplotlib.pyplot as plt\n",
    "from sklearn.tree import DecisionTreeRegressor, plot_tree\n",
    "import sklearn.ensemble"
   ]
  },
  {
   "cell_type": "code",
   "execution_count": 2,
   "metadata": {},
   "outputs": [
    {
     "data": {
      "text/plain": [
       "(150, 5)"
      ]
     },
     "execution_count": 2,
     "metadata": {},
     "output_type": "execute_result"
    }
   ],
   "source": [
    "sklearn.datasets.load_iris(as_frame=True)[\"frame\"].shape"
   ]
  },
  {
   "cell_type": "code",
   "execution_count": 64,
   "metadata": {},
   "outputs": [
    {
     "name": "stdout",
     "output_type": "stream",
     "text": [
      "going through node_sample_weight branchg\n",
      "[0.46 0.54]\n",
      "0.7510986478445273\n",
      "0.6794180419009056\n"
     ]
    }
   ],
   "source": [
    "import lightgbm\n",
    "import shap\n",
    "\n",
    "data = sklearn.datasets.load_iris(as_frame=True)\n",
    "\n",
    "df = data[\"frame\"].loc[lambda df: df.target.isin([0, 1])].sample(50, random_state=123).reset_index(drop=True)\n",
    "\n",
    "X, y = df.drop(columns=\"target\"), df[\"target\"]\n",
    "\n",
    "model = lightgbm.LGBMClassifier(\n",
    "#     learning_rate=0.3,\n",
    "#     boost_from_average=False,\n",
    "    n_estimators=100,\n",
    "    max_depth=3,\n",
    "    objective='cross_entropy',\n",
    "#     num_leaves=50\n",
    "#     min_child_weight=13,\n",
    ").fit(X, y)\n",
    "\n",
    "# explainer = shap.TreeExplainer(model, data=X)\n",
    "explainer = shap.TreeExplainer(model)\n",
    "\n",
    "shap_values = explainer.shap_values(X)\n",
    "\n",
    "print(df.target.value_counts(normalize=True).sort_index().values)\n",
    "print(explainer.expected_value)\n",
    "print(1 / ( 1 + np.exp(-explainer.expected_value)))"
   ]
  },
  {
   "cell_type": "code",
   "execution_count": 69,
   "metadata": {},
   "outputs": [],
   "source": [
    "mean_logit = model.predict(X, raw_score=True).mean()"
   ]
  },
  {
   "cell_type": "code",
   "execution_count": 70,
   "metadata": {},
   "outputs": [
    {
     "data": {
      "text/plain": [
       "0.7510986478445275"
      ]
     },
     "execution_count": 70,
     "metadata": {},
     "output_type": "execute_result"
    }
   ],
   "source": [
    "mean_logit"
   ]
  },
  {
   "cell_type": "code",
   "execution_count": 4,
   "metadata": {},
   "outputs": [
    {
     "name": "stdout",
     "output_type": "stream",
     "text": [
      "average_output: False\n",
      "feature_importances: {'petal_length_(cm)': 1}\n",
      "feature_infos: {'sepal_length_(cm)': {'min_value': 4.4, 'max_value': 7, 'values': []}, 'sepal_width_(cm)': {'min_value': 2, 'max_value': 4.2, 'values': []}, 'petal_length_(cm)': {'min_value': 1.2, 'max_value': 5, 'values': []}, 'petal_width_(cm)': {'min_value': 0.1, 'max_value': 1.8, 'values': []}}\n",
      "feature_names: ['sepal_length_(cm)', 'sepal_width_(cm)', 'petal_length_(cm)', 'petal_width_(cm)']\n",
      "label_index: 0\n",
      "max_feature_idx: 3\n",
      "monotone_constraints: []\n",
      "name: tree\n",
      "num_class: 1\n",
      "num_tree_per_iteration: 1\n",
      "objective: cross_entropy\n",
      "pandas_categorical: []\n",
      "version: v3\n"
     ]
    }
   ],
   "source": [
    "for k in sorted(model.booster_.dump_model().keys()):\n",
    "    if k != 'tree_info':\n",
    "        print(f'{k}: {model.booster_.dump_model()[k]}')"
   ]
  },
  {
   "cell_type": "code",
   "execution_count": 5,
   "metadata": {},
   "outputs": [
    {
     "name": "stdout",
     "output_type": "stream",
     "text": [
      "{\n",
      "    \"tree_index\": 0,\n",
      "    \"num_leaves\": 2,\n",
      "    \"num_cat\": 0,\n",
      "    \"shrinkage\": 1,\n",
      "    \"tree_structure\": {\n",
      "        \"split_index\": 0,\n",
      "        \"split_feature\": 2,\n",
      "        \"split_gain\": 46.11800003051758,\n",
      "        \"threshold\": 1.8,\n",
      "        \"decision_type\": \"<=\",\n",
      "        \"default_left\": true,\n",
      "        \"missing_type\": \"None\",\n",
      "        \"internal_value\": 0.160343,\n",
      "        \"internal_weight\": 0,\n",
      "        \"internal_count\": 50,\n",
      "        \"left_child\": {\n",
      "            \"leaf_index\": 0,\n",
      "            \"leaf_value\": -0.057048660532323575,\n",
      "            \"leaf_weight\": 5.46480005979538,\n",
      "            \"leaf_count\": 22\n",
      "        },\n",
      "        \"right_child\": {\n",
      "            \"leaf_index\": 1,\n",
      "            \"leaf_value\": 0.331150104553238,\n",
      "            \"leaf_weight\": 6.9552000761032104,\n",
      "            \"leaf_count\": 28\n",
      "        }\n",
      "    }\n",
      "}\n"
     ]
    }
   ],
   "source": [
    "print(json.dumps(model.booster_.dump_model()['tree_info'][0], indent=4))"
   ]
  },
  {
   "cell_type": "code",
   "execution_count": 23,
   "metadata": {},
   "outputs": [
    {
     "data": {
      "text/plain": [
       "12.42000013589859"
      ]
     },
     "execution_count": 23,
     "metadata": {},
     "output_type": "execute_result"
    }
   ],
   "source": [
    "5.46480005979538 + 6.9552000761032104"
   ]
  },
  {
   "cell_type": "markdown",
   "metadata": {},
   "source": [
    "### Check calculation of leaf_weight"
   ]
  },
  {
   "cell_type": "code",
   "execution_count": 6,
   "metadata": {},
   "outputs": [
    {
     "name": "stdout",
     "output_type": "stream",
     "text": [
      "1    27\n",
      "0     1\n",
      "Name: target, dtype: int64\n",
      "0    22\n",
      "Name: target, dtype: int64\n"
     ]
    }
   ],
   "source": [
    "features = X.columns\n",
    "\n",
    "threshold = 1.8\n",
    "\n",
    "X_left = X[X[features[2]] <= threshold]\n",
    "\n",
    "X_right = X[X[features[2]] > threshold]\n",
    "\n",
    "y_right = y.loc[X_right.index]\n",
    "print(y_right.value_counts())\n",
    "\n",
    "y_left = y.loc[X_left.index]\n",
    "print(y_left.value_counts())"
   ]
  },
  {
   "cell_type": "code",
   "execution_count": 7,
   "metadata": {},
   "outputs": [
    {
     "data": {
      "text/plain": [
       "5.495527420441854"
      ]
     },
     "execution_count": 7,
     "metadata": {},
     "output_type": "execute_result"
    }
   ],
   "source": [
    "# left child:\n",
    "t = -0.057048660532323575\n",
    "y_hat = np.exp(t) / (1 + np.exp(t))\n",
    "hessian = y_hat * (1 - y_hat)\n",
    "hessian * 22"
   ]
  },
  {
   "cell_type": "code",
   "execution_count": 8,
   "metadata": {},
   "outputs": [
    {
     "data": {
      "text/plain": [
       "0.2497967009291752"
      ]
     },
     "execution_count": 8,
     "metadata": {},
     "output_type": "execute_result"
    }
   ],
   "source": [
    "hessian"
   ]
  },
  {
   "cell_type": "code",
   "execution_count": 9,
   "metadata": {},
   "outputs": [
    {
     "data": {
      "text/plain": [
       "0.9944086602985226"
      ]
     },
     "execution_count": 9,
     "metadata": {},
     "output_type": "execute_result"
    }
   ],
   "source": [
    "5.46480005979538 / 5.495527420441854"
   ]
  },
  {
   "cell_type": "code",
   "execution_count": 10,
   "metadata": {},
   "outputs": [
    {
     "data": {
      "text/plain": [
       "6.811548002699206"
      ]
     },
     "execution_count": 10,
     "metadata": {},
     "output_type": "execute_result"
    }
   ],
   "source": [
    "# right child:\n",
    "t = 0.331150104553238\n",
    "y_hat = 1 / (1 + np.exp(-t))\n",
    "hessian = y_hat * (1 - y_hat)\n",
    "hessian * 28"
   ]
  },
  {
   "cell_type": "code",
   "execution_count": 11,
   "metadata": {},
   "outputs": [
    {
     "data": {
      "text/plain": [
       "0.24326957152497167"
      ]
     },
     "execution_count": 11,
     "metadata": {},
     "output_type": "execute_result"
    }
   ],
   "source": [
    "hessian"
   ]
  },
  {
   "cell_type": "code",
   "execution_count": 12,
   "metadata": {},
   "outputs": [
    {
     "data": {
      "text/plain": [
       "0.9793460904313067"
      ]
     },
     "execution_count": 12,
     "metadata": {},
     "output_type": "execute_result"
    }
   ],
   "source": [
    "6.811548002699206 / 6.9552000761032104"
   ]
  },
  {
   "cell_type": "code",
   "execution_count": 67,
   "metadata": {},
   "outputs": [
    {
     "data": {
      "text/plain": [
       "12.307075423141061"
      ]
     },
     "execution_count": 67,
     "metadata": {},
     "output_type": "execute_result"
    }
   ],
   "source": [
    "5.495527420441854 + 6.811548002699206"
   ]
  },
  {
   "cell_type": "code",
   "execution_count": 58,
   "metadata": {},
   "outputs": [
    {
     "data": {
      "text/plain": [
       "0.5820391886541324"
      ]
     },
     "execution_count": 58,
     "metadata": {},
     "output_type": "execute_result"
    }
   ],
   "source": [
    "y_hat"
   ]
  },
  {
   "cell_type": "code",
   "execution_count": 59,
   "metadata": {},
   "outputs": [
    {
     "data": {
      "text/plain": [
       "array([[0.5142583 , 0.4857417 ],\n",
       "       [0.41796081, 0.58203919],\n",
       "       [0.41796081, 0.58203919],\n",
       "       [0.5142583 , 0.4857417 ],\n",
       "       [0.41796081, 0.58203919]])"
      ]
     },
     "execution_count": 59,
     "metadata": {},
     "output_type": "execute_result"
    }
   ],
   "source": [
    "model.predict_proba(X[:5])"
   ]
  },
  {
   "cell_type": "code",
   "execution_count": null,
   "metadata": {},
   "outputs": [],
   "source": []
  },
  {
   "cell_type": "markdown",
   "metadata": {},
   "source": [
    "### Confirmed in binary classification, internal_value and leaf_value are logits in terms of $p(y=1|\\mathbf{x})$."
   ]
  },
  {
   "cell_type": "code",
   "execution_count": 17,
   "metadata": {},
   "outputs": [],
   "source": [
    "score = internal_value = 0.160343"
   ]
  },
  {
   "cell_type": "markdown",
   "metadata": {},
   "source": [
    "This initial logit is calculated at [xentropy_objective.hpp#L134](https://github.com/microsoft/LightGBM/blob/4971a06668df7eabeb7d4bb1987abb442f2970c9/src/objective/xentropy_objective.hpp#L134)."
   ]
  },
  {
   "cell_type": "code",
   "execution_count": 18,
   "metadata": {},
   "outputs": [],
   "source": [
    "z = np.exp(internal_value) / (1 + np.exp(internal_value))"
   ]
  },
  {
   "cell_type": "code",
   "execution_count": 19,
   "metadata": {},
   "outputs": [
    {
     "data": {
      "text/plain": [
       "0.24839999304628652"
      ]
     },
     "execution_count": 19,
     "metadata": {},
     "output_type": "execute_result"
    }
   ],
   "source": [
    "z * (1 - z)"
   ]
  },
  {
   "cell_type": "code",
   "execution_count": 21,
   "metadata": {},
   "outputs": [
    {
     "data": {
      "text/plain": [
       "5.464799847018304"
      ]
     },
     "execution_count": 21,
     "metadata": {},
     "output_type": "execute_result"
    }
   ],
   "source": [
    "z * (1 - z) * 22"
   ]
  },
  {
   "cell_type": "markdown",
   "metadata": {},
   "source": [
    "which matches the fraction examples with y=1 in `df`."
   ]
  },
  {
   "cell_type": "code",
   "execution_count": 24,
   "metadata": {},
   "outputs": [
    {
     "data": {
      "text/plain": [
       "array([[0.5142583 , 0.4857417 ],\n",
       "       [0.41796081, 0.58203919],\n",
       "       [0.41796081, 0.58203919],\n",
       "       [0.5142583 , 0.4857417 ],\n",
       "       [0.41796081, 0.58203919]])"
      ]
     },
     "execution_count": 24,
     "metadata": {},
     "output_type": "execute_result"
    }
   ],
   "source": [
    "model.predict_proba(X[:5])"
   ]
  },
  {
   "cell_type": "code",
   "execution_count": 21,
   "metadata": {},
   "outputs": [
    {
     "data": {
      "text/plain": [
       "array([-0.05704866,  0.3311501 ])"
      ]
     },
     "execution_count": 21,
     "metadata": {},
     "output_type": "execute_result"
    }
   ],
   "source": [
    "model.predict(X[:2], raw_score=True)"
   ]
  },
  {
   "cell_type": "code",
   "execution_count": 29,
   "metadata": {},
   "outputs": [],
   "source": [
    "t = model.predict(X[:2], raw_score=True)"
   ]
  },
  {
   "cell_type": "code",
   "execution_count": 30,
   "metadata": {},
   "outputs": [
    {
     "data": {
      "text/plain": [
       "array([-0.05704866,  0.3311501 ])"
      ]
     },
     "execution_count": 30,
     "metadata": {},
     "output_type": "execute_result"
    }
   ],
   "source": [
    "t"
   ]
  },
  {
   "cell_type": "code",
   "execution_count": 23,
   "metadata": {},
   "outputs": [
    {
     "data": {
      "text/plain": [
       "array([0.4857417 , 0.58203919])"
      ]
     },
     "execution_count": 23,
     "metadata": {},
     "output_type": "execute_result"
    }
   ],
   "source": [
    "np.exp(t) / (1 + np.exp(t))"
   ]
  },
  {
   "cell_type": "code",
   "execution_count": 24,
   "metadata": {},
   "outputs": [
    {
     "data": {
      "text/plain": [
       "50.0"
      ]
     },
     "execution_count": 24,
     "metadata": {},
     "output_type": "execute_result"
    }
   ],
   "source": [
    "12.42 / 0.2484"
   ]
  },
  {
   "cell_type": "code",
   "execution_count": null,
   "metadata": {},
   "outputs": [],
   "source": []
  },
  {
   "cell_type": "code",
   "execution_count": null,
   "metadata": {},
   "outputs": [],
   "source": []
  },
  {
   "cell_type": "code",
   "execution_count": 33,
   "metadata": {},
   "outputs": [],
   "source": [
    "with open(\"/tmp/tree_dump.json\", \"wt\") as opened:\n",
    "    json.dump(\n",
    "        lightgbm.Booster(\n",
    "            model_file=\"/Users/zhuyi/Projects/monorepo/monorepo/ds/olm/train/doap/results/model_lgb.txt\"\n",
    "        ).dump_model()[\"tree_info\"][0],\n",
    "        opened,\n",
    "    )"
   ]
  },
  {
   "cell_type": "code",
   "execution_count": 34,
   "metadata": {},
   "outputs": [],
   "source": [
    "with open(\"/tmp/tree_dump.json\", \"rt\") as opened:\n",
    "    tree = json.load(opened)"
   ]
  },
  {
   "cell_type": "code",
   "execution_count": 47,
   "metadata": {},
   "outputs": [],
   "source": [
    "def confirm_hessian_split(tree):\n",
    "    root = tree[\"tree_structure\"]\n",
    "    depth = 0\n",
    "    stack = [(root, depth)]\n",
    "    while len(stack) > 0:\n",
    "        node, depth = stack.pop()\n",
    "\n",
    "        if \"left_child\" in node:\n",
    "            lc = node[\"left_child\"]\n",
    "            rc = node[\"right_child\"]\n",
    "            stack.extend([(lc, depth + 1), (rc, depth + 1)])\n",
    "\n",
    "            if depth == 0:\n",
    "                # at root, the internal weight appears to be always 0 (can be a bug?)\n",
    "                assert node[\"internal_weight\"] == 0\n",
    "                continue\n",
    "\n",
    "            # weights are sum of hessians.\n",
    "            lc_weight = lc.get(\"internal_weight\") or lc.get(\"leaf_weight\")\n",
    "            rc_weight = rc.get(\"internal_weight\") or rc.get(\"leaf_weight\")\n",
    "            assert abs(1 -  node[\"internal_weight\"] / (lc_weight + rc_weight)) < 0.001"
   ]
  },
  {
   "cell_type": "code",
   "execution_count": 55,
   "metadata": {},
   "outputs": [
    {
     "name": "stderr",
     "output_type": "stream",
     "text": [
      "100%|██████████| 50/50 [00:00<00:00, 13535.25it/s]\n"
     ]
    }
   ],
   "source": [
    "for _tree in tqdm(lightgbm.Booster(\n",
    "        model_file=\"/Users/zhuyi/Projects/monorepo/monorepo/ds/olm/train/doap/results/model_lgb.txt\"\n",
    "    ).dump_model()[\"tree_info\"]):\n",
    "    confirm_hessian_split(_tree)"
   ]
  },
  {
   "cell_type": "code",
   "execution_count": null,
   "metadata": {},
   "outputs": [],
   "source": []
  }
 ],
 "metadata": {
  "kernelspec": {
   "display_name": "Python 3 (ipykernel)",
   "language": "python",
   "name": "python3"
  },
  "language_info": {
   "codemirror_mode": {
    "name": "ipython",
    "version": 3
   },
   "file_extension": ".py",
   "mimetype": "text/x-python",
   "name": "python",
   "nbconvert_exporter": "python",
   "pygments_lexer": "ipython3",
   "version": "3.10.7"
  }
 },
 "nbformat": 4,
 "nbformat_minor": 4
}
