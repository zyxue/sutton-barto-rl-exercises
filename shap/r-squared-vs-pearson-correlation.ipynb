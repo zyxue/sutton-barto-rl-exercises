{
 "cells": [
  {
   "cell_type": "code",
   "execution_count": 2,
   "metadata": {},
   "outputs": [
    {
     "data": {
      "application/javascript": [
       "MathJax.Hub.Config({\n",
       "    TeX: { equationNumbers: { autoNumber: \"AMS\" } }\n",
       "});\n"
      ],
      "text/plain": [
       "<IPython.core.display.Javascript object>"
      ]
     },
     "metadata": {},
     "output_type": "display_data"
    }
   ],
   "source": [
    "%%javascript\n",
    "MathJax.Hub.Config({\n",
    "    TeX: { equationNumbers: { autoNumber: \"AMS\" } }\n",
    "});"
   ]
  },
  {
   "cell_type": "markdown",
   "metadata": {},
   "source": [
    "For linear regression model with a single X and y, "
   ]
  },
  {
   "cell_type": "markdown",
   "metadata": {},
   "source": [
    "$$\n",
    "y = \\beta_0 + \\beta_1 x\n",
    "$$"
   ]
  },
  {
   "cell_type": "markdown",
   "metadata": {},
   "source": [
    "With least square the estimates are"
   ]
  },
  {
   "cell_type": "markdown",
   "metadata": {},
   "source": [
    "$$\n",
    "\\hat{y} = \\hat{\\beta}_0 + \\hat{\\beta}_1 x\n",
    "$$"
   ]
  },
  {
   "cell_type": "markdown",
   "metadata": {},
   "source": [
    "Then, $x$ can be written as "
   ]
  },
  {
   "cell_type": "markdown",
   "metadata": {},
   "source": [
    "\\begin{align*}\n",
    "x \n",
    "&= \\frac{\\hat{y} - \\hat{\\beta}_0}{\\hat{\\beta}_1} \\\\\n",
    "&= - \\frac{\\hat{\\beta}_0}{\\hat{\\beta}_1} + \\frac{1}{\\hat{\\beta}_1} \\hat{y} \\\\\n",
    "\\end{align*}"
   ]
  },
  {
   "cell_type": "markdown",
   "metadata": {},
   "source": [
    "Let $\\hat{\\gamma}_1 = \\frac{1}{\\hat{\\beta}}$, and $\\hat{\\gamma}_0 = - \\frac{\\hat{\\beta}_0}{\\hat{\\beta}_1}$, then"
   ]
  },
  {
   "cell_type": "markdown",
   "metadata": {},
   "source": [
    "$$\n",
    "x = \\hat{\\gamma}_0 + \\hat{\\gamma}_1 \\hat{y}\n",
    "$$"
   ]
  },
  {
   "cell_type": "markdown",
   "metadata": {},
   "source": [
    "Let"
   ]
  },
  {
   "cell_type": "markdown",
   "metadata": {},
   "source": [
    "\\begin{align*}\n",
    "SS_{XY}\n",
    "&= \\sum_{i=1}^n (x_i - \\bar{x})(y_i - \\bar{y}) \\\\\n",
    "SS_X\n",
    "&= \\sum_{i=1}^n (x_i - \\bar{x})^2 \\\\\n",
    "SS_Y\n",
    "&= \\sum_{i=1}^n (y_i - \\bar{y})^2 \\\\\n",
    "SS_T\n",
    "&= \\sum_{i=1}^n (\\hat{y}_i - \\bar{\\hat{y}})^2 \\\\\n",
    "SS_E\n",
    "&= \\sum_{i=1}^n (y_i - \\hat{y}_i)^2\n",
    "\\end{align*}"
   ]
  },
  {
   "cell_type": "markdown",
   "metadata": {},
   "source": [
    "$SS$ means sum of squares."
   ]
  },
  {
   "cell_type": "markdown",
   "metadata": {},
   "source": [
    "The Pearson correlation coefficient is defined as"
   ]
  },
  {
   "cell_type": "markdown",
   "metadata": {},
   "source": [
    "\\begin{align*}\n",
    "r\n",
    "&= \\frac{SS_{XY}}{\\sqrt{SS_X} \\sqrt{SS_Y}}\n",
    "\\end{align*}"
   ]
  },
  {
   "cell_type": "code",
   "execution_count": null,
   "metadata": {},
   "outputs": [],
   "source": []
  },
  {
   "cell_type": "markdown",
   "metadata": {},
   "source": [
    "Now, we square $r$ and replace $x$ with $\\hat{y}$ via Eq. ?"
   ]
  },
  {
   "cell_type": "markdown",
   "metadata": {},
   "source": [
    "\\begin{align*}\n",
    "r^2\n",
    "&= \\frac{SS_{XY}^2}{SS_X SS_Y} \\\\\n",
    "&= \\frac{\\left[\\sum_{i=1}^n (x_i - \\bar{x})(y_i - \\bar{y}) \\right ]^2}{\\left[\\sum_{i=1}^n (x_i - \\bar{x})^2 \\right ] \\left[\\sum_{i=1}^n (y_i - \\bar{y})^2 \\right ]}\n",
    "\\end{align*}"
   ]
  },
  {
   "cell_type": "markdown",
   "metadata": {},
   "source": [
    "Note"
   ]
  },
  {
   "cell_type": "markdown",
   "metadata": {},
   "source": [
    "\\begin{align*}\n",
    "x_i - \\bar{x} \n",
    "&= \\left( \\hat{\\gamma}_0 + \\hat{\\gamma}_1 \\hat{y}_i \\right ) - \\left( \\hat{\\gamma}_0 + \\hat{\\gamma}_1 \\bar{\\hat{y}}\\right ) \\\\\n",
    "&= \\hat{\\gamma}_1(\\hat{y}_i - \\bar{\\hat{y}})\n",
    "\\end{align*}"
   ]
  },
  {
   "cell_type": "markdown",
   "metadata": {},
   "source": [
    "So"
   ]
  },
  {
   "cell_type": "markdown",
   "metadata": {},
   "source": [
    "\\begin{align*}\n",
    "r^2\n",
    "&= \\frac{\\left[\\sum_{i=1}^n (\\hat{y}_i - \\bar{\\hat{y}})(y_i - \\bar{y}) \\right ]^2}{\\left[\\sum_{i=1}^n (\\hat{y}_i - \\bar{\\hat{y}})^2 \\right ] \\left[\\sum_{i=1}^n (y_i - \\bar{y})^2 \\right ]} \\\\\n",
    "&= \\frac{SS_{TY}^2}{SS_T SS_Y}\n",
    "\\end{align*}"
   ]
  },
  {
   "cell_type": "markdown",
   "metadata": {},
   "source": [
    "Therefore, the Pearson correlation between $x$ and $y$ are the same as that between $\\hat{y}$ and $y$."
   ]
  },
  {
   "cell_type": "code",
   "execution_count": null,
   "metadata": {},
   "outputs": [],
   "source": []
  }
 ],
 "metadata": {
  "kernelspec": {
   "display_name": "Python 3 (ipykernel)",
   "language": "python",
   "name": "python3"
  },
  "language_info": {
   "codemirror_mode": {
    "name": "ipython",
    "version": 3
   },
   "file_extension": ".py",
   "mimetype": "text/x-python",
   "name": "python",
   "nbconvert_exporter": "python",
   "pygments_lexer": "ipython3",
   "version": "3.10.7"
  }
 },
 "nbformat": 4,
 "nbformat_minor": 4
}
