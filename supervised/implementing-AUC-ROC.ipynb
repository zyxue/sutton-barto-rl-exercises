{
 "cells": [
  {
   "cell_type": "markdown",
   "metadata": {},
   "source": [
    "In this notebook, we implement AUC ROC (Area Under the Curve of Receiver Operating Characteristic) from scratch."
   ]
  },
  {
   "cell_type": "code",
   "execution_count": 1,
   "metadata": {},
   "outputs": [],
   "source": [
    "import numpy as np\n",
    "import sklearn.datasets\n",
    "import sklearn.model_selection\n",
    "import sklearn.linear_model"
   ]
  },
  {
   "cell_type": "code",
   "execution_count": 2,
   "metadata": {},
   "outputs": [],
   "source": [
    "instances, labels = sklearn.datasets.load_breast_cancer(return_X_y=True, as_frame=True)"
   ]
  },
  {
   "cell_type": "code",
   "execution_count": 3,
   "metadata": {},
   "outputs": [],
   "source": [
    "# using all columns would lead to some odd decoding error, so just pick a few for demo purpose of calculating AUC ROC.\n",
    "instances = instances[\n",
    "    [\n",
    "        \"mean radius\",\n",
    "        \"mean texture\",\n",
    "        \"mean perimeter\",\n",
    "        \"mean area\",\n",
    "    ]\n",
    "]"
   ]
  },
  {
   "cell_type": "code",
   "execution_count": 4,
   "metadata": {},
   "outputs": [],
   "source": [
    "X_train, X_test, y_train, y_test = sklearn.model_selection.train_test_split(\n",
    "    instances, labels, test_size=0.33, random_state=42\n",
    ")"
   ]
  },
  {
   "cell_type": "code",
   "execution_count": 5,
   "metadata": {},
   "outputs": [],
   "source": [
    "model = sklearn.linear_model.LogisticRegression()"
   ]
  },
  {
   "cell_type": "code",
   "execution_count": 6,
   "metadata": {},
   "outputs": [
    {
     "data": {
      "text/plain": [
       "LogisticRegression()"
      ]
     },
     "execution_count": 6,
     "metadata": {},
     "output_type": "execute_result"
    }
   ],
   "source": [
    "model.fit(X_train, y_train)"
   ]
  },
  {
   "cell_type": "code",
   "execution_count": 7,
   "metadata": {},
   "outputs": [],
   "source": [
    "y_pred_prob = model.predict_proba(X_test)[:,1]"
   ]
  },
  {
   "cell_type": "code",
   "execution_count": 8,
   "metadata": {},
   "outputs": [],
   "source": [
    "# will use the sklearn implementation as a reference.\n",
    "area_ref = sklearn.metrics.roc_auc_score(y_test, y_pred_prob)"
   ]
  },
  {
   "cell_type": "code",
   "execution_count": 9,
   "metadata": {},
   "outputs": [
    {
     "data": {
      "text/plain": [
       "0.9839644751449366"
      ]
     },
     "execution_count": 9,
     "metadata": {},
     "output_type": "execute_result"
    }
   ],
   "source": [
    "area_ref"
   ]
  },
  {
   "cell_type": "code",
   "execution_count": 10,
   "metadata": {},
   "outputs": [],
   "source": [
    "def recall(labels: np.ndarray, preds: np.ndarray) -> float:\n",
    "    return len(preds[(preds == 1) & (preds == labels)]) / len(labels[labels == 1])\n",
    "\n",
    "\n",
    "def specificity(labels: np.ndarray, preds: np.ndarray) -> float:\n",
    "    return len(preds[(preds == 0) & (preds == labels)]) / len(labels[labels == 0])"
   ]
  },
  {
   "cell_type": "code",
   "execution_count": 11,
   "metadata": {},
   "outputs": [],
   "source": [
    "def auc_roc_demo(labels: np.ndarray, preds_prob: np.ndarray) -> float:\n",
    "    thresholds = np.sort(np.unique(preds_prob))[::-1]\n",
    "\n",
    "    # Adds a threshold > 1 to cover the case when all predictions are 0.\n",
    "    thresholds = np.concatenate([thresholds, [1.1]])\n",
    "\n",
    "    # tpr: true positive rate; fpr: false positive rate.\n",
    "    tprs, fprs = [], []\n",
    "    for threshold in np.sort(preds_prob)[::-1]:\n",
    "        preds = (preds_prob >= threshold).astype(int)\n",
    "        tpr = recall(labels, preds)\n",
    "        fpr = 1 - specificity(labels, preds)\n",
    "\n",
    "        tprs.append(tpr)\n",
    "        fprs.append(fpr)\n",
    "\n",
    "    tprs = np.array(tprs)\n",
    "    fprs = np.array(fprs)\n",
    "\n",
    "    return ((fprs[1:] - fprs[:-1]) * (tprs[1:] + tprs[:-1]) / 2).sum()"
   ]
  },
  {
   "cell_type": "code",
   "execution_count": 12,
   "metadata": {},
   "outputs": [],
   "source": [
    "area_demo = auc_roc_demo(y_test.to_numpy(), y_pred_prob)"
   ]
  },
  {
   "cell_type": "code",
   "execution_count": 13,
   "metadata": {},
   "outputs": [
    {
     "data": {
      "text/plain": [
       "0.9839644751449366"
      ]
     },
     "execution_count": 13,
     "metadata": {},
     "output_type": "execute_result"
    }
   ],
   "source": [
    "area_demo"
   ]
  },
  {
   "cell_type": "code",
   "execution_count": 14,
   "metadata": {},
   "outputs": [
    {
     "data": {
      "text/plain": [
       "0.0"
      ]
     },
     "execution_count": 14,
     "metadata": {},
     "output_type": "execute_result"
    }
   ],
   "source": [
    "area_demo - area_ref"
   ]
  },
  {
   "cell_type": "markdown",
   "metadata": {},
   "source": [
    "The match well."
   ]
  }
 ],
 "metadata": {
  "kernelspec": {
   "display_name": "Python 3",
   "language": "python",
   "name": "python3"
  },
  "language_info": {
   "codemirror_mode": {
    "name": "ipython",
    "version": 3
   },
   "file_extension": ".py",
   "mimetype": "text/x-python",
   "name": "python",
   "nbconvert_exporter": "python",
   "pygments_lexer": "ipython3",
   "version": "3.8.6"
  }
 },
 "nbformat": 4,
 "nbformat_minor": 4
}
