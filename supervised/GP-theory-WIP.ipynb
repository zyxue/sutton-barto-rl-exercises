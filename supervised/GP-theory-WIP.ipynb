{
 "cells": [
  {
   "cell_type": "markdown",
   "id": "be812b9a",
   "metadata": {},
   "source": [
    "# Theory"
   ]
  },
  {
   "cell_type": "markdown",
   "id": "289ec833",
   "metadata": {},
   "source": [
    "Based on Chapter 2 of https://gaussianprocess.org/gpml/"
   ]
  },
  {
   "cell_type": "markdown",
   "id": "9983b088",
   "metadata": {},
   "source": [
    "A Gaussian process is fully specifed by a mean function and a covariance function:"
   ]
  },
  {
   "cell_type": "markdown",
   "id": "c224e5d9",
   "metadata": {},
   "source": [
    "\\begin{align*}\n",
    "m(\\mathbf{x})\n",
    "&= \\mathbb{E}[f(\\mathbf{x})] \\\\\n",
    "k(\\mathbf{x}, \\mathbf{x'})\n",
    "&= \\mathbb{E}[(f(\\mathbf{x}) - m(\\mathbf{x})) (f(\\mathbf{x}') - m(\\mathbf{x}'))]\n",
    "\\end{align*}"
   ]
  },
  {
   "cell_type": "markdown",
   "id": "e4640242",
   "metadata": {},
   "source": [
    "where, let $D$ be the feature dimension.\n",
    "\n",
    "* $m \\in \\mathbb{R}^D \\rightarrow \\mathbb{R}$ $m$ is the mean function.\n",
    "* $k \\in \\mathbb{R}^D \\times \\mathbb{R}^D \\rightarrow \\mathbb{R}$ is the covariance function (aka. kernel function).\n",
    "* $\\mathbf{x} \\in \\mathbb{R}^D$ is a feature vector.\n",
    "* $f \\in \\mathbb{R}^D \\rightarrow \\mathbb{R}$ is a function that returns a Gaussian random variable. <span style=\"color:red\">Work out what's the definition of $f$ exactly?</span>"
   ]
  },
  {
   "cell_type": "markdown",
   "id": "426fcf47",
   "metadata": {},
   "source": [
    "The Gaussian process can be written as "
   ]
  },
  {
   "cell_type": "markdown",
   "id": "2c92e055",
   "metadata": {},
   "source": [
    "\\begin{align*}\n",
    "f(\\mathbf{x}) \\sim \\mathcal{GP}(m(\\mathbf{x}), k(\\mathbf{x}, \\mathbf{x}'))\n",
    "\\end{align*}"
   ]
  },
  {
   "cell_type": "markdown",
   "id": "b3a60bc1",
   "metadata": {},
   "source": [
    "<span style=\"color:red\">TODO: Use i,j intead of prime</span>"
   ]
  },
  {
   "cell_type": "markdown",
   "id": "95638c5d",
   "metadata": {},
   "source": [
    "Gaussian process is like a infinite-dimension Gaussian distribution."
   ]
  },
  {
   "cell_type": "markdown",
   "id": "e0e99f3d",
   "metadata": {},
   "source": [
    "For notational simplicity, we denote $f_i \\triangleq f(\\mathbf{x}_i)$"
   ]
  },
  {
   "cell_type": "markdown",
   "id": "37faf68c",
   "metadata": {},
   "source": [
    "Let $X$ be the training data, $X_*$ be the test data, we have"
   ]
  },
  {
   "cell_type": "markdown",
   "id": "6f19d752",
   "metadata": {},
   "source": [
    "\\begin{align*}\n",
    "\\begin{bmatrix}\n",
    "\\mathbf{f} \\\\ \n",
    "\\mathbf{f_*}\n",
    "\\end{bmatrix} \\sim \\mathcal{N} \\left( \\mathbf{0}, \\begin{bmatrix}\n",
    "K(X, X) & K(X, X_*) \\\\ \n",
    "K(X_*, X) & K(X_*, X_*) \n",
    "\\end{bmatrix} \\right )\n",
    "\\end{align*}"
   ]
  },
  {
   "cell_type": "markdown",
   "id": "31b0c431",
   "metadata": {},
   "source": [
    "where \n",
    "\n",
    "* $\\mathbf{f} = \\left[f(\\mathbf{x_1}), \\cdots, f(\\mathbf{x_n}) \\right]^T$\n",
    "* $K(X, X) = \\begin{bmatrix}\n",
    "k(\\mathbf{x}_1, \\mathbf{x}_1) & \\cdots & k(\\mathbf{x}_1, \\mathbf{x}_n) \\\\ \n",
    "\\vdots & \\ddots & \\vdots \\\\ \n",
    "k(\\mathbf{x}_n, \\mathbf{x}_1) & \\cdots & k(\\mathbf{x}_n, \\mathbf{x}_n)\n",
    "\\end{bmatrix}$"
   ]
  },
  {
   "cell_type": "markdown",
   "id": "88b34c20",
   "metadata": {},
   "source": [
    "Through Gaussian arithmetic, we get"
   ]
  },
  {
   "cell_type": "markdown",
   "id": "6f7fea82",
   "metadata": {},
   "source": [
    "\\begin{align*}\n",
    "\\mathbf{f}_*|X_*,X,\\mathbf{f} \\sim \\mathcal{N}(A, B)\n",
    "\\end{align*}"
   ]
  },
  {
   "cell_type": "markdown",
   "id": "5f140639",
   "metadata": {},
   "source": [
    "where \n",
    "\n",
    "\\begin{align*}\n",
    "A &= K(X_*, X) K(X, X)^{-1} \\mathbf{f} \\\\\n",
    "B &= K(X_*, X_*) - K(X_*, X) K(X, X)^{-1} K(X, X_*)\n",
    "\\end{align*}"
   ]
  },
  {
   "cell_type": "markdown",
   "id": "3a9b7751",
   "metadata": {},
   "source": [
    "## Considering noise"
   ]
  },
  {
   "cell_type": "markdown",
   "id": "b9362e44",
   "metadata": {},
   "source": [
    "Assuming additive IID. noise $\\epsilon \\sim \\mathcal{N}(0, \\sigma_n^2)$, then"
   ]
  },
  {
   "cell_type": "markdown",
   "id": "89283d4b",
   "metadata": {},
   "source": [
    "$$\\text{cov}(y_i, y_j) = k(\\mathbf{x}_i, \\mathbf{x}_j) + \\sigma_n^2 \\delta_{ij}$$"
   ]
  },
  {
   "cell_type": "markdown",
   "id": "796805d8",
   "metadata": {},
   "source": [
    "where $\\delta_{ij}$ is the Kronecker delta, i.e. $\\delta_{ij} = 1$ iff. i == j, else 0."
   ]
  },
  {
   "cell_type": "markdown",
   "id": "d2add6e5",
   "metadata": {},
   "source": [
    "Equivalently, the covariance matrix can be written as "
   ]
  },
  {
   "cell_type": "markdown",
   "id": "1ca0cbf4",
   "metadata": {},
   "source": [
    "$$\\text{cov}(\\mathbf{y}) = K(X, X) + \\sigma_n^2 I$$"
   ]
  },
  {
   "cell_type": "markdown",
   "id": "00cee721",
   "metadata": {},
   "source": [
    "Then the joint distribution becomes "
   ]
  },
  {
   "cell_type": "markdown",
   "id": "19f8f0e3",
   "metadata": {},
   "source": [
    "\\begin{align*}\n",
    "\\begin{bmatrix}\n",
    "\\mathbf{y} \\\\ \n",
    "\\mathbf{f_*}\n",
    "\\end{bmatrix} \\sim \\mathcal{N} \\left( \\mathbf{0}, \\begin{bmatrix}\n",
    "K(X, X) + \\sigma_n^2 I & K(X, X_*) \\\\ \n",
    "K(X_*, X) & K(X_*, X_*) \n",
    "\\end{bmatrix} \\right )\n",
    "\\end{align*}"
   ]
  },
  {
   "cell_type": "markdown",
   "id": "7664d11f",
   "metadata": {},
   "source": [
    "Similarly, via Gaussian arithmetic, we get"
   ]
  },
  {
   "cell_type": "markdown",
   "id": "216aad44",
   "metadata": {},
   "source": [
    "\\begin{align*}\n",
    "\\mathbf{f}_*|X_*,X,\\mathbf{y} \\sim \\mathcal{N}(A, B)\n",
    "\\end{align*}"
   ]
  },
  {
   "cell_type": "markdown",
   "id": "cb85ed0b",
   "metadata": {},
   "source": [
    "where\n",
    "\n",
    "\\begin{align*}\n",
    "A &= K(X_*, K) \\Big[ K(X, X) + \\sigma_n^2 I \\Big]^{-1} \\mathbf{y} \\\\\n",
    "B &= K(X_*, X_*) - K(X_*, X) \\Big[ K(X, X) + \\sigma_n^2 I \\Big]^{-1} K(X, X_*)\n",
    "\\end{align*}"
   ]
  },
  {
   "cell_type": "markdown",
   "id": "744ce02d",
   "metadata": {},
   "source": [
    "(It's identical to the noiseless version except replacing $K(X, X)$ with $K(X, X) + \\sigma_n^2 I$)"
   ]
  },
  {
   "cell_type": "markdown",
   "id": "0ac60f43",
   "metadata": {},
   "source": [
    "Again, for notational simplicity, we denote \n",
    "\n",
    "\\begin{align*}\n",
    "K &= K(X, X) \\\\\n",
    "K_* &= K(X, X_*) \\\\\n",
    "K_{**} &= K(X_*, X_*)\n",
    "\\end{align*}"
   ]
  },
  {
   "cell_type": "markdown",
   "id": "56a80cdf",
   "metadata": {},
   "source": [
    "then"
   ]
  },
  {
   "cell_type": "markdown",
   "id": "cfbc8fd8",
   "metadata": {},
   "source": [
    "\\begin{align*}\n",
    "A &= K (K+ \\sigma_n^2 I)^{-1} \\mathbf{y} \\\\\n",
    "B &= K_{**} - K_* (K + \\sigma_n^2 I )^{-1} K_*\n",
    "\\end{align*}"
   ]
  },
  {
   "cell_type": "markdown",
   "id": "9a55bdba",
   "metadata": {},
   "source": [
    "Note,\n",
    "\n",
    "* $A$ does not depend on any data in the test set.\n",
    "* $B$ does not depend on any observed $y$."
   ]
  },
  {
   "cell_type": "code",
   "execution_count": null,
   "id": "0e792a9b",
   "metadata": {},
   "outputs": [],
   "source": []
  }
 ],
 "metadata": {
  "kernelspec": {
   "display_name": "Python 3 (ipykernel)",
   "language": "python",
   "name": "python3"
  },
  "language_info": {
   "codemirror_mode": {
    "name": "ipython",
    "version": 3
   },
   "file_extension": ".py",
   "mimetype": "text/x-python",
   "name": "python",
   "nbconvert_exporter": "python",
   "pygments_lexer": "ipython3",
   "version": "3.8.15"
  }
 },
 "nbformat": 4,
 "nbformat_minor": 5
}
