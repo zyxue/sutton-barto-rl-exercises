{
 "cells": [
  {
   "cell_type": "code",
   "execution_count": 37,
   "metadata": {},
   "outputs": [
    {
     "data": {
      "application/javascript": [
       "MathJax.Hub.Config({\n",
       "    TeX: { equationNumbers: { autoNumber: \"AMS\" } }\n",
       "});\n"
      ],
      "text/plain": [
       "<IPython.core.display.Javascript object>"
      ]
     },
     "metadata": {},
     "output_type": "display_data"
    }
   ],
   "source": [
    "%%javascript\n",
    "MathJax.Hub.Config({\n",
    "    TeX: { equationNumbers: { autoNumber: \"AMS\" } }\n",
    "});"
   ]
  },
  {
   "cell_type": "markdown",
   "metadata": {},
   "source": [
    "For two-class problem, the Gini index is defined as "
   ]
  },
  {
   "cell_type": "markdown",
   "metadata": {},
   "source": [
    "$$\n",
    "L_{\\text{gini}} = 2p(1 - p)\n",
    "$$"
   ]
  },
  {
   "cell_type": "markdown",
   "metadata": {},
   "source": [
    "where $p$ is the probability of class 1."
   ]
  },
  {
   "cell_type": "markdown",
   "metadata": {},
   "source": [
    "The entropy is defined as"
   ]
  },
  {
   "cell_type": "markdown",
   "metadata": {},
   "source": [
    "$$\n",
    "L_{\\text{entropy}} = - p \\log p - (1 - p)\\log(1 - p)\n",
    "$$"
   ]
  },
  {
   "cell_type": "markdown",
   "metadata": {},
   "source": [
    "# Visualization"
   ]
  },
  {
   "cell_type": "code",
   "execution_count": 16,
   "metadata": {},
   "outputs": [],
   "source": [
    "import matplotlib.pyplot as plt\n",
    "import numpy as np\n",
    "import pandas as pd\n",
    "\n",
    "%matplotlib inline"
   ]
  },
  {
   "cell_type": "code",
   "execution_count": 38,
   "metadata": {},
   "outputs": [],
   "source": [
    "def gini(p: np.ndarray) -> float:\n",
    "    return 2 * p * (1 - p)\n",
    "\n",
    "def entropy(p: np.ndarray) -> float:\n",
    "    return - p * np.log(p) - (1 - p) * np.log(1 - p)"
   ]
  },
  {
   "cell_type": "code",
   "execution_count": 32,
   "metadata": {},
   "outputs": [],
   "source": [
    "df = pd.DataFrame(np.linspace(1e-6, 1 - 1e-6, 50), columns=[\"prob\"]).assign(\n",
    "    gini=lambda df: gini(df.prob),\n",
    "    entroy=lambda df: entropy(df.prob),\n",
    ")"
   ]
  },
  {
   "cell_type": "code",
   "execution_count": 36,
   "metadata": {},
   "outputs": [
    {
     "data": {
      "text/plain": [
       "[Text(0.5, 0, '$p$'), Text(0, 0.5, 'Loss')]"
      ]
     },
     "execution_count": 36,
     "metadata": {},
     "output_type": "execute_result"
    },
    {
     "data": {
      "image/png": "[encoded data removed]",
      "text/plain": [
       "<Figure size 432x288 with 1 Axes>"
      ]
     },
     "metadata": {
      "needs_background": "light"
     },
     "output_type": "display_data"
    }
   ],
   "source": [
    "fig, ax = plt.subplots(1, 1)\n",
    "\n",
    "ax.plot(df['prob'], df['gini'], label='Gini index')\n",
    "ax.plot(df['prob'], df['entroy'], label='entropy')\n",
    "\n",
    "ax.grid()\n",
    "ax.legend()\n",
    "ax.set(xlabel='$p$', ylabel='Loss')"
   ]
  },
  {
   "cell_type": "markdown",
   "metadata": {},
   "source": [
    "As seen, entropy is always higher than Gini index, not considering when $p \\in \\{0, 1\\}$."
   ]
  },
  {
   "cell_type": "markdown",
   "metadata": {},
   "source": [
    "# Generalization to more than two classes"
   ]
  },
  {
   "cell_type": "markdown",
   "metadata": {},
   "source": [
    "**Gini index for $K$ classes** can be written as"
   ]
  },
  {
   "cell_type": "markdown",
   "metadata": {},
   "source": [
    "\\begin{align}\n",
    "L_{\\text{gini}}\n",
    "&=\\sum_{k=1}^K p_k \\left( \\sum_{\\substack{k'=1 \\\\ k'\\neq k}}^K p_{k'} \\right ) \\\\\n",
    "&=\\sum_{k=1}^K p_k \\left( 1 - p_k \\right ) \\\\\n",
    "&=\\sum_{k=1}^K p_k - p_k^2 \\\\\n",
    "&= 1 - \\sum_{k=1}^K p_k^2 \\\\\n",
    "\\end{align}"
   ]
  },
  {
   "cell_type": "markdown",
   "metadata": {},
   "source": [
    "The Gini index can be interpreted in two ways\n",
    "\n",
    "1. training error rate: if the example if of class $k$ with probability $p_k$, but it's labeled as not $k$ ( $1 - p_k$ ).\n",
    "2. consider that \"the example is of class $k$\" being a random variable, then Gini index is the sum of variance over all $k$.\n",
    "\n",
    "Ref: see Page 310 on https://hastie.su.domains/ElemStatLearn/printings/ESLII_print12_toc.pdf (where entropy is named cross-entropy (by mistake, I suppose))."
   ]
  },
  {
   "cell_type": "markdown",
   "metadata": {},
   "source": [
    "**Entropy for $K$ classes** can be written as"
   ]
  },
  {
   "cell_type": "markdown",
   "metadata": {},
   "source": [
    "\\begin{align*}\n",
    "L_{\\text{entropy}}\n",
    "&= - \\sum_{k=1}^K p_k \\log p_k \\\\\n",
    "\\end{align*}\n"
   ]
  },
  {
   "cell_type": "markdown",
   "metadata": {},
   "source": [
    "Note, *entropy* isn't exactly the same as how *log-likelihood* is defined, the latter uses a label (0 or 1) instead of a probability. See https://github.com/zyxue/sutton-barto-rl-exercises/blob/master/supervised/derive-linear-poisson-and-logistic-regression.ipynb for calculation of log-likelihood when derving logistic regression.\n",
    "\n",
    "\n",
    "(<span style=\"color:red\">TODO: still needs to figure out the diff/relationship between the two</span>)"
   ]
  }
 ],
 "metadata": {
  "kernelspec": {
   "display_name": "Python 3",
   "language": "python",
   "name": "python3"
  },
  "language_info": {
   "codemirror_mode": {
    "name": "ipython",
    "version": 3
   },
   "file_extension": ".py",
   "mimetype": "text/x-python",
   "name": "python",
   "nbconvert_exporter": "python",
   "pygments_lexer": "ipython3",
   "version": "3.8.2"
  }
 },
 "nbformat": 4,
 "nbformat_minor": 2
}
