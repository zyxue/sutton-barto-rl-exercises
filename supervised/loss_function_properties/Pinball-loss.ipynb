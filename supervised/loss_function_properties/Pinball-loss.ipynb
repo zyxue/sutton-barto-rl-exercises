{
 "cells": [
  {
   "cell_type": "code",
   "execution_count": 1,
   "metadata": {},
   "outputs": [
    {
     "data": {
      "application/javascript": [
       "MathJax.Hub.Config({\n",
       "    TeX: { equationNumbers: { autoNumber: \"AMS\" } }\n",
       "});"
      ],
      "text/plain": [
       "<IPython.core.display.Javascript object>"
      ]
     },
     "metadata": {},
     "output_type": "display_data"
    }
   ],
   "source": [
    "run load_libs.py"
   ]
  },
  {
   "cell_type": "markdown",
   "metadata": {},
   "source": [
    "Pinball loss is commonly used in [quantile\n",
    "regression](https://en.wikipedia.org/wiki/Quantile_regression)."
   ]
  },
  {
   "cell_type": "markdown",
   "metadata": {},
   "source": [
    "Definition:\n",
    "\n",
    "\n",
    "\\begin{align}\n",
    "\\mathbb{E}[L_{\\tau}]\n",
    "&= \\iint (t - y(\\mathbf{x})) (\\tau - \\mathbb{I}_{t < y(\\mathbf{x})}) p(\\mathbf{x}, t) d\\mathbf{x} dt\n",
    "\\end{align}"
   ]
  },
  {
   "cell_type": "markdown",
   "metadata": {},
   "source": [
    "To minimize it, we first calculate the derviative wrt. $y(\\mathbf{x})$,"
   ]
  },
  {
   "cell_type": "markdown",
   "metadata": {},
   "source": [
    "\\begin{align}\n",
    "\\frac{\\partial \\mathbb{E}[L_{\\tau}]}{\\partial y(\\mathbf{x})}\n",
    "&= - \\int (\\tau - \\mathbb{I}_{t < y(\\mathbf{x})}) p(\\mathbf{x}, t) dt \\\\\n",
    "&= - \\int_{-\\infty}^{y(\\mathbf{x})} (\\tau - 1) p(\\mathbf{x}, t) dt - \\int_{y(\\mathbf{x})}^{\\infty} \\tau p(\\mathbf{x}, t) dt \\\\\n",
    "&= - \\int_{-\\infty}^{y(\\mathbf{x})} (\\tau - 1) p(t|\\mathbf{x}) p(\\mathbf{x}) dt - \\int_{y(\\mathbf{x})}^{\\infty} \\tau p(t|\\mathbf{x}) p(\\mathbf{x})  dt \\\\\n",
    "\\end{align}"
   ]
  },
  {
   "cell_type": "markdown",
   "metadata": {},
   "source": [
    "then set the derivative to zero,"
   ]
  },
  {
   "cell_type": "markdown",
   "metadata": {},
   "source": [
    "\\begin{align}\n",
    "(\\tau - 1) \\int_{-\\infty}^{y(\\mathbf{x})} p(t|\\mathbf{x}) d\\mathbf{x} + \\tau \\int_{y(\\mathbf{x})}^{\\infty}  p(t|\\mathbf{x}) d\\mathbf{x}\n",
    "&= 0 \\\\\n",
    "(\\tau - 1) F_{t|\\mathbf{x}}(y(\\mathbf{x}))\n",
    "&= - \\tau (1 - F_{t|\\mathbf{x}}(y(\\mathbf{x}))) \\\\\n",
    "F_{t|\\mathbf{x}}(y(\\mathbf{x})) &= \\tau \\\\\n",
    "y(\\mathbf{x}) &= F_{t|\\mathbf{x}}^{-1}(\\tau)\n",
    "\\end{align}"
   ]
  },
  {
   "cell_type": "markdown",
   "metadata": {},
   "source": [
    "Note,\n",
    "\n",
    "* $\\tau \\in [0, 1]$.\n",
    "* $F$ represents a CDF."
   ]
  },
  {
   "cell_type": "markdown",
   "metadata": {},
   "source": [
    "So when minimizing the pinball loss, the model is also trying to predict the\n",
    "conditional $\\tau$-th quantile of $t$ given $\\mathbf{x}$, i.e.\n",
    "$F_{t|\\mathbf{x}}^{-1}(\\tau)$."
   ]
  },
  {
   "cell_type": "markdown",
   "metadata": {},
   "source": [
    "Note, when $\\tau = 0.5$, pinball loss become equilvalent to MAE scaled by 2, and\n",
    "both are trying to predict the conditional median."
   ]
  },
  {
   "cell_type": "markdown",
   "metadata": {},
   "source": [
    "# Visualization"
   ]
  },
  {
   "cell_type": "code",
   "execution_count": 2,
   "metadata": {},
   "outputs": [],
   "source": [
    "def pinball_loss(y, t, tau):\n",
    "    return (t - y) * (tau - (t < y).astype(int))"
   ]
  },
  {
   "cell_type": "code",
   "execution_count": 3,
   "metadata": {},
   "outputs": [
    {
     "data": {
      "text/html": [
       "\n",
       "<div id=\"altair-viz-fbbb5fc92acf44f0891dfe6219b1d7f7\"></div>\n",
       "<script type=\"text/javascript\">\n",
       "  (function(spec, embedOpt){\n",
       "    let outputDiv = document.currentScript.previousElementSibling;\n",
       "    if (outputDiv.id !== \"altair-viz-fbbb5fc92acf44f0891dfe6219b1d7f7\") {\n",
       "      outputDiv = document.getElementById(\"altair-viz-fbbb5fc92acf44f0891dfe6219b1d7f7\");\n",
       "    }\n",
       "    const paths = {\n",
       "      \"vega\": \"https://cdn.jsdelivr.net/npm//vega@5?noext\",\n",
       "      \"vega-lib\": \"https://cdn.jsdelivr.net/npm//vega-lib?noext\",\n",
       "      \"vega-lite\": \"https://cdn.jsdelivr.net/npm//vega-lite@4.8.1?noext\",\n",
       "      \"vega-embed\": \"https://cdn.jsdelivr.net/npm//vega-embed@6?noext\",\n",
       "    };\n",
       "\n",
       "    function loadScript(lib) {\n",
       "      return new Promise(function(resolve, reject) {\n",
       "        var s = document.createElement('script');\n",
       "        s.src = paths[lib];\n",
       "        s.async = true;\n",
       "        s.onload = () => resolve(paths[lib]);\n",
       "        s.onerror = () => reject(`Error loading script: ${paths[lib]}`);\n",
       "        document.getElementsByTagName(\"head\")[0].appendChild(s);\n",
       "      });\n",
       "    }\n",
       "\n",
       "    function showError(err) {\n",
       "      outputDiv.innerHTML = `<div class=\"error\" style=\"color:red;\">${err}</div>`;\n",
       "      throw err;\n",
       "    }\n",
       "\n",
       "    function displayChart(vegaEmbed) {\n",
       "      vegaEmbed(outputDiv, spec, embedOpt)\n",
       "        .catch(err => showError(`Javascript Error: ${err.message}<br>This usually means there's a typo in your chart specification. See the javascript console for the full traceback.`));\n",
       "    }\n",
       "\n",
       "    if(typeof define === \"function\" && define.amd) {\n",
       "      requirejs.config({paths});\n",
       "      require([\"vega-embed\"], displayChart, err => showError(`Error loading script: ${err.message}`));\n",
       "    } else if (typeof vegaEmbed === \"function\") {\n",
       "      displayChart(vegaEmbed);\n",
       "    } else {\n",
       "      loadScript(\"vega\")\n",
       "        .then(() => loadScript(\"vega-lite\"))\n",
       "        .then(() => loadScript(\"vega-embed\"))\n",
       "        .catch(showError)\n",
       "        .then(() => displayChart(vegaEmbed));\n",
       "    }\n",
       "  })({\"config\": {\"view\": {\"continuousWidth\": 400, \"continuousHeight\": 300}}, \"data\": {\"name\": \"data-cd920b13fee8d2cf35abe86e82897f6a\"}, \"mark\": \"line\", \"encoding\": {\"color\": {\"type\": \"ordinal\", \"field\": \"\\u03c4\"}, \"x\": {\"type\": \"quantitative\", \"field\": \"delta\", \"title\": \"\\u0394 = y(x) - t\"}, \"y\": {\"type\": \"quantitative\", \"field\": \"pinball_loss\"}}, \"$schema\": \"https://vega.github.io/schema/vega-lite/v4.8.1.json\", \"datasets\": {\"data-cd920b13fee8d2cf35abe86e82897f6a\": [{\"delta\": -10, \"pinball_loss\": 0.0, \"\\u03c4\": 0.0}, {\"delta\": -9, \"pinball_loss\": 0.0, \"\\u03c4\": 0.0}, {\"delta\": -8, \"pinball_loss\": 0.0, \"\\u03c4\": 0.0}, {\"delta\": -7, \"pinball_loss\": 0.0, \"\\u03c4\": 0.0}, {\"delta\": -6, \"pinball_loss\": 0.0, \"\\u03c4\": 0.0}, {\"delta\": -5, \"pinball_loss\": 0.0, \"\\u03c4\": 0.0}, {\"delta\": -4, \"pinball_loss\": 0.0, \"\\u03c4\": 0.0}, {\"delta\": -3, \"pinball_loss\": 0.0, \"\\u03c4\": 0.0}, {\"delta\": -2, \"pinball_loss\": 0.0, \"\\u03c4\": 0.0}, {\"delta\": -1, \"pinball_loss\": 0.0, \"\\u03c4\": 0.0}, {\"delta\": 0, \"pinball_loss\": 0.0, \"\\u03c4\": 0.0}, {\"delta\": 1, \"pinball_loss\": 1.0, \"\\u03c4\": 0.0}, {\"delta\": 2, \"pinball_loss\": 2.0, \"\\u03c4\": 0.0}, {\"delta\": 3, \"pinball_loss\": 3.0, \"\\u03c4\": 0.0}, {\"delta\": 4, \"pinball_loss\": 4.0, \"\\u03c4\": 0.0}, {\"delta\": 5, \"pinball_loss\": 5.0, \"\\u03c4\": 0.0}, {\"delta\": 6, \"pinball_loss\": 6.0, \"\\u03c4\": 0.0}, {\"delta\": 7, \"pinball_loss\": 7.0, \"\\u03c4\": 0.0}, {\"delta\": 8, \"pinball_loss\": 8.0, \"\\u03c4\": 0.0}, {\"delta\": 9, \"pinball_loss\": 9.0, \"\\u03c4\": 0.0}, {\"delta\": 10, \"pinball_loss\": 10.0, \"\\u03c4\": 0.0}, {\"delta\": -10, \"pinball_loss\": 2.5, \"\\u03c4\": 0.25}, {\"delta\": -9, \"pinball_loss\": 2.25, \"\\u03c4\": 0.25}, {\"delta\": -8, \"pinball_loss\": 2.0, \"\\u03c4\": 0.25}, {\"delta\": -7, \"pinball_loss\": 1.75, \"\\u03c4\": 0.25}, {\"delta\": -6, \"pinball_loss\": 1.5, \"\\u03c4\": 0.25}, {\"delta\": -5, \"pinball_loss\": 1.25, \"\\u03c4\": 0.25}, {\"delta\": -4, \"pinball_loss\": 1.0, \"\\u03c4\": 0.25}, {\"delta\": -3, \"pinball_loss\": 0.75, \"\\u03c4\": 0.25}, {\"delta\": -2, \"pinball_loss\": 0.5, \"\\u03c4\": 0.25}, {\"delta\": -1, \"pinball_loss\": 0.25, \"\\u03c4\": 0.25}, {\"delta\": 0, \"pinball_loss\": 0.0, \"\\u03c4\": 0.25}, {\"delta\": 1, \"pinball_loss\": 0.75, \"\\u03c4\": 0.25}, {\"delta\": 2, \"pinball_loss\": 1.5, \"\\u03c4\": 0.25}, {\"delta\": 3, \"pinball_loss\": 2.25, \"\\u03c4\": 0.25}, {\"delta\": 4, \"pinball_loss\": 3.0, \"\\u03c4\": 0.25}, {\"delta\": 5, \"pinball_loss\": 3.75, \"\\u03c4\": 0.25}, {\"delta\": 6, \"pinball_loss\": 4.5, \"\\u03c4\": 0.25}, {\"delta\": 7, \"pinball_loss\": 5.25, \"\\u03c4\": 0.25}, {\"delta\": 8, \"pinball_loss\": 6.0, \"\\u03c4\": 0.25}, {\"delta\": 9, \"pinball_loss\": 6.75, \"\\u03c4\": 0.25}, {\"delta\": 10, \"pinball_loss\": 7.5, \"\\u03c4\": 0.25}, {\"delta\": -10, \"pinball_loss\": 5.0, \"\\u03c4\": 0.5}, {\"delta\": -9, \"pinball_loss\": 4.5, \"\\u03c4\": 0.5}, {\"delta\": -8, \"pinball_loss\": 4.0, \"\\u03c4\": 0.5}, {\"delta\": -7, \"pinball_loss\": 3.5, \"\\u03c4\": 0.5}, {\"delta\": -6, \"pinball_loss\": 3.0, \"\\u03c4\": 0.5}, {\"delta\": -5, \"pinball_loss\": 2.5, \"\\u03c4\": 0.5}, {\"delta\": -4, \"pinball_loss\": 2.0, \"\\u03c4\": 0.5}, {\"delta\": -3, \"pinball_loss\": 1.5, \"\\u03c4\": 0.5}, {\"delta\": -2, \"pinball_loss\": 1.0, \"\\u03c4\": 0.5}, {\"delta\": -1, \"pinball_loss\": 0.5, \"\\u03c4\": 0.5}, {\"delta\": 0, \"pinball_loss\": 0.0, \"\\u03c4\": 0.5}, {\"delta\": 1, \"pinball_loss\": 0.5, \"\\u03c4\": 0.5}, {\"delta\": 2, \"pinball_loss\": 1.0, \"\\u03c4\": 0.5}, {\"delta\": 3, \"pinball_loss\": 1.5, \"\\u03c4\": 0.5}, {\"delta\": 4, \"pinball_loss\": 2.0, \"\\u03c4\": 0.5}, {\"delta\": 5, \"pinball_loss\": 2.5, \"\\u03c4\": 0.5}, {\"delta\": 6, \"pinball_loss\": 3.0, \"\\u03c4\": 0.5}, {\"delta\": 7, \"pinball_loss\": 3.5, \"\\u03c4\": 0.5}, {\"delta\": 8, \"pinball_loss\": 4.0, \"\\u03c4\": 0.5}, {\"delta\": 9, \"pinball_loss\": 4.5, \"\\u03c4\": 0.5}, {\"delta\": 10, \"pinball_loss\": 5.0, \"\\u03c4\": 0.5}, {\"delta\": -10, \"pinball_loss\": 7.5, \"\\u03c4\": 0.75}, {\"delta\": -9, \"pinball_loss\": 6.75, \"\\u03c4\": 0.75}, {\"delta\": -8, \"pinball_loss\": 6.0, \"\\u03c4\": 0.75}, {\"delta\": -7, \"pinball_loss\": 5.25, \"\\u03c4\": 0.75}, {\"delta\": -6, \"pinball_loss\": 4.5, \"\\u03c4\": 0.75}, {\"delta\": -5, \"pinball_loss\": 3.75, \"\\u03c4\": 0.75}, {\"delta\": -4, \"pinball_loss\": 3.0, \"\\u03c4\": 0.75}, {\"delta\": -3, \"pinball_loss\": 2.25, \"\\u03c4\": 0.75}, {\"delta\": -2, \"pinball_loss\": 1.5, \"\\u03c4\": 0.75}, {\"delta\": -1, \"pinball_loss\": 0.75, \"\\u03c4\": 0.75}, {\"delta\": 0, \"pinball_loss\": 0.0, \"\\u03c4\": 0.75}, {\"delta\": 1, \"pinball_loss\": 0.25, \"\\u03c4\": 0.75}, {\"delta\": 2, \"pinball_loss\": 0.5, \"\\u03c4\": 0.75}, {\"delta\": 3, \"pinball_loss\": 0.75, \"\\u03c4\": 0.75}, {\"delta\": 4, \"pinball_loss\": 1.0, \"\\u03c4\": 0.75}, {\"delta\": 5, \"pinball_loss\": 1.25, \"\\u03c4\": 0.75}, {\"delta\": 6, \"pinball_loss\": 1.5, \"\\u03c4\": 0.75}, {\"delta\": 7, \"pinball_loss\": 1.75, \"\\u03c4\": 0.75}, {\"delta\": 8, \"pinball_loss\": 2.0, \"\\u03c4\": 0.75}, {\"delta\": 9, \"pinball_loss\": 2.25, \"\\u03c4\": 0.75}, {\"delta\": 10, \"pinball_loss\": 2.5, \"\\u03c4\": 0.75}, {\"delta\": -10, \"pinball_loss\": 10.0, \"\\u03c4\": 1.0}, {\"delta\": -9, \"pinball_loss\": 9.0, \"\\u03c4\": 1.0}, {\"delta\": -8, \"pinball_loss\": 8.0, \"\\u03c4\": 1.0}, {\"delta\": -7, \"pinball_loss\": 7.0, \"\\u03c4\": 1.0}, {\"delta\": -6, \"pinball_loss\": 6.0, \"\\u03c4\": 1.0}, {\"delta\": -5, \"pinball_loss\": 5.0, \"\\u03c4\": 1.0}, {\"delta\": -4, \"pinball_loss\": 4.0, \"\\u03c4\": 1.0}, {\"delta\": -3, \"pinball_loss\": 3.0, \"\\u03c4\": 1.0}, {\"delta\": -2, \"pinball_loss\": 2.0, \"\\u03c4\": 1.0}, {\"delta\": -1, \"pinball_loss\": 1.0, \"\\u03c4\": 1.0}, {\"delta\": 0, \"pinball_loss\": 0.0, \"\\u03c4\": 1.0}, {\"delta\": 1, \"pinball_loss\": 0.0, \"\\u03c4\": 1.0}, {\"delta\": 2, \"pinball_loss\": 0.0, \"\\u03c4\": 1.0}, {\"delta\": 3, \"pinball_loss\": 0.0, \"\\u03c4\": 1.0}, {\"delta\": 4, \"pinball_loss\": 0.0, \"\\u03c4\": 1.0}, {\"delta\": 5, \"pinball_loss\": 0.0, \"\\u03c4\": 1.0}, {\"delta\": 6, \"pinball_loss\": 0.0, \"\\u03c4\": 1.0}, {\"delta\": 7, \"pinball_loss\": 0.0, \"\\u03c4\": 1.0}, {\"delta\": 8, \"pinball_loss\": 0.0, \"\\u03c4\": 1.0}, {\"delta\": 9, \"pinball_loss\": 0.0, \"\\u03c4\": 1.0}, {\"delta\": 10, \"pinball_loss\": 0.0, \"\\u03c4\": 1.0}]}}, {\"mode\": \"vega-lite\"});\n",
       "</script>"
      ],
      "text/plain": [
       "alt.Chart(...)"
      ]
     },
     "execution_count": 3,
     "metadata": {},
     "output_type": "execute_result"
    }
   ],
   "source": [
    "dfs = []\n",
    "t = 0\n",
    "ys = np.arange(-10, 11, 1)\n",
    "for tau in [0, 0.25, 0.5, 0.75, 1]:\n",
    "    dfs.append(\n",
    "        pd.DataFrame(\n",
    "            {\n",
    "                \"delta\": ys,\n",
    "                \"pinball_loss\": pinball_loss(ys, t, tau),\n",
    "                \"τ\": tau,\n",
    "            }\n",
    "        )\n",
    "    )\n",
    "ndf = pd.concat(dfs)\n",
    "\n",
    "alt.Chart(ndf).mark_line().encode(\n",
    "    x=alt.X(\"delta\",  title=\"Δ = y(x) - t\"),\n",
    "    y=\"pinball_loss\",\n",
    "    color=\"τ:O\",\n",
    ")"
   ]
  },
  {
   "cell_type": "markdown",
   "metadata": {},
   "source": [
    "Visualize in separate panels"
   ]
  },
  {
   "cell_type": "code",
   "execution_count": 4,
   "metadata": {},
   "outputs": [
    {
     "data": {
      "text/html": [
       "\n",
       "<div id=\"altair-viz-fbbb84d2848349e0975cb2adc81a3664\"></div>\n",
       "<script type=\"text/javascript\">\n",
       "  (function(spec, embedOpt){\n",
       "    let outputDiv = document.currentScript.previousElementSibling;\n",
       "    if (outputDiv.id !== \"altair-viz-fbbb84d2848349e0975cb2adc81a3664\") {\n",
       "      outputDiv = document.getElementById(\"altair-viz-fbbb84d2848349e0975cb2adc81a3664\");\n",
       "    }\n",
       "    const paths = {\n",
       "      \"vega\": \"https://cdn.jsdelivr.net/npm//vega@5?noext\",\n",
       "      \"vega-lib\": \"https://cdn.jsdelivr.net/npm//vega-lib?noext\",\n",
       "      \"vega-lite\": \"https://cdn.jsdelivr.net/npm//vega-lite@4.8.1?noext\",\n",
       "      \"vega-embed\": \"https://cdn.jsdelivr.net/npm//vega-embed@6?noext\",\n",
       "    };\n",
       "\n",
       "    function loadScript(lib) {\n",
       "      return new Promise(function(resolve, reject) {\n",
       "        var s = document.createElement('script');\n",
       "        s.src = paths[lib];\n",
       "        s.async = true;\n",
       "        s.onload = () => resolve(paths[lib]);\n",
       "        s.onerror = () => reject(`Error loading script: ${paths[lib]}`);\n",
       "        document.getElementsByTagName(\"head\")[0].appendChild(s);\n",
       "      });\n",
       "    }\n",
       "\n",
       "    function showError(err) {\n",
       "      outputDiv.innerHTML = `<div class=\"error\" style=\"color:red;\">${err}</div>`;\n",
       "      throw err;\n",
       "    }\n",
       "\n",
       "    function displayChart(vegaEmbed) {\n",
       "      vegaEmbed(outputDiv, spec, embedOpt)\n",
       "        .catch(err => showError(`Javascript Error: ${err.message}<br>This usually means there's a typo in your chart specification. See the javascript console for the full traceback.`));\n",
       "    }\n",
       "\n",
       "    if(typeof define === \"function\" && define.amd) {\n",
       "      requirejs.config({paths});\n",
       "      require([\"vega-embed\"], displayChart, err => showError(`Error loading script: ${err.message}`));\n",
       "    } else if (typeof vegaEmbed === \"function\") {\n",
       "      displayChart(vegaEmbed);\n",
       "    } else {\n",
       "      loadScript(\"vega\")\n",
       "        .then(() => loadScript(\"vega-lite\"))\n",
       "        .then(() => loadScript(\"vega-embed\"))\n",
       "        .catch(showError)\n",
       "        .then(() => displayChart(vegaEmbed));\n",
       "    }\n",
       "  })({\"config\": {\"view\": {\"continuousWidth\": 400, \"continuousHeight\": 300}}, \"data\": {\"name\": \"data-cd920b13fee8d2cf35abe86e82897f6a\"}, \"facet\": {\"type\": \"ordinal\", \"field\": \"\\u03c4\"}, \"spec\": {\"mark\": \"line\", \"encoding\": {\"x\": {\"type\": \"quantitative\", \"field\": \"delta\", \"title\": \"\\u0394 = y(x) - t\"}, \"y\": {\"type\": \"quantitative\", \"field\": \"pinball_loss\"}}, \"height\": 60, \"width\": 120}, \"columns\": 11, \"$schema\": \"https://vega.github.io/schema/vega-lite/v4.8.1.json\", \"datasets\": {\"data-cd920b13fee8d2cf35abe86e82897f6a\": [{\"delta\": -10, \"pinball_loss\": 0.0, \"\\u03c4\": 0.0}, {\"delta\": -9, \"pinball_loss\": 0.0, \"\\u03c4\": 0.0}, {\"delta\": -8, \"pinball_loss\": 0.0, \"\\u03c4\": 0.0}, {\"delta\": -7, \"pinball_loss\": 0.0, \"\\u03c4\": 0.0}, {\"delta\": -6, \"pinball_loss\": 0.0, \"\\u03c4\": 0.0}, {\"delta\": -5, \"pinball_loss\": 0.0, \"\\u03c4\": 0.0}, {\"delta\": -4, \"pinball_loss\": 0.0, \"\\u03c4\": 0.0}, {\"delta\": -3, \"pinball_loss\": 0.0, \"\\u03c4\": 0.0}, {\"delta\": -2, \"pinball_loss\": 0.0, \"\\u03c4\": 0.0}, {\"delta\": -1, \"pinball_loss\": 0.0, \"\\u03c4\": 0.0}, {\"delta\": 0, \"pinball_loss\": 0.0, \"\\u03c4\": 0.0}, {\"delta\": 1, \"pinball_loss\": 1.0, \"\\u03c4\": 0.0}, {\"delta\": 2, \"pinball_loss\": 2.0, \"\\u03c4\": 0.0}, {\"delta\": 3, \"pinball_loss\": 3.0, \"\\u03c4\": 0.0}, {\"delta\": 4, \"pinball_loss\": 4.0, \"\\u03c4\": 0.0}, {\"delta\": 5, \"pinball_loss\": 5.0, \"\\u03c4\": 0.0}, {\"delta\": 6, \"pinball_loss\": 6.0, \"\\u03c4\": 0.0}, {\"delta\": 7, \"pinball_loss\": 7.0, \"\\u03c4\": 0.0}, {\"delta\": 8, \"pinball_loss\": 8.0, \"\\u03c4\": 0.0}, {\"delta\": 9, \"pinball_loss\": 9.0, \"\\u03c4\": 0.0}, {\"delta\": 10, \"pinball_loss\": 10.0, \"\\u03c4\": 0.0}, {\"delta\": -10, \"pinball_loss\": 2.5, \"\\u03c4\": 0.25}, {\"delta\": -9, \"pinball_loss\": 2.25, \"\\u03c4\": 0.25}, {\"delta\": -8, \"pinball_loss\": 2.0, \"\\u03c4\": 0.25}, {\"delta\": -7, \"pinball_loss\": 1.75, \"\\u03c4\": 0.25}, {\"delta\": -6, \"pinball_loss\": 1.5, \"\\u03c4\": 0.25}, {\"delta\": -5, \"pinball_loss\": 1.25, \"\\u03c4\": 0.25}, {\"delta\": -4, \"pinball_loss\": 1.0, \"\\u03c4\": 0.25}, {\"delta\": -3, \"pinball_loss\": 0.75, \"\\u03c4\": 0.25}, {\"delta\": -2, \"pinball_loss\": 0.5, \"\\u03c4\": 0.25}, {\"delta\": -1, \"pinball_loss\": 0.25, \"\\u03c4\": 0.25}, {\"delta\": 0, \"pinball_loss\": 0.0, \"\\u03c4\": 0.25}, {\"delta\": 1, \"pinball_loss\": 0.75, \"\\u03c4\": 0.25}, {\"delta\": 2, \"pinball_loss\": 1.5, \"\\u03c4\": 0.25}, {\"delta\": 3, \"pinball_loss\": 2.25, \"\\u03c4\": 0.25}, {\"delta\": 4, \"pinball_loss\": 3.0, \"\\u03c4\": 0.25}, {\"delta\": 5, \"pinball_loss\": 3.75, \"\\u03c4\": 0.25}, {\"delta\": 6, \"pinball_loss\": 4.5, \"\\u03c4\": 0.25}, {\"delta\": 7, \"pinball_loss\": 5.25, \"\\u03c4\": 0.25}, {\"delta\": 8, \"pinball_loss\": 6.0, \"\\u03c4\": 0.25}, {\"delta\": 9, \"pinball_loss\": 6.75, \"\\u03c4\": 0.25}, {\"delta\": 10, \"pinball_loss\": 7.5, \"\\u03c4\": 0.25}, {\"delta\": -10, \"pinball_loss\": 5.0, \"\\u03c4\": 0.5}, {\"delta\": -9, \"pinball_loss\": 4.5, \"\\u03c4\": 0.5}, {\"delta\": -8, \"pinball_loss\": 4.0, \"\\u03c4\": 0.5}, {\"delta\": -7, \"pinball_loss\": 3.5, \"\\u03c4\": 0.5}, {\"delta\": -6, \"pinball_loss\": 3.0, \"\\u03c4\": 0.5}, {\"delta\": -5, \"pinball_loss\": 2.5, \"\\u03c4\": 0.5}, {\"delta\": -4, \"pinball_loss\": 2.0, \"\\u03c4\": 0.5}, {\"delta\": -3, \"pinball_loss\": 1.5, \"\\u03c4\": 0.5}, {\"delta\": -2, \"pinball_loss\": 1.0, \"\\u03c4\": 0.5}, {\"delta\": -1, \"pinball_loss\": 0.5, \"\\u03c4\": 0.5}, {\"delta\": 0, \"pinball_loss\": 0.0, \"\\u03c4\": 0.5}, {\"delta\": 1, \"pinball_loss\": 0.5, \"\\u03c4\": 0.5}, {\"delta\": 2, \"pinball_loss\": 1.0, \"\\u03c4\": 0.5}, {\"delta\": 3, \"pinball_loss\": 1.5, \"\\u03c4\": 0.5}, {\"delta\": 4, \"pinball_loss\": 2.0, \"\\u03c4\": 0.5}, {\"delta\": 5, \"pinball_loss\": 2.5, \"\\u03c4\": 0.5}, {\"delta\": 6, \"pinball_loss\": 3.0, \"\\u03c4\": 0.5}, {\"delta\": 7, \"pinball_loss\": 3.5, \"\\u03c4\": 0.5}, {\"delta\": 8, \"pinball_loss\": 4.0, \"\\u03c4\": 0.5}, {\"delta\": 9, \"pinball_loss\": 4.5, \"\\u03c4\": 0.5}, {\"delta\": 10, \"pinball_loss\": 5.0, \"\\u03c4\": 0.5}, {\"delta\": -10, \"pinball_loss\": 7.5, \"\\u03c4\": 0.75}, {\"delta\": -9, \"pinball_loss\": 6.75, \"\\u03c4\": 0.75}, {\"delta\": -8, \"pinball_loss\": 6.0, \"\\u03c4\": 0.75}, {\"delta\": -7, \"pinball_loss\": 5.25, \"\\u03c4\": 0.75}, {\"delta\": -6, \"pinball_loss\": 4.5, \"\\u03c4\": 0.75}, {\"delta\": -5, \"pinball_loss\": 3.75, \"\\u03c4\": 0.75}, {\"delta\": -4, \"pinball_loss\": 3.0, \"\\u03c4\": 0.75}, {\"delta\": -3, \"pinball_loss\": 2.25, \"\\u03c4\": 0.75}, {\"delta\": -2, \"pinball_loss\": 1.5, \"\\u03c4\": 0.75}, {\"delta\": -1, \"pinball_loss\": 0.75, \"\\u03c4\": 0.75}, {\"delta\": 0, \"pinball_loss\": 0.0, \"\\u03c4\": 0.75}, {\"delta\": 1, \"pinball_loss\": 0.25, \"\\u03c4\": 0.75}, {\"delta\": 2, \"pinball_loss\": 0.5, \"\\u03c4\": 0.75}, {\"delta\": 3, \"pinball_loss\": 0.75, \"\\u03c4\": 0.75}, {\"delta\": 4, \"pinball_loss\": 1.0, \"\\u03c4\": 0.75}, {\"delta\": 5, \"pinball_loss\": 1.25, \"\\u03c4\": 0.75}, {\"delta\": 6, \"pinball_loss\": 1.5, \"\\u03c4\": 0.75}, {\"delta\": 7, \"pinball_loss\": 1.75, \"\\u03c4\": 0.75}, {\"delta\": 8, \"pinball_loss\": 2.0, \"\\u03c4\": 0.75}, {\"delta\": 9, \"pinball_loss\": 2.25, \"\\u03c4\": 0.75}, {\"delta\": 10, \"pinball_loss\": 2.5, \"\\u03c4\": 0.75}, {\"delta\": -10, \"pinball_loss\": 10.0, \"\\u03c4\": 1.0}, {\"delta\": -9, \"pinball_loss\": 9.0, \"\\u03c4\": 1.0}, {\"delta\": -8, \"pinball_loss\": 8.0, \"\\u03c4\": 1.0}, {\"delta\": -7, \"pinball_loss\": 7.0, \"\\u03c4\": 1.0}, {\"delta\": -6, \"pinball_loss\": 6.0, \"\\u03c4\": 1.0}, {\"delta\": -5, \"pinball_loss\": 5.0, \"\\u03c4\": 1.0}, {\"delta\": -4, \"pinball_loss\": 4.0, \"\\u03c4\": 1.0}, {\"delta\": -3, \"pinball_loss\": 3.0, \"\\u03c4\": 1.0}, {\"delta\": -2, \"pinball_loss\": 2.0, \"\\u03c4\": 1.0}, {\"delta\": -1, \"pinball_loss\": 1.0, \"\\u03c4\": 1.0}, {\"delta\": 0, \"pinball_loss\": 0.0, \"\\u03c4\": 1.0}, {\"delta\": 1, \"pinball_loss\": 0.0, \"\\u03c4\": 1.0}, {\"delta\": 2, \"pinball_loss\": 0.0, \"\\u03c4\": 1.0}, {\"delta\": 3, \"pinball_loss\": 0.0, \"\\u03c4\": 1.0}, {\"delta\": 4, \"pinball_loss\": 0.0, \"\\u03c4\": 1.0}, {\"delta\": 5, \"pinball_loss\": 0.0, \"\\u03c4\": 1.0}, {\"delta\": 6, \"pinball_loss\": 0.0, \"\\u03c4\": 1.0}, {\"delta\": 7, \"pinball_loss\": 0.0, \"\\u03c4\": 1.0}, {\"delta\": 8, \"pinball_loss\": 0.0, \"\\u03c4\": 1.0}, {\"delta\": 9, \"pinball_loss\": 0.0, \"\\u03c4\": 1.0}, {\"delta\": 10, \"pinball_loss\": 0.0, \"\\u03c4\": 1.0}]}}, {\"mode\": \"vega-lite\"});\n",
       "</script>"
      ],
      "text/plain": [
       "alt.FacetChart(...)"
      ]
     },
     "execution_count": 4,
     "metadata": {},
     "output_type": "execute_result"
    }
   ],
   "source": [
    "alt.Chart(ndf).mark_line().encode(\n",
    "    x=alt.X(\"delta\", title=\"Δ = y(x) - t\"),\n",
    "    y=\"pinball_loss\",\n",
    ").properties(width=120, height=60).facet(facet=\"τ:O\", columns=11)"
   ]
  },
  {
   "cell_type": "markdown",
   "metadata": {},
   "source": [
    "The following chart shows the angle between two slopes for different τ values.\n",
    "\n",
    "Note,\n",
    "\n",
    "* when $y(\\mathbf{x}) > t$, the slope is $1 - \\tau$,\n",
    "* when $y(\\mathbf{x}) < t$, the slope is $- \\tau$.\n",
    "\n",
    "So the angle between two slopes is $180 - [(180 - \\arctan(-\\tau)) + \\arctan(1 - \\tau) ]$."
   ]
  },
  {
   "cell_type": "code",
   "execution_count": 5,
   "metadata": {},
   "outputs": [
    {
     "data": {
      "text/html": [
       "\n",
       "<div id=\"altair-viz-723b54c6fa1d495ea287c77d1978fc56\"></div>\n",
       "<script type=\"text/javascript\">\n",
       "  (function(spec, embedOpt){\n",
       "    let outputDiv = document.currentScript.previousElementSibling;\n",
       "    if (outputDiv.id !== \"altair-viz-723b54c6fa1d495ea287c77d1978fc56\") {\n",
       "      outputDiv = document.getElementById(\"altair-viz-723b54c6fa1d495ea287c77d1978fc56\");\n",
       "    }\n",
       "    const paths = {\n",
       "      \"vega\": \"https://cdn.jsdelivr.net/npm//vega@5?noext\",\n",
       "      \"vega-lib\": \"https://cdn.jsdelivr.net/npm//vega-lib?noext\",\n",
       "      \"vega-lite\": \"https://cdn.jsdelivr.net/npm//vega-lite@4.8.1?noext\",\n",
       "      \"vega-embed\": \"https://cdn.jsdelivr.net/npm//vega-embed@6?noext\",\n",
       "    };\n",
       "\n",
       "    function loadScript(lib) {\n",
       "      return new Promise(function(resolve, reject) {\n",
       "        var s = document.createElement('script');\n",
       "        s.src = paths[lib];\n",
       "        s.async = true;\n",
       "        s.onload = () => resolve(paths[lib]);\n",
       "        s.onerror = () => reject(`Error loading script: ${paths[lib]}`);\n",
       "        document.getElementsByTagName(\"head\")[0].appendChild(s);\n",
       "      });\n",
       "    }\n",
       "\n",
       "    function showError(err) {\n",
       "      outputDiv.innerHTML = `<div class=\"error\" style=\"color:red;\">${err}</div>`;\n",
       "      throw err;\n",
       "    }\n",
       "\n",
       "    function displayChart(vegaEmbed) {\n",
       "      vegaEmbed(outputDiv, spec, embedOpt)\n",
       "        .catch(err => showError(`Javascript Error: ${err.message}<br>This usually means there's a typo in your chart specification. See the javascript console for the full traceback.`));\n",
       "    }\n",
       "\n",
       "    if(typeof define === \"function\" && define.amd) {\n",
       "      requirejs.config({paths});\n",
       "      require([\"vega-embed\"], displayChart, err => showError(`Error loading script: ${err.message}`));\n",
       "    } else if (typeof vegaEmbed === \"function\") {\n",
       "      displayChart(vegaEmbed);\n",
       "    } else {\n",
       "      loadScript(\"vega\")\n",
       "        .then(() => loadScript(\"vega-lite\"))\n",
       "        .then(() => loadScript(\"vega-embed\"))\n",
       "        .catch(showError)\n",
       "        .then(() => displayChart(vegaEmbed));\n",
       "    }\n",
       "  })({\"config\": {\"view\": {\"continuousWidth\": 400, \"continuousHeight\": 300}}, \"data\": {\"name\": \"data-31b069905938be68708d51cf07147f44\"}, \"mark\": {\"type\": \"line\", \"point\": true}, \"encoding\": {\"x\": {\"type\": \"quantitative\", \"field\": \"\\u03c4\"}, \"y\": {\"type\": \"quantitative\", \"field\": \"degree\", \"scale\": {\"zero\": false}}}, \"$schema\": \"https://vega.github.io/schema/vega-lite/v4.8.1.json\", \"datasets\": {\"data-31b069905938be68708d51cf07147f44\": [{\"\\u03c4\": 0.0, \"degree\": -45.0}, {\"\\u03c4\": 0.1, \"degree\": -47.69780563331631}, {\"\\u03c4\": 0.2, \"degree\": -49.96974072811031}, {\"\\u03c4\": 0.30000000000000004, \"degree\": -51.69126443255229}, {\"\\u03c4\": 0.4, \"degree\": -52.765166018425305}, {\"\\u03c4\": 0.5, \"degree\": -53.13010235415598}, {\"\\u03c4\": 0.6000000000000001, \"degree\": -52.765166018425305}, {\"\\u03c4\": 0.7000000000000001, \"degree\": -51.69126443255229}, {\"\\u03c4\": 0.8, \"degree\": -49.96974072811031}, {\"\\u03c4\": 0.9, \"degree\": -47.69780563331631}, {\"\\u03c4\": 1.0, \"degree\": -45.0}]}}, {\"mode\": \"vega-lite\"});\n",
       "</script>"
      ],
      "text/plain": [
       "alt.Chart(...)"
      ]
     },
     "execution_count": 5,
     "metadata": {},
     "output_type": "execute_result"
    }
   ],
   "source": [
    "taus = np.arange(0, 1.1, 0.1)\n",
    "\n",
    "def radian2degree(r):\n",
    "    return r / np.pi * 180\n",
    "\n",
    "\n",
    "alt.Chart(\n",
    "    pd.DataFrame(\n",
    "        {\n",
    "            \"τ\": taus,\n",
    "            \"degree\": 180 - radian2degree(np.pi - np.arctan(-taus) + np.arctan(1 - taus)),\n",
    "        }\n",
    "    )\n",
    ").mark_line(point=True).encode(x='τ', y=alt.Y('degree', scale=alt.Scale(zero=False)))"
   ]
  },
  {
   "cell_type": "markdown",
   "metadata": {},
   "source": [
    "The key observation is that the angle between slopes doesn't change in a linear rate as $\\tau$ increases."
   ]
  }
 ],
 "metadata": {
  "kernelspec": {
   "display_name": "Python 3",
   "language": "python",
   "name": "python3"
  },
  "language_info": {
   "codemirror_mode": {
    "name": "ipython",
    "version": 3
   },
   "file_extension": ".py",
   "mimetype": "text/x-python",
   "name": "python",
   "nbconvert_exporter": "python",
   "pygments_lexer": "ipython3",
   "version": "3.8.6"
  }
 },
 "nbformat": 4,
 "nbformat_minor": 4
}
