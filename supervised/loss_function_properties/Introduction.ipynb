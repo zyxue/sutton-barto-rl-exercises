{
 "cells": [
  {
   "cell_type": "markdown",
   "metadata": {},
   "source": [
    "# Introduction"
   ]
  },
  {
   "cell_type": "markdown",
   "metadata": {},
   "source": [
    "The notebooks in this folder analyze different properties of several loss functions commonly used when training machine learning models. For each loss function, we cover\n",
    "\n",
    "1. the predicted statistic when minimzing the loss function\n",
    "1. visualization of the loss function for a single example.\n",
    "1. the maximum-likelihood interpretation of the loss function (TODO)"
   ]
  },
  {
   "cell_type": "markdown",
   "metadata": {},
   "source": [
    "# Symbols"
   ]
  },
  {
   "cell_type": "markdown",
   "metadata": {},
   "source": [
    "For a given example, I'll use\n",
    "\n",
    "* $\\mathbf{x}$ to represent the feature vector\n",
    "* $t$ to represent the label (aka. target)\n",
    "* $y$ or $y(\\mathbf{x})$ to represent the prediction"
   ]
  },
  {
   "cell_type": "markdown",
   "metadata": {},
   "source": [
    "We assume the function $y(\\mathbf{x})$ is completely flexible (\n",
    "[PRML](https://www.microsoft.com/en-us/research/uploads/prod/2006/01/Bishop-Pattern-Recognition-and-Machine-Learning-2006.pdf),\n",
    "Page 46), so that the derivative of the loss function wrt. $y(\\mathbf{x})$\n",
    "exists."
   ]
  },
  {
   "cell_type": "markdown",
   "metadata": {},
   "source": [
    "# Summary (WIP)"
   ]
  },
  {
   "cell_type": "markdown",
   "metadata": {},
   "source": [
    "| Loss function name             | $L(y, t)$                                                     | $\\arg \\min_{y} \\mathbb{E}[L]$ | Conditional distribution | $p(t|\\mathbf{x}, y)$                                                                                  |\n",
    "|--------------------------------|-----------------------------------------------------------------------------|---------------------------------------------------|---------------------------------------|-----------------------------------------------------------------------------------------------------|\n",
    "| Minkowski loss (q=2, aka. MSE) | $ \\left|y - t \\right|^2 $   | Conditional mean: $\\mathbb{E}[t|\\mathbf{x}]$     | Gaussian                              | $\\frac{1}{\\sqrt{2 \\pi \\sigma^2}} \\exp \\left \\{- \\frac{1}{2} \\frac{|t - y|^2}{\\sigma^2} \\right \\}$ |\n",
    "| Minkowski loss (q=1, aka. MAE) | $ \\left|y - t \\right|^1 $   | Conditional median: $F_{t|\\mathbf{x}}^{-1}(0.5)$ | Laplace                             | $\\frac{1}{2 \\sigma} \\exp \\left \\{- \\frac{|t - y|}{\\sigma} \\right \\}$                                      |\n",
    "| Minkowski loss (q=0)           | $ \\lim_{ q\\rightarrow 0} \\left|y - t \\right|^{q} $ | Conditional mode                                 | $?$                                     | $?$                                                                                                   |\n",
    "|Log-loss (aka. cross-entropy loss) | $-\\left[ t \\ln y + (1 - t) \\ln(1 - y) \\right]$ | Conditional mean: $\\mathbb{E}[t|\\mathbf{x}]$ | Bernoulli | $\\exp \\Big \\{ t \\ln y + (1 - t) \\ln (1 - y) \\Big \\}$ |\n",
    "|Poisson loss | $   y - t \\ln y $ | Conditional mean: $\\mathbb{E}[t|\\mathbf{x}]$ | Poisson | $\\exp \\Big \\{ t \\ln y - y - \\ln t! \\Big\\}$ |\n",
    "|Pinball loss | $(t - y) (\\tau - \\mathbb{I}(t < y))$ | Conditional quantile: $F_{t|\\mathbf{x}}^{-1}(\\tau)$ | Asymmetric Laplace | $\\frac{\\tau(1 - \\tau)}{ \\sigma } \\exp \\left\\{ -\\frac{(t - y) (\\tau - \\mathbb{I}(t < y))}{\\sigma} \\right \\}$ |"
   ]
  },
  {
   "cell_type": "code",
   "execution_count": null,
   "metadata": {},
   "outputs": [],
   "source": []
  }
 ],
 "metadata": {
  "kernelspec": {
   "display_name": "Python 3",
   "language": "python",
   "name": "python3"
  },
  "language_info": {
   "codemirror_mode": {
    "name": "ipython",
    "version": 3
   },
   "file_extension": ".py",
   "mimetype": "text/x-python",
   "name": "python",
   "nbconvert_exporter": "python",
   "pygments_lexer": "ipython3",
   "version": "3.8.6"
  }
 },
 "nbformat": 4,
 "nbformat_minor": 4
}
