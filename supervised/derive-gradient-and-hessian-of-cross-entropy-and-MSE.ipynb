{
 "cells": [
  {
   "cell_type": "markdown",
   "metadata": {},
   "source": [
    "# Cross entropy"
   ]
  },
  {
   "cell_type": "markdown",
   "metadata": {},
   "source": [
    "Given logit $t$ and $p$:\n",
    "\n",
    "\\begin{align*}\n",
    "t &= \\ln \\frac{p}{1 - p} \\\\\n",
    "p & = \\frac{e^t}{1 + e^t} \\\\\n",
    "1 - p &= \\frac{1}{1 + e^t}\n",
    "\\end{align*}"
   ]
  },
  {
   "cell_type": "markdown",
   "metadata": {},
   "source": [
    "Cross-entropy:"
   ]
  },
  {
   "cell_type": "markdown",
   "metadata": {},
   "source": [
    "\\begin{align*}\n",
    "L \n",
    "&= - \\Big[ y \\ln p + (1 - y ) \\ln (1 - p) \\Big ] \\\\\n",
    "&= - \\Big[ y (t - \\ln (1 + e^t)) - (1 - y) \\ln (1 + e^t) \\Big] \\\\\n",
    "&= - \\Big[ yt - y \\ln (1 + e^t) - \\ln (1 + e^t) + y \\ln (1 + e^t) \\Big] \\\\\n",
    "&= - \\Big[ yt - \\ln (1 + e^t) \\Big]\n",
    "\\end{align*}"
   ]
  },
  {
   "cell_type": "markdown",
   "metadata": {},
   "source": [
    "Then the gradient:"
   ]
  },
  {
   "cell_type": "markdown",
   "metadata": {},
   "source": [
    "\\begin{align*}\n",
    "\\frac{\\partial L}{ \\partial t} \n",
    "&= -y + \\frac{e^t}{1 + e^t} \\\\\n",
    "&= p - y \\\\\n",
    "\\end{align*}"
   ]
  },
  {
   "cell_type": "markdown",
   "metadata": {},
   "source": [
    "The Hessian:"
   ]
  },
  {
   "cell_type": "markdown",
   "metadata": {},
   "source": [
    "\\begin{align*}\n",
    "\\frac{\\partial^2 L}{ \\partial t^2} \n",
    "&= \\frac{e^t (1 + e^t) - e^t e^t }{(1 + e^t)^2} \\\\\n",
    "&= \\frac{e^t}{(1 + e^t)^2} \\\\\n",
    "&= \\frac{e^t}{1 + e^t} \\frac{1}{1 + e^t} \\\\\n",
    "&= p ( 1 - p) \\\\\n",
    "\\end{align*}"
   ]
  },
  {
   "cell_type": "markdown",
   "metadata": {},
   "source": [
    "The results matches the implementation at https://github.com/microsoft/LightGBM/blob/4971a06668df7eabeb7d4bb1987abb442f2970c9/src/objective/xentropy_objective.hpp#L83-L84, where `t = score`, and `p = z`"
   ]
  },
  {
   "cell_type": "markdown",
   "metadata": {},
   "source": [
    "So the *important conclusion* is that with cross entropy as the objective function in binary classification, the ensemble model is predicting logit."
   ]
  },
  {
   "cell_type": "markdown",
   "metadata": {},
   "source": [
    "### In terms of $t = c + f$, where $c$ is a constant, and $f$ is the new tree to fit,"
   ]
  },
  {
   "cell_type": "markdown",
   "metadata": {},
   "source": [
    "\\begin{align*}\n",
    "L \n",
    "&= - \\Big[ yt - \\ln (1 + e^t) \\Big] \\\\\n",
    "&= - \\Big[ y(c + f) - \\ln \\left(1 + e^{c + f} \\right) \\Big] \\\\\n",
    "\\end{align*}"
   ]
  },
  {
   "cell_type": "markdown",
   "metadata": {},
   "source": [
    "\\begin{align*}\n",
    "\\frac{\\partial L}{\\partial f}\n",
    "&= - y + \\frac{e^{c + f}}{1 + e^{c + f}} \\Big] \\\\\n",
    "\\end{align*}"
   ]
  },
  {
   "cell_type": "markdown",
   "metadata": {},
   "source": [
    "\\begin{align*}\n",
    "\\frac{\\partial^2 L}{\\partial f^2}\n",
    "&= \\frac{e^{c + f}(1 + e^{c + f}) - e^{c + f} e^{c + f}}{(1 + e^{c + f})^2} \\\\\n",
    "&= \\frac{e^{c + f}}{1 + e^{c + f}} \\frac{1}{1 + e^{c + f}} \\\\\n",
    "&= p ( 1 - p) \\\\\n",
    "\\end{align*}"
   ]
  },
  {
   "cell_type": "markdown",
   "metadata": {},
   "source": [
    "# MSE:"
   ]
  },
  {
   "cell_type": "markdown",
   "metadata": {},
   "source": [
    "\\begin{align*}\n",
    "L &= \\frac{1}{2}(t - y)^2 \\\\\n",
    "\\frac{\\partial L}{\\partial t} &= t - y \\\\\n",
    "\\frac{\\partial^2 L}{\\partial t^2} &= 1\n",
    "\\end{align*}\n"
   ]
  },
  {
   "cell_type": "markdown",
   "metadata": {},
   "source": [
    "### In terms of $t = c + f$, where $c$ is a constant, and $f$ is the new tree to fit,"
   ]
  },
  {
   "cell_type": "markdown",
   "metadata": {},
   "source": [
    "\\begin{align*}\n",
    "L &= \\frac{1}{2}(c + f - y)^2 \\\\\n",
    "\\frac{\\partial L}{\\partial f} &= c + f - y\\\\\n",
    "\\frac{\\partial^2 L}{\\partial t^2} &= 1\n",
    "\\end{align*}\n"
   ]
  },
  {
   "cell_type": "markdown",
   "metadata": {},
   "source": [
    "So the derivative wrt. `t` or wrt. `c + f` are identical."
   ]
  },
  {
   "cell_type": "code",
   "execution_count": null,
   "metadata": {},
   "outputs": [],
   "source": []
  }
 ],
 "metadata": {
  "kernelspec": {
   "display_name": "Python 3 (ipykernel)",
   "language": "python",
   "name": "python3"
  },
  "language_info": {
   "codemirror_mode": {
    "name": "ipython",
    "version": 3
   },
   "file_extension": ".py",
   "mimetype": "text/x-python",
   "name": "python",
   "nbconvert_exporter": "python",
   "pygments_lexer": "ipython3",
   "version": "3.8.6"
  }
 },
 "nbformat": 4,
 "nbformat_minor": 4
}
