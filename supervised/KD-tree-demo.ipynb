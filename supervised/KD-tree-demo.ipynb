{
 "cells": [
  {
   "cell_type": "markdown",
   "metadata": {},
   "source": [
    "To implement [KD-Tree algorithm](https://www.cs.cmu.edu/~ckingsf/bioinfo-lectures/kdtrees.pdf) in Python as a demo."
   ]
  },
  {
   "cell_type": "code",
   "execution_count": 1,
   "metadata": {},
   "outputs": [],
   "source": [
    "import numpy as np"
   ]
  },
  {
   "cell_type": "code",
   "execution_count": 2,
   "metadata": {},
   "outputs": [],
   "source": [
    "data = np.array([(30,40), (5,25), (10,12), (70,70), (50,30), (35,45)])\n",
    "# data = np.array([(3, 6), (17, 15), (13, 15), (6, 12), (9, 1), (2, 7), (10, 19)])"
   ]
  },
  {
   "cell_type": "code",
   "execution_count": 3,
   "metadata": {},
   "outputs": [],
   "source": [
    "def init_tree(node):\n",
    "    node = tuple(node)\n",
    "    return {\n",
    "        node: [{}, {}]\n",
    "    }"
   ]
  },
  {
   "cell_type": "code",
   "execution_count": 4,
   "metadata": {},
   "outputs": [],
   "source": [
    "def insert(node, axis, G):\n",
    "    D = len(node)\n",
    "    axis %= D\n",
    "    \n",
    "    node = tuple(node)\n",
    "    \n",
    "    ref_node = list(G.keys())[0] # there should be just one key\n",
    "    if node[axis] < ref_node[axis]:\n",
    "        branch = G[ref_node][0]\n",
    "    else:\n",
    "        branch = G[ref_node][1]\n",
    "\n",
    "    if branch == {}:\n",
    "        branch[node] = [{}, {}]\n",
    "    else:\n",
    "        insert(node, axis + 1, branch)\n",
    "    return G"
   ]
  },
  {
   "cell_type": "code",
   "execution_count": 5,
   "metadata": {},
   "outputs": [
    {
     "name": "stdout",
     "output_type": "stream",
     "text": [
      "{(30, 40): [{}, {}]}\n",
      "{(30, 40): [{(5, 25): [{}, {}]}, {}]}\n",
      "{(30, 40): [{(5, 25): [{(10, 12): [{}, {}]}, {}]}, {}]}\n",
      "{(30, 40): [{(5, 25): [{(10, 12): [{}, {}]}, {}]}, {(70, 70): [{}, {}]}]}\n",
      "{(30, 40): [{(5, 25): [{(10, 12): [{}, {}]}, {}]}, {(70, 70): [{(50, 30): [{}, {}]}, {}]}]}\n",
      "{(30, 40): [{(5, 25): [{(10, 12): [{}, {}]}, {}]}, {(70, 70): [{(50, 30): [{}, {(35, 45): [{}, {}]}]}, {}]}]}\n"
     ]
    }
   ],
   "source": [
    "D = data.shape[1]\n",
    "for k, node in enumerate(data):\n",
    "    if k == 0:\n",
    "        graph = init_tree(node)\n",
    "        print(graph)\n",
    "        continue\n",
    "        \n",
    "    axis = k % D\n",
    "    insert(node, axis, graph)\n",
    "    print(graph)"
   ]
  }
 ],
 "metadata": {
  "kernelspec": {
   "display_name": "Python 3",
   "language": "python",
   "name": "python3"
  },
  "language_info": {
   "codemirror_mode": {
    "name": "ipython",
    "version": 3
   },
   "file_extension": ".py",
   "mimetype": "text/x-python",
   "name": "python",
   "nbconvert_exporter": "python",
   "pygments_lexer": "ipython3",
   "version": "3.7.2"
  }
 },
 "nbformat": 4,
 "nbformat_minor": 2
}
