{
 "cells": [
  {
   "cell_type": "markdown",
   "metadata": {},
   "source": [
    "To implement [KD-Tree algorithm](https://www.cs.cmu.edu/~ckingsf/bioinfo-lectures/kdtrees.pdf) in Python as a demo."
   ]
  },
  {
   "cell_type": "code",
   "execution_count": 1,
   "metadata": {},
   "outputs": [],
   "source": [
    "import numpy as np\n",
    "import matplotlib.pyplot as plt"
   ]
  },
  {
   "cell_type": "code",
   "execution_count": 2,
   "metadata": {},
   "outputs": [],
   "source": [
    "data = np.array([(30,40), (5,25), (10,12), (70,70), (50,30), (35,45)])\n",
    "# data = np.array([(3, 6), (17, 15), (13, 15), (6, 12), (9, 1), (2, 7), (10, 19)])"
   ]
  },
  {
   "cell_type": "code",
   "execution_count": 3,
   "metadata": {},
   "outputs": [],
   "source": [
    "def init_tree(node):\n",
    "    node = tuple(node)\n",
    "    return {\n",
    "        node: [{}, {}]\n",
    "    }"
   ]
  },
  {
   "cell_type": "code",
   "execution_count": 4,
   "metadata": {},
   "outputs": [],
   "source": [
    "def insert(node, axis, G):\n",
    "    D = len(node)\n",
    "    axis %= D\n",
    "    \n",
    "    node = tuple(node)\n",
    "    \n",
    "    ref_node = list(G.keys())[0] # there should be just one key\n",
    "    if node[axis] < ref_node[axis]:\n",
    "        branch = G[ref_node][0]\n",
    "    else:\n",
    "        branch = G[ref_node][1]\n",
    "\n",
    "    if branch == {}:\n",
    "        branch[node] = [{}, {}]\n",
    "    else:\n",
    "        insert(node, axis + 1, branch)\n",
    "    return G"
   ]
  },
  {
   "cell_type": "code",
   "execution_count": 5,
   "metadata": {},
   "outputs": [],
   "source": [
    "def build_kd_tree(data):\n",
    "    D = data.shape[1]\n",
    "    for k, node in enumerate(data):\n",
    "        if k == 0:\n",
    "            graph = init_tree(node)\n",
    "            print(graph)\n",
    "            continue\n",
    "\n",
    "        axis = k % D\n",
    "        insert(node, axis, graph)\n",
    "    return graph"
   ]
  },
  {
   "cell_type": "code",
   "execution_count": 6,
   "metadata": {},
   "outputs": [],
   "source": [
    "def extract_axis(graph, current_axis):\n",
    "    \"\"\"needs rewritten to work together with plotting \n",
    "    so as to know where x/y lim at each level\"\"\"\n",
    "    if graph != {}:\n",
    "        node = list(graph.keys())[0]\n",
    "        yield (node, current_axis)\n",
    "        \n",
    "        D = len(node)\n",
    "        next_axis = (current_axis + 1) % D\n",
    "        for sub_graph in graph[node]:\n",
    "            for i in extract_axis(sub_graph, next_axis):\n",
    "                yield i"
   ]
  },
  {
   "cell_type": "code",
   "execution_count": 7,
   "metadata": {},
   "outputs": [
    {
     "name": "stdout",
     "output_type": "stream",
     "text": [
      "{(30, 40): [{}, {}]}\n"
     ]
    }
   ],
   "source": [
    "graph = build_kd_tree(data)"
   ]
  },
  {
   "cell_type": "code",
   "execution_count": 8,
   "metadata": {},
   "outputs": [
    {
     "data": {
      "text/plain": [
       "(0, 100)"
      ]
     },
     "execution_count": 8,
     "metadata": {},
     "output_type": "execute_result"
    },
    {
     "data": {
      "image/png": "[encoded data removed]",
      "text/plain": [
       "<Figure size 432x432 with 1 Axes>"
      ]
     },
     "metadata": {
      "needs_background": "light"
     },
     "output_type": "display_data"
    }
   ],
   "source": [
    "fig, ax = plt.subplots(1, 1, figsize=(6, 6))\n",
    "for k, i in enumerate(extract_axis(graph, 0)):\n",
    "    node, axis = i\n",
    "    if axis == 0:\n",
    "        ax.plot([node[axis], node[axis]], [-100, 100], color='black')\n",
    "    elif axis == 1:\n",
    "        ax.plot([-100, 100], [node[axis], node[axis]], color='black')\n",
    "    ax.scatter([node[0]], [node[1]], color='black')\n",
    "    ax.text(*node, k)\n",
    "ax.set_xlim(0, 100)\n",
    "ax.set_ylim(0, 100)"
   ]
  },
  {
   "cell_type": "code",
   "execution_count": null,
   "metadata": {},
   "outputs": [],
   "source": []
  }
 ],
 "metadata": {
  "kernelspec": {
   "display_name": "Python 3",
   "language": "python",
   "name": "python3"
  },
  "language_info": {
   "codemirror_mode": {
    "name": "ipython",
    "version": 3
   },
   "file_extension": ".py",
   "mimetype": "text/x-python",
   "name": "python",
   "nbconvert_exporter": "python",
   "pygments_lexer": "ipython3",
   "version": "3.7.2"
  }
 },
 "nbformat": 4,
 "nbformat_minor": 2
}
