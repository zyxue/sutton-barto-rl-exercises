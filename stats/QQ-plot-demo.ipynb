{
 "cells": [
  {
   "cell_type": "code",
   "execution_count": 1,
   "metadata": {},
   "outputs": [],
   "source": [
    "import altair as alt\n",
    "import numpy as np\n",
    "import scipy.stats"
   ]
  },
  {
   "cell_type": "code",
   "execution_count": 2,
   "metadata": {},
   "outputs": [],
   "source": [
    "rng = np.random.default_rng(seed=123)\n",
    "vals = rng.standard_normal(size=100)"
   ]
  },
  {
   "cell_type": "code",
   "execution_count": 3,
   "metadata": {},
   "outputs": [
    {
     "data": {
      "text/plain": [
       "Generator(PCG64) at 0x1287B34A0"
      ]
     },
     "execution_count": 3,
     "metadata": {},
     "output_type": "execute_result"
    }
   ],
   "source": [
    "rng"
   ]
  },
  {
   "cell_type": "code",
   "execution_count": 4,
   "metadata": {},
   "outputs": [],
   "source": [
    "df = (\n",
    "    pd.Series(vals)\n",
    "    .sort_values()\n",
    "    .to_frame(name=\"sample_quantile\")\n",
    "    .assign(\n",
    "        alpha=lambda df: (np.arange(1, len(df) + 1) - 0.5) / len(df),\n",
    "        # calculates theorectical quantiles for Gaussian and uniform\n",
    "        quantile_gaussian=lambda df: scipy.stats.norm(loc=0, scale=1).ppf(\n",
    "            q=df.alpha\n",
    "        ),\n",
    "        quantile_uniform=lambda df: scipy.stats.uniform(\n",
    "            loc=-3, scale=3\n",
    "        ).ppf(q=df.alpha),\n",
    "    )\n",
    ")"
   ]
  },
  {
   "cell_type": "code",
   "execution_count": 5,
   "metadata": {},
   "outputs": [
    {
     "data": {
      "text/html": [
       "<div>\n",
       "<style scoped>\n",
       "    .dataframe tbody tr th:only-of-type {\n",
       "        vertical-align: middle;\n",
       "    }\n",
       "\n",
       "    .dataframe tbody tr th {\n",
       "        vertical-align: top;\n",
       "    }\n",
       "\n",
       "    .dataframe thead th {\n",
       "        text-align: right;\n",
       "    }\n",
       "</style>\n",
       "<table border=\"1\" class=\"dataframe\">\n",
       "  <thead>\n",
       "    <tr style=\"text-align: right;\">\n",
       "      <th></th>\n",
       "      <th>sample_quantile</th>\n",
       "      <th>alpha</th>\n",
       "      <th>quantile_gaussian</th>\n",
       "      <th>quantile_uniform</th>\n",
       "    </tr>\n",
       "  </thead>\n",
       "  <tbody>\n",
       "    <tr>\n",
       "      <th>20</th>\n",
       "      <td>-2.207471</td>\n",
       "      <td>0.005</td>\n",
       "      <td>-2.575829</td>\n",
       "      <td>-2.985</td>\n",
       "    </tr>\n",
       "    <tr>\n",
       "      <th>33</th>\n",
       "      <td>-2.172044</td>\n",
       "      <td>0.015</td>\n",
       "      <td>-2.170090</td>\n",
       "      <td>-2.955</td>\n",
       "    </tr>\n",
       "    <tr>\n",
       "      <th>11</th>\n",
       "      <td>-1.525930</td>\n",
       "      <td>0.025</td>\n",
       "      <td>-1.959964</td>\n",
       "      <td>-2.925</td>\n",
       "    </tr>\n",
       "    <tr>\n",
       "      <th>57</th>\n",
       "      <td>-1.488175</td>\n",
       "      <td>0.035</td>\n",
       "      <td>-1.811911</td>\n",
       "      <td>-2.895</td>\n",
       "    </tr>\n",
       "    <tr>\n",
       "      <th>64</th>\n",
       "      <td>-1.436270</td>\n",
       "      <td>0.045</td>\n",
       "      <td>-1.695398</td>\n",
       "      <td>-2.865</td>\n",
       "    </tr>\n",
       "  </tbody>\n",
       "</table>\n",
       "</div>"
      ],
      "text/plain": [
       "    sample_quantile  alpha  quantile_gaussian  quantile_uniform\n",
       "20        -2.207471  0.005          -2.575829            -2.985\n",
       "33        -2.172044  0.015          -2.170090            -2.955\n",
       "11        -1.525930  0.025          -1.959964            -2.925\n",
       "57        -1.488175  0.035          -1.811911            -2.895\n",
       "64        -1.436270  0.045          -1.695398            -2.865"
      ]
     },
     "execution_count": 5,
     "metadata": {},
     "output_type": "execute_result"
    }
   ],
   "source": [
    "df.head()"
   ]
  },
  {
   "cell_type": "code",
   "execution_count": 6,
   "metadata": {},
   "outputs": [],
   "source": [
    "diagonal_line = alt.Chart(pd.DataFrame([[-3, -3], [3, 3]], columns=['x', 'y'])).mark_line().encode(x='x',y='y')"
   ]
  },
  {
   "cell_type": "code",
   "execution_count": 7,
   "metadata": {},
   "outputs": [
    {
     "data": {
      "text/html": [
       "\n",
       "<div id=\"altair-viz-00e5edaea2794767a00543c752343a91\"></div>\n",
       "<script type=\"text/javascript\">\n",
       "  (function(spec, embedOpt){\n",
       "    let outputDiv = document.currentScript.previousElementSibling;\n",
       "    if (outputDiv.id !== \"altair-viz-00e5edaea2794767a00543c752343a91\") {\n",
       "      outputDiv = document.getElementById(\"altair-viz-00e5edaea2794767a00543c752343a91\");\n",
       "    }\n",
       "    const paths = {\n",
       "      \"vega\": \"https://cdn.jsdelivr.net/npm//vega@5?noext\",\n",
       "      \"vega-lib\": \"https://cdn.jsdelivr.net/npm//vega-lib?noext\",\n",
       "      \"vega-lite\": \"https://cdn.jsdelivr.net/npm//vega-lite@4.8.1?noext\",\n",
       "      \"vega-embed\": \"https://cdn.jsdelivr.net/npm//vega-embed@6?noext\",\n",
       "    };\n",
       "\n",
       "    function loadScript(lib) {\n",
       "      return new Promise(function(resolve, reject) {\n",
       "        var s = document.createElement('script');\n",
       "        s.src = paths[lib];\n",
       "        s.async = true;\n",
       "        s.onload = () => resolve(paths[lib]);\n",
       "        s.onerror = () => reject(`Error loading script: ${paths[lib]}`);\n",
       "        document.getElementsByTagName(\"head\")[0].appendChild(s);\n",
       "      });\n",
       "    }\n",
       "\n",
       "    function showError(err) {\n",
       "      outputDiv.innerHTML = `<div class=\"error\" style=\"color:red;\">${err}</div>`;\n",
       "      throw err;\n",
       "    }\n",
       "\n",
       "    function displayChart(vegaEmbed) {\n",
       "      vegaEmbed(outputDiv, spec, embedOpt)\n",
       "        .catch(err => showError(`Javascript Error: ${err.message}<br>This usually means there's a typo in your chart specification. See the javascript console for the full traceback.`));\n",
       "    }\n",
       "\n",
       "    if(typeof define === \"function\" && define.amd) {\n",
       "      requirejs.config({paths});\n",
       "      require([\"vega-embed\"], displayChart, err => showError(`Error loading script: ${err.message}`));\n",
       "    } else if (typeof vegaEmbed === \"function\") {\n",
       "      displayChart(vegaEmbed);\n",
       "    } else {\n",
       "      loadScript(\"vega\")\n",
       "        .then(() => loadScript(\"vega-lite\"))\n",
       "        .then(() => loadScript(\"vega-embed\"))\n",
       "        .catch(showError)\n",
       "        .then(() => displayChart(vegaEmbed));\n",
       "    }\n",
       "  })({\"config\": {\"view\": {\"continuousWidth\": 400, \"continuousHeight\": 300}}, \"layer\": [{\"data\": {\"name\": \"data-4d6307ad17471bc42cf70060609a0914\"}, \"mark\": \"circle\", \"encoding\": {\"x\": {\"type\": \"quantitative\", \"field\": \"sample_quantile\"}, \"y\": {\"type\": \"quantitative\", \"field\": \"quantile_uniform\"}}}, {\"data\": {\"name\": \"data-4e2ea0f53f1b88a997967f46d810a797\"}, \"mark\": \"line\", \"encoding\": {\"x\": {\"type\": \"quantitative\", \"field\": \"x\"}, \"y\": {\"type\": \"quantitative\", \"field\": \"y\"}}}], \"$schema\": \"https://vega.github.io/schema/vega-lite/v4.8.1.json\", \"datasets\": {\"data-4d6307ad17471bc42cf70060609a0914\": [{\"sample_quantile\": -2.2074710981998042, \"alpha\": 0.005, \"quantile_gaussian\": -2.575829303548901, \"quantile_uniform\": -2.985}, {\"sample_quantile\": -2.1720438866851817, \"alpha\": 0.015, \"quantile_gaussian\": -2.1700903775845606, \"quantile_uniform\": -2.955}, {\"sample_quantile\": -1.5259304065189514, \"alpha\": 0.025, \"quantile_gaussian\": -1.9599639845400545, \"quantile_uniform\": -2.925}, {\"sample_quantile\": -1.4881746132515903, \"alpha\": 0.035, \"quantile_gaussian\": -1.8119106729525978, \"quantile_uniform\": -2.895}, {\"sample_quantile\": -1.4362697490249443, \"alpha\": 0.045, \"quantile_gaussian\": -1.6953977102721358, \"quantile_uniform\": -2.865}, {\"sample_quantile\": -1.2616003169196963, \"alpha\": 0.055, \"quantile_gaussian\": -1.5981931399228175, \"quantile_uniform\": -2.835}, {\"sample_quantile\": -1.230232195490445, \"alpha\": 0.065, \"quantile_gaussian\": -1.5141018876192835, \"quantile_uniform\": -2.805}, {\"sample_quantile\": -1.2223456022065715, \"alpha\": 0.075, \"quantile_gaussian\": -1.4395314709384563, \"quantile_uniform\": -2.775}, {\"sample_quantile\": -1.1736886756801914, \"alpha\": 0.085, \"quantile_gaussian\": -1.372203808998726, \"quantile_uniform\": -2.745}, {\"sample_quantile\": -0.9951313599700441, \"alpha\": 0.095, \"quantile_gaussian\": -1.3105791121681285, \"quantile_uniform\": -2.715}, {\"sample_quantile\": -0.9891213503478509, \"alpha\": 0.105, \"quantile_gaussian\": -1.2535654384704504, \"quantile_uniform\": -2.685}, {\"sample_quantile\": -0.8621605020712843, \"alpha\": 0.115, \"quantile_gaussian\": -1.200358858030859, \"quantile_uniform\": -2.655}, {\"sample_quantile\": -0.7342218924448597, \"alpha\": 0.125, \"quantile_gaussian\": -1.1503493803760079, \"quantile_uniform\": -2.625}, {\"sample_quantile\": -0.718181147880596, \"alpha\": 0.135, \"quantile_gaussian\": -1.1030625561995975, \"quantile_uniform\": -2.5949999999999998}, {\"sample_quantile\": -0.7116950271980323, \"alpha\": 0.145, \"quantile_gaussian\": -1.0581216176847767, \"quantile_uniform\": -2.565}, {\"sample_quantile\": -0.6737591499870575, \"alpha\": 0.155, \"quantile_gaussian\": -1.0152220332170279, \"quantile_uniform\": -2.535}, {\"sample_quantile\": -0.6710896751741096, \"alpha\": 0.165, \"quantile_gaussian\": -0.9741138770593092, \"quantile_uniform\": -2.505}, {\"sample_quantile\": -0.6599694137918207, \"alpha\": 0.175, \"quantile_gaussian\": -0.9345892910734802, \"quantile_uniform\": -2.475}, {\"sample_quantile\": -0.6479652109953393, \"alpha\": 0.185, \"quantile_gaussian\": -0.8964733640019162, \"quantile_uniform\": -2.4450000000000003}, {\"sample_quantile\": -0.6390601004322052, \"alpha\": 0.195, \"quantile_gaussian\": -0.8596173642419115, \"quantile_uniform\": -2.415}, {\"sample_quantile\": -0.6364636463709805, \"alpha\": 0.205, \"quantile_gaussian\": -0.8238936303385574, \"quantile_uniform\": -2.385}, {\"sample_quantile\": -0.620475288234763, \"alpha\": 0.215, \"quantile_gaussian\": -0.7891916526582226, \"quantile_uniform\": -2.355}, {\"sample_quantile\": -0.5834075004641189, \"alpha\": 0.225, \"quantile_gaussian\": -0.7554150263604693, \"quantile_uniform\": -2.325}, {\"sample_quantile\": -0.5586150390437845, \"alpha\": 0.235, \"quantile_gaussian\": -0.7224790519280627, \"quantile_uniform\": -2.295}, {\"sample_quantile\": -0.5430841410126281, \"alpha\": 0.245, \"quantile_gaussian\": -0.6903088239330339, \"quantile_uniform\": -2.265}, {\"sample_quantile\": -0.4997485911335096, \"alpha\": 0.255, \"quantile_gaussian\": -0.6588376927361878, \"quantile_uniform\": -2.235}, {\"sample_quantile\": -0.48156285818994926, \"alpha\": 0.265, \"quantile_gaussian\": -0.6280060144375695, \"quantile_uniform\": -2.205}, {\"sample_quantile\": -0.4606397412389045, \"alpha\": 0.275, \"quantile_gaussian\": -0.5977601260424784, \"quantile_uniform\": -2.175}, {\"sample_quantile\": -0.4384572726157321, \"alpha\": 0.285, \"quantile_gaussian\": -0.5680514983389829, \"quantile_uniform\": -2.145}, {\"sample_quantile\": -0.39278492256994324, \"alpha\": 0.295, \"quantile_gaussian\": -0.5388360302784503, \"quantile_uniform\": -2.115}, {\"sample_quantile\": -0.37014734585231535, \"alpha\": 0.305, \"quantile_gaussian\": -0.5100734569685949, \"quantile_uniform\": -2.085}, {\"sample_quantile\": -0.3677866514678832, \"alpha\": 0.315, \"quantile_gaussian\": -0.4817268495847303, \"quantile_uniform\": -2.0549999999999997}, {\"sample_quantile\": -0.3617668721609232, \"alpha\": 0.325, \"quantile_gaussian\": -0.45376219016987945, \"quantile_uniform\": -2.025}, {\"sample_quantile\": -0.32238911615896015, \"alpha\": 0.335, \"quantile_gaussian\": -0.4261480078412781, \"quantile_uniform\": -1.9949999999999999}, {\"sample_quantile\": -0.3165954511658161, \"alpha\": 0.345, \"quantile_gaussian\": -0.39885506564233686, \"quantile_uniform\": -1.965}, {\"sample_quantile\": -0.31648282932264754, \"alpha\": 0.355, \"quantile_gaussian\": -0.37185608938507475, \"quantile_uniform\": -1.935}, {\"sample_quantile\": -0.31179485646991756, \"alpha\": 0.365, \"quantile_gaussian\": -0.34512553147047237, \"quantile_uniform\": -1.905}, {\"sample_quantile\": -0.30359134030022955, \"alpha\": 0.375, \"quantile_gaussian\": -0.31863936396437514, \"quantile_uniform\": -1.875}, {\"sample_quantile\": -0.29152142609843873, \"alpha\": 0.385, \"quantile_gaussian\": -0.2923748962268042, \"quantile_uniform\": -1.845}, {\"sample_quantile\": -0.28337120662418985, \"alpha\": 0.395, \"quantile_gaussian\": -0.26631061320409494, \"quantile_uniform\": -1.815}, {\"sample_quantile\": -0.2728717697893081, \"alpha\": 0.405, \"quantile_gaussian\": -0.2404260311423079, \"quantile_uniform\": -1.785}, {\"sample_quantile\": -0.24885870743094268, \"alpha\": 0.415, \"quantile_gaussian\": -0.21470156800174456, \"quantile_uniform\": -1.7550000000000001}, {\"sample_quantile\": -0.22650084837917228, \"alpha\": 0.425, \"quantile_gaussian\": -0.18911842627279252, \"quantile_uniform\": -1.725}, {\"sample_quantile\": -0.2116374333746801, \"alpha\": 0.435, \"quantile_gaussian\": -0.16365848623314128, \"quantile_uniform\": -1.695}, {\"sample_quantile\": -0.15647532482940535, \"alpha\": 0.445, \"quantile_gaussian\": -0.13830420796140452, \"quantile_uniform\": -1.665}, {\"sample_quantile\": -0.14875753240949288, \"alpha\": 0.455, \"quantile_gaussian\": -0.1130385406445651, \"quantile_uniform\": -1.635}, {\"sample_quantile\": -0.14597789311522394, \"alpha\": 0.465, \"quantile_gaussian\": -0.08784483789587168, \"quantile_uniform\": -1.605}, {\"sample_quantile\": -0.08134296158935517, \"alpha\": 0.475, \"quantile_gaussian\": -0.06270677794321385, \"quantile_uniform\": -1.5750000000000002}, {\"sample_quantile\": -0.061361327620372906, \"alpha\": 0.485, \"quantile_gaussian\": -0.037608287661255936, \"quantile_uniform\": -1.545}, {\"sample_quantile\": 0.005114312828982818, \"alpha\": 0.495, \"quantile_gaussian\": -0.012533469508069276, \"quantile_uniform\": -1.5150000000000001}, {\"sample_quantile\": 0.028049895585638977, \"alpha\": 0.505, \"quantile_gaussian\": 0.012533469508069276, \"quantile_uniform\": -1.4849999999999999}, {\"sample_quantile\": 0.028272122739737816, \"alpha\": 0.515, \"quantile_gaussian\": 0.037608287661255936, \"quantile_uniform\": -1.455}, {\"sample_quantile\": 0.03260774315697052, \"alpha\": 0.525, \"quantile_gaussian\": 0.06270677794321385, \"quantile_uniform\": -1.4249999999999998}, {\"sample_quantile\": 0.05534586195270899, \"alpha\": 0.535, \"quantile_gaussian\": 0.08784483789587182, \"quantile_uniform\": -1.395}, {\"sample_quantile\": 0.09716731867045719, \"alpha\": 0.545, \"quantile_gaussian\": 0.11303854064456524, \"quantile_uniform\": -1.3649999999999998}, {\"sample_quantile\": 0.09959750192201784, \"alpha\": 0.555, \"quantile_gaussian\": 0.13830420796140466, \"quantile_uniform\": -1.335}, {\"sample_quantile\": 0.12834321228831272, \"alpha\": 0.565, \"quantile_gaussian\": 0.16365848623314114, \"quantile_uniform\": -1.3050000000000002}, {\"sample_quantile\": 0.1363211238531175, \"alpha\": 0.575, \"quantile_gaussian\": 0.18911842627279238, \"quantile_uniform\": -1.2750000000000001}, {\"sample_quantile\": 0.15088803222043407, \"alpha\": 0.585, \"quantile_gaussian\": 0.21470156800174442, \"quantile_uniform\": -1.245}, {\"sample_quantile\": 0.16438006967466792, \"alpha\": 0.595, \"quantile_gaussian\": 0.2404260311423079, \"quantile_uniform\": -1.215}, {\"sample_quantile\": 0.1939744191326132, \"alpha\": 0.605, \"quantile_gaussian\": 0.26631061320409494, \"quantile_uniform\": -1.185}, {\"sample_quantile\": 0.2163068331092121, \"alpha\": 0.615, \"quantile_gaussian\": 0.2923748962268042, \"quantile_uniform\": -1.155}, {\"sample_quantile\": 0.2971717615398513, \"alpha\": 0.625, \"quantile_gaussian\": 0.31863936396437514, \"quantile_uniform\": -1.125}, {\"sample_quantile\": 0.337769126558826, \"alpha\": 0.635, \"quantile_gaussian\": 0.34512553147047237, \"quantile_uniform\": -1.095}, {\"sample_quantile\": 0.36396383157911427, \"alpha\": 0.645, \"quantile_gaussian\": 0.37185608938507475, \"quantile_uniform\": -1.065}, {\"sample_quantile\": 0.39262084457727114, \"alpha\": 0.655, \"quantile_gaussian\": 0.39885506564233686, \"quantile_uniform\": -1.035}, {\"sample_quantile\": 0.42244414146775444, \"alpha\": 0.665, \"quantile_gaussian\": 0.4261480078412783, \"quantile_uniform\": -1.005}, {\"sample_quantile\": 0.43899988755746655, \"alpha\": 0.675, \"quantile_gaussian\": 0.45376219016987956, \"quantile_uniform\": -0.9749999999999996}, {\"sample_quantile\": 0.4811195273342238, \"alpha\": 0.685, \"quantile_gaussian\": 0.48172684958473044, \"quantile_uniform\": -0.9449999999999998}, {\"sample_quantile\": 0.5419522204102933, \"alpha\": 0.695, \"quantile_gaussian\": 0.5100734569685946, \"quantile_uniform\": -0.915}, {\"sample_quantile\": 0.5771037912572513, \"alpha\": 0.705, \"quantile_gaussian\": 0.5388360302784502, \"quantile_uniform\": -0.8850000000000002}, {\"sample_quantile\": 0.7281275578891427, \"alpha\": 0.715, \"quantile_gaussian\": 0.5680514983389827, \"quantile_uniform\": -0.855}, {\"sample_quantile\": 0.7547696443122508, \"alpha\": 0.725, \"quantile_gaussian\": 0.5977601260424784, \"quantile_uniform\": -0.8250000000000002}, {\"sample_quantile\": 0.8132737204208481, \"alpha\": 0.735, \"quantile_gaussian\": 0.6280060144375695, \"quantile_uniform\": -0.7949999999999999}, {\"sample_quantile\": 0.826273507011688, \"alpha\": 0.745, \"quantile_gaussian\": 0.6588376927361878, \"quantile_uniform\": -0.7650000000000001}, {\"sample_quantile\": 0.8279214415587369, \"alpha\": 0.755, \"quantile_gaussian\": 0.6903088239330339, \"quantile_uniform\": -0.7349999999999999}, {\"sample_quantile\": 0.8503222896230244, \"alpha\": 0.765, \"quantile_gaussian\": 0.7224790519280627, \"quantile_uniform\": -0.7050000000000001}, {\"sample_quantile\": 0.8598811846127368, \"alpha\": 0.775, \"quantile_gaussian\": 0.7554150263604693, \"quantile_uniform\": -0.6749999999999998}, {\"sample_quantile\": 0.9202308996398569, \"alpha\": 0.785, \"quantile_gaussian\": 0.7891916526582226, \"quantile_uniform\": -0.645}, {\"sample_quantile\": 0.9529644919745344, \"alpha\": 0.795, \"quantile_gaussian\": 0.8238936303385574, \"quantile_uniform\": -0.6149999999999998}, {\"sample_quantile\": 0.9843763506958761, \"alpha\": 0.805, \"quantile_gaussian\": 0.8596173642419117, \"quantile_uniform\": -0.585}, {\"sample_quantile\": 0.993323775951811, \"alpha\": 0.815, \"quantile_gaussian\": 0.8964733640019161, \"quantile_uniform\": -0.5550000000000002}, {\"sample_quantile\": 1.0002694196594604, \"alpha\": 0.825, \"quantile_gaussian\": 0.93458929107348, \"quantile_uniform\": -0.5250000000000004}, {\"sample_quantile\": 1.0740306219719435, \"alpha\": 0.835, \"quantile_gaussian\": 0.9741138770593092, \"quantile_uniform\": -0.4950000000000001}, {\"sample_quantile\": 1.126806793265028, \"alpha\": 0.845, \"quantile_gaussian\": 1.0152220332170279, \"quantile_uniform\": -0.46499999999999986}, {\"sample_quantile\": 1.1921661041016585, \"alpha\": 0.855, \"quantile_gaussian\": 1.0581216176847767, \"quantile_uniform\": -0.43500000000000005}, {\"sample_quantile\": 1.2262292928211507, \"alpha\": 0.865, \"quantile_gaussian\": 1.1030625561995975, \"quantile_uniform\": -0.40500000000000025}, {\"sample_quantile\": 1.234577597061606, \"alpha\": 0.875, \"quantile_gaussian\": 1.1503493803760079, \"quantile_uniform\": -0.375}, {\"sample_quantile\": 1.2819022270597127, \"alpha\": 0.885, \"quantile_gaussian\": 1.200358858030859, \"quantile_uniform\": -0.34499999999999975}, {\"sample_quantile\": 1.2879252612892487, \"alpha\": 0.895, \"quantile_gaussian\": 1.2535654384704504, \"quantile_uniform\": -0.31499999999999995}, {\"sample_quantile\": 1.3156657065603552, \"alpha\": 0.905, \"quantile_gaussian\": 1.3105791121681285, \"quantile_uniform\": -0.28500000000000014}, {\"sample_quantile\": 1.365108032036919, \"alpha\": 0.915, \"quantile_gaussian\": 1.3722038089987263, \"quantile_uniform\": -0.2549999999999999}, {\"sample_quantile\": 1.4299385266887068, \"alpha\": 0.925, \"quantile_gaussian\": 1.4395314709384563, \"quantile_uniform\": -0.22499999999999964}, {\"sample_quantile\": 1.5195241292412778, \"alpha\": 0.935, \"quantile_gaussian\": 1.514101887619284, \"quantile_uniform\": -0.19499999999999984}, {\"sample_quantile\": 1.5320330796287964, \"alpha\": 0.945, \"quantile_gaussian\": 1.5981931399228175, \"quantile_uniform\": -0.16500000000000004}, {\"sample_quantile\": 1.541630394690618, \"alpha\": 0.955, \"quantile_gaussian\": 1.6953977102721358, \"quantile_uniform\": -0.13500000000000023}, {\"sample_quantile\": 1.6418010137407606, \"alpha\": 0.965, \"quantile_gaussian\": 1.8119106729525973, \"quantile_uniform\": -0.10499999999999998}, {\"sample_quantile\": 1.7039094489490383, \"alpha\": 0.975, \"quantile_gaussian\": 1.959963984540054, \"quantile_uniform\": -0.07500000000000018}, {\"sample_quantile\": 1.761661236511811, \"alpha\": 0.985, \"quantile_gaussian\": 2.17009037758456, \"quantile_uniform\": -0.04499999999999993}, {\"sample_quantile\": 2.2899099473145785, \"alpha\": 0.995, \"quantile_gaussian\": 2.5758293035489004, \"quantile_uniform\": -0.015000000000000124}], \"data-4e2ea0f53f1b88a997967f46d810a797\": [{\"x\": -3, \"y\": -3}, {\"x\": 3, \"y\": 3}]}}, {\"mode\": \"vega-lite\"});\n",
       "</script>"
      ],
      "text/plain": [
       "alt.LayerChart(...)"
      ]
     },
     "execution_count": 7,
     "metadata": {},
     "output_type": "execute_result"
    }
   ],
   "source": [
    "(\n",
    "    alt.Chart(df).mark_circle().encode(x=\"sample_quantile\", y=\"quantile_uniform\")\n",
    "    + diagonal_line\n",
    ")"
   ]
  },
  {
   "cell_type": "code",
   "execution_count": 8,
   "metadata": {},
   "outputs": [
    {
     "data": {
      "text/html": [
       "\n",
       "<div id=\"altair-viz-bf95fdf7d10d4a2eacaaf08d560d9aa3\"></div>\n",
       "<script type=\"text/javascript\">\n",
       "  (function(spec, embedOpt){\n",
       "    let outputDiv = document.currentScript.previousElementSibling;\n",
       "    if (outputDiv.id !== \"altair-viz-bf95fdf7d10d4a2eacaaf08d560d9aa3\") {\n",
       "      outputDiv = document.getElementById(\"altair-viz-bf95fdf7d10d4a2eacaaf08d560d9aa3\");\n",
       "    }\n",
       "    const paths = {\n",
       "      \"vega\": \"https://cdn.jsdelivr.net/npm//vega@5?noext\",\n",
       "      \"vega-lib\": \"https://cdn.jsdelivr.net/npm//vega-lib?noext\",\n",
       "      \"vega-lite\": \"https://cdn.jsdelivr.net/npm//vega-lite@4.8.1?noext\",\n",
       "      \"vega-embed\": \"https://cdn.jsdelivr.net/npm//vega-embed@6?noext\",\n",
       "    };\n",
       "\n",
       "    function loadScript(lib) {\n",
       "      return new Promise(function(resolve, reject) {\n",
       "        var s = document.createElement('script');\n",
       "        s.src = paths[lib];\n",
       "        s.async = true;\n",
       "        s.onload = () => resolve(paths[lib]);\n",
       "        s.onerror = () => reject(`Error loading script: ${paths[lib]}`);\n",
       "        document.getElementsByTagName(\"head\")[0].appendChild(s);\n",
       "      });\n",
       "    }\n",
       "\n",
       "    function showError(err) {\n",
       "      outputDiv.innerHTML = `<div class=\"error\" style=\"color:red;\">${err}</div>`;\n",
       "      throw err;\n",
       "    }\n",
       "\n",
       "    function displayChart(vegaEmbed) {\n",
       "      vegaEmbed(outputDiv, spec, embedOpt)\n",
       "        .catch(err => showError(`Javascript Error: ${err.message}<br>This usually means there's a typo in your chart specification. See the javascript console for the full traceback.`));\n",
       "    }\n",
       "\n",
       "    if(typeof define === \"function\" && define.amd) {\n",
       "      requirejs.config({paths});\n",
       "      require([\"vega-embed\"], displayChart, err => showError(`Error loading script: ${err.message}`));\n",
       "    } else if (typeof vegaEmbed === \"function\") {\n",
       "      displayChart(vegaEmbed);\n",
       "    } else {\n",
       "      loadScript(\"vega\")\n",
       "        .then(() => loadScript(\"vega-lite\"))\n",
       "        .then(() => loadScript(\"vega-embed\"))\n",
       "        .catch(showError)\n",
       "        .then(() => displayChart(vegaEmbed));\n",
       "    }\n",
       "  })({\"config\": {\"view\": {\"continuousWidth\": 400, \"continuousHeight\": 300}}, \"layer\": [{\"data\": {\"name\": \"data-4d6307ad17471bc42cf70060609a0914\"}, \"mark\": \"circle\", \"encoding\": {\"x\": {\"type\": \"quantitative\", \"field\": \"sample_quantile\"}, \"y\": {\"type\": \"quantitative\", \"field\": \"quantile_gaussian\"}}}, {\"data\": {\"name\": \"data-4e2ea0f53f1b88a997967f46d810a797\"}, \"mark\": \"line\", \"encoding\": {\"x\": {\"type\": \"quantitative\", \"field\": \"x\"}, \"y\": {\"type\": \"quantitative\", \"field\": \"y\"}}}], \"$schema\": \"https://vega.github.io/schema/vega-lite/v4.8.1.json\", \"datasets\": {\"data-4d6307ad17471bc42cf70060609a0914\": [{\"sample_quantile\": -2.2074710981998042, \"alpha\": 0.005, \"quantile_gaussian\": -2.575829303548901, \"quantile_uniform\": -2.985}, {\"sample_quantile\": -2.1720438866851817, \"alpha\": 0.015, \"quantile_gaussian\": -2.1700903775845606, \"quantile_uniform\": -2.955}, {\"sample_quantile\": -1.5259304065189514, \"alpha\": 0.025, \"quantile_gaussian\": -1.9599639845400545, \"quantile_uniform\": -2.925}, {\"sample_quantile\": -1.4881746132515903, \"alpha\": 0.035, \"quantile_gaussian\": -1.8119106729525978, \"quantile_uniform\": -2.895}, {\"sample_quantile\": -1.4362697490249443, \"alpha\": 0.045, \"quantile_gaussian\": -1.6953977102721358, \"quantile_uniform\": -2.865}, {\"sample_quantile\": -1.2616003169196963, \"alpha\": 0.055, \"quantile_gaussian\": -1.5981931399228175, \"quantile_uniform\": -2.835}, {\"sample_quantile\": -1.230232195490445, \"alpha\": 0.065, \"quantile_gaussian\": -1.5141018876192835, \"quantile_uniform\": -2.805}, {\"sample_quantile\": -1.2223456022065715, \"alpha\": 0.075, \"quantile_gaussian\": -1.4395314709384563, \"quantile_uniform\": -2.775}, {\"sample_quantile\": -1.1736886756801914, \"alpha\": 0.085, \"quantile_gaussian\": -1.372203808998726, \"quantile_uniform\": -2.745}, {\"sample_quantile\": -0.9951313599700441, \"alpha\": 0.095, \"quantile_gaussian\": -1.3105791121681285, \"quantile_uniform\": -2.715}, {\"sample_quantile\": -0.9891213503478509, \"alpha\": 0.105, \"quantile_gaussian\": -1.2535654384704504, \"quantile_uniform\": -2.685}, {\"sample_quantile\": -0.8621605020712843, \"alpha\": 0.115, \"quantile_gaussian\": -1.200358858030859, \"quantile_uniform\": -2.655}, {\"sample_quantile\": -0.7342218924448597, \"alpha\": 0.125, \"quantile_gaussian\": -1.1503493803760079, \"quantile_uniform\": -2.625}, {\"sample_quantile\": -0.718181147880596, \"alpha\": 0.135, \"quantile_gaussian\": -1.1030625561995975, \"quantile_uniform\": -2.5949999999999998}, {\"sample_quantile\": -0.7116950271980323, \"alpha\": 0.145, \"quantile_gaussian\": -1.0581216176847767, \"quantile_uniform\": -2.565}, {\"sample_quantile\": -0.6737591499870575, \"alpha\": 0.155, \"quantile_gaussian\": -1.0152220332170279, \"quantile_uniform\": -2.535}, {\"sample_quantile\": -0.6710896751741096, \"alpha\": 0.165, \"quantile_gaussian\": -0.9741138770593092, \"quantile_uniform\": -2.505}, {\"sample_quantile\": -0.6599694137918207, \"alpha\": 0.175, \"quantile_gaussian\": -0.9345892910734802, \"quantile_uniform\": -2.475}, {\"sample_quantile\": -0.6479652109953393, \"alpha\": 0.185, \"quantile_gaussian\": -0.8964733640019162, \"quantile_uniform\": -2.4450000000000003}, {\"sample_quantile\": -0.6390601004322052, \"alpha\": 0.195, \"quantile_gaussian\": -0.8596173642419115, \"quantile_uniform\": -2.415}, {\"sample_quantile\": -0.6364636463709805, \"alpha\": 0.205, \"quantile_gaussian\": -0.8238936303385574, \"quantile_uniform\": -2.385}, {\"sample_quantile\": -0.620475288234763, \"alpha\": 0.215, \"quantile_gaussian\": -0.7891916526582226, \"quantile_uniform\": -2.355}, {\"sample_quantile\": -0.5834075004641189, \"alpha\": 0.225, \"quantile_gaussian\": -0.7554150263604693, \"quantile_uniform\": -2.325}, {\"sample_quantile\": -0.5586150390437845, \"alpha\": 0.235, \"quantile_gaussian\": -0.7224790519280627, \"quantile_uniform\": -2.295}, {\"sample_quantile\": -0.5430841410126281, \"alpha\": 0.245, \"quantile_gaussian\": -0.6903088239330339, \"quantile_uniform\": -2.265}, {\"sample_quantile\": -0.4997485911335096, \"alpha\": 0.255, \"quantile_gaussian\": -0.6588376927361878, \"quantile_uniform\": -2.235}, {\"sample_quantile\": -0.48156285818994926, \"alpha\": 0.265, \"quantile_gaussian\": -0.6280060144375695, \"quantile_uniform\": -2.205}, {\"sample_quantile\": -0.4606397412389045, \"alpha\": 0.275, \"quantile_gaussian\": -0.5977601260424784, \"quantile_uniform\": -2.175}, {\"sample_quantile\": -0.4384572726157321, \"alpha\": 0.285, \"quantile_gaussian\": -0.5680514983389829, \"quantile_uniform\": -2.145}, {\"sample_quantile\": -0.39278492256994324, \"alpha\": 0.295, \"quantile_gaussian\": -0.5388360302784503, \"quantile_uniform\": -2.115}, {\"sample_quantile\": -0.37014734585231535, \"alpha\": 0.305, \"quantile_gaussian\": -0.5100734569685949, \"quantile_uniform\": -2.085}, {\"sample_quantile\": -0.3677866514678832, \"alpha\": 0.315, \"quantile_gaussian\": -0.4817268495847303, \"quantile_uniform\": -2.0549999999999997}, {\"sample_quantile\": -0.3617668721609232, \"alpha\": 0.325, \"quantile_gaussian\": -0.45376219016987945, \"quantile_uniform\": -2.025}, {\"sample_quantile\": -0.32238911615896015, \"alpha\": 0.335, \"quantile_gaussian\": -0.4261480078412781, \"quantile_uniform\": -1.9949999999999999}, {\"sample_quantile\": -0.3165954511658161, \"alpha\": 0.345, \"quantile_gaussian\": -0.39885506564233686, \"quantile_uniform\": -1.965}, {\"sample_quantile\": -0.31648282932264754, \"alpha\": 0.355, \"quantile_gaussian\": -0.37185608938507475, \"quantile_uniform\": -1.935}, {\"sample_quantile\": -0.31179485646991756, \"alpha\": 0.365, \"quantile_gaussian\": -0.34512553147047237, \"quantile_uniform\": -1.905}, {\"sample_quantile\": -0.30359134030022955, \"alpha\": 0.375, \"quantile_gaussian\": -0.31863936396437514, \"quantile_uniform\": -1.875}, {\"sample_quantile\": -0.29152142609843873, \"alpha\": 0.385, \"quantile_gaussian\": -0.2923748962268042, \"quantile_uniform\": -1.845}, {\"sample_quantile\": -0.28337120662418985, \"alpha\": 0.395, \"quantile_gaussian\": -0.26631061320409494, \"quantile_uniform\": -1.815}, {\"sample_quantile\": -0.2728717697893081, \"alpha\": 0.405, \"quantile_gaussian\": -0.2404260311423079, \"quantile_uniform\": -1.785}, {\"sample_quantile\": -0.24885870743094268, \"alpha\": 0.415, \"quantile_gaussian\": -0.21470156800174456, \"quantile_uniform\": -1.7550000000000001}, {\"sample_quantile\": -0.22650084837917228, \"alpha\": 0.425, \"quantile_gaussian\": -0.18911842627279252, \"quantile_uniform\": -1.725}, {\"sample_quantile\": -0.2116374333746801, \"alpha\": 0.435, \"quantile_gaussian\": -0.16365848623314128, \"quantile_uniform\": -1.695}, {\"sample_quantile\": -0.15647532482940535, \"alpha\": 0.445, \"quantile_gaussian\": -0.13830420796140452, \"quantile_uniform\": -1.665}, {\"sample_quantile\": -0.14875753240949288, \"alpha\": 0.455, \"quantile_gaussian\": -0.1130385406445651, \"quantile_uniform\": -1.635}, {\"sample_quantile\": -0.14597789311522394, \"alpha\": 0.465, \"quantile_gaussian\": -0.08784483789587168, \"quantile_uniform\": -1.605}, {\"sample_quantile\": -0.08134296158935517, \"alpha\": 0.475, \"quantile_gaussian\": -0.06270677794321385, \"quantile_uniform\": -1.5750000000000002}, {\"sample_quantile\": -0.061361327620372906, \"alpha\": 0.485, \"quantile_gaussian\": -0.037608287661255936, \"quantile_uniform\": -1.545}, {\"sample_quantile\": 0.005114312828982818, \"alpha\": 0.495, \"quantile_gaussian\": -0.012533469508069276, \"quantile_uniform\": -1.5150000000000001}, {\"sample_quantile\": 0.028049895585638977, \"alpha\": 0.505, \"quantile_gaussian\": 0.012533469508069276, \"quantile_uniform\": -1.4849999999999999}, {\"sample_quantile\": 0.028272122739737816, \"alpha\": 0.515, \"quantile_gaussian\": 0.037608287661255936, \"quantile_uniform\": -1.455}, {\"sample_quantile\": 0.03260774315697052, \"alpha\": 0.525, \"quantile_gaussian\": 0.06270677794321385, \"quantile_uniform\": -1.4249999999999998}, {\"sample_quantile\": 0.05534586195270899, \"alpha\": 0.535, \"quantile_gaussian\": 0.08784483789587182, \"quantile_uniform\": -1.395}, {\"sample_quantile\": 0.09716731867045719, \"alpha\": 0.545, \"quantile_gaussian\": 0.11303854064456524, \"quantile_uniform\": -1.3649999999999998}, {\"sample_quantile\": 0.09959750192201784, \"alpha\": 0.555, \"quantile_gaussian\": 0.13830420796140466, \"quantile_uniform\": -1.335}, {\"sample_quantile\": 0.12834321228831272, \"alpha\": 0.565, \"quantile_gaussian\": 0.16365848623314114, \"quantile_uniform\": -1.3050000000000002}, {\"sample_quantile\": 0.1363211238531175, \"alpha\": 0.575, \"quantile_gaussian\": 0.18911842627279238, \"quantile_uniform\": -1.2750000000000001}, {\"sample_quantile\": 0.15088803222043407, \"alpha\": 0.585, \"quantile_gaussian\": 0.21470156800174442, \"quantile_uniform\": -1.245}, {\"sample_quantile\": 0.16438006967466792, \"alpha\": 0.595, \"quantile_gaussian\": 0.2404260311423079, \"quantile_uniform\": -1.215}, {\"sample_quantile\": 0.1939744191326132, \"alpha\": 0.605, \"quantile_gaussian\": 0.26631061320409494, \"quantile_uniform\": -1.185}, {\"sample_quantile\": 0.2163068331092121, \"alpha\": 0.615, \"quantile_gaussian\": 0.2923748962268042, \"quantile_uniform\": -1.155}, {\"sample_quantile\": 0.2971717615398513, \"alpha\": 0.625, \"quantile_gaussian\": 0.31863936396437514, \"quantile_uniform\": -1.125}, {\"sample_quantile\": 0.337769126558826, \"alpha\": 0.635, \"quantile_gaussian\": 0.34512553147047237, \"quantile_uniform\": -1.095}, {\"sample_quantile\": 0.36396383157911427, \"alpha\": 0.645, \"quantile_gaussian\": 0.37185608938507475, \"quantile_uniform\": -1.065}, {\"sample_quantile\": 0.39262084457727114, \"alpha\": 0.655, \"quantile_gaussian\": 0.39885506564233686, \"quantile_uniform\": -1.035}, {\"sample_quantile\": 0.42244414146775444, \"alpha\": 0.665, \"quantile_gaussian\": 0.4261480078412783, \"quantile_uniform\": -1.005}, {\"sample_quantile\": 0.43899988755746655, \"alpha\": 0.675, \"quantile_gaussian\": 0.45376219016987956, \"quantile_uniform\": -0.9749999999999996}, {\"sample_quantile\": 0.4811195273342238, \"alpha\": 0.685, \"quantile_gaussian\": 0.48172684958473044, \"quantile_uniform\": -0.9449999999999998}, {\"sample_quantile\": 0.5419522204102933, \"alpha\": 0.695, \"quantile_gaussian\": 0.5100734569685946, \"quantile_uniform\": -0.915}, {\"sample_quantile\": 0.5771037912572513, \"alpha\": 0.705, \"quantile_gaussian\": 0.5388360302784502, \"quantile_uniform\": -0.8850000000000002}, {\"sample_quantile\": 0.7281275578891427, \"alpha\": 0.715, \"quantile_gaussian\": 0.5680514983389827, \"quantile_uniform\": -0.855}, {\"sample_quantile\": 0.7547696443122508, \"alpha\": 0.725, \"quantile_gaussian\": 0.5977601260424784, \"quantile_uniform\": -0.8250000000000002}, {\"sample_quantile\": 0.8132737204208481, \"alpha\": 0.735, \"quantile_gaussian\": 0.6280060144375695, \"quantile_uniform\": -0.7949999999999999}, {\"sample_quantile\": 0.826273507011688, \"alpha\": 0.745, \"quantile_gaussian\": 0.6588376927361878, \"quantile_uniform\": -0.7650000000000001}, {\"sample_quantile\": 0.8279214415587369, \"alpha\": 0.755, \"quantile_gaussian\": 0.6903088239330339, \"quantile_uniform\": -0.7349999999999999}, {\"sample_quantile\": 0.8503222896230244, \"alpha\": 0.765, \"quantile_gaussian\": 0.7224790519280627, \"quantile_uniform\": -0.7050000000000001}, {\"sample_quantile\": 0.8598811846127368, \"alpha\": 0.775, \"quantile_gaussian\": 0.7554150263604693, \"quantile_uniform\": -0.6749999999999998}, {\"sample_quantile\": 0.9202308996398569, \"alpha\": 0.785, \"quantile_gaussian\": 0.7891916526582226, \"quantile_uniform\": -0.645}, {\"sample_quantile\": 0.9529644919745344, \"alpha\": 0.795, \"quantile_gaussian\": 0.8238936303385574, \"quantile_uniform\": -0.6149999999999998}, {\"sample_quantile\": 0.9843763506958761, \"alpha\": 0.805, \"quantile_gaussian\": 0.8596173642419117, \"quantile_uniform\": -0.585}, {\"sample_quantile\": 0.993323775951811, \"alpha\": 0.815, \"quantile_gaussian\": 0.8964733640019161, \"quantile_uniform\": -0.5550000000000002}, {\"sample_quantile\": 1.0002694196594604, \"alpha\": 0.825, \"quantile_gaussian\": 0.93458929107348, \"quantile_uniform\": -0.5250000000000004}, {\"sample_quantile\": 1.0740306219719435, \"alpha\": 0.835, \"quantile_gaussian\": 0.9741138770593092, \"quantile_uniform\": -0.4950000000000001}, {\"sample_quantile\": 1.126806793265028, \"alpha\": 0.845, \"quantile_gaussian\": 1.0152220332170279, \"quantile_uniform\": -0.46499999999999986}, {\"sample_quantile\": 1.1921661041016585, \"alpha\": 0.855, \"quantile_gaussian\": 1.0581216176847767, \"quantile_uniform\": -0.43500000000000005}, {\"sample_quantile\": 1.2262292928211507, \"alpha\": 0.865, \"quantile_gaussian\": 1.1030625561995975, \"quantile_uniform\": -0.40500000000000025}, {\"sample_quantile\": 1.234577597061606, \"alpha\": 0.875, \"quantile_gaussian\": 1.1503493803760079, \"quantile_uniform\": -0.375}, {\"sample_quantile\": 1.2819022270597127, \"alpha\": 0.885, \"quantile_gaussian\": 1.200358858030859, \"quantile_uniform\": -0.34499999999999975}, {\"sample_quantile\": 1.2879252612892487, \"alpha\": 0.895, \"quantile_gaussian\": 1.2535654384704504, \"quantile_uniform\": -0.31499999999999995}, {\"sample_quantile\": 1.3156657065603552, \"alpha\": 0.905, \"quantile_gaussian\": 1.3105791121681285, \"quantile_uniform\": -0.28500000000000014}, {\"sample_quantile\": 1.365108032036919, \"alpha\": 0.915, \"quantile_gaussian\": 1.3722038089987263, \"quantile_uniform\": -0.2549999999999999}, {\"sample_quantile\": 1.4299385266887068, \"alpha\": 0.925, \"quantile_gaussian\": 1.4395314709384563, \"quantile_uniform\": -0.22499999999999964}, {\"sample_quantile\": 1.5195241292412778, \"alpha\": 0.935, \"quantile_gaussian\": 1.514101887619284, \"quantile_uniform\": -0.19499999999999984}, {\"sample_quantile\": 1.5320330796287964, \"alpha\": 0.945, \"quantile_gaussian\": 1.5981931399228175, \"quantile_uniform\": -0.16500000000000004}, {\"sample_quantile\": 1.541630394690618, \"alpha\": 0.955, \"quantile_gaussian\": 1.6953977102721358, \"quantile_uniform\": -0.13500000000000023}, {\"sample_quantile\": 1.6418010137407606, \"alpha\": 0.965, \"quantile_gaussian\": 1.8119106729525973, \"quantile_uniform\": -0.10499999999999998}, {\"sample_quantile\": 1.7039094489490383, \"alpha\": 0.975, \"quantile_gaussian\": 1.959963984540054, \"quantile_uniform\": -0.07500000000000018}, {\"sample_quantile\": 1.761661236511811, \"alpha\": 0.985, \"quantile_gaussian\": 2.17009037758456, \"quantile_uniform\": -0.04499999999999993}, {\"sample_quantile\": 2.2899099473145785, \"alpha\": 0.995, \"quantile_gaussian\": 2.5758293035489004, \"quantile_uniform\": -0.015000000000000124}], \"data-4e2ea0f53f1b88a997967f46d810a797\": [{\"x\": -3, \"y\": -3}, {\"x\": 3, \"y\": 3}]}}, {\"mode\": \"vega-lite\"});\n",
       "</script>"
      ],
      "text/plain": [
       "alt.LayerChart(...)"
      ]
     },
     "execution_count": 8,
     "metadata": {},
     "output_type": "execute_result"
    }
   ],
   "source": [
    "(\n",
    "    alt.Chart(df).mark_circle().encode(x=\"sample_quantile\", y=\"quantile_gaussian\")\n",
    "    + diagonal_line\n",
    ")"
   ]
  },
  {
   "cell_type": "markdown",
   "metadata": {},
   "source": [
    "As seen, the sample quantiles match the theoretical Gaussian quantiles much better, which is totally expected as the sample quantiles are calculated from a sample of standard normal random variables."
   ]
  },
  {
   "cell_type": "code",
   "execution_count": null,
   "metadata": {},
   "outputs": [],
   "source": []
  }
 ],
 "metadata": {
  "kernelspec": {
   "display_name": "Python 3",
   "language": "python",
   "name": "python3"
  },
  "language_info": {
   "codemirror_mode": {
    "name": "ipython",
    "version": 3
   },
   "file_extension": ".py",
   "mimetype": "text/x-python",
   "name": "python",
   "nbconvert_exporter": "python",
   "pygments_lexer": "ipython3",
   "version": "3.8.6"
  }
 },
 "nbformat": 4,
 "nbformat_minor": 4
}
