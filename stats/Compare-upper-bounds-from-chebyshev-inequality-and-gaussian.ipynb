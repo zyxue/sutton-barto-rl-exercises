{
 "cells": [
  {
   "cell_type": "code",
   "execution_count": 2,
   "metadata": {},
   "outputs": [],
   "source": [
    "import altair as alt\n",
    "import numpy as np\n",
    "\n",
    "np.random.seed(0)"
   ]
  },
  {
   "cell_type": "markdown",
   "metadata": {},
   "source": [
    "Suppose $X \\sim \\mathcal{N}(0, 1)$, from Chebyshev's inequality, we have "
   ]
  },
  {
   "cell_type": "markdown",
   "metadata": {},
   "source": [
    "\\begin{equation}\n",
    "\\mathbb{P}\\left( |X| \\gt t \\right) \\le \\frac{1}{t^2}\n",
    "\\end{equation}"
   ]
  },
  {
   "cell_type": "markdown",
   "metadata": {},
   "source": [
    "Leveraging the pdf of $\\mathcal{N}(0, 1)$ directly, we can obtain"
   ]
  },
  {
   "cell_type": "markdown",
   "metadata": {},
   "source": [
    "\\begin{equation}\n",
    "\\mathbb{P}\\left( |X| \\gt t \\right) \\le \\sqrt{\\frac{2}{\\pi}} \\frac{e^{-t^2/2}}{t}\n",
    "\\end{equation}"
   ]
  },
  {
   "cell_type": "code",
   "execution_count": 3,
   "metadata": {},
   "outputs": [],
   "source": [
    "def chebyshev_bound(t):\n",
    "    return 1 / t ** 2"
   ]
  },
  {
   "cell_type": "code",
   "execution_count": 4,
   "metadata": {},
   "outputs": [],
   "source": [
    "def gaussian_bound(t):\n",
    "    return np.sqrt(2 / np.pi) * np.exp(- t ** 2 / 2) / t"
   ]
  },
  {
   "cell_type": "code",
   "execution_count": 39,
   "metadata": {},
   "outputs": [],
   "source": [
    "ts = np.linspace(0.01, 2, 100)\n",
    "\n",
    "df_plot = pd.concat(\n",
    "    [\n",
    "        pd.DataFrame({\"t\": ts, \"upper_bound\": chebyshev_bound(ts)}).assign(\n",
    "            type=\"chebyshev\"\n",
    "        ),\n",
    "        pd.DataFrame({\"t\": ts, \"upper_bound\": gaussian_bound(ts)}).assign(\n",
    "            type=\"gaussian\"\n",
    "        ),\n",
    "    ]\n",
    ")"
   ]
  },
  {
   "cell_type": "code",
   "execution_count": 40,
   "metadata": {},
   "outputs": [
    {
     "data": {
      "text/html": [
       "\n",
       "<div id=\"altair-viz-5e9f4fd136ae43b4b537da4af3c9b8b4\"></div>\n",
       "<script type=\"text/javascript\">\n",
       "  var VEGA_DEBUG = (typeof VEGA_DEBUG == \"undefined\") ? {} : VEGA_DEBUG;\n",
       "  (function(spec, embedOpt){\n",
       "    let outputDiv = document.currentScript.previousElementSibling;\n",
       "    if (outputDiv.id !== \"altair-viz-5e9f4fd136ae43b4b537da4af3c9b8b4\") {\n",
       "      outputDiv = document.getElementById(\"altair-viz-5e9f4fd136ae43b4b537da4af3c9b8b4\");\n",
       "    }\n",
       "    const paths = {\n",
       "      \"vega\": \"https://cdn.jsdelivr.net/npm//vega@5?noext\",\n",
       "      \"vega-lib\": \"https://cdn.jsdelivr.net/npm//vega-lib?noext\",\n",
       "      \"vega-lite\": \"https://cdn.jsdelivr.net/npm//vega-lite@4.17.0?noext\",\n",
       "      \"vega-embed\": \"https://cdn.jsdelivr.net/npm//vega-embed@6?noext\",\n",
       "    };\n",
       "\n",
       "    function maybeLoadScript(lib, version) {\n",
       "      var key = `${lib.replace(\"-\", \"\")}_version`;\n",
       "      return (VEGA_DEBUG[key] == version) ?\n",
       "        Promise.resolve(paths[lib]) :\n",
       "        new Promise(function(resolve, reject) {\n",
       "          var s = document.createElement('script');\n",
       "          document.getElementsByTagName(\"head\")[0].appendChild(s);\n",
       "          s.async = true;\n",
       "          s.onload = () => {\n",
       "            VEGA_DEBUG[key] = version;\n",
       "            return resolve(paths[lib]);\n",
       "          };\n",
       "          s.onerror = () => reject(`Error loading script: ${paths[lib]}`);\n",
       "          s.src = paths[lib];\n",
       "        });\n",
       "    }\n",
       "\n",
       "    function showError(err) {\n",
       "      outputDiv.innerHTML = `<div class=\"error\" style=\"color:red;\">${err}</div>`;\n",
       "      throw err;\n",
       "    }\n",
       "\n",
       "    function displayChart(vegaEmbed) {\n",
       "      vegaEmbed(outputDiv, spec, embedOpt)\n",
       "        .catch(err => showError(`Javascript Error: ${err.message}<br>This usually means there's a typo in your chart specification. See the javascript console for the full traceback.`));\n",
       "    }\n",
       "\n",
       "    if(typeof define === \"function\" && define.amd) {\n",
       "      requirejs.config({paths});\n",
       "      require([\"vega-embed\"], displayChart, err => showError(`Error loading script: ${err.message}`));\n",
       "    } else {\n",
       "      maybeLoadScript(\"vega\", \"5\")\n",
       "        .then(() => maybeLoadScript(\"vega-lite\", \"4.17.0\"))\n",
       "        .then(() => maybeLoadScript(\"vega-embed\", \"6\"))\n",
       "        .catch(showError)\n",
       "        .then(() => displayChart(vegaEmbed));\n",
       "    }\n",
       "  })({\"config\": {\"view\": {\"continuousWidth\": 400, \"continuousHeight\": 300}}, \"hconcat\": [{\"mark\": {\"type\": \"line\", \"clip\": true}, \"encoding\": {\"color\": {\"field\": \"type\", \"type\": \"nominal\"}, \"x\": {\"field\": \"t\", \"type\": \"quantitative\"}, \"y\": {\"field\": \"upper_bound\", \"scale\": {\"domain\": [0, 100]}, \"type\": \"quantitative\"}}}, {\"mark\": \"line\", \"encoding\": {\"color\": {\"field\": \"type\", \"type\": \"nominal\"}, \"x\": {\"field\": \"t\", \"type\": \"quantitative\"}, \"y\": {\"field\": \"upper_bound\", \"scale\": {\"type\": \"log\"}, \"type\": \"quantitative\"}}}], \"data\": {\"name\": \"data-eb8f271a02a910290db08cc7378d5901\"}, \"$schema\": \"https://vega.github.io/schema/vega-lite/v4.17.0.json\", \"datasets\": {\"data-eb8f271a02a910290db08cc7378d5901\": [{\"t\": 0.01, \"upper_bound\": 10000.0, \"type\": \"chebyshev\"}, {\"t\": 0.0301010101010101, \"upper_bound\": 1103.666501508941, \"type\": \"chebyshev\"}, {\"t\": 0.050202020202020206, \"upper_bound\": 396.787161601399, \"type\": \"chebyshev\"}, {\"t\": 0.0703030303030303, \"upper_bound\": 202.32609988109397, \"type\": \"chebyshev\"}, {\"t\": 0.0904040404040404, \"upper_bound\": 122.35573171873537, \"type\": \"chebyshev\"}, {\"t\": 0.11050505050505051, \"upper_bound\": 81.89091905657918, \"type\": \"chebyshev\"}, {\"t\": 0.13060606060606061, \"upper_bound\": 58.6237154192753, \"type\": \"chebyshev\"}, {\"t\": 0.15070707070707073, \"upper_bound\": 44.0283837302072, \"type\": \"chebyshev\"}, {\"t\": 0.17080808080808083, \"upper_bound\": 34.275450684931975, \"type\": \"chebyshev\"}, {\"t\": 0.19090909090909092, \"upper_bound\": 27.43764172335601, \"type\": \"chebyshev\"}, {\"t\": 0.21101010101010104, \"upper_bound\": 22.45916000770866, \"type\": \"chebyshev\"}, {\"t\": 0.23111111111111113, \"upper_bound\": 18.722263313609464, \"type\": \"chebyshev\"}, {\"t\": 0.2512121212121212, \"upper_bound\": 15.845969608914485, \"type\": \"chebyshev\"}, {\"t\": 0.27131313131313134, \"upper_bound\": 13.58496026665942, \"type\": \"chebyshev\"}, {\"t\": 0.29141414141414146, \"upper_bound\": 11.775483661681616, \"type\": \"chebyshev\"}, {\"t\": 0.3115151515151515, \"upper_bound\": 10.304849429968659, \"type\": \"chebyshev\"}, {\"t\": 0.33161616161616164, \"upper_bound\": 9.093448755155018, \"type\": \"chebyshev\"}, {\"t\": 0.35171717171717176, \"upper_bound\": 8.083749658950056, \"type\": \"chebyshev\"}, {\"t\": 0.3718181818181818, \"upper_bound\": 7.233337916440003, \"type\": \"chebyshev\"}, {\"t\": 0.39191919191919194, \"upper_bound\": 6.5103889892655955, \"type\": \"chebyshev\"}, {\"t\": 0.41202020202020206, \"upper_bound\": 5.890646733630074, \"type\": \"chebyshev\"}, {\"t\": 0.43212121212121213, \"upper_bound\": 5.355361951653228, \"type\": \"chebyshev\"}, {\"t\": 0.45222222222222225, \"upper_bound\": 4.889857469710049, \"type\": \"chebyshev\"}, {\"t\": 0.47232323232323237, \"upper_bound\": 4.4825112087934595, \"type\": \"chebyshev\"}, {\"t\": 0.49242424242424243, \"upper_bound\": 4.124023668639054, \"type\": \"chebyshev\"}, {\"t\": 0.5125252525252526, \"upper_bound\": 3.80688242081832, \"type\": \"chebyshev\"}, {\"t\": 0.5326262626262627, \"upper_bound\": 3.5249653033144344, \"type\": \"chebyshev\"}, {\"t\": 0.5527272727272727, \"upper_bound\": 3.273242728531856, \"type\": \"chebyshev\"}, {\"t\": 0.5728282828282829, \"upper_bound\": 3.0475517891796886, \"type\": \"chebyshev\"}, {\"t\": 0.592929292929293, \"upper_bound\": 2.844423032832321, \"type\": \"chebyshev\"}, {\"t\": 0.613030303030303, \"upper_bound\": 2.660946324387683, \"type\": \"chebyshev\"}, {\"t\": 0.6331313131313132, \"upper_bound\": 2.49466603189833, \"type\": \"chebyshev\"}, {\"t\": 0.6532323232323233, \"upper_bound\": 2.3434984321323595, \"type\": \"chebyshev\"}, {\"t\": 0.6733333333333333, \"upper_bound\": 2.205666111165572, \"type\": \"chebyshev\"}, {\"t\": 0.6934343434343435, \"upper_bound\": 2.07964547784263, \"type\": \"chebyshev\"}, {\"t\": 0.7135353535353536, \"upper_bound\": 1.9641244778366758, \"type\": \"chebyshev\"}, {\"t\": 0.7336363636363636, \"upper_bound\": 1.8579683039820407, \"type\": \"chebyshev\"}, {\"t\": 0.7537373737373738, \"upper_bound\": 1.760191420323079, \"type\": \"chebyshev\"}, {\"t\": 0.7738383838383839, \"upper_bound\": 1.6699346053881143, \"type\": \"chebyshev\"}, {\"t\": 0.793939393939394, \"upper_bound\": 1.5864460113047025, \"type\": \"chebyshev\"}, {\"t\": 0.8140404040404041, \"upper_bound\": 1.5090654555178202, \"type\": \"chebyshev\"}, {\"t\": 0.8341414141414142, \"upper_bound\": 1.4372113296303206, \"type\": \"chebyshev\"}, {\"t\": 0.8542424242424242, \"upper_bound\": 1.3703696386490043, \"type\": \"chebyshev\"}, {\"t\": 0.8743434343434344, \"upper_bound\": 1.3080847834331573, \"type\": \"chebyshev\"}, {\"t\": 0.8944444444444445, \"upper_bound\": 1.2499517765518304, \"type\": \"chebyshev\"}, {\"t\": 0.9145454545454546, \"upper_bound\": 1.1956096423447387, \"type\": \"chebyshev\"}, {\"t\": 0.9346464646464647, \"upper_bound\": 1.1447357996843863, \"type\": \"chebyshev\"}, {\"t\": 0.9547474747474748, \"upper_bound\": 1.0970412637055722, \"type\": \"chebyshev\"}, {\"t\": 0.9748484848484849, \"upper_bound\": 1.0522665328320202, \"type\": \"chebyshev\"}, {\"t\": 0.994949494949495, \"upper_bound\": 1.0101780514829033, \"type\": \"chebyshev\"}, {\"t\": 1.0150505050505052, \"upper_bound\": 0.970565158180384, \"type\": \"chebyshev\"}, {\"t\": 1.0351515151515152, \"upper_bound\": 0.9332374443999584, \"type\": \"chebyshev\"}, {\"t\": 1.0552525252525253, \"upper_bound\": 0.8980224621796798, \"type\": \"chebyshev\"}, {\"t\": 1.0753535353535355, \"upper_bound\": 0.8647637288322584, \"type\": \"chebyshev\"}, {\"t\": 1.0954545454545455, \"upper_bound\": 0.8333189855546564, \"type\": \"chebyshev\"}, {\"t\": 1.1155555555555556, \"upper_bound\": 0.8035586736718464, \"type\": \"chebyshev\"}, {\"t\": 1.1356565656565658, \"upper_bound\": 0.775364597975829, \"type\": \"chebyshev\"}, {\"t\": 1.1557575757575758, \"upper_bound\": 0.7486287513587372, \"type\": \"chebyshev\"}, {\"t\": 1.175858585858586, \"upper_bound\": 0.7232522788737699, \"type\": \"chebyshev\"}, {\"t\": 1.1959595959595961, \"upper_bound\": 0.6991445626369611, \"type\": \"chebyshev\"}, {\"t\": 1.216060606060606, \"upper_bound\": 0.6762224117245664, \"type\": \"chebyshev\"}, {\"t\": 1.2361616161616162, \"upper_bound\": 0.6544093435205302, \"type\": \"chebyshev\"}, {\"t\": 1.2562626262626264, \"upper_bound\": 0.6336349449032077, \"type\": \"chebyshev\"}, {\"t\": 1.2763636363636364, \"upper_bound\": 0.6138343032929927, \"type\": \"chebyshev\"}, {\"t\": 1.2964646464646465, \"upper_bound\": 0.5949474989638801, \"type\": \"chebyshev\"}, {\"t\": 1.3165656565656567, \"upper_bound\": 0.576919151194116, \"type\": \"chebyshev\"}, {\"t\": 1.3366666666666667, \"upper_bound\": 0.5596980118282846, \"type\": \"chebyshev\"}, {\"t\": 1.3567676767676768, \"upper_bound\": 0.5432366006737751, \"type\": \"chebyshev\"}, {\"t\": 1.376868686868687, \"upper_bound\": 0.5274908778819005, \"type\": \"chebyshev\"}, {\"t\": 1.396969696969697, \"upper_bound\": 0.5124199490873843, \"type\": \"chebyshev\"}, {\"t\": 1.4170707070707071, \"upper_bound\": 0.497985799615585, \"type\": \"chebyshev\"}, {\"t\": 1.4371717171717173, \"upper_bound\": 0.4841530545280921, \"type\": \"chebyshev\"}, {\"t\": 1.4572727272727273, \"upper_bound\": 0.47088876167541444, \"type\": \"chebyshev\"}, {\"t\": 1.4773737373737375, \"upper_bound\": 0.4581621952697841, \"type\": \"chebyshev\"}, {\"t\": 1.4974747474747476, \"upper_bound\": 0.4459446777895002, \"type\": \"chebyshev\"}, {\"t\": 1.5175757575757576, \"upper_bound\": 0.43420941828537596, \"type\": \"chebyshev\"}, {\"t\": 1.5376767676767678, \"upper_bound\": 0.4229313653853457, \"type\": \"chebyshev\"}, {\"t\": 1.557777777777778, \"upper_bound\": 0.41208707348987883, \"type\": \"chebyshev\"}, {\"t\": 1.5778787878787879, \"upper_bound\": 0.40165458082254657, \"type\": \"chebyshev\"}, {\"t\": 1.597979797979798, \"upper_bound\": 0.39161329815033535, \"type\": \"chebyshev\"}, {\"t\": 1.6180808080808082, \"upper_bound\": 0.38194390712000215, \"type\": \"chebyshev\"}, {\"t\": 1.6381818181818182, \"upper_bound\": 0.37262826727239806, \"type\": \"chebyshev\"}, {\"t\": 1.6582828282828284, \"upper_bound\": 0.3636493308984028, \"type\": \"chebyshev\"}, {\"t\": 1.6783838383838385, \"upper_bound\": 0.35499106498971117, \"type\": \"chebyshev\"}, {\"t\": 1.6984848484848485, \"upper_bound\": 0.346638379616772, \"type\": \"chebyshev\"}, {\"t\": 1.7185858585858587, \"upper_bound\": 0.3385770621360521, \"type\": \"chebyshev\"}, {\"t\": 1.7386868686868688, \"upper_bound\": 0.33079371669063623, \"type\": \"chebyshev\"}, {\"t\": 1.7587878787878788, \"upper_bound\": 0.3232757085229845, \"type\": \"chebyshev\"}, {\"t\": 1.778888888888889, \"upper_bound\": 0.3160111126673249, \"type\": \"chebyshev\"}, {\"t\": 1.7989898989898991, \"upper_bound\": 0.3089886666324081, \"type\": \"chebyshev\"}, {\"t\": 1.819090909090909, \"upper_bound\": 0.3021977267238445, \"type\": \"chebyshev\"}, {\"t\": 1.8391919191919193, \"upper_bound\": 0.2956282276895611, \"type\": \"chebyshev\"}, {\"t\": 1.8592929292929294, \"upper_bound\": 0.2892706454025362, \"type\": \"chebyshev\"}, {\"t\": 1.8793939393939394, \"upper_bound\": 0.283115962322335, \"type\": \"chebyshev\"}, {\"t\": 1.8994949494949496, \"upper_bound\": 0.2771556355014566, \"type\": \"chebyshev\"}, {\"t\": 1.9195959595959597, \"upper_bound\": 0.27138156692443877, \"type\": \"chebyshev\"}, {\"t\": 1.9396969696969697, \"upper_bound\": 0.26578607598733606, \"type\": \"chebyshev\"}, {\"t\": 1.9597979797979799, \"upper_bound\": 0.2603618739428593, \"type\": \"chebyshev\"}, {\"t\": 1.97989898989899, \"upper_bound\": 0.2551020401523427, \"type\": \"chebyshev\"}, {\"t\": 2.0, \"upper_bound\": 0.25, \"type\": \"chebyshev\"}, {\"t\": 0.01, \"upper_bound\": 79.78446675721644, \"type\": \"gaussian\"}, {\"t\": 0.0301010101010101, \"upper_bound\": 26.494897348587486, \"type\": \"gaussian\"}, {\"t\": 0.050202020202020206, \"upper_bound\": 15.873460059779, \"type\": \"gaussian\"}, {\"t\": 0.0703030303030303, \"upper_bound\": 11.321207821647898, \"type\": \"gaussian\"}, {\"t\": 0.0904040404040404, \"upper_bound\": 8.789769777491388, \"type\": \"gaussian\"}, {\"t\": 0.11050505050505051, \"upper_bound\": 7.176393920439053, \"type\": \"gaussian\"}, {\"t\": 0.13060606060606061, \"upper_bound\": 6.057210212885237, \"type\": \"gaussian\"}, {\"t\": 0.15070707070707073, \"upper_bound\": 5.234490909547085, \"type\": \"gaussian\"}, {\"t\": 0.17080808080808083, \"upper_bound\": 4.6035863191914865, \"type\": \"gaussian\"}, {\"t\": 0.19090909090909092, \"upper_bound\": 4.103923366969435, \"type\": \"gaussian\"}, {\"t\": 0.21101010101010104, \"upper_bound\": 3.698011676794792, \"type\": \"gaussian\"}, {\"t\": 0.23111111111111113, \"upper_bound\": 3.3614053926258407, \"type\": \"gaussian\"}, {\"t\": 0.2512121212121212, \"upper_bound\": 3.0774842914833838, \"type\": \"gaussian\"}, {\"t\": 0.27131313131313134, \"upper_bound\": 2.8345548311013897, \"type\": \"gaussian\"}, {\"t\": 0.29141414141414146, \"upper_bound\": 2.624150969743081, \"type\": \"gaussian\"}, {\"t\": 0.3115151515151515, \"upper_bound\": 2.439992837824513, \"type\": \"gaussian\"}, {\"t\": 0.33161616161616164, \"upper_bound\": 2.2773241302737266, \"type\": \"gaussian\"}, {\"t\": 0.35171717171717176, \"upper_bound\": 2.132476709656866, \"type\": \"gaussian\"}, {\"t\": 0.3718181818181818, \"upper_bound\": 2.0025764368302523, \"type\": \"gaussian\"}, {\"t\": 0.39191919191919194, \"upper_bound\": 1.8853395256023926, \"type\": \"gaussian\"}, {\"t\": 0.41202020202020206, \"upper_bound\": 1.7789285070563046, \"type\": \"gaussian\"}, {\"t\": 0.43212121212121213, \"upper_bound\": 1.6818483935433652, \"type\": \"gaussian\"}, {\"t\": 0.45222222222222225, \"upper_bound\": 1.5928705344622418, \"type\": \"gaussian\"}, {\"t\": 0.47232323232323237, \"upper_bound\": 1.5109759143975472, \"type\": \"gaussian\"}, {\"t\": 0.49242424242424243, \"upper_bound\": 1.4353123381606108, \"type\": \"gaussian\"}, {\"t\": 0.5125252525252526, \"upper_bound\": 1.3651616903364558, \"type\": \"gaussian\"}, {\"t\": 0.5326262626262627, \"upper_bound\": 1.299914607963159, \"type\": \"gaussian\"}, {\"t\": 0.5527272727272727, \"upper_bound\": 1.2390506792590965, \"type\": \"gaussian\"}, {\"t\": 0.5728282828282829, \"upper_bound\": 1.1821228110687143, \"type\": \"gaussian\"}, {\"t\": 0.592929292929293, \"upper_bound\": 1.1287447758183944, \"type\": \"gaussian\"}, {\"t\": 0.613030303030303, \"upper_bound\": 1.0785812082599422, \"type\": \"gaussian\"}, {\"t\": 0.6331313131313132, \"upper_bound\": 1.0313395076202174, \"type\": \"gaussian\"}, {\"t\": 0.6532323232323233, \"upper_bound\": 0.986763234787078, \"type\": \"gaussian\"}, {\"t\": 0.6733333333333333, \"upper_bound\": 0.944626692167443, \"type\": \"gaussian\"}, {\"t\": 0.6934343434343435, \"upper_bound\": 0.9047304462902189, \"type\": \"gaussian\"}, {\"t\": 0.7135353535353536, \"upper_bound\": 0.8668976072980029, \"type\": \"gaussian\"}, {\"t\": 0.7336363636363636, \"upper_bound\": 0.8309707202089692, \"type\": \"gaussian\"}, {\"t\": 0.7537373737373738, \"upper_bound\": 0.7968091537900559, \"type\": \"gaussian\"}, {\"t\": 0.7738383838383839, \"upper_bound\": 0.7642868966043225, \"type\": \"gaussian\"}, {\"t\": 0.793939393939394, \"upper_bound\": 0.7332906881116972, \"type\": \"gaussian\"}, {\"t\": 0.8140404040404041, \"upper_bound\": 0.7037184269480132, \"type\": \"gaussian\"}, {\"t\": 0.8341414141414142, \"upper_bound\": 0.6754778096631933, \"type\": \"gaussian\"}, {\"t\": 0.8542424242424242, \"upper_bound\": 0.6484851619927318, \"type\": \"gaussian\"}, {\"t\": 0.8743434343434344, \"upper_bound\": 0.6226644317104302, \"type\": \"gaussian\"}, {\"t\": 0.8944444444444445, \"upper_bound\": 0.5979463176735378, \"type\": \"gaussian\"}, {\"t\": 0.9145454545454546, \"upper_bound\": 0.574267514134127, \"type\": \"gaussian\"}, {\"t\": 0.9346464646464647, \"upper_bound\": 0.5515700529893401, \"type\": \"gaussian\"}, {\"t\": 0.9547474747474748, \"upper_bound\": 0.5298007295599939, \"type\": \"gaussian\"}, {\"t\": 0.9748484848484849, \"upper_bound\": 0.5089105998625248, \"type\": \"gaussian\"}, {\"t\": 0.994949494949495, \"upper_bound\": 0.48885453928279665, \"type\": \"gaussian\"}, {\"t\": 1.0150505050505052, \"upper_bound\": 0.46959085415739743, \"type\": \"gaussian\"}, {\"t\": 1.0351515151515152, \"upper_bound\": 0.45108093908602326, \"type\": \"gaussian\"}, {\"t\": 1.0552525252525253, \"upper_bound\": 0.4332889738905452, \"type\": \"gaussian\"}, {\"t\": 1.0753535353535355, \"upper_bound\": 0.4161816550446424, \"type\": \"gaussian\"}, {\"t\": 1.0954545454545455, \"upper_bound\": 0.39972795715615034, \"type\": \"gaussian\"}, {\"t\": 1.1155555555555556, \"upper_bound\": 0.38389892071959214, \"type\": \"gaussian\"}, {\"t\": 1.1356565656565658, \"upper_bound\": 0.36866746289046687, \"type\": \"gaussian\"}, {\"t\": 1.1557575757575758, \"upper_bound\": 0.3540082084833811, \"type\": \"gaussian\"}, {\"t\": 1.175858585858586, \"upper_bound\": 0.33989733877733885, \"type\": \"gaussian\"}, {\"t\": 1.1959595959595961, \"upper_bound\": 0.32631245603507236, \"type\": \"gaussian\"}, {\"t\": 1.216060606060606, \"upper_bound\": 0.3132324619187577, \"type\": \"gaussian\"}, {\"t\": 1.2361616161616162, \"upper_bound\": 0.3006374482196373, \"type\": \"gaussian\"}, {\"t\": 1.2562626262626264, \"upper_bound\": 0.2885085985204119, \"type\": \"gaussian\"}, {\"t\": 1.2763636363636364, \"upper_bound\": 0.2768280995820987, \"type\": \"gaussian\"}, {\"t\": 1.2964646464646465, \"upper_bound\": 0.2655790613958122, \"type\": \"gaussian\"}, {\"t\": 1.3165656565656567, \"upper_bound\": 0.25474544496828033, \"type\": \"gaussian\"}, {\"t\": 1.3366666666666667, \"upper_bound\": 0.24431199702093173, \"type\": \"gaussian\"}, {\"t\": 1.3567676767676768, \"upper_bound\": 0.23426419087865694, \"type\": \"gaussian\"}, {\"t\": 1.376868686868687, \"upper_bound\": 0.22458817290801072, \"type\": \"gaussian\"}, {\"t\": 1.396969696969697, \"upper_bound\": 0.21527071393749309, \"type\": \"gaussian\"}, {\"t\": 1.4170707070707071, \"upper_bound\": 0.2062991651561689, \"type\": \"gaussian\"}, {\"t\": 1.4371717171717173, \"upper_bound\": 0.1976614180425463, \"type\": \"gaussian\"}, {\"t\": 1.4572727272727273, \"upper_bound\": 0.1893458679244286, \"type\": \"gaussian\"}, {\"t\": 1.4773737373737375, \"upper_bound\": 0.18134138081333065, \"type\": \"gaussian\"}, {\"t\": 1.4974747474747476, \"upper_bound\": 0.17363726319479364, \"type\": \"gaussian\"}, {\"t\": 1.5175757575757576, \"upper_bound\": 0.16622323448922086, \"type\": \"gaussian\"}, {\"t\": 1.5376767676767678, \"upper_bound\": 0.15908940192728646, \"type\": \"gaussian\"}, {\"t\": 1.557777777777778, \"upper_bound\": 0.1522262376100227, \"type\": \"gaussian\"}, {\"t\": 1.5778787878787879, \"upper_bound\": 0.14562455754680767, \"type\": \"gaussian\"}, {\"t\": 1.597979797979798, \"upper_bound\": 0.1392755024850214, \"type\": \"gaussian\"}, {\"t\": 1.6180808080808082, \"upper_bound\": 0.1331705203634353, \"type\": \"gaussian\"}, {\"t\": 1.6381818181818182, \"upper_bound\": 0.12730135023771363, \"type\": \"gaussian\"}, {\"t\": 1.6582828282828284, \"upper_bound\": 0.12166000754099378, \"type\": \"gaussian\"}, {\"t\": 1.6783838383838385, \"upper_bound\": 0.11623877055555965, \"type\": \"gaussian\"}, {\"t\": 1.6984848484848485, \"upper_bound\": 0.11103016798332613, \"type\": \"gaussian\"}, {\"t\": 1.7185858585858587, \"upper_bound\": 0.10602696751336166, \"type\": \"gaussian\"}, {\"t\": 1.7386868686868688, \"upper_bound\": 0.10122216529412878, \"type\": \"gaussian\"}, {\"t\": 1.7587878787878788, \"upper_bound\": 0.09660897622663651, \"type\": \"gaussian\"}, {\"t\": 1.778888888888889, \"upper_bound\": 0.09218082500238307, \"type\": \"gaussian\"}, {\"t\": 1.7989898989898991, \"upper_bound\": 0.0879313378169088, \"type\": \"gaussian\"}, {\"t\": 1.819090909090909, \"upper_bound\": 0.08385433469605899, \"type\": \"gaussian\"}, {\"t\": 1.8391919191919193, \"upper_bound\": 0.07994382237774952, \"type\": \"gaussian\"}, {\"t\": 1.8592929292929294, \"upper_bound\": 0.07619398769719021, \"type\": \"gaussian\"}, {\"t\": 1.8793939393939394, \"upper_bound\": 0.07259919142821011, \"type\": \"gaussian\"}, {\"t\": 1.8994949494949496, \"upper_bound\": 0.06915396253759616, \"type\": \"gaussian\"}, {\"t\": 1.9195959595959597, \"upper_bound\": 0.0658529928132386, \"type\": \"gaussian\"}, {\"t\": 1.9396969696969697, \"upper_bound\": 0.06269113183041598, \"type\": \"gaussian\"}, {\"t\": 1.9597979797979799, \"upper_bound\": 0.05966338222378226, \"type\": \"gaussian\"}, {\"t\": 1.97989898989899, \"upper_bound\": 0.05676489523556623, \"type\": \"gaussian\"}, {\"t\": 2.0, \"upper_bound\": 0.05399096651318806, \"type\": \"gaussian\"}]}}, {\"mode\": \"vega-lite\"});\n",
       "</script>"
      ],
      "text/plain": [
       "alt.HConcatChart(...)"
      ]
     },
     "execution_count": 40,
     "metadata": {},
     "output_type": "execute_result"
    }
   ],
   "source": [
    "linear_chart = (\n",
    "    alt.Chart(df_plot).mark_line(clip=True).encode(x=\"t\", y=alt.Y(\"upper_bound\", scale=alt.Scale(domain=[0, 100])), color=\"type\")\n",
    ")\n",
    "log_chart = (\n",
    "    alt.Chart(df_plot)\n",
    "    .mark_line()\n",
    "    .encode(x=\"t\", y=alt.Y(\"upper_bound\", scale=alt.Y(type=\"log\")), color=\"type\")\n",
    ")\n",
    "\n",
    "linear_chart | log_chart"
   ]
  },
  {
   "cell_type": "code",
   "execution_count": 16,
   "metadata": {},
   "outputs": [
    {
     "name": "stdout",
     "output_type": "stream",
     "text": [
      "chebyshev_bound(t)=0.250, gaussian_bound(t)=0.054\n"
     ]
    }
   ],
   "source": [
    "# Verify example from the Statistical inference book.\n",
    "t = 2\n",
    "print(f\"{chebyshev_bound(t)=:.3f}, {gaussian_bound(t)=:.3f}\")"
   ]
  },
  {
   "cell_type": "markdown",
   "metadata": {},
   "source": [
    "So when t is small, chebyshev's bound is pretty bad"
   ]
  },
  {
   "cell_type": "markdown",
   "metadata": {},
   "source": []
  }
 ],
 "metadata": {
  "anaconda-cloud": {},
  "kernelspec": {
   "display_name": "Python 3 (ipykernel)",
   "language": "python",
   "name": "python3"
  },
  "language_info": {
   "codemirror_mode": {
    "name": "ipython",
    "version": 3
   },
   "file_extension": ".py",
   "mimetype": "text/x-python",
   "name": "python",
   "nbconvert_exporter": "python",
   "pygments_lexer": "ipython3",
   "version": "3.10.7"
  }
 },
 "nbformat": 4,
 "nbformat_minor": 1
}
