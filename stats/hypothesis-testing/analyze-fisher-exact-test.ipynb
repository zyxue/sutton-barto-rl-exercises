{
 "cells": [
  {
   "cell_type": "code",
   "execution_count": 2,
   "metadata": {},
   "outputs": [
    {
     "data": {
      "text/html": [
       "    <style>\n",
       "        div#notebook-container    { width: 100%; }\n",
       "        div#menubar-container     { width: 100%; }\n",
       "        div#maintoolbar-container { width: 100%; }\n",
       "    </style>\n",
       "        "
      ],
      "text/plain": [
       "<IPython.core.display.HTML object>"
      ]
     },
     "metadata": {},
     "output_type": "display_data"
    }
   ],
   "source": [
    "import IPython.display\n",
    "\n",
    "IPython.display.display(\n",
    "    IPython.display.HTML(\n",
    "        data=\"\"\"\\\n",
    "    <style>\n",
    "        div#notebook-container    { width: 100%; }\n",
    "        div#menubar-container     { width: 100%; }\n",
    "        div#maintoolbar-container { width: 100%; }\n",
    "    </style>\n",
    "        \"\"\"\n",
    "    )\n",
    ")"
   ]
  },
  {
   "cell_type": "markdown",
   "metadata": {},
   "source": [
    "# Probability of a 2x2 contigency table conditioned on fixed marginals"
   ]
  },
  {
   "cell_type": "markdown",
   "metadata": {},
   "source": [
    "For a 2x2 contigency table"
   ]
  },
  {
   "cell_type": "markdown",
   "metadata": {},
   "source": [
    "\\begin{align*}\n",
    "\\begin{bmatrix}\n",
    "a & b \\\\ \n",
    "c & d\n",
    "\\end{bmatrix}\n",
    "\\end{align*}\n"
   ]
  },
  {
   "cell_type": "markdown",
   "metadata": {},
   "source": [
    "If the marginals ($a + b$, $c + d$, and $a + c$) are fixed, which implies $b + d$ is also fixed, then there is only one degree of freedom. Without loss of generality, let $A$ be the random variable, then the probability of observing a particular table of counts is "
   ]
  },
  {
   "cell_type": "markdown",
   "metadata": {},
   "source": [
    "\\begin{align*}\n",
    "\\mathbb{P}(A=a)\n",
    "&= \\frac{\\binom{a + b}{a} \\binom{c + d}{c} (a + c)! (b + d)!}{(a + b + c + d)!} \\\\\n",
    "&= \\frac{\\binom{a + b}{a} \\binom{c + d}{c}}{\\binom{a + b + c + d}{a + c}} \n",
    "\\end{align*}\n"
   ]
  },
  {
   "cell_type": "markdown",
   "metadata": {},
   "source": [
    "Note,\n",
    "\n",
    "* the $(a + c)!$ and $(b+d)!$ accounts for all the permutations of $a + b$ elements.\n",
    "* the 2nd equality shows $A$ follows a hypergeometric distribution. (Consider $a + b$ ane $c + d$ two groups, $a$ and $c$ are of a particular element type and $b$ and $d$ are of another element type)"
   ]
  },
  {
   "cell_type": "markdown",
   "metadata": {},
   "source": [
    "# Support analysis"
   ]
  },
  {
   "cell_type": "markdown",
   "metadata": {},
   "source": [
    "if we add $\\delta$ to $a$, keeping marginals fixed, it becomes"
   ]
  },
  {
   "cell_type": "markdown",
   "metadata": {},
   "source": [
    "\\begin{align*}\n",
    "\\begin{bmatrix}\n",
    "a + \\delta & b - \\delta \\\\ \n",
    "c - \\delta & d + \\delta\n",
    "\\end{bmatrix}\n",
    "\\end{align*}"
   ]
  },
  {
   "cell_type": "markdown",
   "metadata": {},
   "source": [
    "which need to satisfy"
   ]
  },
  {
   "cell_type": "markdown",
   "metadata": {},
   "source": [
    "\\begin{align*}\n",
    "a + \\delta &\\ge 0 \\\\\n",
    "b - \\delta &\\ge 0 \\\\ \n",
    "c - \\delta &\\ge 0 \\\\\n",
    "d + \\delta &\\ge 0\n",
    "\\end{align*}\n"
   ]
  },
  {
   "cell_type": "markdown",
   "metadata": {},
   "source": [
    "Therefore,"
   ]
  },
  {
   "cell_type": "markdown",
   "metadata": {},
   "source": [
    "\\begin{align*}\n",
    "\\delta &\\le \\min(b, c) \\\\\n",
    "\\delta &\\ge \\max(-a, -d) = - \\min(a, d) \\\\ \n",
    "\\end{align*}\n"
   ]
  },
  {
   "cell_type": "markdown",
   "metadata": {},
   "source": [
    "Take the example of $\\begin{bmatrix}\n",
    "6 & 2 \\\\ \n",
    "1 & 4 \\end{bmatrix}$ from [scipy](https://docs.scipy.org/doc/scipy/reference/generated/scipy.stats.fisher_exact.html) for example, $1 \\ge \\delta \\ge -4$, which corresponds to $7 \\ge a \\ge 2$."
   ]
  },
  {
   "cell_type": "markdown",
   "metadata": {},
   "source": [
    "Equivalently,\n",
    "\n",
    "\\begin{align*}\n",
    "a + \\max(-a, -d) &\\le a + \\delta \\le a + \\min(b, c) \\\\\n",
    "\\max(0, a - d) &\\le a + \\delta \\le \\min(a + b, a + c)\n",
    "\\end{align*}"
   ]
  },
  {
   "cell_type": "markdown",
   "metadata": {},
   "source": [
    "If we use a different set of symbol more commonly used in literature, e.g. https://sci-hub.ru/https://www.jstor.org/stable/2333309, to represent the contigency table:\n",
    "\n",
    "\\begin{align*}\n",
    "\\begin{matrix}\n",
    "\\text{Group} & \\text{With attribute} & \\text{Without attribute} & \\text{Total} \\\\\n",
    "1 & a & A - a & A \\\\ \n",
    "2 & b & B - b & B \\\\\n",
    "\\text{Total} & r = a + b & N - r & N\n",
    "\\end{matrix}\n",
    "\\end{align*}\n",
    "\n",
    "\n",
    "Then the above inequalities become\n",
    "\n",
    "\\begin{align*}\n",
    "\\max(0, r - B) &\\le a + \\delta \\le \\min(r, A)\n",
    "\\end{align*}"
   ]
  },
  {
   "cell_type": "markdown",
   "metadata": {},
   "source": [
    "Note, the exchange of notations for $b$ and $c$ does NOT change the support for $a$."
   ]
  },
  {
   "cell_type": "markdown",
   "metadata": {},
   "source": [
    "# The hypothesis test"
   ]
  },
  {
   "cell_type": "markdown",
   "metadata": {},
   "source": [
    "With the conditional probability and the support analysis result, a hypothesis test can be derived from such probabilities. \n",
    "\n",
    "Suppose $H_0: \\frac{a}{a + b} \\ge \\frac{c}{c + d}$ and $H_1: \\frac{a}{a + b} < \\frac{c}{c + d}$, then a p value, which is defined as the probability of observing the current counts or more extreme ones under the null, can be calculated as "
   ]
  },
  {
   "cell_type": "markdown",
   "metadata": {},
   "source": [
    "\\begin{align*}\n",
    "p \n",
    "&= \\mathbb{P}(a \\le A \\le a + \\min(b, c)) \\\\\n",
    "&= \\sum_{i=a}^{\\min(b, c)} \\mathbb{P}(A=i)\n",
    "\\end{align*}"
   ]
  },
  {
   "cell_type": "markdown",
   "metadata": {},
   "source": [
    "Similarly, if $H_0: \\frac{a}{a + b} \\le \\frac{c}{c + d}$ and $H_1: \\frac{a}{a + b} > \\frac{c}{c + d}$, then the p value can be calculated as"
   ]
  },
  {
   "cell_type": "markdown",
   "metadata": {},
   "source": [
    "\\begin{align*}\n",
    "p \n",
    "&= \\mathbb{P}(a -\\min(a, d) \\le A \\le a) \\\\\n",
    "&= \\sum_{i=-\\min(a, d)}^{a} \\mathbb{P}(A=i)\n",
    "\\end{align*}"
   ]
  },
  {
   "cell_type": "markdown",
   "metadata": {},
   "source": [
    "If the null is $H_0: \\frac{a}{a + b} = \\frac{c}{c + d}$ and $H_1: \\frac{a}{a + b} \\neq \\frac{c}{c + d}$, the p value can be calculated as "
   ]
  },
  {
   "cell_type": "markdown",
   "metadata": {},
   "source": [
    "\\begin{align*}\n",
    "p \n",
    "&= \\mathbb{P}(a -\\min(a, d) \\le A \\le a + \\min(b, c)) \\\\\n",
    "&= \\sum_{i=-\\min(a, d)}^{a + \\min(b, c)} \\mathbb{P}(A=i) \\mathbb{I}(\\mathbb{P}(A=i) \\le \\mathbb{P}(A=a))\n",
    "\\end{align*}"
   ]
  },
  {
   "cell_type": "markdown",
   "metadata": {},
   "source": [
    "where $\\mathbb{I}$ is the indicator function, so the two-sided p value is the sum of probabilities which are smaller than $\\mathbb{P}(A = a))$, i.e. the probability of observing the current counts."
   ]
  },
  {
   "cell_type": "markdown",
   "metadata": {},
   "source": [
    "# Demo"
   ]
  },
  {
   "cell_type": "markdown",
   "metadata": {},
   "source": [
    "A demo is available at https://gist.githubusercontent.com/zyxue/f2e79bbd0712b4d186e3f9c0a4e38db4/raw/2b4a647d06e48eec569368ef5393232a1af4fccd/fisher_exact_naive.py that shows the above caluclation of p-values matches the implementation in [scipy.stats.fisher_exact](https://docs.scipy.org/doc/scipy/reference/generated/scipy.stats.fisher_exact.html)."
   ]
  },
  {
   "cell_type": "code",
   "execution_count": 1,
   "metadata": {},
   "outputs": [],
   "source": [
    "import altair as alt\n",
    "import matplotlib.pyplot as plt\n",
    "import time\n",
    "import scipy.stats\n",
    "from tqdm import tqdm"
   ]
  },
  {
   "cell_type": "markdown",
   "metadata": {},
   "source": [
    "# Scaling analysis"
   ]
  },
  {
   "cell_type": "code",
   "execution_count": 2,
   "metadata": {},
   "outputs": [
    {
     "name": "stderr",
     "output_type": "stream",
     "text": [
      "100%|██████████████████████████████████████████████████████████████████████████████████████████████████████████████████████████████████████████████████████████████████████████████████████████████████████████████████████████████████████████████████████████| 5000/5000 [00:07<00:00, 678.90it/s]\n"
     ]
    }
   ],
   "source": [
    "latencies = []\n",
    "for i in tqdm(range(5000)):\n",
    "    a = np.random.randint(1e6, 1e9)\n",
    "    b = np.random.randint(1e6, 1e9)\n",
    "    c = np.random.randint(1e6, 1e9)\n",
    "    d = np.random.randint(1e6, 1e9)\n",
    "\n",
    "    beg = time.monotonic_ns()\n",
    "    scipy.stats.chi2_contingency([[5000, int(10e7)], [1000, int(10e7)]])\n",
    "    latencies.append((\"chi2\", time.monotonic_ns() - beg))\n",
    "\n",
    "    beg = time.monotonic_ns()\n",
    "    scipy.stats.fisher_exact([[5000, int(10e7)], [1000, int(10e7)]])\n",
    "    latencies.append(('fisher', time.monotonic_ns() - beg))"
   ]
  },
  {
   "cell_type": "code",
   "execution_count": 3,
   "metadata": {},
   "outputs": [],
   "source": [
    "df_plot = pd.DataFrame(latencies, columns=[\"label\", \"latency\"]).assign(\n",
    "    latency_ms=lambda df: df.latency / 1e6\n",
    ")"
   ]
  },
  {
   "cell_type": "code",
   "execution_count": 16,
   "metadata": {},
   "outputs": [
    {
     "data": {
      "text/html": [
       "<div>\n",
       "<style scoped>\n",
       "    .dataframe tbody tr th:only-of-type {\n",
       "        vertical-align: middle;\n",
       "    }\n",
       "\n",
       "    .dataframe tbody tr th {\n",
       "        vertical-align: top;\n",
       "    }\n",
       "\n",
       "    .dataframe thead th {\n",
       "        text-align: right;\n",
       "    }\n",
       "</style>\n",
       "<table border=\"1\" class=\"dataframe\">\n",
       "  <thead>\n",
       "    <tr style=\"text-align: right;\">\n",
       "      <th></th>\n",
       "      <th>count</th>\n",
       "      <th>mean</th>\n",
       "      <th>std</th>\n",
       "      <th>min</th>\n",
       "      <th>25%</th>\n",
       "      <th>50%</th>\n",
       "      <th>75%</th>\n",
       "      <th>max</th>\n",
       "    </tr>\n",
       "    <tr>\n",
       "      <th>label</th>\n",
       "      <th></th>\n",
       "      <th></th>\n",
       "      <th></th>\n",
       "      <th></th>\n",
       "      <th></th>\n",
       "      <th></th>\n",
       "      <th></th>\n",
       "      <th></th>\n",
       "    </tr>\n",
       "  </thead>\n",
       "  <tbody>\n",
       "    <tr>\n",
       "      <th>chi2</th>\n",
       "      <td>5000.0</td>\n",
       "      <td>0.248711</td>\n",
       "      <td>0.033596</td>\n",
       "      <td>0.227846</td>\n",
       "      <td>0.233747</td>\n",
       "      <td>0.237153</td>\n",
       "      <td>0.245431</td>\n",
       "      <td>0.630950</td>\n",
       "    </tr>\n",
       "    <tr>\n",
       "      <th>fisher</th>\n",
       "      <td>5000.0</td>\n",
       "      <td>1.193939</td>\n",
       "      <td>0.093467</td>\n",
       "      <td>1.127969</td>\n",
       "      <td>1.148906</td>\n",
       "      <td>1.160344</td>\n",
       "      <td>1.180918</td>\n",
       "      <td>2.051796</td>\n",
       "    </tr>\n",
       "  </tbody>\n",
       "</table>\n",
       "</div>"
      ],
      "text/plain": [
       "         count      mean       std       min       25%       50%       75%  \\\n",
       "label                                                                        \n",
       "chi2    5000.0  0.248711  0.033596  0.227846  0.233747  0.237153  0.245431   \n",
       "fisher  5000.0  1.193939  0.093467  1.127969  1.148906  1.160344  1.180918   \n",
       "\n",
       "             max  \n",
       "label             \n",
       "chi2    0.630950  \n",
       "fisher  2.051796  "
      ]
     },
     "execution_count": 16,
     "metadata": {},
     "output_type": "execute_result"
    }
   ],
   "source": [
    "df_plot.groupby('label').latency_ms.describe()"
   ]
  },
  {
   "cell_type": "code",
   "execution_count": 15,
   "metadata": {},
   "outputs": [
    {
     "data": {
      "text/plain": [
       "<matplotlib.legend.Legend at 0x7fd0d29d2530>"
      ]
     },
     "execution_count": 15,
     "metadata": {},
     "output_type": "execute_result"
    },
    {
     "data": {
      "image/png": "[encoded data removed]",
      "text/plain": [
       "<Figure size 640x480 with 1 Axes>"
      ]
     },
     "metadata": {},
     "output_type": "display_data"
    }
   ],
   "source": [
    "fig, ax = plt.subplots(1, 1)\n",
    "for label in [\"chi2\", \"fisher\"]:\n",
    "    _ = ax.hist(\n",
    "        df_plot.loc[lambda df: df.label == label].latency_ms,\n",
    "        bins=np.linspace(0, 2.1, 50),\n",
    "        label=label,\n",
    "    )\n",
    "ax.grid()\n",
    "ax.legend()"
   ]
  },
  {
   "cell_type": "markdown",
   "metadata": {},
   "source": [
    "So chi2 is mucher by about 10x, but fisher's exact is not very slow either, typically < 2ms."
   ]
  }
 ],
 "metadata": {
  "kernelspec": {
   "display_name": "Python 3 (ipykernel)",
   "language": "python",
   "name": "python3"
  },
  "language_info": {
   "codemirror_mode": {
    "name": "ipython",
    "version": 3
   },
   "file_extension": ".py",
   "mimetype": "text/x-python",
   "name": "python",
   "nbconvert_exporter": "python",
   "pygments_lexer": "ipython3",
   "version": "3.10.7"
  }
 },
 "nbformat": 4,
 "nbformat_minor": 1
}
