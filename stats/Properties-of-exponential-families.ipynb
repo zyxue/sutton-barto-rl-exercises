{
 "cells": [
  {
   "cell_type": "code",
   "execution_count": 1,
   "metadata": {},
   "outputs": [
    {
     "data": {
      "text/html": [
       "\n",
       "<style>\n",
       "   div#notebook-container    { width: 100%; }\n",
       "   div#menubar-container     { width: 100%; }\n",
       "   div#maintoolbar-container { width: 100%; }\n",
       "</style>\n"
      ],
      "text/plain": [
       "<IPython.core.display.HTML object>"
      ]
     },
     "metadata": {},
     "output_type": "display_data"
    }
   ],
   "source": [
    "from IPython.display import HTML, Image, display\n",
    "\n",
    "display(\n",
    "    HTML(\n",
    "        data=\"\"\"\n",
    "<style>\n",
    "   div#notebook-container    { width: 100%; }\n",
    "   div#menubar-container     { width: 100%; }\n",
    "   div#maintoolbar-container { width: 100%; }\n",
    "</style>\n",
    "\"\"\"\n",
    "    )\n",
    ")"
   ]
  },
  {
   "cell_type": "code",
   "execution_count": null,
   "metadata": {},
   "outputs": [],
   "source": []
  },
  {
   "cell_type": "markdown",
   "metadata": {},
   "source": [
    "Ref: https://github.com/zyxue/book-notes-ml-prob-perspective/blob/master/ch9-generalized-linear-models-and-the-exponential-family/definitions-of-exponential-family.ipynb"
   ]
  },
  {
   "cell_type": "markdown",
   "metadata": {},
   "source": [
    "### Exponential family distribution"
   ]
  },
  {
   "cell_type": "markdown",
   "metadata": {},
   "source": [
    "According to PRML Eq. (2.194), the exponential family distribution follows the form,"
   ]
  },
  {
   "cell_type": "markdown",
   "metadata": {},
   "source": [
    "$$\n",
    "p(\\mathbf{x} | \\boldsymbol{\\eta}) = h(\\mathbf{x}) g(\\boldsymbol{\\eta}) \\exp \\left \\{  \\boldsymbol{\\eta}^T \\mathbf{u}(\\mathbf{x}) \\right \\}\n",
    "$$"
   ]
  },
  {
   "cell_type": "markdown",
   "metadata": {},
   "source": [
    "where\n",
    "\n",
    "* $\\boldsymbol{\\eta} \\in \\mathbb{R}^d$ is called the natural parameters of the distribution\n",
    "* $\\mathbf{u}(\\mathbf{x}) \\in \\mathbb{R}^d$ is some function of $\\mathbf{x}$, the sufficient statistics.\n",
    "* $g(\\boldsymbol{\\eta}) \\in \\mathbb{R}$ is the normalization factor\n",
    "* $h(\\mathbf{x}) \\in \\mathbb{R}$ is a scaling constant, often 1. \n",
    "\n",
    "Note, while $g(\\boldsymbol{\\eta})$ is a function $g$ is a function of $\\boldsymbol{\\eta}$, $h$ is a function of $\\mathbf{x}$."
   ]
  },
  {
   "cell_type": "markdown",
   "metadata": {},
   "source": [
    "### Common exponential family distributions"
   ]
  },
  {
   "cell_type": "markdown",
   "metadata": {},
   "source": [
    "| Distribution                                  | $\\boldsymbol{\\eta}$                                               | $\\mathbf{u}(\\mathbf{x})$                 | $g(\\boldsymbol{\\eta})$                                           | $h(\\mathbf{x})$         | \n",
    "|-----------------------------------------------|-------------------------------------------------------------------|------------------------------------------|------------------------------------------------------------------|-------------------------|\n",
    "| Bernoulli  $p(x|\\mu)$                        | $\\ln \\frac{\\mu}{1 - \\mu}$                                         | $x$                                      |  $\\sigma(-\\eta)$                                                              |      $1$   |\n",
    "| Multinomial $p(\\mathbf{x}|\\boldsymbol{\\mu})$ | $\\eta_k = \\ln \\mu_k$                                              | $\\mathbf{x}$                             | $1$                                                              | $1$                     |\n",
    "| Gaussian $p(x|\\mu, \\sigma^2)$                | $\\begin{bmatrix} \\mu / \\sigma^2 \\\\  -1 / (2\\sigma^2) \\end{bmatrix}$ | $\\begin{bmatrix} x \\\\ x^2 \\end{bmatrix}$ | $(-2 \\eta_2)^{1/2} \\exp \\left( \\frac{\\eta_1^2}{4\\eta_2} \\right)$ | $(2\\pi)^{\\frac{-1}{2}}$ |"
   ]
  },
  {
   "cell_type": "markdown",
   "metadata": {},
   "source": [
    "Note, for Gaussian distribution, $g(\\boldsymbol{\\eta})$ can be reduced to $\\frac{1}{\\sigma} \\exp \\left( - \\frac{\\mu^2}{2 \\sigma^2} \\right)$."
   ]
  },
  {
   "cell_type": "markdown",
   "metadata": {},
   "source": [
    "### Maximum likelihood estimate for exponential family distribution"
   ]
  },
  {
   "cell_type": "markdown",
   "metadata": {},
   "source": [
    "Solving the ML estimator leads to"
   ]
  },
  {
   "cell_type": "markdown",
   "metadata": {},
   "source": [
    "$$-\\nabla \\ln g(\\boldsymbol{\\eta}_{\\text{ML}}) = \\frac{1}{N} \\sum_{n=1}^N \\mathbf{u}(\\mathbf{x}_n)$$"
   ]
  },
  {
   "cell_type": "code",
   "execution_count": null,
   "metadata": {},
   "outputs": [],
   "source": []
  },
  {
   "cell_type": "markdown",
   "metadata": {},
   "source": [
    "For **Bernoulli distribution**,"
   ]
  },
  {
   "cell_type": "markdown",
   "metadata": {},
   "source": [
    "\\begin{align*}\n",
    "g(\\eta)\n",
    "&= \\sigma(- \\eta) \\\\\n",
    "&= \\frac{1}{1 + e^\\eta} \\\\\n",
    "\\ln g(\\eta)\n",
    "&= - \\ln (1 + e^\\eta) \\\\\n",
    "\\nabla \\ln g(\\eta)\n",
    "&= - \\frac{1}{1 + e^\\eta} e^\\eta \\\\\n",
    "- \\nabla \\ln g(\\eta)\n",
    "&= \\frac{1}{1 + e^\\eta} e^\\eta\n",
    "\\end{align*}"
   ]
  },
  {
   "cell_type": "markdown",
   "metadata": {},
   "source": [
    "Given $\\eta = \\ln \\frac{\\mu}{1 - \\mu}$,"
   ]
  },
  {
   "cell_type": "markdown",
   "metadata": {},
   "source": [
    "\\begin{align*}\n",
    "- \\nabla \\ln g(\\eta) \n",
    "&= \\frac{1}{\\frac{1}{1 - \\mu}} \\frac{\\mu}{1 - \\mu} = \\mu\n",
    "\\end{align*}"
   ]
  },
  {
   "cell_type": "markdown",
   "metadata": {},
   "source": [
    "Therefore,"
   ]
  },
  {
   "cell_type": "markdown",
   "metadata": {},
   "source": [
    "$$-\\nabla \\ln g(\\boldsymbol{\\eta}_{\\text{ML}}) = \\mu_{\\text{ML}} = \\frac{1}{N} \\sum_{n=1}^N \\mathbf{u}(\\mathbf{x}_n)$$"
   ]
  },
  {
   "cell_type": "markdown",
   "metadata": {},
   "source": [
    "which matches the result when calculating the maximum likelihood estimate of $\\mu$ for a Bernoulli distribution directly."
   ]
  },
  {
   "cell_type": "markdown",
   "metadata": {},
   "source": [
    "For **Gaussian distribution**,"
   ]
  },
  {
   "cell_type": "markdown",
   "metadata": {},
   "source": [
    "\\begin{align*}\n",
    "g(\\boldsymbol{\\eta})\n",
    "&= (-2 \\eta_2)^{1/2} \\exp \\left( \\frac{\\eta_1^2}{4\\eta_2} \\right) \\\\\n",
    "\\ln g(\\boldsymbol{\\eta})\n",
    "&= \\frac{1}{2} \\ln \\left( - 2 \\eta_2 \\right ) + \\frac{\\eta_1^2}{4 \\eta_2} \\\\\n",
    "\\nabla \\ln g(\\boldsymbol{\\eta})\n",
    "&= \\begin{bmatrix}\n",
    "\\frac{\\eta_1}{2 \\eta_2} \\\\ \n",
    "\\frac{1}{2\\eta_2} - \\frac{1}{4} \\frac{\\eta_1^2}{\\eta_2^2}\n",
    "\\end{bmatrix} \\\\\n",
    "&= \\begin{bmatrix}\n",
    "- \\mu \\\\ \n",
    "- \\sigma^2 - \\mu^2\n",
    "\\end{bmatrix} \\\\\n",
    "- \\nabla \\ln g(\\boldsymbol{\\eta})\n",
    "&= \\begin{bmatrix}\n",
    "\\mu \\\\ \n",
    "\\sigma^2 + \\mu^2\n",
    "\\end{bmatrix} \\\\\n",
    "\\end{align*}"
   ]
  },
  {
   "cell_type": "markdown",
   "metadata": {},
   "source": [
    "Thefore,"
   ]
  },
  {
   "cell_type": "markdown",
   "metadata": {},
   "source": [
    "\\begin{align*}\n",
    "-\\nabla \\ln g(\\boldsymbol{\\eta}_{\\text{ML}})\n",
    "&= \\begin{bmatrix}\n",
    "\\mu_{\\text{ML}} \\\\ \n",
    "\\sigma_{\\text{ML}}^2 + \\mu_{\\text{ML}}^2\n",
    "\\end{bmatrix} \\\\\n",
    "&= \\frac{1}{N} \\sum_{n=1}^N \\mathbf{u}(\\mathbf{x}_n) \\\\\n",
    "&= \\frac{1}{N} \\sum_{n=1}^N \\begin{bmatrix}\n",
    "x_n \\\\ \n",
    "x_n^2\n",
    "\\end{bmatrix} \\\\\n",
    "\\mu_{\\text{ML}}\n",
    "&= \\frac{1}{N} \\sum_{n=1}^N x_n \\\\\n",
    "\\sigma^2_{\\text{ML}}\n",
    "&= \\frac{1}{N} \\sum_{n=1}^N x_n^2 - \\mu_{\\text{ML}}^2 \\\\\n",
    "&= \\frac{1}{N} \\sum_{n=1}^N x_n^2 - \\left(\\frac{1}{N} \\sum_{n=1}^N x_n \\right )^2 \\\\\n",
    "&= \\frac{1}{N} \\sum_{n=1}^N \\left( x_n - \\mu_{\\text{ML}} \\right )^2\n",
    "\\end{align*}"
   ]
  },
  {
   "cell_type": "markdown",
   "metadata": {},
   "source": [
    "which also match the results when calculating the maximum likelihood estimates of $\\mu$ and $\\sigma$ for a Gaussian distribution directly."
   ]
  }
 ],
 "metadata": {
  "kernelspec": {
   "display_name": "Python 3",
   "language": "python",
   "name": "python3"
  },
  "language_info": {
   "codemirror_mode": {
    "name": "ipython",
    "version": 3
   },
   "file_extension": ".py",
   "mimetype": "text/x-python",
   "name": "python",
   "nbconvert_exporter": "python",
   "pygments_lexer": "ipython3",
   "version": "3.8.6"
  }
 },
 "nbformat": 4,
 "nbformat_minor": 4
}
