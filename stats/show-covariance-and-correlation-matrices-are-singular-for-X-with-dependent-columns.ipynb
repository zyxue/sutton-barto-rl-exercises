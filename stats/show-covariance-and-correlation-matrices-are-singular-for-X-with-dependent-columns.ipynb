{
 "cells": [
  {
   "cell_type": "code",
   "execution_count": 1,
   "metadata": {},
   "outputs": [],
   "source": [
    "import numpy as np\n",
    "import pandas as pd"
   ]
  },
  {
   "cell_type": "markdown",
   "metadata": {},
   "source": [
    "# Show coefficients become undetermined in the case of collinearity"
   ]
  },
  {
   "cell_type": "markdown",
   "metadata": {},
   "source": [
    "let"
   ]
  },
  {
   "cell_type": "markdown",
   "metadata": {},
   "source": [
    "\\begin{align*}\n",
    "X = \\begin{bmatrix}\n",
    "| & | & | \\\\ \n",
    "\\mathbf{x}_1 & \\mathbf{x}_2 & \\mathbf{x}_3 \\\\ \n",
    "| & | & |\n",
    "\\end{bmatrix}\n",
    "\\end{align*}"
   ]
  },
  {
   "cell_type": "markdown",
   "metadata": {},
   "source": [
    "Suppose the model is"
   ]
  },
  {
   "cell_type": "markdown",
   "metadata": {},
   "source": [
    "$$\n",
    "\\mathbf{y} = w_1 \\mathbf{x}_1 + w_2 \\mathbf{x}_2 + w_3 \\mathbf{x}_3\n",
    "$$"
   ]
  },
  {
   "cell_type": "markdown",
   "metadata": {},
   "source": [
    "and $\\mathbf{x}_3$ is dependent of $\\mathbf{x}_1$ and $\\mathbf{x}_2$"
   ]
  },
  {
   "cell_type": "markdown",
   "metadata": {},
   "source": [
    "$$\n",
    "\\mathbf{x}_3 = a \\mathbf{x}_1 + b \\mathbf{x}_2\n",
    "$$"
   ]
  },
  {
   "cell_type": "markdown",
   "metadata": {},
   "source": [
    "So the model can be converted into"
   ]
  },
  {
   "cell_type": "markdown",
   "metadata": {},
   "source": [
    "\\begin{align*}\n",
    "\\mathbf{y} \n",
    "&= w_1 \\mathbf{x}_1 + w_2 \\mathbf{x}_2 + w_3 \\mathbf{x}_3 \\\\\n",
    "&= w_1 \\mathbf{x}_1 + w_2 \\mathbf{x}_2 + w_3 (a \\mathbf{x}_1 + b \\mathbf{x}_2) \\\\\n",
    "&= (w_1 + a w_3) \\mathbf{x}_1 + (w_2 + b w_3) \\mathbf{x}_2 \\\\\n",
    "&= \\gamma_1 \\mathbf{x}_1 + \\gamma_2 \\mathbf{x}_2\n",
    "\\end{align*}"
   ]
  },
  {
   "cell_type": "markdown",
   "metadata": {},
   "source": [
    "where"
   ]
  },
  {
   "cell_type": "markdown",
   "metadata": {},
   "source": [
    "\\begin{align*}\n",
    "\\gamma_1 &= w_1 + a w_3 \\\\\n",
    "\\gamma_2 &= w_2 + b w_3\n",
    "\\end{align*}"
   ]
  },
  {
   "cell_type": "markdown",
   "metadata": {},
   "source": [
    "So there are actually just two variables $\\mathbf{x}_1$ and $\\mathbf{x}_3$, a linear system with three coefficients ($w_1$, $w_2$, $w_3$) is undetermined."
   ]
  },
  {
   "cell_type": "markdown",
   "metadata": {},
   "source": [
    "Using the analytical solution to a linear system ($(X^TX)^{-1}X^T \\mathbf{y}$) become impossible because $X^T X$ is singular with dependent columns."
   ]
  },
  {
   "cell_type": "markdown",
   "metadata": {},
   "source": [
    "Note, undetermined coefficients also mean the coefficients have infinite standard deviations."
   ]
  },
  {
   "cell_type": "markdown",
   "metadata": {},
   "source": [
    "# Show covariance matrix is singular for $X$ with dependent columns"
   ]
  },
  {
   "cell_type": "markdown",
   "metadata": {},
   "source": [
    "Suppose X is $m \\times n$."
   ]
  },
  {
   "cell_type": "markdown",
   "metadata": {},
   "source": [
    "\\begin{align*}\n",
    "X = \\begin{bmatrix}\n",
    "| & \\cdots & | \\\\ \n",
    "\\mathbf{x}_1 & \\cdots & \\mathbf{x}_n \\\\ \n",
    "| & \\cdots & |\n",
    "\\end{bmatrix}\n",
    "\\end{align*}"
   ]
  },
  {
   "cell_type": "markdown",
   "metadata": {},
   "source": [
    "For two random variables, $X_1$ and $X_2$, their covariance is defined as "
   ]
  },
  {
   "cell_type": "markdown",
   "metadata": {},
   "source": [
    "\\begin{align}\n",
    "    \\text{Cov}(X_1, X_2)\n",
    "    &= \\mathbb{E}[(X_1 - \\mathbb{E}[X_1])(X_2 - \\mathbb{E}[X_2])] \\nonumber \\\\\n",
    "\\end{align}"
   ]
  },
  {
   "cell_type": "markdown",
   "metadata": {},
   "source": [
    "Standardize X by removing the column mean from each column,"
   ]
  },
  {
   "cell_type": "markdown",
   "metadata": {},
   "source": [
    "\\begin{align*}\n",
    "\\bar{X}\n",
    "&= X - \\frac{1}{m} \\mathbb{1}_m \\mathbb{1}_m^T X \\\\\n",
    "&= \\left( I_m - \\frac{1}{m} \\mathbb{1}_m \\mathbb{1}_m^T \\right) X \\\\\n",
    "\\end{align*}"
   ]
  },
  {
   "cell_type": "markdown",
   "metadata": {},
   "source": [
    "Note,\n",
    "\n",
    "* $I_m$ is a $m \\times m$ identity matrix.\n",
    "* $\\mathbb{1}_m$ is a $m \\times 1$ vector of ones."
   ]
  },
  {
   "cell_type": "markdown",
   "metadata": {},
   "source": [
    "Then the covariance matrix can be written as "
   ]
  },
  {
   "cell_type": "markdown",
   "metadata": {},
   "source": [
    "\\begin{align*}\n",
    "S \n",
    "&= \\frac{1}{m - 1} \\bar{X}^T \\bar{X} \\\\\n",
    "&= \\frac{1}{m - 1} X^T \\left( I_m - \\frac{1}{m} \\mathbb{1}_m \\mathbb{1}_m^T \\right)^T \\left( I_m - \\frac{1}{m} \\mathbb{1}_m \\mathbb{1}_m^T \\right) X\n",
    "\\end{align*}"
   ]
  },
  {
   "cell_type": "markdown",
   "metadata": {},
   "source": [
    "If $X$ has dependent columns, meaning there exists non-zero solution $\\mathbf{w}$ for $X \\mathbf{w} = \\mathbf{0}$, hen it's also a solution to $\\bar{X} \\mathbf{w} = 0$, then this $\\mathbf{w}$ is also a solution to $S \\mathbf{w} = 0$, hence $S$ is singular."
   ]
  },
  {
   "cell_type": "markdown",
   "metadata": {},
   "source": [
    "# Show correlation matrix is singular for $X$ with dependent columns"
   ]
  },
  {
   "cell_type": "markdown",
   "metadata": {},
   "source": [
    "The vector of standard deviations is"
   ]
  },
  {
   "cell_type": "markdown",
   "metadata": {},
   "source": [
    "\\begin{align*}\n",
    "\\boldsymbol{\\sigma}\n",
    "&= \\left( \\frac{1}{m - 1} \\mathbb{1}_m^T \\bar{X}^{\\circ 2} \\right)^{\\circ \\frac{1}{2}}\n",
    "\\end{align*}"
   ]
  },
  {
   "cell_type": "markdown",
   "metadata": {},
   "source": [
    "Note,\n",
    "\n",
    "* $\\circ 2$ means element-wise product (Hadamard product).\n",
    "* $\\circ \\frac{1}{2}$ means element-wise square root.\n",
    "* $\\boldsymbol{\\sigma}$ is of shape $1 \\times n$.\n",
    "\n",
    "Ref: https://en.wikipedia.org/wiki/Hadamard_product_(matrices)#Analogous_operations"
   ]
  },
  {
   "cell_type": "markdown",
   "metadata": {},
   "source": [
    "Define"
   ]
  },
  {
   "cell_type": "markdown",
   "metadata": {},
   "source": [
    "\\begin{align*}\n",
    "Y_i \n",
    "&= \\bar{X_i} / \\sigma_i \\\\\n",
    "Y \n",
    "&= \\begin{bmatrix}\n",
    "| & \\cdots & | \\\\ \n",
    "\\bar{X}_1 / \\sigma_1 & \\cdots & \\bar{X}_n / \\sigma_n \\\\ \n",
    "| & \\cdots & |\n",
    "\\end{bmatrix}\n",
    "\\end{align*}"
   ]
  },
  {
   "cell_type": "markdown",
   "metadata": {},
   "source": [
    "Then the Pearson correlation matrix can be written as"
   ]
  },
  {
   "cell_type": "markdown",
   "metadata": {},
   "source": [
    "\\begin{align*}\n",
    "P \n",
    "&= Y^T Y \\\\\n",
    "&= \\begin{bmatrix}\n",
    "\\frac{\\bar{X}_1^T \\bar{X}_1}{\\sigma_1 \\sigma_1} & \\cdots & \\frac{\\bar{X}_1^T \\bar{X}_n}{\\sigma_1 \\sigma_n} \\\\ \n",
    "\\vdots & \\ddots & \\vdots \\\\ \n",
    "\\frac{\\bar{X}_n^T \\bar{X}_1}{\\sigma_n \\sigma_1}| & \\cdots & \\frac{\\bar{X}_n^T \\bar{X}_n}{\\sigma_n \\sigma_n}\n",
    "\\end{bmatrix}\n",
    "\\end{align*}"
   ]
  },
  {
   "cell_type": "markdown",
   "metadata": {},
   "source": [
    "if $\\mathbf{w}$ is an non-zero solution to $\\bar{X} \\mathbf{w} = 0$ as shown in the above covariance matrix section, then $\\mathbf{w} \\circ \\boldsymbol{\\sigma}$ is a non-zero solution to $P \\mathbf{v} = \\mathbf{0}$:"
   ]
  },
  {
   "cell_type": "markdown",
   "metadata": {},
   "source": [
    "\\begin{align*}\n",
    "P (\\mathbf{w} \\circ \\boldsymbol{\\sigma})\n",
    "&= \\begin{bmatrix}\n",
    "\\frac{\\bar{X}_1^T \\bar{X}_1}{\\sigma_1 \\sigma_1} & \\cdots & \\frac{\\bar{X}_1^T \\bar{X}_n}{\\sigma_1 \\sigma_n} \\\\ \n",
    "\\vdots & \\ddots & \\vdots \\\\ \n",
    "\\frac{\\bar{X}_n^T \\bar{X}_1}{\\sigma_n \\sigma_1}| & \\cdots & \\frac{\\bar{X}_n^T \\bar{X}_n}{\\sigma_n \\sigma_n} \n",
    "\\end{bmatrix}\n",
    "\\begin{bmatrix}\n",
    "w_1 \\sigma_1 \\\\ \n",
    "\\vdots \\\\ \n",
    "w_n \\sigma_n\n",
    "\\end{bmatrix} \\\\\n",
    "&= \\begin{bmatrix}\n",
    "\\frac{\\bar{X}_1^T}{\\sigma_1} \\bar{X} \\mathbf{w} \\\\ \n",
    "\\vdots \\\\ \n",
    "\\frac{\\bar{X}_n^T}{\\sigma_n} \\bar{X} \\mathbf{w} \\\\ \n",
    "\\end{bmatrix} \\\\\n",
    "&= \\mathbf{0}\n",
    "\\end{align*}"
   ]
  },
  {
   "cell_type": "markdown",
   "metadata": {},
   "source": [
    "# Demo"
   ]
  },
  {
   "cell_type": "code",
   "execution_count": 1,
   "metadata": {},
   "outputs": [],
   "source": [
    "from numpy.random import default_rng\n",
    "\n",
    "rng = default_rng()\n",
    "\n",
    "vals = rng.standard_normal(size=(2, 13))"
   ]
  },
  {
   "cell_type": "code",
   "execution_count": 2,
   "metadata": {},
   "outputs": [],
   "source": [
    "df = pd.DataFrame(vals.T, columns=['x1', 'x2'])"
   ]
  },
  {
   "cell_type": "code",
   "execution_count": 12,
   "metadata": {},
   "outputs": [],
   "source": [
    "df['x3'] = df['x1'] + 2 * df['x2']"
   ]
  },
  {
   "cell_type": "code",
   "execution_count": 14,
   "metadata": {},
   "outputs": [],
   "source": [
    "m, n = df.shape\n",
    "X = df.to_numpy()"
   ]
  },
  {
   "cell_type": "code",
   "execution_count": 24,
   "metadata": {},
   "outputs": [],
   "source": [
    "# known solution to Xw = 0\n",
    "w = np.array([[1, 2, -1]]).reshape(-1, 1)"
   ]
  },
  {
   "cell_type": "code",
   "execution_count": 26,
   "metadata": {},
   "outputs": [
    {
     "data": {
      "text/plain": [
       "array([[0.],\n",
       "       [0.],\n",
       "       [0.],\n",
       "       [0.],\n",
       "       [0.],\n",
       "       [0.],\n",
       "       [0.],\n",
       "       [0.],\n",
       "       [0.],\n",
       "       [0.],\n",
       "       [0.],\n",
       "       [0.],\n",
       "       [0.]])"
      ]
     },
     "execution_count": 26,
     "metadata": {},
     "output_type": "execute_result"
    }
   ],
   "source": [
    "X @ w"
   ]
  },
  {
   "cell_type": "code",
   "execution_count": 15,
   "metadata": {},
   "outputs": [],
   "source": [
    "ones = np.ones(shape=(m, 1))"
   ]
  },
  {
   "cell_type": "code",
   "execution_count": 16,
   "metadata": {},
   "outputs": [],
   "source": [
    "X_bar = (np.identity(m) - ones @ ones.T / m) @ X"
   ]
  },
  {
   "cell_type": "code",
   "execution_count": 17,
   "metadata": {},
   "outputs": [],
   "source": [
    "# Covariance matrix\n",
    "S = 1 / (m - 1) * X_bar.T @ X_bar "
   ]
  },
  {
   "cell_type": "code",
   "execution_count": 18,
   "metadata": {},
   "outputs": [
    {
     "data": {
      "text/plain": [
       "array([[0.55084321, 0.02638258, 0.60360838],\n",
       "       [0.02638258, 1.18907404, 2.40453067],\n",
       "       [0.60360838, 2.40453067, 5.41266972]])"
      ]
     },
     "execution_count": 18,
     "metadata": {},
     "output_type": "execute_result"
    }
   ],
   "source": [
    "S"
   ]
  },
  {
   "cell_type": "code",
   "execution_count": 19,
   "metadata": {},
   "outputs": [],
   "source": [
    "np.testing.assert_allclose(S, df.cov())"
   ]
  },
  {
   "cell_type": "code",
   "execution_count": 20,
   "metadata": {},
   "outputs": [
    {
     "data": {
      "text/plain": [
       "1.1622655245749468e-15"
      ]
     },
     "execution_count": 20,
     "metadata": {},
     "output_type": "execute_result"
    }
   ],
   "source": [
    "np.linalg.det(S)"
   ]
  },
  {
   "cell_type": "code",
   "execution_count": 55,
   "metadata": {},
   "outputs": [
    {
     "data": {
      "text/plain": [
       "array([[ 1.11022302e-16],\n",
       "       [ 0.00000000e+00],\n",
       "       [-1.77635684e-15]])"
      ]
     },
     "execution_count": 55,
     "metadata": {},
     "output_type": "execute_result"
    }
   ],
   "source": [
    "# confirm w is also a solution to S\n",
    "S @ w"
   ]
  },
  {
   "cell_type": "code",
   "execution_count": 29,
   "metadata": {},
   "outputs": [],
   "source": [
    "np.testing.assert_allclose(S @ w, np.zeros(shape=(n, 1)), atol=1e-8)"
   ]
  },
  {
   "cell_type": "code",
   "execution_count": 30,
   "metadata": {},
   "outputs": [],
   "source": [
    "σ = np.sqrt(ones.T @ X_bar**2 / (m - 1))"
   ]
  },
  {
   "cell_type": "code",
   "execution_count": 31,
   "metadata": {},
   "outputs": [
    {
     "data": {
      "text/plain": [
       "array([[0.74218812, 1.09044672, 2.3265145 ]])"
      ]
     },
     "execution_count": 31,
     "metadata": {},
     "output_type": "execute_result"
    }
   ],
   "source": [
    "σ"
   ]
  },
  {
   "cell_type": "code",
   "execution_count": 36,
   "metadata": {},
   "outputs": [],
   "source": [
    "np.testing.assert_allclose(σ.ravel(), df.std().to_numpy())"
   ]
  },
  {
   "cell_type": "code",
   "execution_count": 38,
   "metadata": {},
   "outputs": [],
   "source": [
    "# confirm w \\circ \\sigma is also a solution to P"
   ]
  },
  {
   "cell_type": "code",
   "execution_count": 51,
   "metadata": {},
   "outputs": [],
   "source": [
    "# Correlation matrix\n",
    "Y = X_bar / σ\n",
    "P = Y.T @ Y / (m - 1)"
   ]
  },
  {
   "cell_type": "code",
   "execution_count": 52,
   "metadata": {},
   "outputs": [
    {
     "data": {
      "text/plain": [
       "array([[1.        , 0.0325986 , 0.34957108],\n",
       "       [0.0325986 , 1.        , 0.94780743],\n",
       "       [0.34957108, 0.94780743, 1.        ]])"
      ]
     },
     "execution_count": 52,
     "metadata": {},
     "output_type": "execute_result"
    }
   ],
   "source": [
    "P"
   ]
  },
  {
   "cell_type": "code",
   "execution_count": 53,
   "metadata": {},
   "outputs": [],
   "source": [
    "np.testing.assert_allclose(P, df.corr())"
   ]
  },
  {
   "cell_type": "code",
   "execution_count": 58,
   "metadata": {},
   "outputs": [
    {
     "data": {
      "text/plain": [
       "array([[ 0.74218812],\n",
       "       [ 2.18089343],\n",
       "       [-2.3265145 ]])"
      ]
     },
     "execution_count": 58,
     "metadata": {},
     "output_type": "execute_result"
    }
   ],
   "source": [
    "w * σ.T"
   ]
  },
  {
   "cell_type": "code",
   "execution_count": 56,
   "metadata": {},
   "outputs": [
    {
     "data": {
      "text/plain": [
       "array([[0.0000000e+00],\n",
       "       [4.4408921e-16],\n",
       "       [4.4408921e-16]])"
      ]
     },
     "execution_count": 56,
     "metadata": {},
     "output_type": "execute_result"
    }
   ],
   "source": [
    "# Confirm w \\circ \\sigma is a solution to P\n",
    "P @ (w * σ.T)"
   ]
  },
  {
   "cell_type": "code",
   "execution_count": 57,
   "metadata": {},
   "outputs": [],
   "source": [
    "np.testing.assert_allclose(P @ (w * σ.T), np.zeros(shape=(n, 1)), atol=1e-8)"
   ]
  }
 ],
 "metadata": {
  "kernelspec": {
   "display_name": "Python 3",
   "language": "python",
   "name": "python3"
  },
  "language_info": {
   "codemirror_mode": {
    "name": "ipython",
    "version": 3
   },
   "file_extension": ".py",
   "mimetype": "text/x-python",
   "name": "python",
   "nbconvert_exporter": "python",
   "pygments_lexer": "ipython3",
   "version": "3.8.6"
  }
 },
 "nbformat": 4,
 "nbformat_minor": 4
}
