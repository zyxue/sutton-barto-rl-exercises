{
 "cells": [
  {
   "cell_type": "markdown",
   "metadata": {},
   "source": [
    "Rederives https://en.wikipedia.org/wiki/Fisher_information#Definition."
   ]
  },
  {
   "cell_type": "markdown",
   "metadata": {},
   "source": [
    "# Derive Fisher Information"
   ]
  },
  {
   "cell_type": "markdown",
   "metadata": {},
   "source": [
    "Let's denote $f = f_\\theta(X)$ as the maximum likelihood of $\\theta$ based on data $X$, which is the random variable. Then the log likelihood is $\\log f$."
   ]
  },
  {
   "cell_type": "markdown",
   "metadata": {},
   "source": [
    "Note, in the derivation below, when taking derivative, it's always wrt. $\\theta$, i.e. $\\nabla = \\nabla_\\theta$; when taking expectation, it's always wrt. $X$, i.e. $\\mathbb{E} = \\mathbb{E}_X$. $\\theta$ is not a random variable, but $X$ is."
   ]
  },
  {
   "cell_type": "markdown",
   "metadata": {},
   "source": [
    "First-order derivative of the log-likelihood wrt. $\\theta$,"
   ]
  },
  {
   "cell_type": "markdown",
   "metadata": {},
   "source": [
    "\\begin{align*}\n",
    "\\nabla \\log f\n",
    "&= \\frac{\\nabla f}{ f} = S\\\\\n",
    "\\end{align*}"
   ]
  },
  {
   "cell_type": "markdown",
   "metadata": {},
   "source": [
    "Note, $\\nabla \\log f$ is also known as the score, which we denote as $S$."
   ]
  },
  {
   "cell_type": "markdown",
   "metadata": {},
   "source": [
    "Second-order derivative,"
   ]
  },
  {
   "cell_type": "markdown",
   "metadata": {},
   "source": [
    "\\begin{align*}\n",
    "\\nabla^2 \\log f \n",
    "&= \\frac{ \\left(\\nabla^2 f \\right) f - \\nabla f \\nabla f }{ f^2} \\\\\n",
    "&= \\frac{\\nabla^2 f}{ f} - \\left( \\frac{\\nabla f}{f} \\right )^2 \\\\\n",
    "&= \\frac{\\nabla^2 f}{ f} - \\left( \\nabla \\log f \\right )^2 \\\\\n",
    "&= \\frac{\\nabla^2 f}{ f} - S^2 \\\\\n",
    "\\end{align*}"
   ]
  },
  {
   "cell_type": "markdown",
   "metadata": {},
   "source": [
    "Note, both first-order and second-order derivatives are random variables because $X$ is a random variable."
   ]
  },
  {
   "cell_type": "markdown",
   "metadata": {},
   "source": [
    "For the second-order derivative, take expectation on both sides wrt. data ($X$),"
   ]
  },
  {
   "cell_type": "markdown",
   "metadata": {},
   "source": [
    "\\begin{align*}\n",
    "\\mathbb{E} \\left[ \\nabla^2 \\log f \\right ]\n",
    "&= \\mathbb{E} \\left[ \\frac{ \\nabla^2 f }{ f} \\right] - \\mathbb{E} \\left[ S^2 \\right ]\n",
    "\\end{align*}"
   ]
  },
  {
   "cell_type": "markdown",
   "metadata": {},
   "source": [
    "Because $\\mathbb{E} \\left[ \\frac{ \\nabla^2 f }{ f} \\right] = 0$ and $\\mathbb{E} \\left[ S^2 \\right ] = \\text{Var}[S]$, i.e. the variance of $S$ (both proven in the appendix), so"
   ]
  },
  {
   "cell_type": "markdown",
   "metadata": {},
   "source": [
    "\\begin{align*}\n",
    "\\mathbb{E} \\left[ \\nabla^2 \\log f \\right ] = - \\text{Var}[S]\n",
    "\\end{align*}"
   ]
  },
  {
   "cell_type": "markdown",
   "metadata": {},
   "source": [
    "We define the Fisher information as "
   ]
  },
  {
   "cell_type": "markdown",
   "metadata": {},
   "source": [
    "\\begin{align*}\n",
    "\\mathcal{I}(\\theta) \n",
    "&= - \\mathbb{E}[\\nabla^2 \\log f] \\\\\n",
    "&= \\text{Var}[S] \\\\\n",
    "&= \\mathbb{E}\\left[S^2\\right] \\\\\n",
    "&= \\mathbb{E}\\left[(\\nabla \\log f)^2\\right]\n",
    "\\end{align*}"
   ]
  },
  {
   "cell_type": "markdown",
   "metadata": {},
   "source": [
    "i.e. the expectation of the second-order derivative, or the variance of the first-order derivative of log-likelihood."
   ]
  },
  {
   "cell_type": "code",
   "execution_count": null,
   "metadata": {},
   "outputs": [],
   "source": []
  },
  {
   "cell_type": "markdown",
   "metadata": {},
   "source": [
    "# Appendix"
   ]
  },
  {
   "cell_type": "markdown",
   "metadata": {},
   "source": [
    "##### Show $\\mathbb{E} \\left[ \\frac{ \\nabla^2 f }{ f} \\right] = 0$"
   ]
  },
  {
   "cell_type": "markdown",
   "metadata": {},
   "source": [
    "\\begin{align*}\n",
    "\\mathbb{E} \\left[ \\frac{\\nabla^2 f}{f} \\right ]\n",
    "&= \\int \\frac{\\nabla^2 f}{ f} f dX \\\\\n",
    "&= \\int \\nabla^2 f dX \\\\\n",
    "&= \\nabla^2 \\int f dX \\\\\n",
    "&= \\nabla^2 1 \\\\\n",
    "&= 0\n",
    "\\end{align*}"
   ]
  },
  {
   "cell_type": "markdown",
   "metadata": {},
   "source": [
    "Note, in the third equality, we swapped $\\nabla^2$ and $\\int$ because the derivatives are taken wrt. $\\theta$ while the integral is wrt. $X$."
   ]
  },
  {
   "cell_type": "markdown",
   "metadata": {},
   "source": [
    "##### Show $\\mathbb{E} \\left[ S^2 \\right ] = \\text{Var}[S]$"
   ]
  },
  {
   "cell_type": "markdown",
   "metadata": {},
   "source": [
    "By definition,"
   ]
  },
  {
   "cell_type": "markdown",
   "metadata": {},
   "source": [
    "\\begin{align*}\n",
    "\\text{Var}[S] = \\mathbb{E}[S^2] - \\mathbb{E}[S]^2 \\\\\n",
    "\\end{align*}"
   ]
  },
  {
   "cell_type": "markdown",
   "metadata": {},
   "source": [
    "Then, we just need to show $\\mathbb{E}[S] = 0$."
   ]
  },
  {
   "cell_type": "markdown",
   "metadata": {},
   "source": [
    "\\begin{align*}\n",
    "\\mathbb{E}[S] \n",
    "&= \\mathbb{E}[\\nabla \\log f] \\\\\n",
    "&= \\mathbb{E} \\left[\\frac{\\nabla f}{f} \\right] \\\\\n",
    "&= \\int \\frac{\\nabla f}{f} f dX \\\\\n",
    "&= \\int \\nabla f dX \\\\\n",
    "&= \\nabla \\int f dX \\\\\n",
    "&= \\nabla 1 \\\\\n",
    "&= 0\n",
    "\\end{align*}"
   ]
  },
  {
   "cell_type": "markdown",
   "metadata": {},
   "source": [
    "Note, the proof is very similar to that of $\\mathbb{E} \\left[ \\frac{ \\nabla^2 f }{ f} \\right] = 0$. In general, $\n",
    "\\mathbb{E} \\left[ \\frac{\\nabla^k f}{f} \\right ] = 0$, where $k = 1, 2, 3, \\cdots$."
   ]
  },
  {
   "cell_type": "markdown",
   "metadata": {},
   "source": [
    "Therefore,"
   ]
  },
  {
   "cell_type": "markdown",
   "metadata": {},
   "source": [
    "\\begin{align*}\n",
    "\\text{Var}[S] = \\mathbb{E}[S^2]\n",
    "\\end{align*}"
   ]
  }
 ],
 "metadata": {
  "kernelspec": {
   "display_name": "Python 3 (ipykernel)",
   "language": "python",
   "name": "python3"
  },
  "language_info": {
   "codemirror_mode": {
    "name": "ipython",
    "version": 3
   },
   "file_extension": ".py",
   "mimetype": "text/x-python",
   "name": "python",
   "nbconvert_exporter": "python",
   "pygments_lexer": "ipython3",
   "version": "3.10.7"
  }
 },
 "nbformat": 4,
 "nbformat_minor": 4
}
