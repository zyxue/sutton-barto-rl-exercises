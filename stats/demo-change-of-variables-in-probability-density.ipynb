{
 "cells": [
  {
   "cell_type": "markdown",
   "metadata": {},
   "source": [
    "# Theory"
   ]
  },
  {
   "cell_type": "markdown",
   "metadata": {},
   "source": [
    "Let $X$, $Y$ be two random variables, and $X = g(Y)$. \n",
    "\n",
    "Let the CDFs (cumulative distribution functions) be"
   ]
  },
  {
   "cell_type": "markdown",
   "metadata": {},
   "source": [
    "\\begin{align*}\n",
    "F_X(x) \n",
    "&= P(X \\le x) \\\\\n",
    "&= P(g(Y) \\le x) \\\\\n",
    "&= P(Y \\le g^{-1}(x)) \\\\\n",
    "&= F_Y\\left(g^{-1}(x)\\right)\n",
    "\\end{align*}"
   ]
  },
  {
   "cell_type": "markdown",
   "metadata": {},
   "source": [
    "Take derivative on both sides to get the PDFs (probability density functions),"
   ]
  },
  {
   "cell_type": "markdown",
   "metadata": {},
   "source": [
    "\\begin{align*}\n",
    "\\frac{\\partial F_X(x)}{\\partial x} \n",
    "&= \\frac{\\partial F_Y \\left(g^{-1}(x) \\right)}{\\partial x} \\\\\n",
    "&= \\frac{\\partial F_Y}{\\partial g^{-1}(x)} \\frac{\\partial g^{-1}(x)}{\\partial x} \\\\\n",
    "p_X(x) &= p_Y(y) \\frac{dy}{dx} \\\\\n",
    "p_Y(y)\n",
    "&= p_X(x) \\frac{dx}{dy} \\\\\n",
    "&= p_X\\left(g(y) \\right) \\frac{dx}{dy} \\\\\n",
    "\\end{align*}"
   ]
  },
  {
   "cell_type": "markdown",
   "metadata": {},
   "source": [
    "To adjust for $y = g^{-1}(x)$ with decreasing monotonicity, we take absolute value of the derivative. Therefore,"
   ]
  },
  {
   "cell_type": "markdown",
   "metadata": {},
   "source": [
    "\\begin{align*}\n",
    "p_Y(y) \n",
    "&= p_X(x) \\left| \\frac{dx}{dy} \\right| \\\\\n",
    "&= p_X\\left(g(y)\\right) \\left| \\frac{dx}{dy} \\right|\n",
    "\\end{align*}"
   ]
  },
  {
   "cell_type": "markdown",
   "metadata": {},
   "source": [
    "# Experiment"
   ]
  },
  {
   "cell_type": "code",
   "execution_count": 1,
   "metadata": {},
   "outputs": [],
   "source": [
    "import matplotlib.pyplot as plt\n",
    "import numpy as np"
   ]
  },
  {
   "cell_type": "markdown",
   "metadata": {},
   "source": [
    "# Linear transformation"
   ]
  },
  {
   "cell_type": "code",
   "execution_count": 2,
   "metadata": {},
   "outputs": [],
   "source": [
    "def g_func(y):\n",
    "    \"\"\"x = g(y).\"\"\"\n",
    "    return - 4 * y"
   ]
  },
  {
   "cell_type": "code",
   "execution_count": 3,
   "metadata": {},
   "outputs": [],
   "source": [
    "def g_func_inv(x):\n",
    "    \"\"\"y = g^{-1}(x).\n",
    "    \n",
    "    Inverse of g_func.\n",
    "    \n",
    "    Returns:\n",
    "        a value between (0, 1).\n",
    "    \"\"\"\n",
    "    return - 1 / 4 * x"
   ]
  },
  {
   "cell_type": "code",
   "execution_count": 4,
   "metadata": {},
   "outputs": [],
   "source": [
    "def pdf_x(x):\n",
    "    \"\"\"Probability density function of X, a standard Gaussian.\"\"\"\n",
    "    return 1 / np.sqrt(2 * np.pi) * np.exp(- 0.5 * x ** 2)"
   ]
  },
  {
   "cell_type": "code",
   "execution_count": 5,
   "metadata": {},
   "outputs": [],
   "source": [
    "def abs_dx_dy_ratio(y):\n",
    "    return 4"
   ]
  },
  {
   "cell_type": "code",
   "execution_count": 6,
   "metadata": {},
   "outputs": [],
   "source": [
    "def pdf_y(y):\n",
    "    \"\"\"Probability density function of Y.\"\"\"\n",
    "    x = g_func(y)\n",
    "    return pdf_x(x) * abs_dx_dy_ratio(y)"
   ]
  },
  {
   "cell_type": "code",
   "execution_count": 7,
   "metadata": {},
   "outputs": [],
   "source": [
    "sample_x = np.sort(np.random.normal(size=100000))\n",
    "sample_y = g_func_inv(sample_x)"
   ]
  },
  {
   "cell_type": "code",
   "execution_count": 8,
   "metadata": {},
   "outputs": [
    {
     "data": {
      "text/plain": [
       "Text(0, 0.5, 'Density')"
      ]
     },
     "execution_count": 8,
     "metadata": {},
     "output_type": "execute_result"
    },
    {
     "data": {
      "image/png": "[encoded data removed]",
      "text/plain": [
       "<Figure size 432x288 with 1 Axes>"
      ]
     },
     "metadata": {
      "needs_background": "light"
     },
     "output_type": "display_data"
    }
   ],
   "source": [
    "_ = plt.hist(sample_x, bins=np.linspace(-4, 4, 100), density=True)\n",
    "plt.plot(sample_x, pdf_x(sample_x), lw=3)\n",
    "plt.xlabel('x')\n",
    "plt.ylabel('Density')"
   ]
  },
  {
   "cell_type": "code",
   "execution_count": 9,
   "metadata": {},
   "outputs": [],
   "source": [
    "bins_y = np.linspace(-4, 4, 100)"
   ]
  },
  {
   "cell_type": "code",
   "execution_count": 10,
   "metadata": {},
   "outputs": [],
   "source": [
    "norm = np.sum(pdf_x(g_func(bins_y)))"
   ]
  },
  {
   "cell_type": "code",
   "execution_count": 11,
   "metadata": {},
   "outputs": [
    {
     "data": {
      "text/plain": [
       "Text(0, 0.5, 'Density')"
      ]
     },
     "execution_count": 11,
     "metadata": {},
     "output_type": "execute_result"
    },
    {
     "data": {
      "image/png": "[encoded data removed]",
      "text/plain": [
       "<Figure size 432x288 with 1 Axes>"
      ]
     },
     "metadata": {
      "needs_background": "light"
     },
     "output_type": "display_data"
    }
   ],
   "source": [
    "_ = plt.hist(sample_y, bins=bins_y, density=True)\n",
    "plt.plot(bins_y, pdf_y(bins_y), lw=3, label='$p_Y = p_X (g(y)) | dx/dy|$')\n",
    "plt.legend()\n",
    "plt.xlabel('y')\n",
    "plt.ylabel('Density')"
   ]
  },
  {
   "cell_type": "markdown",
   "metadata": {},
   "source": [
    "As seen, $p_X(g(y))$ won't integrate to 1 as $y \\in (0, 1)$, and $p_x(g(y))$ won't cover the whole $x$ axis, as shown below."
   ]
  },
  {
   "cell_type": "code",
   "execution_count": 12,
   "metadata": {},
   "outputs": [],
   "source": [
    "ys = np.linspace(0, 1, 100)"
   ]
  },
  {
   "cell_type": "code",
   "execution_count": 13,
   "metadata": {},
   "outputs": [
    {
     "data": {
      "text/plain": [
       "Text(0.5, 1.0, '$x = g^{-1}(y)$')"
      ]
     },
     "execution_count": 13,
     "metadata": {},
     "output_type": "execute_result"
    },
    {
     "data": {
      "image/png": "[encoded data removed]",
      "text/plain": [
       "<Figure size 432x288 with 1 Axes>"
      ]
     },
     "metadata": {
      "needs_background": "light"
     },
     "output_type": "display_data"
    }
   ],
   "source": [
    "plt.plot(ys, g_func_inv(ys))\n",
    "plt.xlabel('y')\n",
    "plt.ylabel('x')\n",
    "plt.title('$x = g^{-1}(y)$')"
   ]
  },
  {
   "cell_type": "markdown",
   "metadata": {},
   "source": [
    "Also note, as $g^{-1}(x)$ is monotonically decreasing, so the absolute value around $\\left|\\frac{dx}{dy}\\right|$ is required."
   ]
  },
  {
   "cell_type": "markdown",
   "metadata": {},
   "source": [
    "# Non-linear transformation"
   ]
  },
  {
   "cell_type": "markdown",
   "metadata": {},
   "source": [
    "We sample $x$ from a standard Gaussian, "
   ]
  },
  {
   "cell_type": "markdown",
   "metadata": {},
   "source": [
    "\\begin{align*}\n",
    "p_X(x) &= \\frac{1}{\\sqrt{2 \\pi}} \\exp \\left(-\\frac{1}{2} x^2 \\right) \\\\\n",
    "\\end{align*}"
   ]
  },
  {
   "cell_type": "markdown",
   "metadata": {},
   "source": [
    "Then apply a sigmoid function to $x$ to sample $y$,"
   ]
  },
  {
   "cell_type": "markdown",
   "metadata": {},
   "source": [
    "\\begin{align*}\n",
    "y &= g^{-1}(x) = \\frac{1}{1 + \\exp(-x + 2)} \\\\\n",
    "\\end{align*}"
   ]
  },
  {
   "cell_type": "markdown",
   "metadata": {},
   "source": [
    "from which, we also get"
   ]
  },
  {
   "cell_type": "markdown",
   "metadata": {},
   "source": [
    "\\begin{align*}\n",
    "x &= g(y) = \\ln y - \\ln(1 - y) + 2 \\\\\n",
    "\\frac{dx}{dy} &= \\frac{1}{y} + \\frac{1}{1 - y} = \\frac{1}{y(1 - y)} \\\\\n",
    "\\end{align*}\n"
   ]
  },
  {
   "cell_type": "code",
   "execution_count": 14,
   "metadata": {},
   "outputs": [],
   "source": [
    "def g_func(y):\n",
    "    \"\"\"x = g(y).\"\"\"\n",
    "    return - np.log(y) + np.log(1 - y) - 2"
   ]
  },
  {
   "cell_type": "code",
   "execution_count": 15,
   "metadata": {},
   "outputs": [],
   "source": [
    "def g_func_inv(x):\n",
    "    \"\"\"y = g^{-1}(x).\n",
    "    \n",
    "    Inverse of g_func.\n",
    "    \n",
    "    Returns:\n",
    "        a value between (0, 1).\n",
    "    \"\"\"\n",
    "    return 1 / (1 + np.exp(x + 2))"
   ]
  },
  {
   "cell_type": "code",
   "execution_count": 16,
   "metadata": {},
   "outputs": [],
   "source": [
    "def pdf_x(x):\n",
    "    \"\"\"Probability density function of X, a standard Gaussian.\"\"\"\n",
    "    return 1 / np.sqrt(2 * np.pi) * np.exp(- 0.5 * x ** 2)"
   ]
  },
  {
   "cell_type": "code",
   "execution_count": 17,
   "metadata": {},
   "outputs": [],
   "source": [
    "def abs_dx_dy_ratio(y):\n",
    "    return np.abs(- 1 / (y * (1 - y)))"
   ]
  },
  {
   "cell_type": "code",
   "execution_count": 18,
   "metadata": {},
   "outputs": [],
   "source": [
    "def pdf_y(y):\n",
    "    \"\"\"Probability density function of Y.\"\"\"\n",
    "    x = g_func(y)\n",
    "    return pdf_x(x) * abs_dx_dy_ratio(y)"
   ]
  },
  {
   "cell_type": "code",
   "execution_count": 19,
   "metadata": {},
   "outputs": [],
   "source": [
    "sample_x = np.sort(np.random.normal(size=100000))\n",
    "sample_y = g_func_inv(sample_x)"
   ]
  },
  {
   "cell_type": "code",
   "execution_count": 20,
   "metadata": {},
   "outputs": [
    {
     "data": {
      "text/plain": [
       "Text(0, 0.5, 'Density')"
      ]
     },
     "execution_count": 20,
     "metadata": {},
     "output_type": "execute_result"
    },
    {
     "data": {
      "image/png": "[encoded data removed]",
      "text/plain": [
       "<Figure size 432x288 with 1 Axes>"
      ]
     },
     "metadata": {
      "needs_background": "light"
     },
     "output_type": "display_data"
    }
   ],
   "source": [
    "_ = plt.hist(sample_x, bins=50, density=True)\n",
    "plt.plot(sample_x, pdf_x(sample_x), lw=3)\n",
    "plt.xlabel('x')\n",
    "plt.ylabel('Density')"
   ]
  },
  {
   "cell_type": "code",
   "execution_count": 21,
   "metadata": {},
   "outputs": [],
   "source": [
    "bins_y = np.linspace(0.001, 0.999, 100)"
   ]
  },
  {
   "cell_type": "code",
   "execution_count": 22,
   "metadata": {},
   "outputs": [],
   "source": [
    "norm = np.sum(pdf_x(g_func(bins_y)))"
   ]
  },
  {
   "cell_type": "code",
   "execution_count": 23,
   "metadata": {},
   "outputs": [
    {
     "data": {
      "text/plain": [
       "Text(0, 0.5, 'Density')"
      ]
     },
     "execution_count": 23,
     "metadata": {},
     "output_type": "execute_result"
    },
    {
     "data": {
      "image/png": "[encoded data removed]",
      "text/plain": [
       "<Figure size 432x288 with 1 Axes>"
      ]
     },
     "metadata": {
      "needs_background": "light"
     },
     "output_type": "display_data"
    }
   ],
   "source": [
    "_ = plt.hist(sample_y, bins=bins_y, density=True)\n",
    "plt.plot(bins_y, pdf_y(bins_y), lw=3, label='$p_Y = p_X (g(y)) | dx/dy|$')\n",
    "plt.legend()\n",
    "plt.xlabel('y')\n",
    "plt.ylabel('Density')"
   ]
  },
  {
   "cell_type": "markdown",
   "metadata": {},
   "source": [
    "As seen, $p_X(g(y))$ won't integrate to 1 as $y \\in (0, 1)$, and $p_x(g(y))$ won't cover the whole $x$ axis, as shown below."
   ]
  },
  {
   "cell_type": "code",
   "execution_count": 24,
   "metadata": {},
   "outputs": [],
   "source": [
    "ys = np.linspace(0, 1, 100)"
   ]
  },
  {
   "cell_type": "code",
   "execution_count": 25,
   "metadata": {},
   "outputs": [
    {
     "data": {
      "text/plain": [
       "Text(0.5, 1.0, '$x = g^{-1}(y)$')"
      ]
     },
     "execution_count": 25,
     "metadata": {},
     "output_type": "execute_result"
    },
    {
     "data": {
      "image/png": "[encoded data removed]",
      "text/plain": [
       "<Figure size 432x288 with 1 Axes>"
      ]
     },
     "metadata": {
      "needs_background": "light"
     },
     "output_type": "display_data"
    }
   ],
   "source": [
    "plt.plot(ys, g_func_inv(ys))\n",
    "plt.xlabel('y')\n",
    "plt.ylabel('x')\n",
    "plt.title('$x = g^{-1}(y)$')"
   ]
  },
  {
   "cell_type": "markdown",
   "metadata": {},
   "source": [
    "Also note, as $g^{-1}(x)$ is monotonically decreasing, so the absolute value around $\\left|\\frac{dx}{dy}\\right|$ is required."
   ]
  }
 ],
 "metadata": {
  "kernelspec": {
   "display_name": "Python 3",
   "language": "python",
   "name": "python3"
  },
  "language_info": {
   "codemirror_mode": {
    "name": "ipython",
    "version": 3
   },
   "file_extension": ".py",
   "mimetype": "text/x-python",
   "name": "python",
   "nbconvert_exporter": "python",
   "pygments_lexer": "ipython3",
   "version": "3.8.6"
  }
 },
 "nbformat": 4,
 "nbformat_minor": 4
}
