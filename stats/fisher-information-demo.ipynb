{
 "cells": [
  {
   "cell_type": "code",
   "execution_count": 1,
   "metadata": {},
   "outputs": [
    {
     "data": {
      "application/javascript": [
       "MathJax.Hub.Config({\n",
       "    TeX: { equationNumbers: { autoNumber: \"AMS\" } }\n",
       "});\n"
      ],
      "text/plain": [
       "<IPython.core.display.Javascript object>"
      ]
     },
     "metadata": {},
     "output_type": "display_data"
    }
   ],
   "source": [
    "%%javascript\n",
    "MathJax.Hub.Config({\n",
    "    TeX: { equationNumbers: { autoNumber: \"AMS\" } }\n",
    "});"
   ]
  },
  {
   "cell_type": "markdown",
   "metadata": {},
   "source": [
    "The demo is about estimating $\\mu$ of a univariate gaussian assuming known variance ($\\sigma$) using maximum likelihood. The steps include:"
   ]
  },
  {
   "cell_type": "markdown",
   "metadata": {},
   "source": [
    "1. Derive Fisher information.\n",
    "1. Sample data from $N(\\mu, \\sigma^)$ multiple times.\n",
    "1. Plot log-likelihood, the 1st- and 2nd-order derivaties of log-likelihood as a function of $\\mu$ estimates for different samples."
   ]
  },
  {
   "cell_type": "markdown",
   "metadata": {},
   "source": [
    "# Theory"
   ]
  },
  {
   "cell_type": "markdown",
   "metadata": {},
   "source": [
    "The likelihood is"
   ]
  },
  {
   "cell_type": "markdown",
   "metadata": {},
   "source": [
    "\\begin{align}\n",
    "L\n",
    "&= \\prod_{i}^N p(x_i; \\mu) \\\\\n",
    "&= \\prod_{i}^N \\frac{1}{\\sqrt{2 \\pi \\sigma^2}} \\exp \\left [- \\frac{1}{2 \\sigma^2} (x_i - \\mu)^2 \\right ] \\\\ \n",
    "&= \\left( 2 \\pi \\sigma^2 \\right)^{- \\frac{N}{2}} \\exp \\left [- \\frac{1}{2 \\sigma^2} \\sum_i^N (x_i - \\mu)^2 \\right ] \\\\ \n",
    "\\end{align}"
   ]
  },
  {
   "cell_type": "markdown",
   "metadata": {},
   "source": [
    "Ignoring the constant, the log-likelihood and its 1st- and 2nd-order derivatives are in the forms of "
   ]
  },
  {
   "cell_type": "markdown",
   "metadata": {},
   "source": [
    "\\begin{align}\n",
    "\\ell &= -\\frac{N}{2} \\log \\left(2 \\pi \\sigma^2 \\right) - \\frac{1}{2\\sigma^2} \\sum_i^N (x_i - \\mu)^2 \\\\\n",
    "\\nabla_{\\mu} \\ell &= \\frac{1}{\\sigma^2} \\sum_i^N (x_i - \\mu) \\\\\n",
    "\\nabla^2_{\\mu} \\ell &= - \\frac{N}{\\sigma^2} \\\\\n",
    "\\end{align}"
   ]
  },
  {
   "cell_type": "markdown",
   "metadata": {},
   "source": [
    "Then, Fisher information is the expectation of the first-order drivative squared:"
   ]
  },
  {
   "cell_type": "markdown",
   "metadata": {},
   "source": [
    "\\begin{align}\n",
    "\\mathcal{I}(\\mu)\n",
    "&= \\mathbb{E}_X\\left[ \\left( \\nabla_{\\mu} \\ell \\right)^2 \\right ] \\\\\n",
    "&= \\frac{1}{\\sigma^4} \\mathbb{E}_X\\left[ \\left( \\sum_i^N (x_i - \\mu) \\right )^2 \\right] \\\\\n",
    "&= \\frac{1}{\\sigma^4} N \\sigma^2 \\\\\n",
    "&= \\frac{N}{\\sigma^2}\n",
    "\\end{align}"
   ]
  },
  {
   "cell_type": "markdown",
   "metadata": {},
   "source": [
    "Note, in the 2nd equality, the expectation of all cross terms in the form of $\\mathbb{E}_X[(x_i - \\mu)(x_j - \\mu)]$, i.e. the covariance, equal 0 because $x_i$ is independent of $x_j$."
   ]
  },
  {
   "cell_type": "markdown",
   "metadata": {},
   "source": [
    "Equivalently, Fisher information can also be written as the negative expectation of the second-order derivative:"
   ]
  },
  {
   "cell_type": "markdown",
   "metadata": {},
   "source": [
    "\\begin{align}\n",
    "\\mathcal{I}(\\mu)\n",
    "&= - \\mathbb{E}_X \\left[ \\nabla^2_{\\mu} \\ell \\right ] \\\\\n",
    "&= \\frac{N}{\\sigma^2}\n",
    "\\end{align}"
   ]
  },
  {
   "cell_type": "markdown",
   "metadata": {},
   "source": [
    "So the Fisher information of $\\mu$ of a Gaussian distribution with known variance is just the inverse of the variance times sample size."
   ]
  },
  {
   "cell_type": "markdown",
   "metadata": {},
   "source": [
    "# Demo"
   ]
  },
  {
   "cell_type": "code",
   "execution_count": 2,
   "metadata": {},
   "outputs": [],
   "source": [
    "import altair as alt\n",
    "import matplotlib.pyplot as plt\n",
    "import numpy as np"
   ]
  },
  {
   "cell_type": "code",
   "execution_count": 3,
   "metadata": {},
   "outputs": [],
   "source": [
    "from numpy.random import default_rng"
   ]
  },
  {
   "cell_type": "code",
   "execution_count": 4,
   "metadata": {},
   "outputs": [],
   "source": [
    "rng = default_rng()"
   ]
  },
  {
   "cell_type": "markdown",
   "metadata": {},
   "source": [
    "True distribution where the data are sampled from."
   ]
  },
  {
   "cell_type": "code",
   "execution_count": 5,
   "metadata": {},
   "outputs": [],
   "source": [
    "μ = 77.7\n",
    "σ = 1"
   ]
  },
  {
   "cell_type": "code",
   "execution_count": 6,
   "metadata": {},
   "outputs": [],
   "source": [
    "# xs = rng.normal(loc=μ, scale=σ, size=100000)"
   ]
  },
  {
   "cell_type": "markdown",
   "metadata": {},
   "source": [
    "log-likelihood without the constant term ($c$)"
   ]
  },
  {
   "cell_type": "code",
   "execution_count": 7,
   "metadata": {},
   "outputs": [],
   "source": [
    "def log_likelihood(xs, mu, sigma):\n",
    "    return - len(xs) / 2 * np.log (2 * np.pi * sigma ** 2) - 1 / (2 * sigma ** 2) * np.sum((xs - mu) ** 2)"
   ]
  },
  {
   "cell_type": "code",
   "execution_count": 8,
   "metadata": {},
   "outputs": [],
   "source": [
    "def first_order_derivative(xs, mu, sigma):\n",
    "    return 1 / sigma ** 2 * np.sum((xs - mu))"
   ]
  },
  {
   "cell_type": "code",
   "execution_count": 9,
   "metadata": {},
   "outputs": [],
   "source": [
    "def second_order_derivative(xs, mu, sigma):\n",
    "    \"\"\"Note, second order derivative is independent of mu.\"\"\"\n",
    "    return - len(xs) / sigma ** 2"
   ]
  },
  {
   "cell_type": "markdown",
   "metadata": {},
   "source": [
    "Plots log-likelihood as a function of data $X$ for different samples."
   ]
  },
  {
   "cell_type": "code",
   "execution_count": 10,
   "metadata": {},
   "outputs": [],
   "source": [
    "dfs = []\n",
    "\n",
    "μ_estimates = np.linspace(μ - 5, μ + 5, 30)\n",
    "ml_estimates = []  # To collect maximum likelihood estimates of μ.\n",
    "num_samples = 3\n",
    "sample_size = 5\n",
    "for index in range(num_samples):\n",
    "    xs = rng.normal(loc=μ, scale=σ, size=sample_size)\n",
    "    ml_estimates.append(np.mean(xs))\n",
    "    for μ_estimate in μ_estimates:\n",
    "        _df = pd.DataFrame(\n",
    "            {\n",
    "                \"μ_hat\": [μ_estimate],\n",
    "                \"log_likelihood\": log_likelihood(xs, μ_estimate, sigma=σ),\n",
    "                \"first_order_derivative\": first_order_derivative(xs, μ_estimate, sigma=σ),\n",
    "                \"second_order_derivative\": second_order_derivative(xs, μ_estimate, sigma=σ),\n",
    "            }\n",
    "        ).assign(dataset_id=index)\n",
    "        dfs.append(_df)\n",
    "\n",
    "ndf = pd.concat(dfs).reset_index(drop=True)"
   ]
  },
  {
   "cell_type": "code",
   "execution_count": 11,
   "metadata": {},
   "outputs": [],
   "source": [
    "chart_lines = (\n",
    "    alt.Chart(ndf)\n",
    "    .mark_line()\n",
    "    .encode(x=\"μ_hat\", y=\"log_likelihood\", color=\"dataset_id:N\")\n",
    ")\n",
    "\n",
    "chart_ml_estimates = (\n",
    "    alt.Chart(pd.DataFrame(np.array([ml_estimates]).T, columns=[\"ml_estimate\"]))\n",
    "    .mark_rule()\n",
    "    .encode(x=\"ml_estimate\")\n",
    ")\n",
    "\n",
    "chart_rule = (\n",
    "    alt.Chart(pd.DataFrame([[μ]], columns=[\"truth\"]))\n",
    "    .mark_rule(color=\"red\", strokeDash=[5, 5])\n",
    "    .encode(x=\"truth\")\n",
    ")"
   ]
  },
  {
   "cell_type": "code",
   "execution_count": 12,
   "metadata": {},
   "outputs": [
    {
     "data": {
      "text/html": [
       "\n",
       "<div id=\"altair-viz-d0cc3521b3c94255ae0575e25ceb6122\"></div>\n",
       "<script type=\"text/javascript\">\n",
       "  var VEGA_DEBUG = (typeof VEGA_DEBUG == \"undefined\") ? {} : VEGA_DEBUG;\n",
       "  (function(spec, embedOpt){\n",
       "    let outputDiv = document.currentScript.previousElementSibling;\n",
       "    if (outputDiv.id !== \"altair-viz-d0cc3521b3c94255ae0575e25ceb6122\") {\n",
       "      outputDiv = document.getElementById(\"altair-viz-d0cc3521b3c94255ae0575e25ceb6122\");\n",
       "    }\n",
       "    const paths = {\n",
       "      \"vega\": \"https://cdn.jsdelivr.net/npm//vega@5?noext\",\n",
       "      \"vega-lib\": \"https://cdn.jsdelivr.net/npm//vega-lib?noext\",\n",
       "      \"vega-lite\": \"https://cdn.jsdelivr.net/npm//vega-lite@4.17.0?noext\",\n",
       "      \"vega-embed\": \"https://cdn.jsdelivr.net/npm//vega-embed@6?noext\",\n",
       "    };\n",
       "\n",
       "    function maybeLoadScript(lib, version) {\n",
       "      var key = `${lib.replace(\"-\", \"\")}_version`;\n",
       "      return (VEGA_DEBUG[key] == version) ?\n",
       "        Promise.resolve(paths[lib]) :\n",
       "        new Promise(function(resolve, reject) {\n",
       "          var s = document.createElement('script');\n",
       "          document.getElementsByTagName(\"head\")[0].appendChild(s);\n",
       "          s.async = true;\n",
       "          s.onload = () => {\n",
       "            VEGA_DEBUG[key] = version;\n",
       "            return resolve(paths[lib]);\n",
       "          };\n",
       "          s.onerror = () => reject(`Error loading script: ${paths[lib]}`);\n",
       "          s.src = paths[lib];\n",
       "        });\n",
       "    }\n",
       "\n",
       "    function showError(err) {\n",
       "      outputDiv.innerHTML = `<div class=\"error\" style=\"color:red;\">${err}</div>`;\n",
       "      throw err;\n",
       "    }\n",
       "\n",
       "    function displayChart(vegaEmbed) {\n",
       "      vegaEmbed(outputDiv, spec, embedOpt)\n",
       "        .catch(err => showError(`Javascript Error: ${err.message}<br>This usually means there's a typo in your chart specification. See the javascript console for the full traceback.`));\n",
       "    }\n",
       "\n",
       "    if(typeof define === \"function\" && define.amd) {\n",
       "      requirejs.config({paths});\n",
       "      require([\"vega-embed\"], displayChart, err => showError(`Error loading script: ${err.message}`));\n",
       "    } else {\n",
       "      maybeLoadScript(\"vega\", \"5\")\n",
       "        .then(() => maybeLoadScript(\"vega-lite\", \"4.17.0\"))\n",
       "        .then(() => maybeLoadScript(\"vega-embed\", \"6\"))\n",
       "        .catch(showError)\n",
       "        .then(() => displayChart(vegaEmbed));\n",
       "    }\n",
       "  })({\"config\": {\"view\": {\"continuousWidth\": 400, \"continuousHeight\": 300}}, \"layer\": [{\"data\": {\"name\": \"data-56dba6403a9557a0098f3be29e2d410e\"}, \"mark\": \"line\", \"encoding\": {\"color\": {\"field\": \"dataset_id\", \"type\": \"nominal\"}, \"x\": {\"field\": \"\\u03bc_hat\", \"type\": \"quantitative\"}, \"y\": {\"field\": \"log_likelihood\", \"type\": \"quantitative\"}}}, {\"data\": {\"name\": \"data-82f2ab1a8cccecda854e975f474bff1a\"}, \"mark\": \"rule\", \"encoding\": {\"x\": {\"field\": \"ml_estimate\", \"type\": \"quantitative\"}}}, {\"data\": {\"name\": \"data-389c9af588664bb06dc085e8b6c51ecc\"}, \"mark\": {\"type\": \"rule\", \"color\": \"red\", \"strokeDash\": [5, 5]}, \"encoding\": {\"x\": {\"field\": \"truth\", \"type\": \"quantitative\"}}}], \"$schema\": \"https://vega.github.io/schema/vega-lite/v4.17.0.json\", \"datasets\": {\"data-56dba6403a9557a0098f3be29e2d410e\": [{\"\\u03bc_hat\": 72.7, \"log_likelihood\": -76.33770676490279, \"first_order_derivative\": 26.646137895368113, \"second_order_derivative\": -5.0, \"dataset_id\": 0}, {\"\\u03bc_hat\": 73.04482758620689, \"log_likelihood\": -67.44664851323026, \"first_order_derivative\": 24.921999964333665, \"second_order_derivative\": -5.0, \"dataset_id\": 0}, {\"\\u03bc_hat\": 73.3896551724138, \"log_likelihood\": -59.150120582603726, \"first_order_derivative\": 23.197862033299145, \"second_order_derivative\": -5.0, \"dataset_id\": 0}, {\"\\u03bc_hat\": 73.73448275862069, \"log_likelihood\": -51.44812297302391, \"first_order_derivative\": 21.473724102264697, \"second_order_derivative\": -5.0, \"dataset_id\": 0}, {\"\\u03bc_hat\": 74.07931034482759, \"log_likelihood\": -44.34065568449016, \"first_order_derivative\": 19.749586171230177, \"second_order_derivative\": -5.0, \"dataset_id\": 0}, {\"\\u03bc_hat\": 74.42413793103448, \"log_likelihood\": -37.827718717003066, \"first_order_derivative\": 18.02544824019573, \"second_order_derivative\": -5.0, \"dataset_id\": 0}, {\"\\u03bc_hat\": 74.76896551724138, \"log_likelihood\": -31.909312070562088, \"first_order_derivative\": 16.30131030916121, \"second_order_derivative\": -5.0, \"dataset_id\": 0}, {\"\\u03bc_hat\": 75.11379310344827, \"log_likelihood\": -26.585435745167715, \"first_order_derivative\": 14.577172378126761, \"second_order_derivative\": -5.0, \"dataset_id\": 0}, {\"\\u03bc_hat\": 75.45862068965518, \"log_likelihood\": -21.856089740819513, \"first_order_derivative\": 12.853034447092242, \"second_order_derivative\": -5.0, \"dataset_id\": 0}, {\"\\u03bc_hat\": 75.80344827586207, \"log_likelihood\": -17.721274057517864, \"first_order_derivative\": 11.128896516057793, \"second_order_derivative\": -5.0, \"dataset_id\": 0}, {\"\\u03bc_hat\": 76.14827586206897, \"log_likelihood\": -14.180988695262432, \"first_order_derivative\": 9.404758585023274, \"second_order_derivative\": -5.0, \"dataset_id\": 0}, {\"\\u03bc_hat\": 76.49310344827586, \"log_likelihood\": -11.235233654053507, \"first_order_derivative\": 7.680620653988825, \"second_order_derivative\": -5.0, \"dataset_id\": 0}, {\"\\u03bc_hat\": 76.83793103448276, \"log_likelihood\": -8.88400893389085, \"first_order_derivative\": 5.956482722954306, \"second_order_derivative\": -5.0, \"dataset_id\": 0}, {\"\\u03bc_hat\": 77.18275862068965, \"log_likelihood\": -7.12731453477465, \"first_order_derivative\": 4.232344791919857, \"second_order_derivative\": -5.0, \"dataset_id\": 0}, {\"\\u03bc_hat\": 77.52758620689656, \"log_likelihood\": -5.965150456704764, \"first_order_derivative\": 2.5082068608853376, \"second_order_derivative\": -5.0, \"dataset_id\": 0}, {\"\\u03bc_hat\": 77.87241379310345, \"log_likelihood\": -5.3975166996812876, \"first_order_derivative\": 0.7840689298508892, \"second_order_derivative\": -5.0, \"dataset_id\": 0}, {\"\\u03bc_hat\": 78.21724137931035, \"log_likelihood\": -5.424413263704174, \"first_order_derivative\": -0.9400690011836303, \"second_order_derivative\": -5.0, \"dataset_id\": 0}, {\"\\u03bc_hat\": 78.56206896551724, \"log_likelihood\": -6.045840148773422, \"first_order_derivative\": -2.664206932218079, \"second_order_derivative\": -5.0, \"dataset_id\": 0}, {\"\\u03bc_hat\": 78.90689655172415, \"log_likelihood\": -7.261797354889082, \"first_order_derivative\": -4.388344863252598, \"second_order_derivative\": -5.0, \"dataset_id\": 0}, {\"\\u03bc_hat\": 79.25172413793103, \"log_likelihood\": -9.072284882051054, \"first_order_derivative\": -6.112482794287047, \"second_order_derivative\": -5.0, \"dataset_id\": 0}, {\"\\u03bc_hat\": 79.59655172413794, \"log_likelihood\": -11.477302730259488, \"first_order_derivative\": -7.836620725321566, \"second_order_derivative\": -5.0, \"dataset_id\": 0}, {\"\\u03bc_hat\": 79.94137931034483, \"log_likelihood\": -14.476850899514183, \"first_order_derivative\": -9.560758656356015, \"second_order_derivative\": -5.0, \"dataset_id\": 0}, {\"\\u03bc_hat\": 80.28620689655173, \"log_likelihood\": -18.07092938981539, \"first_order_derivative\": -11.284896587390534, \"second_order_derivative\": -5.0, \"dataset_id\": 0}, {\"\\u03bc_hat\": 80.63103448275862, \"log_likelihood\": -22.259538201162805, \"first_order_derivative\": -13.009034518424983, \"second_order_derivative\": -5.0, \"dataset_id\": 0}, {\"\\u03bc_hat\": 80.97586206896553, \"log_likelihood\": -27.04267733355679, \"first_order_derivative\": -14.733172449459502, \"second_order_derivative\": -5.0, \"dataset_id\": 0}, {\"\\u03bc_hat\": 81.32068965517242, \"log_likelihood\": -32.42034678699693, \"first_order_derivative\": -16.45731038049395, \"second_order_derivative\": -5.0, \"dataset_id\": 0}, {\"\\u03bc_hat\": 81.66551724137932, \"log_likelihood\": -38.39254656148368, \"first_order_derivative\": -18.18144831152847, \"second_order_derivative\": -5.0, \"dataset_id\": 0}, {\"\\u03bc_hat\": 82.01034482758621, \"log_likelihood\": -44.95927665701655, \"first_order_derivative\": -19.90558624256292, \"second_order_derivative\": -5.0, \"dataset_id\": 0}, {\"\\u03bc_hat\": 82.3551724137931, \"log_likelihood\": -52.12053707359577, \"first_order_derivative\": -21.629724173597367, \"second_order_derivative\": -5.0, \"dataset_id\": 0}, {\"\\u03bc_hat\": 82.7, \"log_likelihood\": -59.876327811221664, \"first_order_derivative\": -23.353862104631887, \"second_order_derivative\": -5.0, \"dataset_id\": 0}, {\"\\u03bc_hat\": 72.7, \"log_likelihood\": -61.473693304909375, \"first_order_derivative\": 23.34991849597374, \"second_order_derivative\": -5.0, \"dataset_id\": 1}, {\"\\u03bc_hat\": 73.04482758620689, \"log_likelihood\": -53.71926243233831, \"first_order_derivative\": 21.62578056493929, \"second_order_derivative\": -5.0, \"dataset_id\": 1}, {\"\\u03bc_hat\": 73.3896551724138, \"log_likelihood\": -46.55936188081333, \"first_order_derivative\": 19.90164263390477, \"second_order_derivative\": -5.0, \"dataset_id\": 1}, {\"\\u03bc_hat\": 73.73448275862069, \"log_likelihood\": -39.99399165033499, \"first_order_derivative\": 18.177504702870323, \"second_order_derivative\": -5.0, \"dataset_id\": 1}, {\"\\u03bc_hat\": 74.07931034482759, \"log_likelihood\": -34.023151740902776, \"first_order_derivative\": 16.453366771835803, \"second_order_derivative\": -5.0, \"dataset_id\": 1}, {\"\\u03bc_hat\": 74.42413793103448, \"log_likelihood\": -28.646842152517166, \"first_order_derivative\": 14.729228840801355, \"second_order_derivative\": -5.0, \"dataset_id\": 1}, {\"\\u03bc_hat\": 74.76896551724138, \"log_likelihood\": -23.865062885177718, \"first_order_derivative\": 13.005090909766835, \"second_order_derivative\": -5.0, \"dataset_id\": 1}, {\"\\u03bc_hat\": 75.11379310344827, \"log_likelihood\": -19.67781393888483, \"first_order_derivative\": 11.280952978732387, \"second_order_derivative\": -5.0, \"dataset_id\": 1}, {\"\\u03bc_hat\": 75.45862068965518, \"log_likelihood\": -16.085095313638163, \"first_order_derivative\": 9.556815047697867, \"second_order_derivative\": -5.0, \"dataset_id\": 1}, {\"\\u03bc_hat\": 75.80344827586207, \"log_likelihood\": -13.086907009437997, \"first_order_derivative\": 7.832677116663419, \"second_order_derivative\": -5.0, \"dataset_id\": 1}, {\"\\u03bc_hat\": 76.14827586206897, \"log_likelihood\": -10.683249026284098, \"first_order_derivative\": 6.108539185628899, \"second_order_derivative\": -5.0, \"dataset_id\": 1}, {\"\\u03bc_hat\": 76.49310344827586, \"log_likelihood\": -8.87412136417666, \"first_order_derivative\": 4.384401254594451, \"second_order_derivative\": -5.0, \"dataset_id\": 1}, {\"\\u03bc_hat\": 76.83793103448276, \"log_likelihood\": -7.659524023115534, \"first_order_derivative\": 2.6602633235599313, \"second_order_derivative\": -5.0, \"dataset_id\": 1}, {\"\\u03bc_hat\": 77.18275862068965, \"log_likelihood\": -7.03945700310082, \"first_order_derivative\": 0.9361253925254829, \"second_order_derivative\": -5.0, \"dataset_id\": 1}, {\"\\u03bc_hat\": 77.52758620689656, \"log_likelihood\": -7.013920304132467, \"first_order_derivative\": -0.7880125385090366, \"second_order_derivative\": -5.0, \"dataset_id\": 1}, {\"\\u03bc_hat\": 77.87241379310345, \"log_likelihood\": -7.582913926210476, \"first_order_derivative\": -2.512150469543485, \"second_order_derivative\": -5.0, \"dataset_id\": 1}, {\"\\u03bc_hat\": 78.21724137931035, \"log_likelihood\": -8.746437869334896, \"first_order_derivative\": -4.236288400578005, \"second_order_derivative\": -5.0, \"dataset_id\": 1}, {\"\\u03bc_hat\": 78.56206896551724, \"log_likelihood\": -10.504492133505629, \"first_order_derivative\": -5.960426331612453, \"second_order_derivative\": -5.0, \"dataset_id\": 1}, {\"\\u03bc_hat\": 78.90689655172415, \"log_likelihood\": -12.857076718722821, \"first_order_derivative\": -7.684564262646973, \"second_order_derivative\": -5.0, \"dataset_id\": 1}, {\"\\u03bc_hat\": 79.25172413793103, \"log_likelihood\": -15.804191624986279, \"first_order_derivative\": -9.408702193681421, \"second_order_derivative\": -5.0, \"dataset_id\": 1}, {\"\\u03bc_hat\": 79.59655172413794, \"log_likelihood\": -19.345836852296245, \"first_order_derivative\": -11.13284012471594, \"second_order_derivative\": -5.0, \"dataset_id\": 1}, {\"\\u03bc_hat\": 79.94137931034483, \"log_likelihood\": -23.482012400652426, \"first_order_derivative\": -12.856978055750389, \"second_order_derivative\": -5.0, \"dataset_id\": 1}, {\"\\u03bc_hat\": 80.28620689655173, \"log_likelihood\": -28.212718270055163, \"first_order_derivative\": -14.581115986784909, \"second_order_derivative\": -5.0, \"dataset_id\": 1}, {\"\\u03bc_hat\": 80.63103448275862, \"log_likelihood\": -33.53795446050407, \"first_order_derivative\": -16.305253917819357, \"second_order_derivative\": -5.0, \"dataset_id\": 1}, {\"\\u03bc_hat\": 80.97586206896553, \"log_likelihood\": -39.45772097199958, \"first_order_derivative\": -18.029391848853876, \"second_order_derivative\": -5.0, \"dataset_id\": 1}, {\"\\u03bc_hat\": 81.32068965517242, \"log_likelihood\": -45.97201780454121, \"first_order_derivative\": -19.753529779888325, \"second_order_derivative\": -5.0, \"dataset_id\": 1}, {\"\\u03bc_hat\": 81.66551724137932, \"log_likelihood\": -53.0808449581295, \"first_order_derivative\": -21.477667710922844, \"second_order_derivative\": -5.0, \"dataset_id\": 1}, {\"\\u03bc_hat\": 82.01034482758621, \"log_likelihood\": -60.78420243276385, \"first_order_derivative\": -23.201805641957293, \"second_order_derivative\": -5.0, \"dataset_id\": 1}, {\"\\u03bc_hat\": 82.3551724137931, \"log_likelihood\": -69.08209022844456, \"first_order_derivative\": -24.92594357299174, \"second_order_derivative\": -5.0, \"dataset_id\": 1}, {\"\\u03bc_hat\": 82.7, \"log_likelihood\": -77.97450834517198, \"first_order_derivative\": -26.65008150402626, \"second_order_derivative\": -5.0, \"dataset_id\": 1}, {\"\\u03bc_hat\": 72.7, \"log_likelihood\": -80.74978046370315, \"first_order_derivative\": 27.513600710041842, \"second_order_derivative\": -5.0, \"dataset_id\": 2}, {\"\\u03bc_hat\": 73.04482758620689, \"log_likelihood\": -71.55959710352242, \"first_order_derivative\": 25.789462779007394, \"second_order_derivative\": -5.0, \"dataset_id\": 2}, {\"\\u03bc_hat\": 73.3896551724138, \"log_likelihood\": -62.96394406438772, \"first_order_derivative\": 24.065324847972875, \"second_order_derivative\": -5.0, \"dataset_id\": 2}, {\"\\u03bc_hat\": 73.73448275862069, \"log_likelihood\": -54.96282134629972, \"first_order_derivative\": 22.341186916938426, \"second_order_derivative\": -5.0, \"dataset_id\": 2}, {\"\\u03bc_hat\": 74.07931034482759, \"log_likelihood\": -47.55622894925777, \"first_order_derivative\": 20.617048985903907, \"second_order_derivative\": -5.0, \"dataset_id\": 2}, {\"\\u03bc_hat\": 74.42413793103448, \"log_likelihood\": -40.7441668732625, \"first_order_derivative\": 18.892911054869458, \"second_order_derivative\": -5.0, \"dataset_id\": 2}, {\"\\u03bc_hat\": 74.76896551724138, \"log_likelihood\": -34.52663511831334, \"first_order_derivative\": 17.16877312383494, \"second_order_derivative\": -5.0, \"dataset_id\": 2}, {\"\\u03bc_hat\": 75.11379310344827, \"log_likelihood\": -28.903633684410785, \"first_order_derivative\": 15.44463519280049, \"second_order_derivative\": -5.0, \"dataset_id\": 2}, {\"\\u03bc_hat\": 75.45862068965518, \"log_likelihood\": -23.875162571554394, \"first_order_derivative\": 13.72049726176597, \"second_order_derivative\": -5.0, \"dataset_id\": 2}, {\"\\u03bc_hat\": 75.80344827586207, \"log_likelihood\": -19.441221779744566, \"first_order_derivative\": 11.996359330731522, \"second_order_derivative\": -5.0, \"dataset_id\": 2}, {\"\\u03bc_hat\": 76.14827586206897, \"log_likelihood\": -15.601811308980949, \"first_order_derivative\": 10.272221399697003, \"second_order_derivative\": -5.0, \"dataset_id\": 2}, {\"\\u03bc_hat\": 76.49310344827586, \"log_likelihood\": -12.356931159263848, \"first_order_derivative\": 8.548083468662554, \"second_order_derivative\": -5.0, \"dataset_id\": 2}, {\"\\u03bc_hat\": 76.83793103448276, \"log_likelihood\": -9.706581330593, \"first_order_derivative\": 6.823945537628035, \"second_order_derivative\": -5.0, \"dataset_id\": 2}, {\"\\u03bc_hat\": 77.18275862068965, \"log_likelihood\": -7.650761822968623, \"first_order_derivative\": 5.099807606593586, \"second_order_derivative\": -5.0, \"dataset_id\": 2}, {\"\\u03bc_hat\": 77.52758620689656, \"log_likelihood\": -6.189472636390548, \"first_order_derivative\": 3.3756696755590667, \"second_order_derivative\": -5.0, \"dataset_id\": 2}, {\"\\u03bc_hat\": 77.87241379310345, \"log_likelihood\": -5.322713770858896, \"first_order_derivative\": 1.6515317445246183, \"second_order_derivative\": -5.0, \"dataset_id\": 2}, {\"\\u03bc_hat\": 78.21724137931035, \"log_likelihood\": -5.050485226373594, \"first_order_derivative\": -0.07260618650990125, \"second_order_derivative\": -5.0, \"dataset_id\": 2}, {\"\\u03bc_hat\": 78.56206896551724, \"log_likelihood\": -5.372787002934665, \"first_order_derivative\": -1.7967441175443497, \"second_order_derivative\": -5.0, \"dataset_id\": 2}, {\"\\u03bc_hat\": 78.90689655172415, \"log_likelihood\": -6.2896191005421365, \"first_order_derivative\": -3.520882048578869, \"second_order_derivative\": -5.0, \"dataset_id\": 2}, {\"\\u03bc_hat\": 79.25172413793103, \"log_likelihood\": -7.800981519195932, \"first_order_derivative\": -5.245019979613318, \"second_order_derivative\": -5.0, \"dataset_id\": 2}, {\"\\u03bc_hat\": 79.59655172413794, \"log_likelihood\": -9.906874258896176, \"first_order_derivative\": -6.969157910647837, \"second_order_derivative\": -5.0, \"dataset_id\": 2}, {\"\\u03bc_hat\": 79.94137931034483, \"log_likelihood\": -12.607297319642695, \"first_order_derivative\": -8.693295841682286, \"second_order_derivative\": -5.0, \"dataset_id\": 2}, {\"\\u03bc_hat\": 80.28620689655173, \"log_likelihood\": -15.902250701435712, \"first_order_derivative\": -10.417433772716805, \"second_order_derivative\": -5.0, \"dataset_id\": 2}, {\"\\u03bc_hat\": 80.63103448275862, \"log_likelihood\": -19.791734404274955, \"first_order_derivative\": -12.141571703751254, \"second_order_derivative\": -5.0, \"dataset_id\": 2}, {\"\\u03bc_hat\": 80.97586206896553, \"log_likelihood\": -24.275748428160746, \"first_order_derivative\": -13.865709634785773, \"second_order_derivative\": -5.0, \"dataset_id\": 2}, {\"\\u03bc_hat\": 81.32068965517242, \"log_likelihood\": -29.35429277309271, \"first_order_derivative\": -15.589847565820222, \"second_order_derivative\": -5.0, \"dataset_id\": 2}, {\"\\u03bc_hat\": 81.66551724137932, \"log_likelihood\": -35.02736743907128, \"first_order_derivative\": -17.31398549685474, \"second_order_derivative\": -5.0, \"dataset_id\": 2}, {\"\\u03bc_hat\": 82.01034482758621, \"log_likelihood\": -41.29497242609597, \"first_order_derivative\": -19.03812342788919, \"second_order_derivative\": -5.0, \"dataset_id\": 2}, {\"\\u03bc_hat\": 82.3551724137931, \"log_likelihood\": -48.157107734167006, \"first_order_derivative\": -20.762261358923638, \"second_order_derivative\": -5.0, \"dataset_id\": 2}, {\"\\u03bc_hat\": 82.7, \"log_likelihood\": -55.613773363284714, \"first_order_derivative\": -22.486399289958158, \"second_order_derivative\": -5.0, \"dataset_id\": 2}], \"data-82f2ab1a8cccecda854e975f474bff1a\": [{\"ml_estimate\": 78.02922757907362}, {\"ml_estimate\": 77.36998369919475}, {\"ml_estimate\": 78.20272014200836}], \"data-389c9af588664bb06dc085e8b6c51ecc\": [{\"truth\": 77.7}]}}, {\"mode\": \"vega-lite\"});\n",
       "</script>"
      ],
      "text/plain": [
       "alt.LayerChart(...)"
      ]
     },
     "execution_count": 12,
     "metadata": {},
     "output_type": "execute_result"
    }
   ],
   "source": [
    "chart_lines + chart_ml_estimates + chart_rule"
   ]
  },
  {
   "cell_type": "code",
   "execution_count": 13,
   "metadata": {},
   "outputs": [],
   "source": [
    "chart_lines = (\n",
    "    alt.Chart(ndf)\n",
    "    .mark_line()\n",
    "    .encode(x=\"μ_hat\", y=\"first_order_derivative\", color=\"dataset_id:N\")\n",
    ")"
   ]
  },
  {
   "cell_type": "code",
   "execution_count": 14,
   "metadata": {},
   "outputs": [
    {
     "data": {
      "text/html": [
       "\n",
       "<div id=\"altair-viz-64f67e3fbf1a46f1bf15dee76ddc62a8\"></div>\n",
       "<script type=\"text/javascript\">\n",
       "  var VEGA_DEBUG = (typeof VEGA_DEBUG == \"undefined\") ? {} : VEGA_DEBUG;\n",
       "  (function(spec, embedOpt){\n",
       "    let outputDiv = document.currentScript.previousElementSibling;\n",
       "    if (outputDiv.id !== \"altair-viz-64f67e3fbf1a46f1bf15dee76ddc62a8\") {\n",
       "      outputDiv = document.getElementById(\"altair-viz-64f67e3fbf1a46f1bf15dee76ddc62a8\");\n",
       "    }\n",
       "    const paths = {\n",
       "      \"vega\": \"https://cdn.jsdelivr.net/npm//vega@5?noext\",\n",
       "      \"vega-lib\": \"https://cdn.jsdelivr.net/npm//vega-lib?noext\",\n",
       "      \"vega-lite\": \"https://cdn.jsdelivr.net/npm//vega-lite@4.17.0?noext\",\n",
       "      \"vega-embed\": \"https://cdn.jsdelivr.net/npm//vega-embed@6?noext\",\n",
       "    };\n",
       "\n",
       "    function maybeLoadScript(lib, version) {\n",
       "      var key = `${lib.replace(\"-\", \"\")}_version`;\n",
       "      return (VEGA_DEBUG[key] == version) ?\n",
       "        Promise.resolve(paths[lib]) :\n",
       "        new Promise(function(resolve, reject) {\n",
       "          var s = document.createElement('script');\n",
       "          document.getElementsByTagName(\"head\")[0].appendChild(s);\n",
       "          s.async = true;\n",
       "          s.onload = () => {\n",
       "            VEGA_DEBUG[key] = version;\n",
       "            return resolve(paths[lib]);\n",
       "          };\n",
       "          s.onerror = () => reject(`Error loading script: ${paths[lib]}`);\n",
       "          s.src = paths[lib];\n",
       "        });\n",
       "    }\n",
       "\n",
       "    function showError(err) {\n",
       "      outputDiv.innerHTML = `<div class=\"error\" style=\"color:red;\">${err}</div>`;\n",
       "      throw err;\n",
       "    }\n",
       "\n",
       "    function displayChart(vegaEmbed) {\n",
       "      vegaEmbed(outputDiv, spec, embedOpt)\n",
       "        .catch(err => showError(`Javascript Error: ${err.message}<br>This usually means there's a typo in your chart specification. See the javascript console for the full traceback.`));\n",
       "    }\n",
       "\n",
       "    if(typeof define === \"function\" && define.amd) {\n",
       "      requirejs.config({paths});\n",
       "      require([\"vega-embed\"], displayChart, err => showError(`Error loading script: ${err.message}`));\n",
       "    } else {\n",
       "      maybeLoadScript(\"vega\", \"5\")\n",
       "        .then(() => maybeLoadScript(\"vega-lite\", \"4.17.0\"))\n",
       "        .then(() => maybeLoadScript(\"vega-embed\", \"6\"))\n",
       "        .catch(showError)\n",
       "        .then(() => displayChart(vegaEmbed));\n",
       "    }\n",
       "  })({\"config\": {\"view\": {\"continuousWidth\": 400, \"continuousHeight\": 300}}, \"layer\": [{\"data\": {\"name\": \"data-56dba6403a9557a0098f3be29e2d410e\"}, \"mark\": \"line\", \"encoding\": {\"color\": {\"field\": \"dataset_id\", \"type\": \"nominal\"}, \"x\": {\"field\": \"\\u03bc_hat\", \"type\": \"quantitative\"}, \"y\": {\"field\": \"first_order_derivative\", \"type\": \"quantitative\"}}}, {\"data\": {\"name\": \"data-82f2ab1a8cccecda854e975f474bff1a\"}, \"mark\": \"rule\", \"encoding\": {\"x\": {\"field\": \"ml_estimate\", \"type\": \"quantitative\"}}}, {\"data\": {\"name\": \"data-389c9af588664bb06dc085e8b6c51ecc\"}, \"mark\": {\"type\": \"rule\", \"color\": \"red\", \"strokeDash\": [5, 5]}, \"encoding\": {\"x\": {\"field\": \"truth\", \"type\": \"quantitative\"}}}], \"$schema\": \"https://vega.github.io/schema/vega-lite/v4.17.0.json\", \"datasets\": {\"data-56dba6403a9557a0098f3be29e2d410e\": [{\"\\u03bc_hat\": 72.7, \"log_likelihood\": -76.33770676490279, \"first_order_derivative\": 26.646137895368113, \"second_order_derivative\": -5.0, \"dataset_id\": 0}, {\"\\u03bc_hat\": 73.04482758620689, \"log_likelihood\": -67.44664851323026, \"first_order_derivative\": 24.921999964333665, \"second_order_derivative\": -5.0, \"dataset_id\": 0}, {\"\\u03bc_hat\": 73.3896551724138, \"log_likelihood\": -59.150120582603726, \"first_order_derivative\": 23.197862033299145, \"second_order_derivative\": -5.0, \"dataset_id\": 0}, {\"\\u03bc_hat\": 73.73448275862069, \"log_likelihood\": -51.44812297302391, \"first_order_derivative\": 21.473724102264697, \"second_order_derivative\": -5.0, \"dataset_id\": 0}, {\"\\u03bc_hat\": 74.07931034482759, \"log_likelihood\": -44.34065568449016, \"first_order_derivative\": 19.749586171230177, \"second_order_derivative\": -5.0, \"dataset_id\": 0}, {\"\\u03bc_hat\": 74.42413793103448, \"log_likelihood\": -37.827718717003066, \"first_order_derivative\": 18.02544824019573, \"second_order_derivative\": -5.0, \"dataset_id\": 0}, {\"\\u03bc_hat\": 74.76896551724138, \"log_likelihood\": -31.909312070562088, \"first_order_derivative\": 16.30131030916121, \"second_order_derivative\": -5.0, \"dataset_id\": 0}, {\"\\u03bc_hat\": 75.11379310344827, \"log_likelihood\": -26.585435745167715, \"first_order_derivative\": 14.577172378126761, \"second_order_derivative\": -5.0, \"dataset_id\": 0}, {\"\\u03bc_hat\": 75.45862068965518, \"log_likelihood\": -21.856089740819513, \"first_order_derivative\": 12.853034447092242, \"second_order_derivative\": -5.0, \"dataset_id\": 0}, {\"\\u03bc_hat\": 75.80344827586207, \"log_likelihood\": -17.721274057517864, \"first_order_derivative\": 11.128896516057793, \"second_order_derivative\": -5.0, \"dataset_id\": 0}, {\"\\u03bc_hat\": 76.14827586206897, \"log_likelihood\": -14.180988695262432, \"first_order_derivative\": 9.404758585023274, \"second_order_derivative\": -5.0, \"dataset_id\": 0}, {\"\\u03bc_hat\": 76.49310344827586, \"log_likelihood\": -11.235233654053507, \"first_order_derivative\": 7.680620653988825, \"second_order_derivative\": -5.0, \"dataset_id\": 0}, {\"\\u03bc_hat\": 76.83793103448276, \"log_likelihood\": -8.88400893389085, \"first_order_derivative\": 5.956482722954306, \"second_order_derivative\": -5.0, \"dataset_id\": 0}, {\"\\u03bc_hat\": 77.18275862068965, \"log_likelihood\": -7.12731453477465, \"first_order_derivative\": 4.232344791919857, \"second_order_derivative\": -5.0, \"dataset_id\": 0}, {\"\\u03bc_hat\": 77.52758620689656, \"log_likelihood\": -5.965150456704764, \"first_order_derivative\": 2.5082068608853376, \"second_order_derivative\": -5.0, \"dataset_id\": 0}, {\"\\u03bc_hat\": 77.87241379310345, \"log_likelihood\": -5.3975166996812876, \"first_order_derivative\": 0.7840689298508892, \"second_order_derivative\": -5.0, \"dataset_id\": 0}, {\"\\u03bc_hat\": 78.21724137931035, \"log_likelihood\": -5.424413263704174, \"first_order_derivative\": -0.9400690011836303, \"second_order_derivative\": -5.0, \"dataset_id\": 0}, {\"\\u03bc_hat\": 78.56206896551724, \"log_likelihood\": -6.045840148773422, \"first_order_derivative\": -2.664206932218079, \"second_order_derivative\": -5.0, \"dataset_id\": 0}, {\"\\u03bc_hat\": 78.90689655172415, \"log_likelihood\": -7.261797354889082, \"first_order_derivative\": -4.388344863252598, \"second_order_derivative\": -5.0, \"dataset_id\": 0}, {\"\\u03bc_hat\": 79.25172413793103, \"log_likelihood\": -9.072284882051054, \"first_order_derivative\": -6.112482794287047, \"second_order_derivative\": -5.0, \"dataset_id\": 0}, {\"\\u03bc_hat\": 79.59655172413794, \"log_likelihood\": -11.477302730259488, \"first_order_derivative\": -7.836620725321566, \"second_order_derivative\": -5.0, \"dataset_id\": 0}, {\"\\u03bc_hat\": 79.94137931034483, \"log_likelihood\": -14.476850899514183, \"first_order_derivative\": -9.560758656356015, \"second_order_derivative\": -5.0, \"dataset_id\": 0}, {\"\\u03bc_hat\": 80.28620689655173, \"log_likelihood\": -18.07092938981539, \"first_order_derivative\": -11.284896587390534, \"second_order_derivative\": -5.0, \"dataset_id\": 0}, {\"\\u03bc_hat\": 80.63103448275862, \"log_likelihood\": -22.259538201162805, \"first_order_derivative\": -13.009034518424983, \"second_order_derivative\": -5.0, \"dataset_id\": 0}, {\"\\u03bc_hat\": 80.97586206896553, \"log_likelihood\": -27.04267733355679, \"first_order_derivative\": -14.733172449459502, \"second_order_derivative\": -5.0, \"dataset_id\": 0}, {\"\\u03bc_hat\": 81.32068965517242, \"log_likelihood\": -32.42034678699693, \"first_order_derivative\": -16.45731038049395, \"second_order_derivative\": -5.0, \"dataset_id\": 0}, {\"\\u03bc_hat\": 81.66551724137932, \"log_likelihood\": -38.39254656148368, \"first_order_derivative\": -18.18144831152847, \"second_order_derivative\": -5.0, \"dataset_id\": 0}, {\"\\u03bc_hat\": 82.01034482758621, \"log_likelihood\": -44.95927665701655, \"first_order_derivative\": -19.90558624256292, \"second_order_derivative\": -5.0, \"dataset_id\": 0}, {\"\\u03bc_hat\": 82.3551724137931, \"log_likelihood\": -52.12053707359577, \"first_order_derivative\": -21.629724173597367, \"second_order_derivative\": -5.0, \"dataset_id\": 0}, {\"\\u03bc_hat\": 82.7, \"log_likelihood\": -59.876327811221664, \"first_order_derivative\": -23.353862104631887, \"second_order_derivative\": -5.0, \"dataset_id\": 0}, {\"\\u03bc_hat\": 72.7, \"log_likelihood\": -61.473693304909375, \"first_order_derivative\": 23.34991849597374, \"second_order_derivative\": -5.0, \"dataset_id\": 1}, {\"\\u03bc_hat\": 73.04482758620689, \"log_likelihood\": -53.71926243233831, \"first_order_derivative\": 21.62578056493929, \"second_order_derivative\": -5.0, \"dataset_id\": 1}, {\"\\u03bc_hat\": 73.3896551724138, \"log_likelihood\": -46.55936188081333, \"first_order_derivative\": 19.90164263390477, \"second_order_derivative\": -5.0, \"dataset_id\": 1}, {\"\\u03bc_hat\": 73.73448275862069, \"log_likelihood\": -39.99399165033499, \"first_order_derivative\": 18.177504702870323, \"second_order_derivative\": -5.0, \"dataset_id\": 1}, {\"\\u03bc_hat\": 74.07931034482759, \"log_likelihood\": -34.023151740902776, \"first_order_derivative\": 16.453366771835803, \"second_order_derivative\": -5.0, \"dataset_id\": 1}, {\"\\u03bc_hat\": 74.42413793103448, \"log_likelihood\": -28.646842152517166, \"first_order_derivative\": 14.729228840801355, \"second_order_derivative\": -5.0, \"dataset_id\": 1}, {\"\\u03bc_hat\": 74.76896551724138, \"log_likelihood\": -23.865062885177718, \"first_order_derivative\": 13.005090909766835, \"second_order_derivative\": -5.0, \"dataset_id\": 1}, {\"\\u03bc_hat\": 75.11379310344827, \"log_likelihood\": -19.67781393888483, \"first_order_derivative\": 11.280952978732387, \"second_order_derivative\": -5.0, \"dataset_id\": 1}, {\"\\u03bc_hat\": 75.45862068965518, \"log_likelihood\": -16.085095313638163, \"first_order_derivative\": 9.556815047697867, \"second_order_derivative\": -5.0, \"dataset_id\": 1}, {\"\\u03bc_hat\": 75.80344827586207, \"log_likelihood\": -13.086907009437997, \"first_order_derivative\": 7.832677116663419, \"second_order_derivative\": -5.0, \"dataset_id\": 1}, {\"\\u03bc_hat\": 76.14827586206897, \"log_likelihood\": -10.683249026284098, \"first_order_derivative\": 6.108539185628899, \"second_order_derivative\": -5.0, \"dataset_id\": 1}, {\"\\u03bc_hat\": 76.49310344827586, \"log_likelihood\": -8.87412136417666, \"first_order_derivative\": 4.384401254594451, \"second_order_derivative\": -5.0, \"dataset_id\": 1}, {\"\\u03bc_hat\": 76.83793103448276, \"log_likelihood\": -7.659524023115534, \"first_order_derivative\": 2.6602633235599313, \"second_order_derivative\": -5.0, \"dataset_id\": 1}, {\"\\u03bc_hat\": 77.18275862068965, \"log_likelihood\": -7.03945700310082, \"first_order_derivative\": 0.9361253925254829, \"second_order_derivative\": -5.0, \"dataset_id\": 1}, {\"\\u03bc_hat\": 77.52758620689656, \"log_likelihood\": -7.013920304132467, \"first_order_derivative\": -0.7880125385090366, \"second_order_derivative\": -5.0, \"dataset_id\": 1}, {\"\\u03bc_hat\": 77.87241379310345, \"log_likelihood\": -7.582913926210476, \"first_order_derivative\": -2.512150469543485, \"second_order_derivative\": -5.0, \"dataset_id\": 1}, {\"\\u03bc_hat\": 78.21724137931035, \"log_likelihood\": -8.746437869334896, \"first_order_derivative\": -4.236288400578005, \"second_order_derivative\": -5.0, \"dataset_id\": 1}, {\"\\u03bc_hat\": 78.56206896551724, \"log_likelihood\": -10.504492133505629, \"first_order_derivative\": -5.960426331612453, \"second_order_derivative\": -5.0, \"dataset_id\": 1}, {\"\\u03bc_hat\": 78.90689655172415, \"log_likelihood\": -12.857076718722821, \"first_order_derivative\": -7.684564262646973, \"second_order_derivative\": -5.0, \"dataset_id\": 1}, {\"\\u03bc_hat\": 79.25172413793103, \"log_likelihood\": -15.804191624986279, \"first_order_derivative\": -9.408702193681421, \"second_order_derivative\": -5.0, \"dataset_id\": 1}, {\"\\u03bc_hat\": 79.59655172413794, \"log_likelihood\": -19.345836852296245, \"first_order_derivative\": -11.13284012471594, \"second_order_derivative\": -5.0, \"dataset_id\": 1}, {\"\\u03bc_hat\": 79.94137931034483, \"log_likelihood\": -23.482012400652426, \"first_order_derivative\": -12.856978055750389, \"second_order_derivative\": -5.0, \"dataset_id\": 1}, {\"\\u03bc_hat\": 80.28620689655173, \"log_likelihood\": -28.212718270055163, \"first_order_derivative\": -14.581115986784909, \"second_order_derivative\": -5.0, \"dataset_id\": 1}, {\"\\u03bc_hat\": 80.63103448275862, \"log_likelihood\": -33.53795446050407, \"first_order_derivative\": -16.305253917819357, \"second_order_derivative\": -5.0, \"dataset_id\": 1}, {\"\\u03bc_hat\": 80.97586206896553, \"log_likelihood\": -39.45772097199958, \"first_order_derivative\": -18.029391848853876, \"second_order_derivative\": -5.0, \"dataset_id\": 1}, {\"\\u03bc_hat\": 81.32068965517242, \"log_likelihood\": -45.97201780454121, \"first_order_derivative\": -19.753529779888325, \"second_order_derivative\": -5.0, \"dataset_id\": 1}, {\"\\u03bc_hat\": 81.66551724137932, \"log_likelihood\": -53.0808449581295, \"first_order_derivative\": -21.477667710922844, \"second_order_derivative\": -5.0, \"dataset_id\": 1}, {\"\\u03bc_hat\": 82.01034482758621, \"log_likelihood\": -60.78420243276385, \"first_order_derivative\": -23.201805641957293, \"second_order_derivative\": -5.0, \"dataset_id\": 1}, {\"\\u03bc_hat\": 82.3551724137931, \"log_likelihood\": -69.08209022844456, \"first_order_derivative\": -24.92594357299174, \"second_order_derivative\": -5.0, \"dataset_id\": 1}, {\"\\u03bc_hat\": 82.7, \"log_likelihood\": -77.97450834517198, \"first_order_derivative\": -26.65008150402626, \"second_order_derivative\": -5.0, \"dataset_id\": 1}, {\"\\u03bc_hat\": 72.7, \"log_likelihood\": -80.74978046370315, \"first_order_derivative\": 27.513600710041842, \"second_order_derivative\": -5.0, \"dataset_id\": 2}, {\"\\u03bc_hat\": 73.04482758620689, \"log_likelihood\": -71.55959710352242, \"first_order_derivative\": 25.789462779007394, \"second_order_derivative\": -5.0, \"dataset_id\": 2}, {\"\\u03bc_hat\": 73.3896551724138, \"log_likelihood\": -62.96394406438772, \"first_order_derivative\": 24.065324847972875, \"second_order_derivative\": -5.0, \"dataset_id\": 2}, {\"\\u03bc_hat\": 73.73448275862069, \"log_likelihood\": -54.96282134629972, \"first_order_derivative\": 22.341186916938426, \"second_order_derivative\": -5.0, \"dataset_id\": 2}, {\"\\u03bc_hat\": 74.07931034482759, \"log_likelihood\": -47.55622894925777, \"first_order_derivative\": 20.617048985903907, \"second_order_derivative\": -5.0, \"dataset_id\": 2}, {\"\\u03bc_hat\": 74.42413793103448, \"log_likelihood\": -40.7441668732625, \"first_order_derivative\": 18.892911054869458, \"second_order_derivative\": -5.0, \"dataset_id\": 2}, {\"\\u03bc_hat\": 74.76896551724138, \"log_likelihood\": -34.52663511831334, \"first_order_derivative\": 17.16877312383494, \"second_order_derivative\": -5.0, \"dataset_id\": 2}, {\"\\u03bc_hat\": 75.11379310344827, \"log_likelihood\": -28.903633684410785, \"first_order_derivative\": 15.44463519280049, \"second_order_derivative\": -5.0, \"dataset_id\": 2}, {\"\\u03bc_hat\": 75.45862068965518, \"log_likelihood\": -23.875162571554394, \"first_order_derivative\": 13.72049726176597, \"second_order_derivative\": -5.0, \"dataset_id\": 2}, {\"\\u03bc_hat\": 75.80344827586207, \"log_likelihood\": -19.441221779744566, \"first_order_derivative\": 11.996359330731522, \"second_order_derivative\": -5.0, \"dataset_id\": 2}, {\"\\u03bc_hat\": 76.14827586206897, \"log_likelihood\": -15.601811308980949, \"first_order_derivative\": 10.272221399697003, \"second_order_derivative\": -5.0, \"dataset_id\": 2}, {\"\\u03bc_hat\": 76.49310344827586, \"log_likelihood\": -12.356931159263848, \"first_order_derivative\": 8.548083468662554, \"second_order_derivative\": -5.0, \"dataset_id\": 2}, {\"\\u03bc_hat\": 76.83793103448276, \"log_likelihood\": -9.706581330593, \"first_order_derivative\": 6.823945537628035, \"second_order_derivative\": -5.0, \"dataset_id\": 2}, {\"\\u03bc_hat\": 77.18275862068965, \"log_likelihood\": -7.650761822968623, \"first_order_derivative\": 5.099807606593586, \"second_order_derivative\": -5.0, \"dataset_id\": 2}, {\"\\u03bc_hat\": 77.52758620689656, \"log_likelihood\": -6.189472636390548, \"first_order_derivative\": 3.3756696755590667, \"second_order_derivative\": -5.0, \"dataset_id\": 2}, {\"\\u03bc_hat\": 77.87241379310345, \"log_likelihood\": -5.322713770858896, \"first_order_derivative\": 1.6515317445246183, \"second_order_derivative\": -5.0, \"dataset_id\": 2}, {\"\\u03bc_hat\": 78.21724137931035, \"log_likelihood\": -5.050485226373594, \"first_order_derivative\": -0.07260618650990125, \"second_order_derivative\": -5.0, \"dataset_id\": 2}, {\"\\u03bc_hat\": 78.56206896551724, \"log_likelihood\": -5.372787002934665, \"first_order_derivative\": -1.7967441175443497, \"second_order_derivative\": -5.0, \"dataset_id\": 2}, {\"\\u03bc_hat\": 78.90689655172415, \"log_likelihood\": -6.2896191005421365, \"first_order_derivative\": -3.520882048578869, \"second_order_derivative\": -5.0, \"dataset_id\": 2}, {\"\\u03bc_hat\": 79.25172413793103, \"log_likelihood\": -7.800981519195932, \"first_order_derivative\": -5.245019979613318, \"second_order_derivative\": -5.0, \"dataset_id\": 2}, {\"\\u03bc_hat\": 79.59655172413794, \"log_likelihood\": -9.906874258896176, \"first_order_derivative\": -6.969157910647837, \"second_order_derivative\": -5.0, \"dataset_id\": 2}, {\"\\u03bc_hat\": 79.94137931034483, \"log_likelihood\": -12.607297319642695, \"first_order_derivative\": -8.693295841682286, \"second_order_derivative\": -5.0, \"dataset_id\": 2}, {\"\\u03bc_hat\": 80.28620689655173, \"log_likelihood\": -15.902250701435712, \"first_order_derivative\": -10.417433772716805, \"second_order_derivative\": -5.0, \"dataset_id\": 2}, {\"\\u03bc_hat\": 80.63103448275862, \"log_likelihood\": -19.791734404274955, \"first_order_derivative\": -12.141571703751254, \"second_order_derivative\": -5.0, \"dataset_id\": 2}, {\"\\u03bc_hat\": 80.97586206896553, \"log_likelihood\": -24.275748428160746, \"first_order_derivative\": -13.865709634785773, \"second_order_derivative\": -5.0, \"dataset_id\": 2}, {\"\\u03bc_hat\": 81.32068965517242, \"log_likelihood\": -29.35429277309271, \"first_order_derivative\": -15.589847565820222, \"second_order_derivative\": -5.0, \"dataset_id\": 2}, {\"\\u03bc_hat\": 81.66551724137932, \"log_likelihood\": -35.02736743907128, \"first_order_derivative\": -17.31398549685474, \"second_order_derivative\": -5.0, \"dataset_id\": 2}, {\"\\u03bc_hat\": 82.01034482758621, \"log_likelihood\": -41.29497242609597, \"first_order_derivative\": -19.03812342788919, \"second_order_derivative\": -5.0, \"dataset_id\": 2}, {\"\\u03bc_hat\": 82.3551724137931, \"log_likelihood\": -48.157107734167006, \"first_order_derivative\": -20.762261358923638, \"second_order_derivative\": -5.0, \"dataset_id\": 2}, {\"\\u03bc_hat\": 82.7, \"log_likelihood\": -55.613773363284714, \"first_order_derivative\": -22.486399289958158, \"second_order_derivative\": -5.0, \"dataset_id\": 2}], \"data-82f2ab1a8cccecda854e975f474bff1a\": [{\"ml_estimate\": 78.02922757907362}, {\"ml_estimate\": 77.36998369919475}, {\"ml_estimate\": 78.20272014200836}], \"data-389c9af588664bb06dc085e8b6c51ecc\": [{\"truth\": 77.7}]}}, {\"mode\": \"vega-lite\"});\n",
       "</script>"
      ],
      "text/plain": [
       "alt.LayerChart(...)"
      ]
     },
     "execution_count": 14,
     "metadata": {},
     "output_type": "execute_result"
    }
   ],
   "source": [
    "chart_lines + chart_ml_estimates + chart_rule"
   ]
  },
  {
   "cell_type": "code",
   "execution_count": 15,
   "metadata": {},
   "outputs": [],
   "source": [
    "chart_lines = (\n",
    "    alt.Chart(ndf)\n",
    "    .mark_line()\n",
    "    .encode(x=\"μ_hat\", y=\"second_order_derivative\", color=\"dataset_id:N\")\n",
    ")"
   ]
  },
  {
   "cell_type": "code",
   "execution_count": 16,
   "metadata": {},
   "outputs": [
    {
     "data": {
      "text/html": [
       "\n",
       "<div id=\"altair-viz-1fb142fde1a34c0fa669b112960149a3\"></div>\n",
       "<script type=\"text/javascript\">\n",
       "  var VEGA_DEBUG = (typeof VEGA_DEBUG == \"undefined\") ? {} : VEGA_DEBUG;\n",
       "  (function(spec, embedOpt){\n",
       "    let outputDiv = document.currentScript.previousElementSibling;\n",
       "    if (outputDiv.id !== \"altair-viz-1fb142fde1a34c0fa669b112960149a3\") {\n",
       "      outputDiv = document.getElementById(\"altair-viz-1fb142fde1a34c0fa669b112960149a3\");\n",
       "    }\n",
       "    const paths = {\n",
       "      \"vega\": \"https://cdn.jsdelivr.net/npm//vega@5?noext\",\n",
       "      \"vega-lib\": \"https://cdn.jsdelivr.net/npm//vega-lib?noext\",\n",
       "      \"vega-lite\": \"https://cdn.jsdelivr.net/npm//vega-lite@4.17.0?noext\",\n",
       "      \"vega-embed\": \"https://cdn.jsdelivr.net/npm//vega-embed@6?noext\",\n",
       "    };\n",
       "\n",
       "    function maybeLoadScript(lib, version) {\n",
       "      var key = `${lib.replace(\"-\", \"\")}_version`;\n",
       "      return (VEGA_DEBUG[key] == version) ?\n",
       "        Promise.resolve(paths[lib]) :\n",
       "        new Promise(function(resolve, reject) {\n",
       "          var s = document.createElement('script');\n",
       "          document.getElementsByTagName(\"head\")[0].appendChild(s);\n",
       "          s.async = true;\n",
       "          s.onload = () => {\n",
       "            VEGA_DEBUG[key] = version;\n",
       "            return resolve(paths[lib]);\n",
       "          };\n",
       "          s.onerror = () => reject(`Error loading script: ${paths[lib]}`);\n",
       "          s.src = paths[lib];\n",
       "        });\n",
       "    }\n",
       "\n",
       "    function showError(err) {\n",
       "      outputDiv.innerHTML = `<div class=\"error\" style=\"color:red;\">${err}</div>`;\n",
       "      throw err;\n",
       "    }\n",
       "\n",
       "    function displayChart(vegaEmbed) {\n",
       "      vegaEmbed(outputDiv, spec, embedOpt)\n",
       "        .catch(err => showError(`Javascript Error: ${err.message}<br>This usually means there's a typo in your chart specification. See the javascript console for the full traceback.`));\n",
       "    }\n",
       "\n",
       "    if(typeof define === \"function\" && define.amd) {\n",
       "      requirejs.config({paths});\n",
       "      require([\"vega-embed\"], displayChart, err => showError(`Error loading script: ${err.message}`));\n",
       "    } else {\n",
       "      maybeLoadScript(\"vega\", \"5\")\n",
       "        .then(() => maybeLoadScript(\"vega-lite\", \"4.17.0\"))\n",
       "        .then(() => maybeLoadScript(\"vega-embed\", \"6\"))\n",
       "        .catch(showError)\n",
       "        .then(() => displayChart(vegaEmbed));\n",
       "    }\n",
       "  })({\"config\": {\"view\": {\"continuousWidth\": 400, \"continuousHeight\": 300}}, \"layer\": [{\"data\": {\"name\": \"data-56dba6403a9557a0098f3be29e2d410e\"}, \"mark\": \"line\", \"encoding\": {\"color\": {\"field\": \"dataset_id\", \"type\": \"nominal\"}, \"x\": {\"field\": \"\\u03bc_hat\", \"type\": \"quantitative\"}, \"y\": {\"field\": \"second_order_derivative\", \"type\": \"quantitative\"}}}, {\"data\": {\"name\": \"data-82f2ab1a8cccecda854e975f474bff1a\"}, \"mark\": \"rule\", \"encoding\": {\"x\": {\"field\": \"ml_estimate\", \"type\": \"quantitative\"}}}, {\"data\": {\"name\": \"data-389c9af588664bb06dc085e8b6c51ecc\"}, \"mark\": {\"type\": \"rule\", \"color\": \"red\", \"strokeDash\": [5, 5]}, \"encoding\": {\"x\": {\"field\": \"truth\", \"type\": \"quantitative\"}}}], \"$schema\": \"https://vega.github.io/schema/vega-lite/v4.17.0.json\", \"datasets\": {\"data-56dba6403a9557a0098f3be29e2d410e\": [{\"\\u03bc_hat\": 72.7, \"log_likelihood\": -76.33770676490279, \"first_order_derivative\": 26.646137895368113, \"second_order_derivative\": -5.0, \"dataset_id\": 0}, {\"\\u03bc_hat\": 73.04482758620689, \"log_likelihood\": -67.44664851323026, \"first_order_derivative\": 24.921999964333665, \"second_order_derivative\": -5.0, \"dataset_id\": 0}, {\"\\u03bc_hat\": 73.3896551724138, \"log_likelihood\": -59.150120582603726, \"first_order_derivative\": 23.197862033299145, \"second_order_derivative\": -5.0, \"dataset_id\": 0}, {\"\\u03bc_hat\": 73.73448275862069, \"log_likelihood\": -51.44812297302391, \"first_order_derivative\": 21.473724102264697, \"second_order_derivative\": -5.0, \"dataset_id\": 0}, {\"\\u03bc_hat\": 74.07931034482759, \"log_likelihood\": -44.34065568449016, \"first_order_derivative\": 19.749586171230177, \"second_order_derivative\": -5.0, \"dataset_id\": 0}, {\"\\u03bc_hat\": 74.42413793103448, \"log_likelihood\": -37.827718717003066, \"first_order_derivative\": 18.02544824019573, \"second_order_derivative\": -5.0, \"dataset_id\": 0}, {\"\\u03bc_hat\": 74.76896551724138, \"log_likelihood\": -31.909312070562088, \"first_order_derivative\": 16.30131030916121, \"second_order_derivative\": -5.0, \"dataset_id\": 0}, {\"\\u03bc_hat\": 75.11379310344827, \"log_likelihood\": -26.585435745167715, \"first_order_derivative\": 14.577172378126761, \"second_order_derivative\": -5.0, \"dataset_id\": 0}, {\"\\u03bc_hat\": 75.45862068965518, \"log_likelihood\": -21.856089740819513, \"first_order_derivative\": 12.853034447092242, \"second_order_derivative\": -5.0, \"dataset_id\": 0}, {\"\\u03bc_hat\": 75.80344827586207, \"log_likelihood\": -17.721274057517864, \"first_order_derivative\": 11.128896516057793, \"second_order_derivative\": -5.0, \"dataset_id\": 0}, {\"\\u03bc_hat\": 76.14827586206897, \"log_likelihood\": -14.180988695262432, \"first_order_derivative\": 9.404758585023274, \"second_order_derivative\": -5.0, \"dataset_id\": 0}, {\"\\u03bc_hat\": 76.49310344827586, \"log_likelihood\": -11.235233654053507, \"first_order_derivative\": 7.680620653988825, \"second_order_derivative\": -5.0, \"dataset_id\": 0}, {\"\\u03bc_hat\": 76.83793103448276, \"log_likelihood\": -8.88400893389085, \"first_order_derivative\": 5.956482722954306, \"second_order_derivative\": -5.0, \"dataset_id\": 0}, {\"\\u03bc_hat\": 77.18275862068965, \"log_likelihood\": -7.12731453477465, \"first_order_derivative\": 4.232344791919857, \"second_order_derivative\": -5.0, \"dataset_id\": 0}, {\"\\u03bc_hat\": 77.52758620689656, \"log_likelihood\": -5.965150456704764, \"first_order_derivative\": 2.5082068608853376, \"second_order_derivative\": -5.0, \"dataset_id\": 0}, {\"\\u03bc_hat\": 77.87241379310345, \"log_likelihood\": -5.3975166996812876, \"first_order_derivative\": 0.7840689298508892, \"second_order_derivative\": -5.0, \"dataset_id\": 0}, {\"\\u03bc_hat\": 78.21724137931035, \"log_likelihood\": -5.424413263704174, \"first_order_derivative\": -0.9400690011836303, \"second_order_derivative\": -5.0, \"dataset_id\": 0}, {\"\\u03bc_hat\": 78.56206896551724, \"log_likelihood\": -6.045840148773422, \"first_order_derivative\": -2.664206932218079, \"second_order_derivative\": -5.0, \"dataset_id\": 0}, {\"\\u03bc_hat\": 78.90689655172415, \"log_likelihood\": -7.261797354889082, \"first_order_derivative\": -4.388344863252598, \"second_order_derivative\": -5.0, \"dataset_id\": 0}, {\"\\u03bc_hat\": 79.25172413793103, \"log_likelihood\": -9.072284882051054, \"first_order_derivative\": -6.112482794287047, \"second_order_derivative\": -5.0, \"dataset_id\": 0}, {\"\\u03bc_hat\": 79.59655172413794, \"log_likelihood\": -11.477302730259488, \"first_order_derivative\": -7.836620725321566, \"second_order_derivative\": -5.0, \"dataset_id\": 0}, {\"\\u03bc_hat\": 79.94137931034483, \"log_likelihood\": -14.476850899514183, \"first_order_derivative\": -9.560758656356015, \"second_order_derivative\": -5.0, \"dataset_id\": 0}, {\"\\u03bc_hat\": 80.28620689655173, \"log_likelihood\": -18.07092938981539, \"first_order_derivative\": -11.284896587390534, \"second_order_derivative\": -5.0, \"dataset_id\": 0}, {\"\\u03bc_hat\": 80.63103448275862, \"log_likelihood\": -22.259538201162805, \"first_order_derivative\": -13.009034518424983, \"second_order_derivative\": -5.0, \"dataset_id\": 0}, {\"\\u03bc_hat\": 80.97586206896553, \"log_likelihood\": -27.04267733355679, \"first_order_derivative\": -14.733172449459502, \"second_order_derivative\": -5.0, \"dataset_id\": 0}, {\"\\u03bc_hat\": 81.32068965517242, \"log_likelihood\": -32.42034678699693, \"first_order_derivative\": -16.45731038049395, \"second_order_derivative\": -5.0, \"dataset_id\": 0}, {\"\\u03bc_hat\": 81.66551724137932, \"log_likelihood\": -38.39254656148368, \"first_order_derivative\": -18.18144831152847, \"second_order_derivative\": -5.0, \"dataset_id\": 0}, {\"\\u03bc_hat\": 82.01034482758621, \"log_likelihood\": -44.95927665701655, \"first_order_derivative\": -19.90558624256292, \"second_order_derivative\": -5.0, \"dataset_id\": 0}, {\"\\u03bc_hat\": 82.3551724137931, \"log_likelihood\": -52.12053707359577, \"first_order_derivative\": -21.629724173597367, \"second_order_derivative\": -5.0, \"dataset_id\": 0}, {\"\\u03bc_hat\": 82.7, \"log_likelihood\": -59.876327811221664, \"first_order_derivative\": -23.353862104631887, \"second_order_derivative\": -5.0, \"dataset_id\": 0}, {\"\\u03bc_hat\": 72.7, \"log_likelihood\": -61.473693304909375, \"first_order_derivative\": 23.34991849597374, \"second_order_derivative\": -5.0, \"dataset_id\": 1}, {\"\\u03bc_hat\": 73.04482758620689, \"log_likelihood\": -53.71926243233831, \"first_order_derivative\": 21.62578056493929, \"second_order_derivative\": -5.0, \"dataset_id\": 1}, {\"\\u03bc_hat\": 73.3896551724138, \"log_likelihood\": -46.55936188081333, \"first_order_derivative\": 19.90164263390477, \"second_order_derivative\": -5.0, \"dataset_id\": 1}, {\"\\u03bc_hat\": 73.73448275862069, \"log_likelihood\": -39.99399165033499, \"first_order_derivative\": 18.177504702870323, \"second_order_derivative\": -5.0, \"dataset_id\": 1}, {\"\\u03bc_hat\": 74.07931034482759, \"log_likelihood\": -34.023151740902776, \"first_order_derivative\": 16.453366771835803, \"second_order_derivative\": -5.0, \"dataset_id\": 1}, {\"\\u03bc_hat\": 74.42413793103448, \"log_likelihood\": -28.646842152517166, \"first_order_derivative\": 14.729228840801355, \"second_order_derivative\": -5.0, \"dataset_id\": 1}, {\"\\u03bc_hat\": 74.76896551724138, \"log_likelihood\": -23.865062885177718, \"first_order_derivative\": 13.005090909766835, \"second_order_derivative\": -5.0, \"dataset_id\": 1}, {\"\\u03bc_hat\": 75.11379310344827, \"log_likelihood\": -19.67781393888483, \"first_order_derivative\": 11.280952978732387, \"second_order_derivative\": -5.0, \"dataset_id\": 1}, {\"\\u03bc_hat\": 75.45862068965518, \"log_likelihood\": -16.085095313638163, \"first_order_derivative\": 9.556815047697867, \"second_order_derivative\": -5.0, \"dataset_id\": 1}, {\"\\u03bc_hat\": 75.80344827586207, \"log_likelihood\": -13.086907009437997, \"first_order_derivative\": 7.832677116663419, \"second_order_derivative\": -5.0, \"dataset_id\": 1}, {\"\\u03bc_hat\": 76.14827586206897, \"log_likelihood\": -10.683249026284098, \"first_order_derivative\": 6.108539185628899, \"second_order_derivative\": -5.0, \"dataset_id\": 1}, {\"\\u03bc_hat\": 76.49310344827586, \"log_likelihood\": -8.87412136417666, \"first_order_derivative\": 4.384401254594451, \"second_order_derivative\": -5.0, \"dataset_id\": 1}, {\"\\u03bc_hat\": 76.83793103448276, \"log_likelihood\": -7.659524023115534, \"first_order_derivative\": 2.6602633235599313, \"second_order_derivative\": -5.0, \"dataset_id\": 1}, {\"\\u03bc_hat\": 77.18275862068965, \"log_likelihood\": -7.03945700310082, \"first_order_derivative\": 0.9361253925254829, \"second_order_derivative\": -5.0, \"dataset_id\": 1}, {\"\\u03bc_hat\": 77.52758620689656, \"log_likelihood\": -7.013920304132467, \"first_order_derivative\": -0.7880125385090366, \"second_order_derivative\": -5.0, \"dataset_id\": 1}, {\"\\u03bc_hat\": 77.87241379310345, \"log_likelihood\": -7.582913926210476, \"first_order_derivative\": -2.512150469543485, \"second_order_derivative\": -5.0, \"dataset_id\": 1}, {\"\\u03bc_hat\": 78.21724137931035, \"log_likelihood\": -8.746437869334896, \"first_order_derivative\": -4.236288400578005, \"second_order_derivative\": -5.0, \"dataset_id\": 1}, {\"\\u03bc_hat\": 78.56206896551724, \"log_likelihood\": -10.504492133505629, \"first_order_derivative\": -5.960426331612453, \"second_order_derivative\": -5.0, \"dataset_id\": 1}, {\"\\u03bc_hat\": 78.90689655172415, \"log_likelihood\": -12.857076718722821, \"first_order_derivative\": -7.684564262646973, \"second_order_derivative\": -5.0, \"dataset_id\": 1}, {\"\\u03bc_hat\": 79.25172413793103, \"log_likelihood\": -15.804191624986279, \"first_order_derivative\": -9.408702193681421, \"second_order_derivative\": -5.0, \"dataset_id\": 1}, {\"\\u03bc_hat\": 79.59655172413794, \"log_likelihood\": -19.345836852296245, \"first_order_derivative\": -11.13284012471594, \"second_order_derivative\": -5.0, \"dataset_id\": 1}, {\"\\u03bc_hat\": 79.94137931034483, \"log_likelihood\": -23.482012400652426, \"first_order_derivative\": -12.856978055750389, \"second_order_derivative\": -5.0, \"dataset_id\": 1}, {\"\\u03bc_hat\": 80.28620689655173, \"log_likelihood\": -28.212718270055163, \"first_order_derivative\": -14.581115986784909, \"second_order_derivative\": -5.0, \"dataset_id\": 1}, {\"\\u03bc_hat\": 80.63103448275862, \"log_likelihood\": -33.53795446050407, \"first_order_derivative\": -16.305253917819357, \"second_order_derivative\": -5.0, \"dataset_id\": 1}, {\"\\u03bc_hat\": 80.97586206896553, \"log_likelihood\": -39.45772097199958, \"first_order_derivative\": -18.029391848853876, \"second_order_derivative\": -5.0, \"dataset_id\": 1}, {\"\\u03bc_hat\": 81.32068965517242, \"log_likelihood\": -45.97201780454121, \"first_order_derivative\": -19.753529779888325, \"second_order_derivative\": -5.0, \"dataset_id\": 1}, {\"\\u03bc_hat\": 81.66551724137932, \"log_likelihood\": -53.0808449581295, \"first_order_derivative\": -21.477667710922844, \"second_order_derivative\": -5.0, \"dataset_id\": 1}, {\"\\u03bc_hat\": 82.01034482758621, \"log_likelihood\": -60.78420243276385, \"first_order_derivative\": -23.201805641957293, \"second_order_derivative\": -5.0, \"dataset_id\": 1}, {\"\\u03bc_hat\": 82.3551724137931, \"log_likelihood\": -69.08209022844456, \"first_order_derivative\": -24.92594357299174, \"second_order_derivative\": -5.0, \"dataset_id\": 1}, {\"\\u03bc_hat\": 82.7, \"log_likelihood\": -77.97450834517198, \"first_order_derivative\": -26.65008150402626, \"second_order_derivative\": -5.0, \"dataset_id\": 1}, {\"\\u03bc_hat\": 72.7, \"log_likelihood\": -80.74978046370315, \"first_order_derivative\": 27.513600710041842, \"second_order_derivative\": -5.0, \"dataset_id\": 2}, {\"\\u03bc_hat\": 73.04482758620689, \"log_likelihood\": -71.55959710352242, \"first_order_derivative\": 25.789462779007394, \"second_order_derivative\": -5.0, \"dataset_id\": 2}, {\"\\u03bc_hat\": 73.3896551724138, \"log_likelihood\": -62.96394406438772, \"first_order_derivative\": 24.065324847972875, \"second_order_derivative\": -5.0, \"dataset_id\": 2}, {\"\\u03bc_hat\": 73.73448275862069, \"log_likelihood\": -54.96282134629972, \"first_order_derivative\": 22.341186916938426, \"second_order_derivative\": -5.0, \"dataset_id\": 2}, {\"\\u03bc_hat\": 74.07931034482759, \"log_likelihood\": -47.55622894925777, \"first_order_derivative\": 20.617048985903907, \"second_order_derivative\": -5.0, \"dataset_id\": 2}, {\"\\u03bc_hat\": 74.42413793103448, \"log_likelihood\": -40.7441668732625, \"first_order_derivative\": 18.892911054869458, \"second_order_derivative\": -5.0, \"dataset_id\": 2}, {\"\\u03bc_hat\": 74.76896551724138, \"log_likelihood\": -34.52663511831334, \"first_order_derivative\": 17.16877312383494, \"second_order_derivative\": -5.0, \"dataset_id\": 2}, {\"\\u03bc_hat\": 75.11379310344827, \"log_likelihood\": -28.903633684410785, \"first_order_derivative\": 15.44463519280049, \"second_order_derivative\": -5.0, \"dataset_id\": 2}, {\"\\u03bc_hat\": 75.45862068965518, \"log_likelihood\": -23.875162571554394, \"first_order_derivative\": 13.72049726176597, \"second_order_derivative\": -5.0, \"dataset_id\": 2}, {\"\\u03bc_hat\": 75.80344827586207, \"log_likelihood\": -19.441221779744566, \"first_order_derivative\": 11.996359330731522, \"second_order_derivative\": -5.0, \"dataset_id\": 2}, {\"\\u03bc_hat\": 76.14827586206897, \"log_likelihood\": -15.601811308980949, \"first_order_derivative\": 10.272221399697003, \"second_order_derivative\": -5.0, \"dataset_id\": 2}, {\"\\u03bc_hat\": 76.49310344827586, \"log_likelihood\": -12.356931159263848, \"first_order_derivative\": 8.548083468662554, \"second_order_derivative\": -5.0, \"dataset_id\": 2}, {\"\\u03bc_hat\": 76.83793103448276, \"log_likelihood\": -9.706581330593, \"first_order_derivative\": 6.823945537628035, \"second_order_derivative\": -5.0, \"dataset_id\": 2}, {\"\\u03bc_hat\": 77.18275862068965, \"log_likelihood\": -7.650761822968623, \"first_order_derivative\": 5.099807606593586, \"second_order_derivative\": -5.0, \"dataset_id\": 2}, {\"\\u03bc_hat\": 77.52758620689656, \"log_likelihood\": -6.189472636390548, \"first_order_derivative\": 3.3756696755590667, \"second_order_derivative\": -5.0, \"dataset_id\": 2}, {\"\\u03bc_hat\": 77.87241379310345, \"log_likelihood\": -5.322713770858896, \"first_order_derivative\": 1.6515317445246183, \"second_order_derivative\": -5.0, \"dataset_id\": 2}, {\"\\u03bc_hat\": 78.21724137931035, \"log_likelihood\": -5.050485226373594, \"first_order_derivative\": -0.07260618650990125, \"second_order_derivative\": -5.0, \"dataset_id\": 2}, {\"\\u03bc_hat\": 78.56206896551724, \"log_likelihood\": -5.372787002934665, \"first_order_derivative\": -1.7967441175443497, \"second_order_derivative\": -5.0, \"dataset_id\": 2}, {\"\\u03bc_hat\": 78.90689655172415, \"log_likelihood\": -6.2896191005421365, \"first_order_derivative\": -3.520882048578869, \"second_order_derivative\": -5.0, \"dataset_id\": 2}, {\"\\u03bc_hat\": 79.25172413793103, \"log_likelihood\": -7.800981519195932, \"first_order_derivative\": -5.245019979613318, \"second_order_derivative\": -5.0, \"dataset_id\": 2}, {\"\\u03bc_hat\": 79.59655172413794, \"log_likelihood\": -9.906874258896176, \"first_order_derivative\": -6.969157910647837, \"second_order_derivative\": -5.0, \"dataset_id\": 2}, {\"\\u03bc_hat\": 79.94137931034483, \"log_likelihood\": -12.607297319642695, \"first_order_derivative\": -8.693295841682286, \"second_order_derivative\": -5.0, \"dataset_id\": 2}, {\"\\u03bc_hat\": 80.28620689655173, \"log_likelihood\": -15.902250701435712, \"first_order_derivative\": -10.417433772716805, \"second_order_derivative\": -5.0, \"dataset_id\": 2}, {\"\\u03bc_hat\": 80.63103448275862, \"log_likelihood\": -19.791734404274955, \"first_order_derivative\": -12.141571703751254, \"second_order_derivative\": -5.0, \"dataset_id\": 2}, {\"\\u03bc_hat\": 80.97586206896553, \"log_likelihood\": -24.275748428160746, \"first_order_derivative\": -13.865709634785773, \"second_order_derivative\": -5.0, \"dataset_id\": 2}, {\"\\u03bc_hat\": 81.32068965517242, \"log_likelihood\": -29.35429277309271, \"first_order_derivative\": -15.589847565820222, \"second_order_derivative\": -5.0, \"dataset_id\": 2}, {\"\\u03bc_hat\": 81.66551724137932, \"log_likelihood\": -35.02736743907128, \"first_order_derivative\": -17.31398549685474, \"second_order_derivative\": -5.0, \"dataset_id\": 2}, {\"\\u03bc_hat\": 82.01034482758621, \"log_likelihood\": -41.29497242609597, \"first_order_derivative\": -19.03812342788919, \"second_order_derivative\": -5.0, \"dataset_id\": 2}, {\"\\u03bc_hat\": 82.3551724137931, \"log_likelihood\": -48.157107734167006, \"first_order_derivative\": -20.762261358923638, \"second_order_derivative\": -5.0, \"dataset_id\": 2}, {\"\\u03bc_hat\": 82.7, \"log_likelihood\": -55.613773363284714, \"first_order_derivative\": -22.486399289958158, \"second_order_derivative\": -5.0, \"dataset_id\": 2}], \"data-82f2ab1a8cccecda854e975f474bff1a\": [{\"ml_estimate\": 78.02922757907362}, {\"ml_estimate\": 77.36998369919475}, {\"ml_estimate\": 78.20272014200836}], \"data-389c9af588664bb06dc085e8b6c51ecc\": [{\"truth\": 77.7}]}}, {\"mode\": \"vega-lite\"});\n",
       "</script>"
      ],
      "text/plain": [
       "alt.LayerChart(...)"
      ]
     },
     "execution_count": 16,
     "metadata": {},
     "output_type": "execute_result"
    }
   ],
   "source": [
    "chart_lines + chart_ml_estimates + chart_rule"
   ]
  },
  {
   "cell_type": "markdown",
   "metadata": {},
   "source": [
    "**Intuition**: Since the likelihood function is expected to be concave, so the second-order derivatie is negative. The more negative the second-order derivative is, the bigger the curvature at the maximum-likelihood estimate of parameters $\\theta$, which suggests the data contains more information about $\\theta$, i.e. higher Fisher information."
   ]
  },
  {
   "cell_type": "markdown",
   "metadata": {},
   "source": [
    "# References"
   ]
  },
  {
   "cell_type": "markdown",
   "metadata": {},
   "source": [
    "* Fisher Information and Cramer-Rao Lower Bound: Part 1 (https://wp.nyu.edu/kexinhuang/2018/08/16/fisher/).\n",
    "* For Fisher information of multivariate Gaussian with known covariance matrix, see **Multivariate Normal Mean** section of https://www2.stat.duke.edu/courses/Spring16/sta532/lec/fish.pdf."
   ]
  }
 ],
 "metadata": {
  "kernelspec": {
   "display_name": "Python 3 (ipykernel)",
   "language": "python",
   "name": "python3"
  },
  "language_info": {
   "codemirror_mode": {
    "name": "ipython",
    "version": 3
   },
   "file_extension": ".py",
   "mimetype": "text/x-python",
   "name": "python",
   "nbconvert_exporter": "python",
   "pygments_lexer": "ipython3",
   "version": "3.10.7"
  }
 },
 "nbformat": 4,
 "nbformat_minor": 4
}
